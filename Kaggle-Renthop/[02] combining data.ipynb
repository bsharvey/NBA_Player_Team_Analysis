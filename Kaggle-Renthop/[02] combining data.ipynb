{
 "cells": [
  {
   "cell_type": "code",
   "execution_count": 1,
   "metadata": {
    "collapsed": true
   },
   "outputs": [],
   "source": [
    "import pandas as pd\n",
    "train = pd.read_json('data/train.json')\n",
    "test = pd.read_json('data/test.json')\n",
    "train_photos = pd.read_csv('data/train_photos.csv').drop(['interest_level'], axis = 1)\n",
    "test_photos = pd.read_csv('data/test_photos.csv')\n",
    "train_location = pd.read_csv('data/train_location.csv').drop(['interest_level'], axis = 1)\n",
    "test_location = pd.read_csv('data/test_location.csv')\n",
    "train_ids = pd.read_csv('data/train_ids.csv').drop(['interest_level'], axis = 1)\n",
    "test_ids = pd.read_csv('data/test_ids.csv')\n",
    "train_created = pd.read_csv('data/train_created.csv').drop(['interest_level'], axis = 1)\n",
    "test_created = pd.read_csv('data/test_created.csv')\n",
    "train_basics = pd.read_csv('data/train_basics.csv').drop(['interest_level'], axis = 1)\n",
    "test_basics = pd.read_csv('data/test_basics.csv')\n",
    "train_words = pd.read_csv('data/train_words.csv').drop(['interest_level'], axis = 1)\n",
    "test_words = pd.read_csv('data/test_words.csv')"
   ]
  },
  {
   "cell_type": "code",
   "execution_count": 2,
   "metadata": {
    "collapsed": false
   },
   "outputs": [],
   "source": [
    "train_words = train_words[list(train_words)[:4]]\n",
    "test_words = test_words[list(test_words)[:4]]"
   ]
  },
  {
   "cell_type": "code",
   "execution_count": 3,
   "metadata": {
    "collapsed": true
   },
   "outputs": [],
   "source": [
    "train_created_sec = pd.read_csv('data/train_created_sec.csv')\n",
    "test_created_sec = pd.read_csv('data/test_created_sec.csv')\n",
    "train_created.created = train_created_sec.created.values\n",
    "test_created.created = test_created_sec.created.values"
   ]
  },
  {
   "cell_type": "code",
   "execution_count": 4,
   "metadata": {
    "collapsed": false
   },
   "outputs": [
    {
     "data": {
      "text/plain": [
       "0        1466754864000\n",
       "1        1465733967000\n",
       "2        1460699683000\n",
       "3        1461374309000\n",
       "4        1467220508000\n",
       "5        1465389700000\n",
       "6        1460173782000\n",
       "7        1461720239000\n",
       "8        1461639259000\n",
       "9        1466818771000\n",
       "10       1465961334000\n",
       "11       1466572559000\n",
       "12       1466746917000\n",
       "13       1464932458000\n",
       "14       1465720293000\n",
       "15       1464920938000\n",
       "16       1465619840000\n",
       "17       1466475127000\n",
       "18       1465828605000\n",
       "19       1466750819000\n",
       "20       1461133968000\n",
       "21       1467094840000\n",
       "22       1465729946000\n",
       "23       1465736715000\n",
       "24       1465265696000\n",
       "25       1465908423000\n",
       "26       1459783311000\n",
       "27       1466565402000\n",
       "28       1466143776000\n",
       "29       1466648675000\n",
       "             ...      \n",
       "49322    1466910847000\n",
       "49323    1467194375000\n",
       "49324    1464748474000\n",
       "49325    1466493690000\n",
       "49326    1465364729000\n",
       "49327    1465098115000\n",
       "49328    1467090356000\n",
       "49329    1461614799000\n",
       "49330    1465734913000\n",
       "49331    1465367064000\n",
       "49332    1466087491000\n",
       "49333    1464748026000\n",
       "49334    1466749174000\n",
       "49335    1464923274000\n",
       "49336    1466043394000\n",
       "49337    1466494889000\n",
       "49338    1465711571000\n",
       "49339    1465695227000\n",
       "49340    1467176502000\n",
       "49341    1466063843000\n",
       "49342    1460611758000\n",
       "49343    1465908974000\n",
       "49344    1465785708000\n",
       "49345    1465701809000\n",
       "49346    1466040209000\n",
       "49347    1466065838000\n",
       "49348    1465281813000\n",
       "49349    1465401330000\n",
       "49350    1466494413000\n",
       "49351    1465735691000\n",
       "Name: created, dtype: int64"
      ]
     },
     "execution_count": 4,
     "metadata": {},
     "output_type": "execute_result"
    }
   ],
   "source": [
    "train_created.created"
   ]
  },
  {
   "cell_type": "code",
   "execution_count": 5,
   "metadata": {
    "collapsed": false
   },
   "outputs": [],
   "source": [
    "train_k_means = pd.read_csv('ttkaggle/kmean_train_data.csv')[['listing_id', 'cluster']]\n",
    "test_k_means = pd.read_csv('ttkaggle/kmean_test_data.csv')[['listing_id', 'cluster']]\n",
    "train_topic_tfidf = pd.read_json('ttkaggle/train_topic_tfidf.json')\n",
    "test_topic_tfidf = pd.read_json('ttkaggle/test_topic_tfidf.json')\n",
    "train_topic_tfidf['listing_id'] = train.listing_id.values\n",
    "test_topic_tfidf['listing_id'] = test.listing_id.values\n",
    "train_desc_vec = pd.read_csv('ttkaggle/train_desc_vec_mean.csv')\n",
    "train_feats_vec = pd.read_csv('ttkaggle/train_features_vec_mean.csv')\n",
    "test_desc_vec = pd.read_csv('ttkaggle/test_desc_vec_mean.csv')\n",
    "test_feats_vec = pd.read_csv('ttkaggle/test_features_vec_mean.csv')\n",
    "train_desc_vec.columns = ['desc:' + s for s in list(train_desc_vec)]\n",
    "train_feats_vec.columns = ['feats:' + s for s in list(train_feats_vec)]\n",
    "test_desc_vec.columns = ['desc:' + s for s in list(test_desc_vec)]\n",
    "test_feats_vec.columns = ['feats:' + s for s in list(test_feats_vec)]\n",
    "train_desc_vec['listing_id'] = train.listing_id.values\n",
    "test_desc_vec['listing_id'] = test.listing_id.values\n",
    "train_feats_vec['listing_id'] = train.listing_id.values\n",
    "test_feats_vec['listing_id'] = test.listing_id.values"
   ]
  },
  {
   "cell_type": "code",
   "execution_count": 6,
   "metadata": {
    "collapsed": true
   },
   "outputs": [],
   "source": [
    "train_location = pd.merge(train_location, train_k_means, how = 'left', on= 'listing_id')\n",
    "test_location = pd.merge(test_location, test_k_means, how = 'left', on= 'listing_id')\n",
    "train_words_dfs = [train_words, train_topic_tfidf, train_desc_vec, train_feats_vec]\n",
    "test_words_dfs = [test_words, test_topic_tfidf, test_desc_vec, test_feats_vec]\n",
    "train_words = reduce(lambda left,right: pd.merge(left,right, how = 'left', on='listing_id'), train_words_dfs)\n",
    "test_words = reduce(lambda left,right: pd.merge(left,right, how = 'left', on='listing_id'), test_words_dfs)"
   ]
  },
  {
   "cell_type": "code",
   "execution_count": 14,
   "metadata": {
    "collapsed": false
   },
   "outputs": [],
   "source": [
    "#combining\n",
    "train_dfs = [train[['interest_level', 'listing_id']], train_photos, train_location, train_ids, \\\n",
    "           train_created, train_basics, train_words]\n",
    "test_dfs = [test[['listing_id']], test_photos, test_location, test_ids, \\\n",
    "           test_created, test_basics, test_words]\n",
    "train_final = reduce(lambda left,right: pd.merge(left,right, how = 'left', on='listing_id'), train_dfs)\n",
    "test_final = reduce(lambda left,right: pd.merge(left,right, how = 'left', on='listing_id'), test_dfs)\n",
    "train_final.to_json('train_final.json')\n",
    "test_final.to_json('test_final.json')"
   ]
  },
  {
   "cell_type": "code",
   "execution_count": 8,
   "metadata": {
    "collapsed": false
   },
   "outputs": [],
   "source": [
    "#dummifying\n",
    "train_dummies = train_final.drop(['interest_level'], axis = 1)\n",
    "test_dummies = test_final\n",
    "train_dummies['created'] = pd.to_datetime(train_dummies['created'])\n",
    "test_dummies['created'] = pd.to_datetime(test_dummies['created'])\n",
    "change_to_cat = ['created_month_cat', 'created_day_cat', 'created_hour_cat', 'created_weekday_cat', 'bath_cat', 'bed_cat']\n",
    "for i in change_to_cat:\n",
    "    train_dummies[i] = train_dummies[i].astype(str)\n",
    "    test_dummies[i] = test_dummies[i].astype(str)\n",
    "cat_cols = ['neighborhood_cleaned', 'manager_id_cleaned', 'building_id_cleaned'] + change_to_cat\n",
    "a = train_dummies[['listing_id'] + cat_cols]\n",
    "a = pd.get_dummies(a, prefix = ['neigh_dummy_', 'man_dummy_', 'build_dummy_', 'month_dummy_', 'day_dummy_', \\\n",
    "                                'hour_dummy_', 'weekday_dummy_', 'bath_dummy_', 'bed_dummy'])\n",
    "b = test_dummies[['listing_id'] + cat_cols]\n",
    "b = pd.get_dummies(b, prefix = ['neigh_dummy_', 'man_dummy_', 'build_dummy_', 'month_dummy_', 'day_dummy_', \\\n",
    "                                'hour_dummy_', 'weekday_dummy_', 'bath_dummy_', 'bed_dummy'])"
   ]
  },
  {
   "cell_type": "code",
   "execution_count": 9,
   "metadata": {
    "collapsed": false
   },
   "outputs": [],
   "source": [
    "train_dummies = train_dummies.drop(cat_cols, axis = 1)\n",
    "train_dummies = pd.merge(train_dummies, a, on = 'listing_id', how = 'left')\n",
    "test_dummies = test_dummies.drop(cat_cols, axis = 1)\n",
    "test_dummies = pd.merge(test_dummies, b, on = 'listing_id', how = 'left')\n",
    "train_dummies['interest_level'] = train_final.interest_level.values"
   ]
  },
  {
   "cell_type": "code",
   "execution_count": 50,
   "metadata": {
    "collapsed": false
   },
   "outputs": [
    {
     "name": "stdout",
     "output_type": "stream",
     "text": [
      "(74659, 1487) (49352, 1488)\n"
     ]
    }
   ],
   "source": [
    "print test_dummies.shape, train_dummies.shape\n",
    "for i in list(test_dummies):\n",
    "    x = sum(test_dummies[i].isnull())\n",
    "    if x > 0:\n",
    "        print i + ': ' + str(x)\n",
    "for i in list(train_dummies):\n",
    "    x = sum(train_dummies[i].isnull())\n",
    "    if x > 0:\n",
    "        print i + ': ' + str(x)"
   ]
  },
  {
   "cell_type": "code",
   "execution_count": 13,
   "metadata": {
    "collapsed": false
   },
   "outputs": [],
   "source": [
    "train_dummies.to_json('train_dummies.json')\n",
    "test_dummies.to_json('test_dummies.json')"
   ]
  },
  {
   "cell_type": "code",
   "execution_count": 11,
   "metadata": {
    "collapsed": false
   },
   "outputs": [
    {
     "data": {
      "text/plain": [
       "0        1970-01-01 00:24:26.754864\n",
       "1        1970-01-01 00:24:25.733967\n",
       "2        1970-01-01 00:24:20.699683\n",
       "3        1970-01-01 00:24:21.374309\n",
       "4        1970-01-01 00:24:27.220508\n",
       "5        1970-01-01 00:24:25.389700\n",
       "6        1970-01-01 00:24:20.173782\n",
       "7        1970-01-01 00:24:21.720239\n",
       "8        1970-01-01 00:24:21.639259\n",
       "9        1970-01-01 00:24:26.818771\n",
       "10       1970-01-01 00:24:25.961334\n",
       "11       1970-01-01 00:24:26.572559\n",
       "12       1970-01-01 00:24:26.746917\n",
       "13       1970-01-01 00:24:24.932458\n",
       "14       1970-01-01 00:24:25.720293\n",
       "15       1970-01-01 00:24:24.920938\n",
       "16       1970-01-01 00:24:25.619840\n",
       "17       1970-01-01 00:24:26.475127\n",
       "18       1970-01-01 00:24:25.828605\n",
       "19       1970-01-01 00:24:26.750819\n",
       "20       1970-01-01 00:24:21.133968\n",
       "21       1970-01-01 00:24:27.094840\n",
       "22       1970-01-01 00:24:25.729946\n",
       "23       1970-01-01 00:24:25.736715\n",
       "24       1970-01-01 00:24:25.265696\n",
       "25       1970-01-01 00:24:25.908423\n",
       "26       1970-01-01 00:24:19.783311\n",
       "27       1970-01-01 00:24:26.565402\n",
       "28       1970-01-01 00:24:26.143776\n",
       "29       1970-01-01 00:24:26.648675\n",
       "                    ...            \n",
       "49322    1970-01-01 00:24:26.910847\n",
       "49323    1970-01-01 00:24:27.194375\n",
       "49324    1970-01-01 00:24:24.748474\n",
       "49325    1970-01-01 00:24:26.493690\n",
       "49326    1970-01-01 00:24:25.364729\n",
       "49327    1970-01-01 00:24:25.098115\n",
       "49328    1970-01-01 00:24:27.090356\n",
       "49329    1970-01-01 00:24:21.614799\n",
       "49330    1970-01-01 00:24:25.734913\n",
       "49331    1970-01-01 00:24:25.367064\n",
       "49332    1970-01-01 00:24:26.087491\n",
       "49333    1970-01-01 00:24:24.748026\n",
       "49334    1970-01-01 00:24:26.749174\n",
       "49335    1970-01-01 00:24:24.923274\n",
       "49336    1970-01-01 00:24:26.043394\n",
       "49337    1970-01-01 00:24:26.494889\n",
       "49338    1970-01-01 00:24:25.711571\n",
       "49339    1970-01-01 00:24:25.695227\n",
       "49340    1970-01-01 00:24:27.176502\n",
       "49341    1970-01-01 00:24:26.063843\n",
       "49342    1970-01-01 00:24:20.611758\n",
       "49343    1970-01-01 00:24:25.908974\n",
       "49344    1970-01-01 00:24:25.785708\n",
       "49345    1970-01-01 00:24:25.701809\n",
       "49346    1970-01-01 00:24:26.040209\n",
       "49347    1970-01-01 00:24:26.065838\n",
       "49348    1970-01-01 00:24:25.281813\n",
       "49349    1970-01-01 00:24:25.401330\n",
       "49350    1970-01-01 00:24:26.494413\n",
       "49351    1970-01-01 00:24:25.735691\n",
       "Name: created, dtype: object"
      ]
     },
     "execution_count": 11,
     "metadata": {},
     "output_type": "execute_result"
    }
   ],
   "source": [
    "pd.read_csv('train_dummies.csv').created"
   ]
  },
  {
   "cell_type": "code",
   "execution_count": 1,
   "metadata": {
    "collapsed": true
   },
   "outputs": [],
   "source": [
    "import pandas as pd\n",
    "test_words = pd.read_csv('data/test_words.csv')"
   ]
  },
  {
   "cell_type": "code",
   "execution_count": 2,
   "metadata": {
    "collapsed": false
   },
   "outputs": [
    {
     "data": {
      "text/plain": [
       "['listing_id',\n",
       " 'num_letters_desc',\n",
       " 'num_words_desc',\n",
       " 'num_features',\n",
       " 'ac',\n",
       " 'actual apt. photos',\n",
       " 'bike',\n",
       " 'brownstone',\n",
       " 'cats allowed',\n",
       " 'decorative fireplace',\n",
       " 'dining room',\n",
       " 'dishwasher',\n",
       " 'dogs allowed',\n",
       " 'doorman',\n",
       " 'duplex',\n",
       " 'elevator',\n",
       " 'exclusive',\n",
       " 'exposed brick',\n",
       " 'fireplace',\n",
       " 'furnished',\n",
       " 'garden',\n",
       " 'green building',\n",
       " 'gym',\n",
       " 'hardwood',\n",
       " 'hi rise',\n",
       " 'high ceiling',\n",
       " 'high ceilings',\n",
       " 'highrise',\n",
       " 'kitchen',\n",
       " 'laundry',\n",
       " 'light',\n",
       " 'live/work',\n",
       " 'loft',\n",
       " 'lounge',\n",
       " 'lounge room',\n",
       " 'lowrise',\n",
       " 'luxury building',\n",
       " 'marble bath',\n",
       " 'microwave',\n",
       " 'midrise',\n",
       " 'multi-level',\n",
       " 'new construction',\n",
       " 'newly renovated',\n",
       " 'no fee',\n",
       " 'other',\n",
       " 'outdoor',\n",
       " 'park',\n",
       " 'parking',\n",
       " 'patio',\n",
       " 'pet friendly',\n",
       " 'pets',\n",
       " 'playroom',\n",
       " 'post war',\n",
       " 'post-war',\n",
       " 'prewar',\n",
       " 'reduced fee',\n",
       " 'renovated',\n",
       " 'residents lounge',\n",
       " 'roof',\n",
       " 'sauna',\n",
       " 'shares ok',\n",
       " 'short term allowed',\n",
       " 'simplex',\n",
       " 'stainless steel appliances',\n",
       " 'storage',\n",
       " 'sublet',\n",
       " 'train',\n",
       " 'valet',\n",
       " 'view',\n",
       " 'wheelchair access',\n",
       " 'wheelchair ramp',\n",
       " 'wifi']"
      ]
     },
     "execution_count": 2,
     "metadata": {},
     "output_type": "execute_result"
    }
   ],
   "source": [
    "list(test_words)"
   ]
  },
  {
   "cell_type": "code",
   "execution_count": null,
   "metadata": {
    "collapsed": true
   },
   "outputs": [],
   "source": []
  }
 ],
 "metadata": {
  "anaconda-cloud": {},
  "kernelspec": {
   "display_name": "Python [default]",
   "language": "python",
   "name": "python2"
  },
  "language_info": {
   "codemirror_mode": {
    "name": "ipython",
    "version": 2
   },
   "file_extension": ".py",
   "mimetype": "text/x-python",
   "name": "python",
   "nbconvert_exporter": "python",
   "pygments_lexer": "ipython2",
   "version": "2.7.12"
  }
 },
 "nbformat": 4,
 "nbformat_minor": 1
}
