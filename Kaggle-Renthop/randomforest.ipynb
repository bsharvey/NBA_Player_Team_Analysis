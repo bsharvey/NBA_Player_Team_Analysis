{
 "cells": [
  {
   "cell_type": "code",
   "execution_count": 1,
   "metadata": {
    "collapsed": false
   },
   "outputs": [
    {
     "name": "stderr",
     "output_type": "stream",
     "text": [
      "/Users/royh21k/anaconda/lib/python2.7/site-packages/sklearn/cross_validation.py:44: DeprecationWarning: This module was deprecated in version 0.18 in favor of the model_selection module into which all the refactored classes and functions are moved. Also note that the interface of the new CV iterators are different from that of this module. This module will be removed in 0.20.\n",
      "  \"This module will be removed in 0.20.\", DeprecationWarning)\n",
      "/Users/royh21k/anaconda/lib/python2.7/site-packages/sklearn/grid_search.py:43: DeprecationWarning: This module was deprecated in version 0.18 in favor of the model_selection module into which all the refactored classes and functions are moved. This module will be removed in 0.20.\n",
      "  DeprecationWarning)\n"
     ]
    }
   ],
   "source": [
    "from sklearn import tree\n",
    "import pandas as pd\n",
    "import sklearn.cross_validation as cv\n",
    "import numpy as np\n",
    "import sklearn.grid_search as gs\n",
    "from sklearn import ensemble\n",
    "from scipy import sparse\n",
    "train = pd.read_json('train_dummies.json')\n",
    "test = pd.read_json('test_dummies.json')\n",
    "randomForest = ensemble.RandomForestClassifier()"
   ]
  },
  {
   "cell_type": "code",
   "execution_count": 2,
   "metadata": {
    "collapsed": true
   },
   "outputs": [],
   "source": [
    "grid_para_forest = {'criterion': ['gini', 'entropy'], 'max_depth': range(10, 40, 2), \"n_estimators\": range(50, 150, 10)}"
   ]
  },
  {
   "cell_type": "code",
   "execution_count": 3,
   "metadata": {
    "collapsed": true
   },
   "outputs": [],
   "source": [
    "x_test = test\n",
    "y_map = {'low': 2, 'medium': 1, 'high': 0}\n",
    "train['interest_level'] = train['interest_level'].apply(lambda x: y_map[x])\n",
    "y_train = train.interest_level.values\n",
    "x_train = train.drop(['interest_level'], axis = 1)"
   ]
  },
  {
   "cell_type": "code",
   "execution_count": 4,
   "metadata": {
    "collapsed": true
   },
   "outputs": [],
   "source": [
    "cols = [c for c in x_train.columns if (c.lower()[:5] != 'desc:') or (c.lower()[:6] != 'feats:')]\n",
    "x_train = x_train[cols]\n",
    "x_test = x_test[cols]"
   ]
  },
  {
   "cell_type": "code",
   "execution_count": 5,
   "metadata": {
    "collapsed": true
   },
   "outputs": [],
   "source": [
    "x_train = sparse.csr_matrix(x_train)\n",
    "x_test = sparse.csr_matrix(x_test)"
   ]
  },
  {
   "cell_type": "code",
   "execution_count": 6,
   "metadata": {
    "collapsed": false,
    "scrolled": true
   },
   "outputs": [
    {
     "name": "stdout",
     "output_type": "stream",
     "text": [
      "Fitting 5 folds for each of 300 candidates, totalling 1500 fits\n",
      "[CV] n_estimators=50, criterion=gini, max_depth=10 ...................\n",
      "[CV] n_estimators=50, criterion=gini, max_depth=10 ...................\n",
      "[CV] n_estimators=50, criterion=gini, max_depth=10 ...................\n",
      "[CV] n_estimators=50, criterion=gini, max_depth=10 ...................\n",
      "[CV]  n_estimators=50, criterion=gini, max_depth=10, score=-0.671800 -  28.1s\n",
      "[CV] n_estimators=50, criterion=gini, max_depth=10 ...................\n",
      "[CV]  n_estimators=50, criterion=gini, max_depth=10, score=-0.672236 -  27.8s\n"
     ]
    },
    {
     "name": "stderr",
     "output_type": "stream",
     "text": [
      "[Parallel(n_jobs=4)]: Done   1 tasks      | elapsed:   28.7s\n",
      "[Parallel(n_jobs=4)]: Done   2 tasks      | elapsed:   28.9s\n"
     ]
    },
    {
     "name": "stdout",
     "output_type": "stream",
     "text": [
      "[CV] n_estimators=60, criterion=gini, max_depth=10 ...................\n",
      "[CV]  n_estimators=50, criterion=gini, max_depth=10, score=-0.676091 -  28.1s\n",
      "[CV] n_estimators=60, criterion=gini, max_depth=10 ...................\n",
      "[CV]  n_estimators=50, criterion=gini, max_depth=10, score=-0.672019 -  28.8s\n"
     ]
    },
    {
     "name": "stderr",
     "output_type": "stream",
     "text": [
      "[Parallel(n_jobs=4)]: Done   3 tasks      | elapsed:   29.4s\n"
     ]
    },
    {
     "name": "stdout",
     "output_type": "stream",
     "text": [
      "[CV] n_estimators=60, criterion=gini, max_depth=10 ...................\n"
     ]
    },
    {
     "name": "stderr",
     "output_type": "stream",
     "text": [
      "[Parallel(n_jobs=4)]: Done   4 tasks      | elapsed:   29.6s\n"
     ]
    },
    {
     "name": "stdout",
     "output_type": "stream",
     "text": [
      "[CV]  n_estimators=50, criterion=gini, max_depth=10, score=-0.682448 -  27.9s\n",
      "[CV] n_estimators=60, criterion=gini, max_depth=10 ...................\n"
     ]
    },
    {
     "name": "stderr",
     "output_type": "stream",
     "text": [
      "[Parallel(n_jobs=4)]: Done   5 tasks      | elapsed:   56.6s\n"
     ]
    },
    {
     "name": "stdout",
     "output_type": "stream",
     "text": [
      "[CV]  n_estimators=60, criterion=gini, max_depth=10, score=-0.675844 -  32.9s\n",
      "[CV] n_estimators=60, criterion=gini, max_depth=10 ...................\n"
     ]
    },
    {
     "name": "stderr",
     "output_type": "stream",
     "text": [
      "[Parallel(n_jobs=4)]: Done   6 tasks      | elapsed:  1.0min\n"
     ]
    },
    {
     "name": "stdout",
     "output_type": "stream",
     "text": [
      "[CV]  n_estimators=60, criterion=gini, max_depth=10, score=-0.673186 -  33.1s\n",
      "[CV] n_estimators=70, criterion=gini, max_depth=10 ...................\n"
     ]
    },
    {
     "name": "stderr",
     "output_type": "stream",
     "text": [
      "[Parallel(n_jobs=4)]: Done   7 tasks      | elapsed:  1.0min\n"
     ]
    },
    {
     "name": "stdout",
     "output_type": "stream",
     "text": [
      "[CV]  n_estimators=60, criterion=gini, max_depth=10, score=-0.671329 -  33.3s\n",
      "[CV] n_estimators=70, criterion=gini, max_depth=10 ...................\n"
     ]
    },
    {
     "name": "stderr",
     "output_type": "stream",
     "text": [
      "[Parallel(n_jobs=4)]: Done   8 tasks      | elapsed:  1.1min\n"
     ]
    },
    {
     "name": "stdout",
     "output_type": "stream",
     "text": [
      "[CV]  n_estimators=60, criterion=gini, max_depth=10, score=-0.675608 -  31.6s\n",
      "[CV] n_estimators=70, criterion=gini, max_depth=10 ...................\n"
     ]
    },
    {
     "name": "stderr",
     "output_type": "stream",
     "text": [
      "[Parallel(n_jobs=4)]: Done   9 tasks      | elapsed:  1.5min\n"
     ]
    },
    {
     "name": "stdout",
     "output_type": "stream",
     "text": [
      "[CV]  n_estimators=60, criterion=gini, max_depth=10, score=-0.682121 -  32.4s\n",
      "[CV] n_estimators=70, criterion=gini, max_depth=10 ...................\n"
     ]
    },
    {
     "name": "stderr",
     "output_type": "stream",
     "text": [
      "[Parallel(n_jobs=4)]: Done  10 tasks      | elapsed:  1.6min\n"
     ]
    },
    {
     "name": "stdout",
     "output_type": "stream",
     "text": [
      "[CV]  n_estimators=70, criterion=gini, max_depth=10, score=-0.675032 -  37.5s\n",
      "[CV]  n_estimators=70, criterion=gini, max_depth=10, score=-0.670898 -  37.1s\n",
      "[CV] n_estimators=70, criterion=gini, max_depth=10 ...................\n"
     ]
    },
    {
     "name": "stderr",
     "output_type": "stream",
     "text": [
      "[Parallel(n_jobs=4)]: Done  11 tasks      | elapsed:  1.7min\n",
      "[Parallel(n_jobs=4)]: Done  12 tasks      | elapsed:  1.7min\n"
     ]
    },
    {
     "name": "stdout",
     "output_type": "stream",
     "text": [
      "[CV] n_estimators=80, criterion=gini, max_depth=10 ...................\n",
      "[CV]  n_estimators=70, criterion=gini, max_depth=10, score=-0.669773 -  39.4s\n",
      "[CV] n_estimators=80, criterion=gini, max_depth=10 ...................\n"
     ]
    },
    {
     "name": "stderr",
     "output_type": "stream",
     "text": [
      "[Parallel(n_jobs=4)]: Done  13 tasks      | elapsed:  2.1min\n"
     ]
    },
    {
     "name": "stdout",
     "output_type": "stream",
     "text": [
      "[CV]  n_estimators=70, criterion=gini, max_depth=10, score=-0.673278 -  39.1s\n",
      "[CV] n_estimators=80, criterion=gini, max_depth=10 ...................\n"
     ]
    },
    {
     "name": "stderr",
     "output_type": "stream",
     "text": [
      "[Parallel(n_jobs=4)]: Done  14 tasks      | elapsed:  2.2min\n"
     ]
    },
    {
     "name": "stdout",
     "output_type": "stream",
     "text": [
      "[CV]  n_estimators=70, criterion=gini, max_depth=10, score=-0.681210 -  39.6s\n",
      "[CV] n_estimators=80, criterion=gini, max_depth=10 ...................\n"
     ]
    },
    {
     "name": "stderr",
     "output_type": "stream",
     "text": [
      "[Parallel(n_jobs=4)]: Done  15 tasks      | elapsed:  2.3min\n"
     ]
    },
    {
     "name": "stdout",
     "output_type": "stream",
     "text": [
      "[CV]  n_estimators=80, criterion=gini, max_depth=10, score=-0.672731 -  45.6s\n",
      "[CV] n_estimators=80, criterion=gini, max_depth=10 ...................\n"
     ]
    },
    {
     "name": "stderr",
     "output_type": "stream",
     "text": [
      "[Parallel(n_jobs=4)]: Done  16 tasks      | elapsed:  2.4min\n"
     ]
    },
    {
     "name": "stdout",
     "output_type": "stream",
     "text": [
      "[CV]  n_estimators=80, criterion=gini, max_depth=10, score=-0.672922 -  47.8s\n",
      "[CV] n_estimators=90, criterion=gini, max_depth=10 ...................\n"
     ]
    },
    {
     "name": "stderr",
     "output_type": "stream",
     "text": [
      "[Parallel(n_jobs=4)]: Done  17 tasks      | elapsed:  2.9min\n"
     ]
    },
    {
     "name": "stdout",
     "output_type": "stream",
     "text": [
      "[CV]  n_estimators=80, criterion=gini, max_depth=10, score=-0.669067 -  47.3s\n",
      "[CV] n_estimators=90, criterion=gini, max_depth=10 ...................\n"
     ]
    },
    {
     "name": "stderr",
     "output_type": "stream",
     "text": [
      "[Parallel(n_jobs=4)]: Done  18 tasks      | elapsed:  3.0min\n"
     ]
    },
    {
     "name": "stdout",
     "output_type": "stream",
     "text": [
      "[CV]  n_estimators=80, criterion=gini, max_depth=10, score=-0.672641 -  47.4s\n",
      "[CV] n_estimators=90, criterion=gini, max_depth=10 ...................\n"
     ]
    },
    {
     "name": "stderr",
     "output_type": "stream",
     "text": [
      "[Parallel(n_jobs=4)]: Done  19 tasks      | elapsed:  3.1min\n"
     ]
    },
    {
     "name": "stdout",
     "output_type": "stream",
     "text": [
      "[CV]  n_estimators=80, criterion=gini, max_depth=10, score=-0.678842 -  45.6s\n",
      "[CV] n_estimators=90, criterion=gini, max_depth=10 ...................\n"
     ]
    },
    {
     "name": "stderr",
     "output_type": "stream",
     "text": [
      "[Parallel(n_jobs=4)]: Done  20 tasks      | elapsed:  3.2min\n"
     ]
    },
    {
     "name": "stdout",
     "output_type": "stream",
     "text": [
      "[CV]  n_estimators=90, criterion=gini, max_depth=10, score=-0.674618 -  47.1s\n",
      "[CV] n_estimators=90, criterion=gini, max_depth=10 ...................\n"
     ]
    },
    {
     "name": "stderr",
     "output_type": "stream",
     "text": [
      "[Parallel(n_jobs=4)]: Done  21 tasks      | elapsed:  3.7min\n"
     ]
    },
    {
     "name": "stdout",
     "output_type": "stream",
     "text": [
      "[CV]  n_estimators=90, criterion=gini, max_depth=10, score=-0.671876 -  46.6s\n",
      "[CV] n_estimators=100, criterion=gini, max_depth=10 ..................\n"
     ]
    },
    {
     "name": "stderr",
     "output_type": "stream",
     "text": [
      "[Parallel(n_jobs=4)]: Done  22 tasks      | elapsed:  3.8min\n"
     ]
    },
    {
     "name": "stdout",
     "output_type": "stream",
     "text": [
      "[CV]  n_estimators=90, criterion=gini, max_depth=10, score=-0.669670 -  47.8s\n",
      "[CV] n_estimators=100, criterion=gini, max_depth=10 ..................\n"
     ]
    },
    {
     "name": "stderr",
     "output_type": "stream",
     "text": [
      "[Parallel(n_jobs=4)]: Done  23 tasks      | elapsed:  3.9min\n"
     ]
    },
    {
     "name": "stdout",
     "output_type": "stream",
     "text": [
      "[CV]  n_estimators=90, criterion=gini, max_depth=10, score=-0.673467 -  48.4s\n",
      "[CV] n_estimators=100, criterion=gini, max_depth=10 ..................\n"
     ]
    },
    {
     "name": "stderr",
     "output_type": "stream",
     "text": [
      "[Parallel(n_jobs=4)]: Done  24 tasks      | elapsed:  4.0min\n"
     ]
    },
    {
     "name": "stdout",
     "output_type": "stream",
     "text": [
      "[CV]  n_estimators=90, criterion=gini, max_depth=10, score=-0.679636 -  52.9s\n",
      "[CV] n_estimators=100, criterion=gini, max_depth=10 ..................\n"
     ]
    },
    {
     "name": "stderr",
     "output_type": "stream",
     "text": [
      "[Parallel(n_jobs=4)]: Done  25 tasks      | elapsed:  4.6min\n"
     ]
    },
    {
     "name": "stdout",
     "output_type": "stream",
     "text": [
      "[CV]  n_estimators=100, criterion=gini, max_depth=10, score=-0.672558 -  57.0s\n",
      "[CV] n_estimators=100, criterion=gini, max_depth=10 ..................\n"
     ]
    },
    {
     "name": "stderr",
     "output_type": "stream",
     "text": [
      "[Parallel(n_jobs=4)]: Done  26 tasks      | elapsed:  4.7min\n"
     ]
    },
    {
     "name": "stdout",
     "output_type": "stream",
     "text": [
      "[CV]  n_estimators=100, criterion=gini, max_depth=10, score=-0.671987 -  55.2s\n",
      "[CV] n_estimators=110, criterion=gini, max_depth=10 ..................\n"
     ]
    },
    {
     "name": "stderr",
     "output_type": "stream",
     "text": [
      "[Parallel(n_jobs=4)]: Done  27 tasks      | elapsed:  4.8min\n"
     ]
    },
    {
     "name": "stdout",
     "output_type": "stream",
     "text": [
      "[CV]  n_estimators=100, criterion=gini, max_depth=10, score=-0.668996 -  55.2s\n",
      "[CV] n_estimators=110, criterion=gini, max_depth=10 ..................\n"
     ]
    },
    {
     "name": "stderr",
     "output_type": "stream",
     "text": [
      "[Parallel(n_jobs=4)]: Done  28 tasks      | elapsed:  4.9min\n"
     ]
    },
    {
     "name": "stdout",
     "output_type": "stream",
     "text": [
      "[CV]  n_estimators=100, criterion=gini, max_depth=10, score=-0.674094 -  58.0s\n",
      "[CV] n_estimators=110, criterion=gini, max_depth=10 ..................\n"
     ]
    },
    {
     "name": "stderr",
     "output_type": "stream",
     "text": [
      "[Parallel(n_jobs=4)]: Done  29 tasks      | elapsed:  5.6min\n"
     ]
    },
    {
     "name": "stdout",
     "output_type": "stream",
     "text": [
      "[CV]  n_estimators=100, criterion=gini, max_depth=10, score=-0.679151 -  59.5s\n",
      "[CV] n_estimators=110, criterion=gini, max_depth=10 ..................\n"
     ]
    },
    {
     "name": "stderr",
     "output_type": "stream",
     "text": [
      "[Parallel(n_jobs=4)]: Done  30 tasks      | elapsed:  5.7min\n"
     ]
    },
    {
     "name": "stdout",
     "output_type": "stream",
     "text": [
      "[CV]  n_estimators=110, criterion=gini, max_depth=10, score=-0.674530 - 1.1min\n",
      "[CV] n_estimators=110, criterion=gini, max_depth=10 ..................\n"
     ]
    },
    {
     "name": "stderr",
     "output_type": "stream",
     "text": [
      "[Parallel(n_jobs=4)]: Done  31 tasks      | elapsed:  5.9min\n"
     ]
    },
    {
     "name": "stdout",
     "output_type": "stream",
     "text": [
      "[CV]  n_estimators=110, criterion=gini, max_depth=10, score=-0.669858 - 1.1min\n",
      "[CV] n_estimators=120, criterion=gini, max_depth=10 ..................\n"
     ]
    },
    {
     "name": "stderr",
     "output_type": "stream",
     "text": [
      "[Parallel(n_jobs=4)]: Done  32 tasks      | elapsed:  6.0min\n"
     ]
    },
    {
     "name": "stdout",
     "output_type": "stream",
     "text": [
      "[CV]  n_estimators=110, criterion=gini, max_depth=10, score=-0.669608 -  59.0s\n",
      "[CV] n_estimators=120, criterion=gini, max_depth=10 ..................\n"
     ]
    },
    {
     "name": "stderr",
     "output_type": "stream",
     "text": [
      "[Parallel(n_jobs=4)]: Done  33 tasks      | elapsed:  6.5min\n"
     ]
    },
    {
     "name": "stdout",
     "output_type": "stream",
     "text": [
      "[CV]  n_estimators=110, criterion=gini, max_depth=10, score=-0.672940 -  58.2s\n",
      "[CV] n_estimators=120, criterion=gini, max_depth=10 ..................\n"
     ]
    },
    {
     "name": "stderr",
     "output_type": "stream",
     "text": [
      "[Parallel(n_jobs=4)]: Done  34 tasks      | elapsed:  6.7min\n"
     ]
    },
    {
     "name": "stdout",
     "output_type": "stream",
     "text": [
      "[CV]  n_estimators=110, criterion=gini, max_depth=10, score=-0.679710 -  57.9s\n",
      "[CV] n_estimators=120, criterion=gini, max_depth=10 ..................\n"
     ]
    },
    {
     "name": "stderr",
     "output_type": "stream",
     "text": [
      "[Parallel(n_jobs=4)]: Done  35 tasks      | elapsed:  6.9min\n"
     ]
    },
    {
     "name": "stdout",
     "output_type": "stream",
     "text": [
      "[CV]  n_estimators=120, criterion=gini, max_depth=10, score=-0.675621 - 1.0min\n",
      "[CV] n_estimators=120, criterion=gini, max_depth=10 ..................\n"
     ]
    },
    {
     "name": "stderr",
     "output_type": "stream",
     "text": [
      "[Parallel(n_jobs=4)]: Done  36 tasks      | elapsed:  7.0min\n"
     ]
    },
    {
     "name": "stdout",
     "output_type": "stream",
     "text": [
      "[CV]  n_estimators=120, criterion=gini, max_depth=10, score=-0.671419 - 1.0min\n",
      "[CV] n_estimators=130, criterion=gini, max_depth=10 ..................\n"
     ]
    },
    {
     "name": "stderr",
     "output_type": "stream",
     "text": [
      "[Parallel(n_jobs=4)]: Done  37 tasks      | elapsed:  7.6min\n"
     ]
    },
    {
     "name": "stdout",
     "output_type": "stream",
     "text": [
      "[CV]  n_estimators=120, criterion=gini, max_depth=10, score=-0.669429 - 1.0min\n",
      "[CV] n_estimators=130, criterion=gini, max_depth=10 ..................\n"
     ]
    },
    {
     "name": "stderr",
     "output_type": "stream",
     "text": [
      "[Parallel(n_jobs=4)]: Done  38 tasks      | elapsed:  7.7min\n"
     ]
    },
    {
     "name": "stdout",
     "output_type": "stream",
     "text": [
      "[CV]  n_estimators=120, criterion=gini, max_depth=10, score=-0.673523 - 1.0min\n",
      "[CV] n_estimators=130, criterion=gini, max_depth=10 ..................\n"
     ]
    },
    {
     "name": "stderr",
     "output_type": "stream",
     "text": [
      "[Parallel(n_jobs=4)]: Done  39 tasks      | elapsed:  7.9min\n"
     ]
    },
    {
     "name": "stdout",
     "output_type": "stream",
     "text": [
      "[CV]  n_estimators=120, criterion=gini, max_depth=10, score=-0.680225 - 1.0min\n",
      "[CV] n_estimators=130, criterion=gini, max_depth=10 ..................\n"
     ]
    },
    {
     "name": "stderr",
     "output_type": "stream",
     "text": [
      "[Parallel(n_jobs=4)]: Done  40 tasks      | elapsed:  8.1min\n"
     ]
    },
    {
     "name": "stdout",
     "output_type": "stream",
     "text": [
      "[CV]  n_estimators=130, criterion=gini, max_depth=10, score=-0.674094 - 1.1min\n",
      "[CV] n_estimators=130, criterion=gini, max_depth=10 ..................\n"
     ]
    },
    {
     "name": "stderr",
     "output_type": "stream",
     "text": [
      "[Parallel(n_jobs=4)]: Done  41 tasks      | elapsed:  8.7min\n"
     ]
    },
    {
     "name": "stdout",
     "output_type": "stream",
     "text": [
      "[CV]  n_estimators=130, criterion=gini, max_depth=10, score=-0.669438 - 1.1min\n",
      "[CV] n_estimators=140, criterion=gini, max_depth=10 ..................\n"
     ]
    },
    {
     "name": "stderr",
     "output_type": "stream",
     "text": [
      "[Parallel(n_jobs=4)]: Done  42 tasks      | elapsed:  8.9min\n"
     ]
    },
    {
     "name": "stdout",
     "output_type": "stream",
     "text": [
      "[CV]  n_estimators=130, criterion=gini, max_depth=10, score=-0.670651 - 1.1min\n",
      "[CV] n_estimators=140, criterion=gini, max_depth=10 ..................\n"
     ]
    },
    {
     "name": "stderr",
     "output_type": "stream",
     "text": [
      "[Parallel(n_jobs=4)]: Done  43 tasks      | elapsed:  9.0min\n"
     ]
    },
    {
     "name": "stdout",
     "output_type": "stream",
     "text": [
      "[CV]  n_estimators=130, criterion=gini, max_depth=10, score=-0.671142 - 1.1min\n",
      "[CV] n_estimators=140, criterion=gini, max_depth=10 ..................\n"
     ]
    },
    {
     "name": "stderr",
     "output_type": "stream",
     "text": [
      "[Parallel(n_jobs=4)]: Done  44 tasks      | elapsed:  9.2min\n"
     ]
    },
    {
     "name": "stdout",
     "output_type": "stream",
     "text": [
      "[CV]  n_estimators=130, criterion=gini, max_depth=10, score=-0.677806 - 1.2min\n",
      "[CV] n_estimators=140, criterion=gini, max_depth=10 ..................\n"
     ]
    },
    {
     "name": "stderr",
     "output_type": "stream",
     "text": [
      "[Parallel(n_jobs=4)]: Done  45 tasks      | elapsed:  9.9min\n"
     ]
    },
    {
     "name": "stdout",
     "output_type": "stream",
     "text": [
      "[CV]  n_estimators=140, criterion=gini, max_depth=10, score=-0.671362 - 1.3min\n",
      "[CV] n_estimators=140, criterion=gini, max_depth=10 ..................\n"
     ]
    },
    {
     "name": "stderr",
     "output_type": "stream",
     "text": [
      "[Parallel(n_jobs=4)]: Done  46 tasks      | elapsed: 10.1min\n"
     ]
    },
    {
     "name": "stdout",
     "output_type": "stream",
     "text": [
      "[CV]  n_estimators=140, criterion=gini, max_depth=10, score=-0.671185 - 1.3min\n",
      "[CV] n_estimators=50, criterion=gini, max_depth=12 ...................\n"
     ]
    },
    {
     "name": "stderr",
     "output_type": "stream",
     "text": [
      "[Parallel(n_jobs=4)]: Done  47 tasks      | elapsed: 10.3min\n"
     ]
    },
    {
     "name": "stdout",
     "output_type": "stream",
     "text": [
      "[CV]  n_estimators=140, criterion=gini, max_depth=10, score=-0.669850 - 1.3min\n",
      "[CV] n_estimators=50, criterion=gini, max_depth=12 ...................\n"
     ]
    },
    {
     "name": "stderr",
     "output_type": "stream",
     "text": [
      "[Parallel(n_jobs=4)]: Done  48 tasks      | elapsed: 10.4min\n"
     ]
    },
    {
     "name": "stdout",
     "output_type": "stream",
     "text": [
      "[CV]  n_estimators=50, criterion=gini, max_depth=12, score=-0.664099 -  38.0s\n",
      "[CV] n_estimators=50, criterion=gini, max_depth=12 ...................\n"
     ]
    },
    {
     "name": "stderr",
     "output_type": "stream",
     "text": [
      "[Parallel(n_jobs=4)]: Done  49 tasks      | elapsed: 10.9min\n"
     ]
    },
    {
     "name": "stdout",
     "output_type": "stream",
     "text": [
      "[CV]  n_estimators=50, criterion=gini, max_depth=12, score=-0.663301 -  38.5s\n",
      "[CV] n_estimators=50, criterion=gini, max_depth=12 ...................\n"
     ]
    },
    {
     "name": "stderr",
     "output_type": "stream",
     "text": [
      "[Parallel(n_jobs=4)]: Done  50 tasks      | elapsed: 11.1min\n"
     ]
    },
    {
     "name": "stdout",
     "output_type": "stream",
     "text": [
      "[CV]  n_estimators=140, criterion=gini, max_depth=10, score=-0.674901 - 1.2min\n",
      "[CV] n_estimators=50, criterion=gini, max_depth=12 ...................\n"
     ]
    },
    {
     "name": "stderr",
     "output_type": "stream",
     "text": [
      "[Parallel(n_jobs=4)]: Done  51 tasks      | elapsed: 11.1min\n"
     ]
    },
    {
     "name": "stdout",
     "output_type": "stream",
     "text": [
      "[CV]  n_estimators=140, criterion=gini, max_depth=10, score=-0.679847 - 1.2min\n",
      "[CV] n_estimators=60, criterion=gini, max_depth=12 ...................\n"
     ]
    },
    {
     "name": "stderr",
     "output_type": "stream",
     "text": [
      "[Parallel(n_jobs=4)]: Done  52 tasks      | elapsed: 11.4min\n"
     ]
    },
    {
     "name": "stdout",
     "output_type": "stream",
     "text": [
      "[CV]  n_estimators=50, criterion=gini, max_depth=12, score=-0.659575 -  38.2s\n",
      "[CV] n_estimators=60, criterion=gini, max_depth=12 ...................\n"
     ]
    },
    {
     "name": "stderr",
     "output_type": "stream",
     "text": [
      "[Parallel(n_jobs=4)]: Done  53 tasks      | elapsed: 11.6min\n"
     ]
    },
    {
     "name": "stdout",
     "output_type": "stream",
     "text": [
      "[CV]  n_estimators=50, criterion=gini, max_depth=12, score=-0.664627 -  38.6s\n",
      "[CV] n_estimators=60, criterion=gini, max_depth=12 ...................\n"
     ]
    },
    {
     "name": "stderr",
     "output_type": "stream",
     "text": [
      "[Parallel(n_jobs=4)]: Done  54 tasks      | elapsed: 11.7min\n"
     ]
    },
    {
     "name": "stdout",
     "output_type": "stream",
     "text": [
      "[CV]  n_estimators=50, criterion=gini, max_depth=12, score=-0.667656 -  38.0s\n",
      "[CV] n_estimators=60, criterion=gini, max_depth=12 ...................\n"
     ]
    },
    {
     "name": "stderr",
     "output_type": "stream",
     "text": [
      "[Parallel(n_jobs=4)]: Done  55 tasks      | elapsed: 11.8min\n"
     ]
    },
    {
     "name": "stdout",
     "output_type": "stream",
     "text": [
      "[CV]  n_estimators=60, criterion=gini, max_depth=12, score=-0.665073 -  45.4s\n",
      "[CV] n_estimators=60, criterion=gini, max_depth=12 ...................\n"
     ]
    },
    {
     "name": "stderr",
     "output_type": "stream",
     "text": [
      "[Parallel(n_jobs=4)]: Done  56 tasks      | elapsed: 12.1min\n"
     ]
    },
    {
     "name": "stdout",
     "output_type": "stream",
     "text": [
      "[CV]  n_estimators=60, criterion=gini, max_depth=12, score=-0.661454 -  45.6s\n",
      "[CV] n_estimators=70, criterion=gini, max_depth=12 ...................\n"
     ]
    },
    {
     "name": "stderr",
     "output_type": "stream",
     "text": [
      "[Parallel(n_jobs=4)]: Done  57 tasks      | elapsed: 12.3min\n"
     ]
    },
    {
     "name": "stdout",
     "output_type": "stream",
     "text": [
      "[CV]  n_estimators=60, criterion=gini, max_depth=12, score=-0.661287 -  45.2s\n",
      "[CV] n_estimators=70, criterion=gini, max_depth=12 ...................\n"
     ]
    },
    {
     "name": "stderr",
     "output_type": "stream",
     "text": [
      "[Parallel(n_jobs=4)]: Done  58 tasks      | elapsed: 12.5min\n"
     ]
    },
    {
     "name": "stdout",
     "output_type": "stream",
     "text": [
      "[CV]  n_estimators=60, criterion=gini, max_depth=12, score=-0.662333 -  44.8s\n",
      "[CV] n_estimators=70, criterion=gini, max_depth=12 ...................\n"
     ]
    },
    {
     "name": "stderr",
     "output_type": "stream",
     "text": [
      "[Parallel(n_jobs=4)]: Done  59 tasks      | elapsed: 12.5min\n"
     ]
    },
    {
     "name": "stdout",
     "output_type": "stream",
     "text": [
      "[CV]  n_estimators=60, criterion=gini, max_depth=12, score=-0.670048 -  44.4s\n",
      "[CV] n_estimators=70, criterion=gini, max_depth=12 ...................\n"
     ]
    },
    {
     "name": "stderr",
     "output_type": "stream",
     "text": [
      "[Parallel(n_jobs=4)]: Done  60 tasks      | elapsed: 12.9min\n"
     ]
    },
    {
     "name": "stdout",
     "output_type": "stream",
     "text": [
      "[CV]  n_estimators=70, criterion=gini, max_depth=12, score=-0.661977 -  51.9s\n",
      "[CV] n_estimators=70, criterion=gini, max_depth=12 ...................\n"
     ]
    },
    {
     "name": "stderr",
     "output_type": "stream",
     "text": [
      "[Parallel(n_jobs=4)]: Done  61 tasks      | elapsed: 13.2min\n"
     ]
    },
    {
     "name": "stdout",
     "output_type": "stream",
     "text": [
      "[CV]  n_estimators=70, criterion=gini, max_depth=12, score=-0.660871 -  52.0s\n",
      "[CV] n_estimators=80, criterion=gini, max_depth=12 ...................\n"
     ]
    },
    {
     "name": "stderr",
     "output_type": "stream",
     "text": [
      "[Parallel(n_jobs=4)]: Done  62 tasks      | elapsed: 13.3min\n"
     ]
    },
    {
     "name": "stdout",
     "output_type": "stream",
     "text": [
      "[CV]  n_estimators=70, criterion=gini, max_depth=12, score=-0.662056 -  52.4s\n",
      "[CV] n_estimators=80, criterion=gini, max_depth=12 ...................\n"
     ]
    },
    {
     "name": "stderr",
     "output_type": "stream",
     "text": [
      "[Parallel(n_jobs=4)]: Done  63 tasks      | elapsed: 13.4min\n"
     ]
    },
    {
     "name": "stdout",
     "output_type": "stream",
     "text": [
      "[CV]  n_estimators=70, criterion=gini, max_depth=12, score=-0.660880 -  52.8s\n",
      "[CV] n_estimators=80, criterion=gini, max_depth=12 ...................\n"
     ]
    },
    {
     "name": "stderr",
     "output_type": "stream",
     "text": [
      "[Parallel(n_jobs=4)]: Done  64 tasks      | elapsed: 13.7min\n"
     ]
    },
    {
     "name": "stdout",
     "output_type": "stream",
     "text": [
      "[CV]  n_estimators=70, criterion=gini, max_depth=12, score=-0.671366 -  52.3s\n",
      "[CV] n_estimators=80, criterion=gini, max_depth=12 ...................\n"
     ]
    },
    {
     "name": "stderr",
     "output_type": "stream",
     "text": [
      "[Parallel(n_jobs=4)]: Done  65 tasks      | elapsed: 14.1min\n"
     ]
    },
    {
     "name": "stdout",
     "output_type": "stream",
     "text": [
      "[CV]  n_estimators=80, criterion=gini, max_depth=12, score=-0.661208 -  59.9s\n",
      "[CV] n_estimators=80, criterion=gini, max_depth=12 ...................\n"
     ]
    },
    {
     "name": "stderr",
     "output_type": "stream",
     "text": [
      "[Parallel(n_jobs=4)]: Done  66 tasks      | elapsed: 14.3min\n"
     ]
    },
    {
     "name": "stdout",
     "output_type": "stream",
     "text": [
      "[CV]  n_estimators=80, criterion=gini, max_depth=12, score=-0.658874 -  59.8s\n",
      "[CV] n_estimators=90, criterion=gini, max_depth=12 ...................\n"
     ]
    },
    {
     "name": "stderr",
     "output_type": "stream",
     "text": [
      "[Parallel(n_jobs=4)]: Done  67 tasks      | elapsed: 14.4min\n"
     ]
    },
    {
     "name": "stdout",
     "output_type": "stream",
     "text": [
      "[CV]  n_estimators=80, criterion=gini, max_depth=12, score=-0.660318 - 1.0min\n",
      "[CV] n_estimators=90, criterion=gini, max_depth=12 ...................\n"
     ]
    },
    {
     "name": "stderr",
     "output_type": "stream",
     "text": [
      "[Parallel(n_jobs=4)]: Done  68 tasks      | elapsed: 14.7min\n"
     ]
    },
    {
     "name": "stdout",
     "output_type": "stream",
     "text": [
      "[CV]  n_estimators=80, criterion=gini, max_depth=12, score=-0.662901 -  59.4s\n",
      "[CV] n_estimators=90, criterion=gini, max_depth=12 ...................\n"
     ]
    },
    {
     "name": "stderr",
     "output_type": "stream",
     "text": [
      "[Parallel(n_jobs=4)]: Done  69 tasks      | elapsed: 15.1min\n"
     ]
    },
    {
     "name": "stdout",
     "output_type": "stream",
     "text": [
      "[CV]  n_estimators=80, criterion=gini, max_depth=12, score=-0.671504 - 1.0min\n",
      "[CV] n_estimators=90, criterion=gini, max_depth=12 ...................\n"
     ]
    },
    {
     "name": "stderr",
     "output_type": "stream",
     "text": [
      "[Parallel(n_jobs=4)]: Done  70 tasks      | elapsed: 15.4min\n"
     ]
    },
    {
     "name": "stdout",
     "output_type": "stream",
     "text": [
      "[CV]  n_estimators=90, criterion=gini, max_depth=12, score=-0.662661 - 1.1min\n",
      "[CV] n_estimators=90, criterion=gini, max_depth=12 ...................\n"
     ]
    },
    {
     "name": "stderr",
     "output_type": "stream",
     "text": [
      "[Parallel(n_jobs=4)]: Done  71 tasks      | elapsed: 15.5min\n"
     ]
    },
    {
     "name": "stdout",
     "output_type": "stream",
     "text": [
      "[CV]  n_estimators=90, criterion=gini, max_depth=12, score=-0.657654 - 1.1min\n",
      "[CV] n_estimators=100, criterion=gini, max_depth=12 ..................\n"
     ]
    },
    {
     "name": "stderr",
     "output_type": "stream",
     "text": [
      "[Parallel(n_jobs=4)]: Done  72 tasks      | elapsed: 15.9min\n"
     ]
    },
    {
     "name": "stdout",
     "output_type": "stream",
     "text": [
      "[CV]  n_estimators=90, criterion=gini, max_depth=12, score=-0.658635 - 1.1min\n",
      "[CV] n_estimators=100, criterion=gini, max_depth=12 ..................\n"
     ]
    },
    {
     "name": "stderr",
     "output_type": "stream",
     "text": [
      "[Parallel(n_jobs=4)]: Done  73 tasks      | elapsed: 16.2min\n"
     ]
    },
    {
     "name": "stdout",
     "output_type": "stream",
     "text": [
      "[CV]  n_estimators=90, criterion=gini, max_depth=12, score=-0.661992 - 1.1min\n",
      "[CV] n_estimators=100, criterion=gini, max_depth=12 ..................\n"
     ]
    },
    {
     "name": "stderr",
     "output_type": "stream",
     "text": [
      "[Parallel(n_jobs=4)]: Done  74 tasks      | elapsed: 16.5min\n"
     ]
    },
    {
     "name": "stdout",
     "output_type": "stream",
     "text": [
      "[CV]  n_estimators=90, criterion=gini, max_depth=12, score=-0.669391 - 1.1min\n",
      "[CV] n_estimators=100, criterion=gini, max_depth=12 ..................\n"
     ]
    },
    {
     "name": "stderr",
     "output_type": "stream",
     "text": [
      "[Parallel(n_jobs=4)]: Done  75 tasks      | elapsed: 16.6min\n"
     ]
    },
    {
     "name": "stdout",
     "output_type": "stream",
     "text": [
      "[CV]  n_estimators=100, criterion=gini, max_depth=12, score=-0.660207 - 1.3min\n",
      "[CV] n_estimators=100, criterion=gini, max_depth=12 ..................\n"
     ]
    },
    {
     "name": "stderr",
     "output_type": "stream",
     "text": [
      "[Parallel(n_jobs=4)]: Done  76 tasks      | elapsed: 17.2min\n"
     ]
    },
    {
     "name": "stdout",
     "output_type": "stream",
     "text": [
      "[CV]  n_estimators=100, criterion=gini, max_depth=12, score=-0.658208 - 1.3min\n",
      "[CV] n_estimators=110, criterion=gini, max_depth=12 ..................\n"
     ]
    },
    {
     "name": "stderr",
     "output_type": "stream",
     "text": [
      "[Parallel(n_jobs=4)]: Done  77 tasks      | elapsed: 17.5min\n"
     ]
    },
    {
     "name": "stdout",
     "output_type": "stream",
     "text": [
      "[CV]  n_estimators=100, criterion=gini, max_depth=12, score=-0.658786 - 1.3min\n",
      "[CV] n_estimators=110, criterion=gini, max_depth=12 ..................\n"
     ]
    },
    {
     "name": "stderr",
     "output_type": "stream",
     "text": [
      "[Parallel(n_jobs=4)]: Done  78 tasks      | elapsed: 17.8min\n"
     ]
    },
    {
     "name": "stdout",
     "output_type": "stream",
     "text": [
      "[CV]  n_estimators=100, criterion=gini, max_depth=12, score=-0.662207 - 1.3min\n",
      "[CV] n_estimators=110, criterion=gini, max_depth=12 ..................\n"
     ]
    },
    {
     "name": "stderr",
     "output_type": "stream",
     "text": [
      "[Parallel(n_jobs=4)]: Done  79 tasks      | elapsed: 17.9min\n"
     ]
    },
    {
     "name": "stdout",
     "output_type": "stream",
     "text": [
      "[CV]  n_estimators=100, criterion=gini, max_depth=12, score=-0.669568 - 1.3min\n",
      "[CV] n_estimators=110, criterion=gini, max_depth=12 ..................\n"
     ]
    },
    {
     "name": "stderr",
     "output_type": "stream",
     "text": [
      "[Parallel(n_jobs=4)]: Done  80 tasks      | elapsed: 18.5min\n"
     ]
    },
    {
     "name": "stdout",
     "output_type": "stream",
     "text": [
      "[CV]  n_estimators=110, criterion=gini, max_depth=12, score=-0.661530 - 1.4min\n",
      "[CV] n_estimators=110, criterion=gini, max_depth=12 ..................\n"
     ]
    },
    {
     "name": "stderr",
     "output_type": "stream",
     "text": [
      "[Parallel(n_jobs=4)]: Done  81 tasks      | elapsed: 18.9min\n"
     ]
    },
    {
     "name": "stdout",
     "output_type": "stream",
     "text": [
      "[CV]  n_estimators=110, criterion=gini, max_depth=12, score=-0.656931 - 1.4min\n",
      "[CV] n_estimators=120, criterion=gini, max_depth=12 ..................\n"
     ]
    },
    {
     "name": "stderr",
     "output_type": "stream",
     "text": [
      "[Parallel(n_jobs=4)]: Done  82 tasks      | elapsed: 19.2min\n"
     ]
    },
    {
     "name": "stdout",
     "output_type": "stream",
     "text": [
      "[CV]  n_estimators=110, criterion=gini, max_depth=12, score=-0.654960 - 1.4min\n",
      "[CV] n_estimators=120, criterion=gini, max_depth=12 ..................\n"
     ]
    },
    {
     "name": "stderr",
     "output_type": "stream",
     "text": [
      "[Parallel(n_jobs=4)]: Done  83 tasks      | elapsed: 19.3min\n"
     ]
    },
    {
     "name": "stdout",
     "output_type": "stream",
     "text": [
      "[CV]  n_estimators=110, criterion=gini, max_depth=12, score=-0.661386 - 1.4min\n",
      "[CV] n_estimators=120, criterion=gini, max_depth=12 ..................\n"
     ]
    },
    {
     "name": "stderr",
     "output_type": "stream",
     "text": [
      "[Parallel(n_jobs=4)]: Done  84 tasks      | elapsed: 19.8min\n"
     ]
    },
    {
     "name": "stdout",
     "output_type": "stream",
     "text": [
      "[CV]  n_estimators=110, criterion=gini, max_depth=12, score=-0.667979 - 1.3min\n",
      "[CV] n_estimators=120, criterion=gini, max_depth=12 ..................\n"
     ]
    },
    {
     "name": "stderr",
     "output_type": "stream",
     "text": [
      "[Parallel(n_jobs=4)]: Done  85 tasks      | elapsed: 20.2min\n"
     ]
    },
    {
     "name": "stdout",
     "output_type": "stream",
     "text": [
      "[CV]  n_estimators=120, criterion=gini, max_depth=12, score=-0.662376 - 1.5min\n",
      "[CV] n_estimators=120, criterion=gini, max_depth=12 ..................\n"
     ]
    },
    {
     "name": "stderr",
     "output_type": "stream",
     "text": [
      "[Parallel(n_jobs=4)]: Done  86 tasks      | elapsed: 20.6min\n"
     ]
    },
    {
     "name": "stdout",
     "output_type": "stream",
     "text": [
      "[CV]  n_estimators=120, criterion=gini, max_depth=12, score=-0.660513 - 1.5min\n",
      "[CV] n_estimators=130, criterion=gini, max_depth=12 ..................\n"
     ]
    },
    {
     "name": "stderr",
     "output_type": "stream",
     "text": [
      "[Parallel(n_jobs=4)]: Done  87 tasks      | elapsed: 20.8min\n"
     ]
    },
    {
     "name": "stdout",
     "output_type": "stream",
     "text": [
      "[CV]  n_estimators=120, criterion=gini, max_depth=12, score=-0.658527 - 1.5min\n",
      "[CV] n_estimators=130, criterion=gini, max_depth=12 ..................\n"
     ]
    },
    {
     "name": "stderr",
     "output_type": "stream",
     "text": [
      "[Parallel(n_jobs=4)]: Done  88 tasks      | elapsed: 21.3min\n"
     ]
    },
    {
     "name": "stdout",
     "output_type": "stream",
     "text": [
      "[CV]  n_estimators=120, criterion=gini, max_depth=12, score=-0.659215 - 1.5min\n",
      "[CV] n_estimators=130, criterion=gini, max_depth=12 ..................\n"
     ]
    },
    {
     "name": "stderr",
     "output_type": "stream",
     "text": [
      "[Parallel(n_jobs=4)]: Done  89 tasks      | elapsed: 21.7min\n"
     ]
    },
    {
     "name": "stdout",
     "output_type": "stream",
     "text": [
      "[CV]  n_estimators=120, criterion=gini, max_depth=12, score=-0.670774 - 1.5min\n",
      "[CV] n_estimators=130, criterion=gini, max_depth=12 ..................\n"
     ]
    },
    {
     "name": "stderr",
     "output_type": "stream",
     "text": [
      "[Parallel(n_jobs=4)]: Done  90 tasks      | elapsed: 22.1min\n"
     ]
    },
    {
     "name": "stdout",
     "output_type": "stream",
     "text": [
      "[CV]  n_estimators=130, criterion=gini, max_depth=12, score=-0.663136 - 1.6min\n",
      "[CV] n_estimators=130, criterion=gini, max_depth=12 ..................\n"
     ]
    },
    {
     "name": "stderr",
     "output_type": "stream",
     "text": [
      "[Parallel(n_jobs=4)]: Done  91 tasks      | elapsed: 22.4min\n"
     ]
    },
    {
     "name": "stdout",
     "output_type": "stream",
     "text": [
      "[CV]  n_estimators=130, criterion=gini, max_depth=12, score=-0.659523 - 1.6min\n",
      "[CV] n_estimators=140, criterion=gini, max_depth=12 ..................\n"
     ]
    },
    {
     "name": "stderr",
     "output_type": "stream",
     "text": [
      "[Parallel(n_jobs=4)]: Done  92 tasks      | elapsed: 22.9min\n"
     ]
    },
    {
     "name": "stdout",
     "output_type": "stream",
     "text": [
      "[CV]  n_estimators=130, criterion=gini, max_depth=12, score=-0.658559 - 1.6min\n",
      "[CV] n_estimators=140, criterion=gini, max_depth=12 ..................\n"
     ]
    },
    {
     "name": "stderr",
     "output_type": "stream",
     "text": [
      "[Parallel(n_jobs=4)]: Done  93 tasks      | elapsed: 23.3min\n"
     ]
    },
    {
     "name": "stdout",
     "output_type": "stream",
     "text": [
      "[CV]  n_estimators=130, criterion=gini, max_depth=12, score=-0.660524 - 1.6min\n",
      "[CV] n_estimators=140, criterion=gini, max_depth=12 ..................\n"
     ]
    },
    {
     "name": "stderr",
     "output_type": "stream",
     "text": [
      "[Parallel(n_jobs=4)]: Done  94 tasks      | elapsed: 23.8min\n"
     ]
    },
    {
     "name": "stdout",
     "output_type": "stream",
     "text": [
      "[CV]  n_estimators=130, criterion=gini, max_depth=12, score=-0.668268 - 1.6min\n",
      "[CV] n_estimators=140, criterion=gini, max_depth=12 ..................\n"
     ]
    },
    {
     "name": "stderr",
     "output_type": "stream",
     "text": [
      "[Parallel(n_jobs=4)]: Done  95 tasks      | elapsed: 24.0min\n"
     ]
    },
    {
     "name": "stdout",
     "output_type": "stream",
     "text": [
      "[CV]  n_estimators=140, criterion=gini, max_depth=12, score=-0.661580 - 1.8min\n",
      "[CV] n_estimators=140, criterion=gini, max_depth=12 ..................\n"
     ]
    },
    {
     "name": "stderr",
     "output_type": "stream",
     "text": [
      "[Parallel(n_jobs=4)]: Done  96 tasks      | elapsed: 24.7min\n"
     ]
    },
    {
     "name": "stdout",
     "output_type": "stream",
     "text": [
      "[CV]  n_estimators=140, criterion=gini, max_depth=12, score=-0.659869 - 1.8min\n",
      "[CV] n_estimators=50, criterion=gini, max_depth=14 ...................\n"
     ]
    },
    {
     "name": "stderr",
     "output_type": "stream",
     "text": [
      "[Parallel(n_jobs=4)]: Done  97 tasks      | elapsed: 25.1min\n"
     ]
    },
    {
     "name": "stdout",
     "output_type": "stream",
     "text": [
      "[CV]  n_estimators=140, criterion=gini, max_depth=12, score=-0.659574 - 1.8min\n",
      "[CV] n_estimators=50, criterion=gini, max_depth=14 ...................\n"
     ]
    },
    {
     "name": "stderr",
     "output_type": "stream",
     "text": [
      "[Parallel(n_jobs=4)]: Done  98 tasks      | elapsed: 25.6min\n"
     ]
    },
    {
     "name": "stdout",
     "output_type": "stream",
     "text": [
      "[CV]  n_estimators=140, criterion=gini, max_depth=12, score=-0.660938 - 1.8min\n",
      "[CV] n_estimators=50, criterion=gini, max_depth=14 ...................\n"
     ]
    },
    {
     "name": "stderr",
     "output_type": "stream",
     "text": [
      "[Parallel(n_jobs=4)]: Done  99 tasks      | elapsed: 25.8min\n"
     ]
    },
    {
     "name": "stdout",
     "output_type": "stream",
     "text": [
      "[CV]  n_estimators=50, criterion=gini, max_depth=14, score=-0.657745 -  51.9s\n",
      "[CV] n_estimators=50, criterion=gini, max_depth=14 ...................\n"
     ]
    },
    {
     "name": "stderr",
     "output_type": "stream",
     "text": [
      "[Parallel(n_jobs=4)]: Done 100 tasks      | elapsed: 26.0min\n"
     ]
    },
    {
     "name": "stdout",
     "output_type": "stream",
     "text": [
      "[CV]  n_estimators=50, criterion=gini, max_depth=14, score=-0.650956 -  52.2s\n",
      "[CV] n_estimators=50, criterion=gini, max_depth=14 ...................\n"
     ]
    },
    {
     "name": "stderr",
     "output_type": "stream",
     "text": [
      "[Parallel(n_jobs=4)]: Done 101 tasks      | elapsed: 26.4min\n"
     ]
    },
    {
     "name": "stdout",
     "output_type": "stream",
     "text": [
      "[CV]  n_estimators=140, criterion=gini, max_depth=12, score=-0.669439 - 1.8min\n",
      "[CV] n_estimators=60, criterion=gini, max_depth=14 ...................\n"
     ]
    },
    {
     "name": "stderr",
     "output_type": "stream",
     "text": [
      "[Parallel(n_jobs=4)]: Done 102 tasks      | elapsed: 26.5min\n"
     ]
    },
    {
     "name": "stdout",
     "output_type": "stream",
     "text": [
      "[CV]  n_estimators=50, criterion=gini, max_depth=14, score=-0.649878 -  52.0s\n",
      "[CV] n_estimators=60, criterion=gini, max_depth=14 ...................\n"
     ]
    },
    {
     "name": "stderr",
     "output_type": "stream",
     "text": [
      "[Parallel(n_jobs=4)]: Done 103 tasks      | elapsed: 26.7min\n"
     ]
    },
    {
     "name": "stdout",
     "output_type": "stream",
     "text": [
      "[CV]  n_estimators=50, criterion=gini, max_depth=14, score=-0.653645 -  52.1s\n",
      "[CV] n_estimators=60, criterion=gini, max_depth=14 ...................\n"
     ]
    },
    {
     "name": "stderr",
     "output_type": "stream",
     "text": [
      "[Parallel(n_jobs=4)]: Done 104 tasks      | elapsed: 26.9min\n"
     ]
    },
    {
     "name": "stdout",
     "output_type": "stream",
     "text": [
      "[CV]  n_estimators=50, criterion=gini, max_depth=14, score=-0.659956 -  52.8s\n",
      "[CV] n_estimators=60, criterion=gini, max_depth=14 ...................\n"
     ]
    },
    {
     "name": "stderr",
     "output_type": "stream",
     "text": [
      "[Parallel(n_jobs=4)]: Done 105 tasks      | elapsed: 27.3min\n"
     ]
    },
    {
     "name": "stdout",
     "output_type": "stream",
     "text": [
      "[CV]  n_estimators=60, criterion=gini, max_depth=14, score=-0.655576 - 1.1min\n",
      "[CV] n_estimators=60, criterion=gini, max_depth=14 ...................\n"
     ]
    },
    {
     "name": "stderr",
     "output_type": "stream",
     "text": [
      "[Parallel(n_jobs=4)]: Done 106 tasks      | elapsed: 27.6min\n"
     ]
    },
    {
     "name": "stdout",
     "output_type": "stream",
     "text": [
      "[CV]  n_estimators=60, criterion=gini, max_depth=14, score=-0.652914 - 1.0min\n",
      "[CV] n_estimators=70, criterion=gini, max_depth=14 ...................\n"
     ]
    },
    {
     "name": "stderr",
     "output_type": "stream",
     "text": [
      "[Parallel(n_jobs=4)]: Done 107 tasks      | elapsed: 27.7min\n"
     ]
    },
    {
     "name": "stdout",
     "output_type": "stream",
     "text": [
      "[CV]  n_estimators=60, criterion=gini, max_depth=14, score=-0.651342 - 1.0min\n",
      "[CV] n_estimators=70, criterion=gini, max_depth=14 ...................\n"
     ]
    },
    {
     "name": "stderr",
     "output_type": "stream",
     "text": [
      "[Parallel(n_jobs=4)]: Done 108 tasks      | elapsed: 27.9min\n"
     ]
    },
    {
     "name": "stdout",
     "output_type": "stream",
     "text": [
      "[CV]  n_estimators=60, criterion=gini, max_depth=14, score=-0.654462 - 1.1min\n",
      "[CV] n_estimators=70, criterion=gini, max_depth=14 ...................\n"
     ]
    },
    {
     "name": "stderr",
     "output_type": "stream",
     "text": [
      "[Parallel(n_jobs=4)]: Done 109 tasks      | elapsed: 28.4min\n"
     ]
    },
    {
     "name": "stdout",
     "output_type": "stream",
     "text": [
      "[CV]  n_estimators=60, criterion=gini, max_depth=14, score=-0.659064 - 1.1min\n",
      "[CV] n_estimators=70, criterion=gini, max_depth=14 ...................\n"
     ]
    },
    {
     "name": "stderr",
     "output_type": "stream",
     "text": [
      "[Parallel(n_jobs=4)]: Done 110 tasks      | elapsed: 28.7min\n"
     ]
    },
    {
     "name": "stdout",
     "output_type": "stream",
     "text": [
      "[CV]  n_estimators=70, criterion=gini, max_depth=14, score=-0.651452 - 1.2min\n",
      "[CV] n_estimators=70, criterion=gini, max_depth=14 ...................\n"
     ]
    },
    {
     "name": "stderr",
     "output_type": "stream",
     "text": [
      "[Parallel(n_jobs=4)]: Done 111 tasks      | elapsed: 29.0min\n"
     ]
    },
    {
     "name": "stdout",
     "output_type": "stream",
     "text": [
      "[CV]  n_estimators=70, criterion=gini, max_depth=14, score=-0.652360 - 1.2min\n",
      "[CV] n_estimators=80, criterion=gini, max_depth=14 ...................\n"
     ]
    },
    {
     "name": "stderr",
     "output_type": "stream",
     "text": [
      "[Parallel(n_jobs=4)]: Done 112 tasks      | elapsed: 29.1min\n"
     ]
    },
    {
     "name": "stdout",
     "output_type": "stream",
     "text": [
      "[CV]  n_estimators=70, criterion=gini, max_depth=14, score=-0.646752 - 1.2min\n",
      "[CV] n_estimators=80, criterion=gini, max_depth=14 ...................\n"
     ]
    },
    {
     "name": "stderr",
     "output_type": "stream",
     "text": [
      "[Parallel(n_jobs=4)]: Done 113 tasks      | elapsed: 29.6min\n"
     ]
    },
    {
     "name": "stdout",
     "output_type": "stream",
     "text": [
      "[CV]  n_estimators=70, criterion=gini, max_depth=14, score=-0.651804 - 1.2min\n",
      "[CV] n_estimators=80, criterion=gini, max_depth=14 ...................\n"
     ]
    },
    {
     "name": "stderr",
     "output_type": "stream",
     "text": [
      "[Parallel(n_jobs=4)]: Done 114 tasks      | elapsed: 29.9min\n"
     ]
    },
    {
     "name": "stdout",
     "output_type": "stream",
     "text": [
      "[CV]  n_estimators=70, criterion=gini, max_depth=14, score=-0.662234 - 1.2min\n",
      "[CV] n_estimators=80, criterion=gini, max_depth=14 ...................\n"
     ]
    },
    {
     "name": "stderr",
     "output_type": "stream",
     "text": [
      "[Parallel(n_jobs=4)]: Done 115 tasks      | elapsed: 30.2min\n"
     ]
    },
    {
     "name": "stdout",
     "output_type": "stream",
     "text": [
      "[CV]  n_estimators=80, criterion=gini, max_depth=14, score=-0.653306 - 1.4min\n",
      "[CV] n_estimators=80, criterion=gini, max_depth=14 ...................\n"
     ]
    },
    {
     "name": "stderr",
     "output_type": "stream",
     "text": [
      "[Parallel(n_jobs=4)]: Done 116 tasks      | elapsed: 30.5min\n"
     ]
    },
    {
     "name": "stdout",
     "output_type": "stream",
     "text": [
      "[CV]  n_estimators=80, criterion=gini, max_depth=14, score=-0.651712 - 1.4min\n",
      "[CV] n_estimators=90, criterion=gini, max_depth=14 ...................\n"
     ]
    },
    {
     "name": "stderr",
     "output_type": "stream",
     "text": [
      "[Parallel(n_jobs=4)]: Done 117 tasks      | elapsed: 31.0min\n"
     ]
    },
    {
     "name": "stdout",
     "output_type": "stream",
     "text": [
      "[CV]  n_estimators=80, criterion=gini, max_depth=14, score=-0.650906 - 1.4min\n",
      "[CV] n_estimators=90, criterion=gini, max_depth=14 ...................\n"
     ]
    },
    {
     "name": "stderr",
     "output_type": "stream",
     "text": [
      "[Parallel(n_jobs=4)]: Done 118 tasks      | elapsed: 31.3min\n"
     ]
    },
    {
     "name": "stdout",
     "output_type": "stream",
     "text": [
      "[CV]  n_estimators=80, criterion=gini, max_depth=14, score=-0.651821 - 1.4min\n",
      "[CV] n_estimators=90, criterion=gini, max_depth=14 ...................\n"
     ]
    },
    {
     "name": "stderr",
     "output_type": "stream",
     "text": [
      "[Parallel(n_jobs=4)]: Done 119 tasks      | elapsed: 31.6min\n"
     ]
    },
    {
     "name": "stdout",
     "output_type": "stream",
     "text": [
      "[CV]  n_estimators=80, criterion=gini, max_depth=14, score=-0.662292 - 1.4min\n",
      "[CV] n_estimators=90, criterion=gini, max_depth=14 ...................\n"
     ]
    },
    {
     "name": "stderr",
     "output_type": "stream",
     "text": [
      "[Parallel(n_jobs=4)]: Done 120 tasks      | elapsed: 31.9min\n"
     ]
    },
    {
     "name": "stdout",
     "output_type": "stream",
     "text": [
      "[CV]  n_estimators=90, criterion=gini, max_depth=14, score=-0.653514 - 1.6min\n",
      "[CV] n_estimators=90, criterion=gini, max_depth=14 ...................\n"
     ]
    },
    {
     "name": "stderr",
     "output_type": "stream",
     "text": [
      "[Parallel(n_jobs=4)]: Done 121 tasks      | elapsed: 32.6min\n"
     ]
    },
    {
     "name": "stdout",
     "output_type": "stream",
     "text": [
      "[CV]  n_estimators=90, criterion=gini, max_depth=14, score=-0.650751 - 1.6min\n",
      "[CV] n_estimators=100, criterion=gini, max_depth=14 ..................\n"
     ]
    },
    {
     "name": "stderr",
     "output_type": "stream",
     "text": [
      "[Parallel(n_jobs=4)]: Done 122 tasks      | elapsed: 32.9min\n"
     ]
    },
    {
     "name": "stdout",
     "output_type": "stream",
     "text": [
      "[CV]  n_estimators=90, criterion=gini, max_depth=14, score=-0.648206 - 1.6min\n",
      "[CV] n_estimators=100, criterion=gini, max_depth=14 ..................\n"
     ]
    },
    {
     "name": "stderr",
     "output_type": "stream",
     "text": [
      "[Parallel(n_jobs=4)]: Done 123 tasks      | elapsed: 33.1min\n"
     ]
    },
    {
     "name": "stdout",
     "output_type": "stream",
     "text": [
      "[CV]  n_estimators=90, criterion=gini, max_depth=14, score=-0.652245 - 1.6min\n",
      "[CV] n_estimators=100, criterion=gini, max_depth=14 ..................\n"
     ]
    },
    {
     "name": "stderr",
     "output_type": "stream",
     "text": [
      "[Parallel(n_jobs=4)]: Done 124 tasks      | elapsed: 33.5min\n"
     ]
    },
    {
     "name": "stdout",
     "output_type": "stream",
     "text": [
      "[CV]  n_estimators=90, criterion=gini, max_depth=14, score=-0.659750 - 1.6min\n",
      "[CV] n_estimators=100, criterion=gini, max_depth=14 ..................\n"
     ]
    },
    {
     "name": "stderr",
     "output_type": "stream",
     "text": [
      "[Parallel(n_jobs=4)]: Done 125 tasks      | elapsed: 34.1min\n"
     ]
    },
    {
     "name": "stdout",
     "output_type": "stream",
     "text": [
      "[CV]  n_estimators=100, criterion=gini, max_depth=14, score=-0.654660 - 1.7min\n",
      "[CV] n_estimators=100, criterion=gini, max_depth=14 ..................\n"
     ]
    },
    {
     "name": "stderr",
     "output_type": "stream",
     "text": [
      "[Parallel(n_jobs=4)]: Done 126 tasks      | elapsed: 34.6min\n"
     ]
    },
    {
     "name": "stdout",
     "output_type": "stream",
     "text": [
      "[CV]  n_estimators=100, criterion=gini, max_depth=14, score=-0.648399 - 1.7min\n",
      "[CV] n_estimators=110, criterion=gini, max_depth=14 ..................\n"
     ]
    },
    {
     "name": "stderr",
     "output_type": "stream",
     "text": [
      "[Parallel(n_jobs=4)]: Done 127 tasks      | elapsed: 34.9min\n"
     ]
    },
    {
     "name": "stdout",
     "output_type": "stream",
     "text": [
      "[CV]  n_estimators=100, criterion=gini, max_depth=14, score=-0.648332 - 1.7min\n",
      "[CV] n_estimators=110, criterion=gini, max_depth=14 ..................\n"
     ]
    },
    {
     "name": "stderr",
     "output_type": "stream",
     "text": [
      "[Parallel(n_jobs=4)]: Done 128 tasks      | elapsed: 35.2min\n"
     ]
    },
    {
     "name": "stdout",
     "output_type": "stream",
     "text": [
      "[CV]  n_estimators=100, criterion=gini, max_depth=14, score=-0.652145 - 1.8min\n",
      "[CV] n_estimators=110, criterion=gini, max_depth=14 ..................\n"
     ]
    },
    {
     "name": "stderr",
     "output_type": "stream",
     "text": [
      "[Parallel(n_jobs=4)]: Done 129 tasks      | elapsed: 35.9min\n"
     ]
    },
    {
     "name": "stdout",
     "output_type": "stream",
     "text": [
      "[CV]  n_estimators=100, criterion=gini, max_depth=14, score=-0.660172 - 1.7min\n",
      "[CV] n_estimators=110, criterion=gini, max_depth=14 ..................\n"
     ]
    },
    {
     "name": "stderr",
     "output_type": "stream",
     "text": [
      "[Parallel(n_jobs=4)]: Done 130 tasks      | elapsed: 36.3min\n"
     ]
    },
    {
     "name": "stdout",
     "output_type": "stream",
     "text": [
      "[CV]  n_estimators=110, criterion=gini, max_depth=14, score=-0.655164 - 1.9min\n",
      "[CV] n_estimators=110, criterion=gini, max_depth=14 ..................\n"
     ]
    },
    {
     "name": "stderr",
     "output_type": "stream",
     "text": [
      "[Parallel(n_jobs=4)]: Done 131 tasks      | elapsed: 36.7min\n"
     ]
    },
    {
     "name": "stdout",
     "output_type": "stream",
     "text": [
      "[CV]  n_estimators=110, criterion=gini, max_depth=14, score=-0.648528 - 1.9min\n",
      "[CV] n_estimators=120, criterion=gini, max_depth=14 ..................\n"
     ]
    },
    {
     "name": "stderr",
     "output_type": "stream",
     "text": [
      "[Parallel(n_jobs=4)]: Done 132 tasks      | elapsed: 37.1min\n"
     ]
    },
    {
     "name": "stdout",
     "output_type": "stream",
     "text": [
      "[CV]  n_estimators=110, criterion=gini, max_depth=14, score=-0.650131 - 1.9min\n",
      "[CV] n_estimators=120, criterion=gini, max_depth=14 ..................\n"
     ]
    },
    {
     "name": "stderr",
     "output_type": "stream",
     "text": [
      "[Parallel(n_jobs=4)]: Done 133 tasks      | elapsed: 37.8min\n"
     ]
    },
    {
     "name": "stdout",
     "output_type": "stream",
     "text": [
      "[CV]  n_estimators=110, criterion=gini, max_depth=14, score=-0.653528 - 1.9min\n",
      "[CV] n_estimators=120, criterion=gini, max_depth=14 ..................\n"
     ]
    },
    {
     "name": "stderr",
     "output_type": "stream",
     "text": [
      "[Parallel(n_jobs=4)]: Done 134 tasks      | elapsed: 38.2min\n"
     ]
    },
    {
     "name": "stdout",
     "output_type": "stream",
     "text": [
      "[CV]  n_estimators=110, criterion=gini, max_depth=14, score=-0.661845 - 1.9min\n",
      "[CV] n_estimators=120, criterion=gini, max_depth=14 ..................\n"
     ]
    },
    {
     "name": "stderr",
     "output_type": "stream",
     "text": [
      "[Parallel(n_jobs=4)]: Done 135 tasks      | elapsed: 38.7min\n"
     ]
    },
    {
     "name": "stdout",
     "output_type": "stream",
     "text": [
      "[CV]  n_estimators=120, criterion=gini, max_depth=14, score=-0.651152 - 2.1min\n",
      "[CV] n_estimators=120, criterion=gini, max_depth=14 ..................\n"
     ]
    },
    {
     "name": "stderr",
     "output_type": "stream",
     "text": [
      "[Parallel(n_jobs=4)]: Done 136 tasks      | elapsed: 39.2min\n"
     ]
    },
    {
     "name": "stdout",
     "output_type": "stream",
     "text": [
      "[CV]  n_estimators=120, criterion=gini, max_depth=14, score=-0.650505 - 2.1min\n",
      "[CV] n_estimators=130, criterion=gini, max_depth=14 ..................\n"
     ]
    },
    {
     "name": "stderr",
     "output_type": "stream",
     "text": [
      "[Parallel(n_jobs=4)]: Done 137 tasks      | elapsed: 39.9min\n"
     ]
    },
    {
     "name": "stdout",
     "output_type": "stream",
     "text": [
      "[CV]  n_estimators=120, criterion=gini, max_depth=14, score=-0.650714 - 2.1min\n",
      "[CV] n_estimators=130, criterion=gini, max_depth=14 ..................\n"
     ]
    },
    {
     "name": "stderr",
     "output_type": "stream",
     "text": [
      "[Parallel(n_jobs=4)]: Done 138 tasks      | elapsed: 40.3min\n"
     ]
    },
    {
     "name": "stdout",
     "output_type": "stream",
     "text": [
      "[CV]  n_estimators=120, criterion=gini, max_depth=14, score=-0.653035 - 2.1min\n",
      "[CV] n_estimators=130, criterion=gini, max_depth=14 ..................\n"
     ]
    },
    {
     "name": "stderr",
     "output_type": "stream",
     "text": [
      "[Parallel(n_jobs=4)]: Done 139 tasks      | elapsed: 40.7min\n"
     ]
    },
    {
     "name": "stdout",
     "output_type": "stream",
     "text": [
      "[CV]  n_estimators=120, criterion=gini, max_depth=14, score=-0.661489 - 2.1min\n",
      "[CV] n_estimators=130, criterion=gini, max_depth=14 ..................\n"
     ]
    },
    {
     "name": "stderr",
     "output_type": "stream",
     "text": [
      "[Parallel(n_jobs=4)]: Done 140 tasks      | elapsed: 41.3min\n"
     ]
    },
    {
     "name": "stdout",
     "output_type": "stream",
     "text": [
      "[CV]  n_estimators=130, criterion=gini, max_depth=14, score=-0.651495 - 2.2min\n",
      "[CV] n_estimators=130, criterion=gini, max_depth=14 ..................\n"
     ]
    },
    {
     "name": "stderr",
     "output_type": "stream",
     "text": [
      "[Parallel(n_jobs=4)]: Done 141 tasks      | elapsed: 42.1min\n"
     ]
    },
    {
     "name": "stdout",
     "output_type": "stream",
     "text": [
      "[CV]  n_estimators=130, criterion=gini, max_depth=14, score=-0.651504 - 2.2min\n",
      "[CV] n_estimators=140, criterion=gini, max_depth=14 ..................\n"
     ]
    },
    {
     "name": "stderr",
     "output_type": "stream",
     "text": [
      "[Parallel(n_jobs=4)]: Done 142 tasks      | elapsed: 42.5min\n"
     ]
    },
    {
     "name": "stdout",
     "output_type": "stream",
     "text": [
      "[CV]  n_estimators=130, criterion=gini, max_depth=14, score=-0.650448 - 2.2min\n",
      "[CV] n_estimators=140, criterion=gini, max_depth=14 ..................\n"
     ]
    },
    {
     "name": "stderr",
     "output_type": "stream",
     "text": [
      "[Parallel(n_jobs=4)]: Done 143 tasks      | elapsed: 43.0min\n"
     ]
    },
    {
     "name": "stdout",
     "output_type": "stream",
     "text": [
      "[CV]  n_estimators=130, criterion=gini, max_depth=14, score=-0.653735 - 2.2min\n",
      "[CV] n_estimators=140, criterion=gini, max_depth=14 ..................\n"
     ]
    },
    {
     "name": "stderr",
     "output_type": "stream",
     "text": [
      "[Parallel(n_jobs=4)]: Done 144 tasks      | elapsed: 43.5min\n"
     ]
    },
    {
     "name": "stdout",
     "output_type": "stream",
     "text": [
      "[CV]  n_estimators=130, criterion=gini, max_depth=14, score=-0.661051 - 2.3min\n",
      "[CV] n_estimators=140, criterion=gini, max_depth=14 ..................\n"
     ]
    },
    {
     "name": "stderr",
     "output_type": "stream",
     "text": [
      "[Parallel(n_jobs=4)]: Done 145 tasks      | elapsed: 44.4min\n"
     ]
    },
    {
     "name": "stdout",
     "output_type": "stream",
     "text": [
      "[CV]  n_estimators=140, criterion=gini, max_depth=14, score=-0.651643 - 2.4min\n",
      "[CV] n_estimators=140, criterion=gini, max_depth=14 ..................\n"
     ]
    },
    {
     "name": "stderr",
     "output_type": "stream",
     "text": [
      "[Parallel(n_jobs=4)]: Done 146 tasks      | elapsed: 45.0min\n"
     ]
    },
    {
     "name": "stdout",
     "output_type": "stream",
     "text": [
      "[CV]  n_estimators=140, criterion=gini, max_depth=14, score=-0.647481 - 2.4min\n",
      "[CV] n_estimators=50, criterion=gini, max_depth=16 ...................\n"
     ]
    },
    {
     "name": "stderr",
     "output_type": "stream",
     "text": [
      "[Parallel(n_jobs=4)]: Done 147 tasks      | elapsed: 45.4min\n"
     ]
    },
    {
     "name": "stdout",
     "output_type": "stream",
     "text": [
      "[CV]  n_estimators=140, criterion=gini, max_depth=14, score=-0.649208 - 2.4min\n",
      "[CV] n_estimators=50, criterion=gini, max_depth=16 ...................\n"
     ]
    },
    {
     "name": "stderr",
     "output_type": "stream",
     "text": [
      "[Parallel(n_jobs=4)]: Done 148 tasks      | elapsed: 46.0min\n"
     ]
    },
    {
     "name": "stdout",
     "output_type": "stream",
     "text": [
      "[CV]  n_estimators=50, criterion=gini, max_depth=16, score=-0.648815 - 1.1min\n",
      "[CV] n_estimators=50, criterion=gini, max_depth=16 ...................\n"
     ]
    },
    {
     "name": "stderr",
     "output_type": "stream",
     "text": [
      "[Parallel(n_jobs=4)]: Done 149 tasks      | elapsed: 46.5min\n"
     ]
    },
    {
     "name": "stdout",
     "output_type": "stream",
     "text": [
      "[CV]  n_estimators=140, criterion=gini, max_depth=14, score=-0.651888 - 2.4min\n",
      "[CV] n_estimators=50, criterion=gini, max_depth=16 ...................\n"
     ]
    },
    {
     "name": "stderr",
     "output_type": "stream",
     "text": [
      "[Parallel(n_jobs=4)]: Done 150 tasks      | elapsed: 46.8min\n"
     ]
    },
    {
     "name": "stdout",
     "output_type": "stream",
     "text": [
      "[CV]  n_estimators=50, criterion=gini, max_depth=16, score=-0.646564 - 1.1min\n",
      "[CV] n_estimators=50, criterion=gini, max_depth=16 ...................\n"
     ]
    },
    {
     "name": "stderr",
     "output_type": "stream",
     "text": [
      "[Parallel(n_jobs=4)]: Done 151 tasks      | elapsed: 47.1min\n"
     ]
    },
    {
     "name": "stdout",
     "output_type": "stream",
     "text": [
      "[CV]  n_estimators=140, criterion=gini, max_depth=14, score=-0.659796 - 2.4min\n",
      "[CV] n_estimators=60, criterion=gini, max_depth=16 ...................\n"
     ]
    },
    {
     "name": "stderr",
     "output_type": "stream",
     "text": [
      "[Parallel(n_jobs=4)]: Done 152 tasks      | elapsed: 47.4min\n"
     ]
    },
    {
     "name": "stdout",
     "output_type": "stream",
     "text": [
      "[CV]  n_estimators=50, criterion=gini, max_depth=16, score=-0.647657 - 1.1min\n",
      "[CV] n_estimators=60, criterion=gini, max_depth=16 ...................\n"
     ]
    },
    {
     "name": "stderr",
     "output_type": "stream",
     "text": [
      "[Parallel(n_jobs=4)]: Done 153 tasks      | elapsed: 47.6min\n"
     ]
    },
    {
     "name": "stdout",
     "output_type": "stream",
     "text": [
      "[CV]  n_estimators=50, criterion=gini, max_depth=16, score=-0.648705 - 1.1min\n",
      "[CV] n_estimators=60, criterion=gini, max_depth=16 ...................\n"
     ]
    },
    {
     "name": "stderr",
     "output_type": "stream",
     "text": [
      "[Parallel(n_jobs=4)]: Done 154 tasks      | elapsed: 48.0min\n"
     ]
    },
    {
     "name": "stdout",
     "output_type": "stream",
     "text": [
      "[CV]  n_estimators=50, criterion=gini, max_depth=16, score=-0.660365 - 1.1min\n",
      "[CV] n_estimators=60, criterion=gini, max_depth=16 ...................\n"
     ]
    },
    {
     "name": "stderr",
     "output_type": "stream",
     "text": [
      "[Parallel(n_jobs=4)]: Done 155 tasks      | elapsed: 48.2min\n"
     ]
    },
    {
     "name": "stdout",
     "output_type": "stream",
     "text": [
      "[CV]  n_estimators=60, criterion=gini, max_depth=16, score=-0.649794 - 1.3min\n",
      "[CV] n_estimators=60, criterion=gini, max_depth=16 ...................\n"
     ]
    },
    {
     "name": "stderr",
     "output_type": "stream",
     "text": [
      "[Parallel(n_jobs=4)]: Done 156 tasks      | elapsed: 48.8min\n"
     ]
    },
    {
     "name": "stdout",
     "output_type": "stream",
     "text": [
      "[CV]  n_estimators=60, criterion=gini, max_depth=16, score=-0.645637 - 1.3min\n",
      "[CV] n_estimators=70, criterion=gini, max_depth=16 ...................\n"
     ]
    },
    {
     "name": "stderr",
     "output_type": "stream",
     "text": [
      "[Parallel(n_jobs=4)]: Done 157 tasks      | elapsed: 49.0min\n"
     ]
    },
    {
     "name": "stdout",
     "output_type": "stream",
     "text": [
      "[CV]  n_estimators=60, criterion=gini, max_depth=16, score=-0.646454 - 1.4min\n",
      "[CV] n_estimators=70, criterion=gini, max_depth=16 ...................\n"
     ]
    },
    {
     "name": "stderr",
     "output_type": "stream",
     "text": [
      "[Parallel(n_jobs=4)]: Done 158 tasks      | elapsed: 49.3min\n"
     ]
    },
    {
     "name": "stdout",
     "output_type": "stream",
     "text": [
      "[CV]  n_estimators=60, criterion=gini, max_depth=16, score=-0.648020 - 1.4min\n",
      "[CV] n_estimators=70, criterion=gini, max_depth=16 ...................\n"
     ]
    },
    {
     "name": "stderr",
     "output_type": "stream",
     "text": [
      "[Parallel(n_jobs=4)]: Done 159 tasks      | elapsed: 49.6min\n"
     ]
    },
    {
     "name": "stdout",
     "output_type": "stream",
     "text": [
      "[CV]  n_estimators=60, criterion=gini, max_depth=16, score=-0.657451 - 1.4min\n",
      "[CV] n_estimators=70, criterion=gini, max_depth=16 ...................\n"
     ]
    },
    {
     "name": "stderr",
     "output_type": "stream",
     "text": [
      "[Parallel(n_jobs=4)]: Done 160 tasks      | elapsed: 50.1min\n"
     ]
    },
    {
     "name": "stdout",
     "output_type": "stream",
     "text": [
      "[CV]  n_estimators=70, criterion=gini, max_depth=16, score=-0.649035 - 1.6min\n",
      "[CV] n_estimators=70, criterion=gini, max_depth=16 ...................\n"
     ]
    },
    {
     "name": "stderr",
     "output_type": "stream",
     "text": [
      "[Parallel(n_jobs=4)]: Done 161 tasks      | elapsed: 50.6min\n"
     ]
    },
    {
     "name": "stdout",
     "output_type": "stream",
     "text": [
      "[CV]  n_estimators=70, criterion=gini, max_depth=16, score=-0.643257 - 1.6min\n",
      "[CV] n_estimators=80, criterion=gini, max_depth=16 ...................\n"
     ]
    },
    {
     "name": "stderr",
     "output_type": "stream",
     "text": [
      "[Parallel(n_jobs=4)]: Done 162 tasks      | elapsed: 50.9min\n"
     ]
    },
    {
     "name": "stdout",
     "output_type": "stream",
     "text": [
      "[CV]  n_estimators=70, criterion=gini, max_depth=16, score=-0.644829 - 1.6min\n",
      "[CV] n_estimators=80, criterion=gini, max_depth=16 ...................\n"
     ]
    },
    {
     "name": "stderr",
     "output_type": "stream",
     "text": [
      "[Parallel(n_jobs=4)]: Done 163 tasks      | elapsed: 51.1min\n"
     ]
    },
    {
     "name": "stdout",
     "output_type": "stream",
     "text": [
      "[CV]  n_estimators=70, criterion=gini, max_depth=16, score=-0.646874 - 1.6min\n",
      "[CV] n_estimators=80, criterion=gini, max_depth=16 ...................\n"
     ]
    },
    {
     "name": "stderr",
     "output_type": "stream",
     "text": [
      "[Parallel(n_jobs=4)]: Done 164 tasks      | elapsed: 51.7min\n"
     ]
    },
    {
     "name": "stdout",
     "output_type": "stream",
     "text": [
      "[CV]  n_estimators=70, criterion=gini, max_depth=16, score=-0.656537 - 1.6min\n",
      "[CV] n_estimators=80, criterion=gini, max_depth=16 ...................\n"
     ]
    },
    {
     "name": "stderr",
     "output_type": "stream",
     "text": [
      "[Parallel(n_jobs=4)]: Done 165 tasks      | elapsed: 52.1min\n"
     ]
    },
    {
     "name": "stdout",
     "output_type": "stream",
     "text": [
      "[CV]  n_estimators=80, criterion=gini, max_depth=16, score=-0.650096 - 1.8min\n",
      "[CV] n_estimators=80, criterion=gini, max_depth=16 ...................\n"
     ]
    },
    {
     "name": "stderr",
     "output_type": "stream",
     "text": [
      "[Parallel(n_jobs=4)]: Done 166 tasks      | elapsed: 52.7min\n"
     ]
    },
    {
     "name": "stdout",
     "output_type": "stream",
     "text": [
      "[CV]  n_estimators=80, criterion=gini, max_depth=16, score=-0.643445 - 1.8min\n",
      "[CV] n_estimators=90, criterion=gini, max_depth=16 ...................\n"
     ]
    },
    {
     "name": "stderr",
     "output_type": "stream",
     "text": [
      "[Parallel(n_jobs=4)]: Done 167 tasks      | elapsed: 52.9min\n"
     ]
    },
    {
     "name": "stdout",
     "output_type": "stream",
     "text": [
      "[CV]  n_estimators=80, criterion=gini, max_depth=16, score=-0.646152 - 1.8min\n",
      "[CV] n_estimators=90, criterion=gini, max_depth=16 ...................\n"
     ]
    },
    {
     "name": "stderr",
     "output_type": "stream",
     "text": [
      "[Parallel(n_jobs=4)]: Done 168 tasks      | elapsed: 53.5min\n"
     ]
    },
    {
     "name": "stdout",
     "output_type": "stream",
     "text": [
      "[CV]  n_estimators=80, criterion=gini, max_depth=16, score=-0.647273 - 1.8min\n",
      "[CV] n_estimators=90, criterion=gini, max_depth=16 ...................\n"
     ]
    },
    {
     "name": "stderr",
     "output_type": "stream",
     "text": [
      "[Parallel(n_jobs=4)]: Done 169 tasks      | elapsed: 53.9min\n"
     ]
    },
    {
     "name": "stdout",
     "output_type": "stream",
     "text": [
      "[CV]  n_estimators=80, criterion=gini, max_depth=16, score=-0.655550 - 1.8min\n",
      "[CV] n_estimators=90, criterion=gini, max_depth=16 ...................\n"
     ]
    },
    {
     "name": "stderr",
     "output_type": "stream",
     "text": [
      "[Parallel(n_jobs=4)]: Done 170 tasks      | elapsed: 54.4min\n"
     ]
    },
    {
     "name": "stdout",
     "output_type": "stream",
     "text": [
      "[CV]  n_estimators=90, criterion=gini, max_depth=16, score=-0.649905 - 2.0min\n",
      "[CV] n_estimators=90, criterion=gini, max_depth=16 ...................\n"
     ]
    },
    {
     "name": "stderr",
     "output_type": "stream",
     "text": [
      "[Parallel(n_jobs=4)]: Done 171 tasks      | elapsed: 54.9min\n"
     ]
    },
    {
     "name": "stdout",
     "output_type": "stream",
     "text": [
      "[CV]  n_estimators=90, criterion=gini, max_depth=16, score=-0.644890 - 2.0min\n",
      "[CV] n_estimators=100, criterion=gini, max_depth=16 ..................\n"
     ]
    },
    {
     "name": "stderr",
     "output_type": "stream",
     "text": [
      "[Parallel(n_jobs=4)]: Done 172 tasks      | elapsed: 55.5min\n"
     ]
    },
    {
     "name": "stdout",
     "output_type": "stream",
     "text": [
      "[CV]  n_estimators=90, criterion=gini, max_depth=16, score=-0.641646 - 2.0min\n",
      "[CV] n_estimators=100, criterion=gini, max_depth=16 ..................\n"
     ]
    },
    {
     "name": "stderr",
     "output_type": "stream",
     "text": [
      "[Parallel(n_jobs=4)]: Done 173 tasks      | elapsed: 55.9min\n"
     ]
    },
    {
     "name": "stdout",
     "output_type": "stream",
     "text": [
      "[CV]  n_estimators=90, criterion=gini, max_depth=16, score=-0.648594 - 2.0min\n",
      "[CV] n_estimators=100, criterion=gini, max_depth=16 ..................\n"
     ]
    },
    {
     "name": "stderr",
     "output_type": "stream",
     "text": [
      "[Parallel(n_jobs=4)]: Done 174 tasks      | elapsed: 56.5min\n"
     ]
    },
    {
     "name": "stdout",
     "output_type": "stream",
     "text": [
      "[CV]  n_estimators=90, criterion=gini, max_depth=16, score=-0.654695 - 2.0min\n",
      "[CV] n_estimators=100, criterion=gini, max_depth=16 ..................\n"
     ]
    },
    {
     "name": "stderr",
     "output_type": "stream",
     "text": [
      "[Parallel(n_jobs=4)]: Done 175 tasks      | elapsed: 57.0min\n"
     ]
    },
    {
     "name": "stdout",
     "output_type": "stream",
     "text": [
      "[CV]  n_estimators=100, criterion=gini, max_depth=16, score=-0.646987 - 2.2min\n",
      "[CV] n_estimators=100, criterion=gini, max_depth=16 ..................\n"
     ]
    },
    {
     "name": "stderr",
     "output_type": "stream",
     "text": [
      "[Parallel(n_jobs=4)]: Done 176 tasks      | elapsed: 57.7min\n"
     ]
    },
    {
     "name": "stdout",
     "output_type": "stream",
     "text": [
      "[CV]  n_estimators=100, criterion=gini, max_depth=16, score=-0.645597 - 2.2min\n",
      "[CV] n_estimators=110, criterion=gini, max_depth=16 ..................\n"
     ]
    },
    {
     "name": "stderr",
     "output_type": "stream",
     "text": [
      "[Parallel(n_jobs=4)]: Done 177 tasks      | elapsed: 58.1min\n"
     ]
    },
    {
     "name": "stdout",
     "output_type": "stream",
     "text": [
      "[CV]  n_estimators=100, criterion=gini, max_depth=16, score=-0.644902 - 2.2min\n",
      "[CV] n_estimators=110, criterion=gini, max_depth=16 ..................\n"
     ]
    },
    {
     "name": "stderr",
     "output_type": "stream",
     "text": [
      "[Parallel(n_jobs=4)]: Done 178 tasks      | elapsed: 58.7min\n"
     ]
    },
    {
     "name": "stdout",
     "output_type": "stream",
     "text": [
      "[CV]  n_estimators=100, criterion=gini, max_depth=16, score=-0.645908 - 2.2min\n",
      "[CV] n_estimators=110, criterion=gini, max_depth=16 ..................\n"
     ]
    },
    {
     "name": "stderr",
     "output_type": "stream",
     "text": [
      "[Parallel(n_jobs=4)]: Done 179 tasks      | elapsed: 59.2min\n"
     ]
    },
    {
     "name": "stdout",
     "output_type": "stream",
     "text": [
      "[CV]  n_estimators=100, criterion=gini, max_depth=16, score=-0.656413 - 2.2min\n",
      "[CV] n_estimators=110, criterion=gini, max_depth=16 ..................\n"
     ]
    },
    {
     "name": "stderr",
     "output_type": "stream",
     "text": [
      "[Parallel(n_jobs=4)]: Done 180 tasks      | elapsed: 60.0min\n"
     ]
    },
    {
     "name": "stdout",
     "output_type": "stream",
     "text": [
      "[CV]  n_estimators=110, criterion=gini, max_depth=16, score=-0.647529 - 2.4min\n",
      "[CV] n_estimators=110, criterion=gini, max_depth=16 ..................\n"
     ]
    },
    {
     "name": "stderr",
     "output_type": "stream",
     "text": [
      "[Parallel(n_jobs=4)]: Done 181 tasks      | elapsed: 60.6min\n"
     ]
    },
    {
     "name": "stdout",
     "output_type": "stream",
     "text": [
      "[CV]  n_estimators=110, criterion=gini, max_depth=16, score=-0.643226 - 2.5min\n",
      "[CV] n_estimators=120, criterion=gini, max_depth=16 ..................\n"
     ]
    },
    {
     "name": "stderr",
     "output_type": "stream",
     "text": [
      "[Parallel(n_jobs=4)]: Done 182 tasks      | elapsed: 61.2min\n"
     ]
    },
    {
     "name": "stdout",
     "output_type": "stream",
     "text": [
      "[CV]  n_estimators=110, criterion=gini, max_depth=16, score=-0.643406 - 2.5min\n",
      "[CV] n_estimators=120, criterion=gini, max_depth=16 ..................\n"
     ]
    },
    {
     "name": "stderr",
     "output_type": "stream",
     "text": [
      "[Parallel(n_jobs=4)]: Done 183 tasks      | elapsed: 61.7min\n"
     ]
    },
    {
     "name": "stdout",
     "output_type": "stream",
     "text": [
      "[CV]  n_estimators=110, criterion=gini, max_depth=16, score=-0.646900 - 2.4min\n",
      "[CV] n_estimators=120, criterion=gini, max_depth=16 ..................\n"
     ]
    },
    {
     "name": "stderr",
     "output_type": "stream",
     "text": [
      "[Parallel(n_jobs=4)]: Done 184 tasks      | elapsed: 62.4min\n"
     ]
    },
    {
     "name": "stdout",
     "output_type": "stream",
     "text": [
      "[CV]  n_estimators=110, criterion=gini, max_depth=16, score=-0.655010 - 2.5min\n",
      "[CV] n_estimators=120, criterion=gini, max_depth=16 ..................\n"
     ]
    },
    {
     "name": "stderr",
     "output_type": "stream",
     "text": [
      "[Parallel(n_jobs=4)]: Done 185 tasks      | elapsed: 63.1min\n"
     ]
    },
    {
     "name": "stdout",
     "output_type": "stream",
     "text": [
      "[CV]  n_estimators=120, criterion=gini, max_depth=16, score=-0.646202 - 2.7min\n",
      "[CV] n_estimators=120, criterion=gini, max_depth=16 ..................\n"
     ]
    },
    {
     "name": "stderr",
     "output_type": "stream",
     "text": [
      "[Parallel(n_jobs=4)]: Done 186 tasks      | elapsed: 63.9min\n"
     ]
    },
    {
     "name": "stdout",
     "output_type": "stream",
     "text": [
      "[CV]  n_estimators=120, criterion=gini, max_depth=16, score=-0.643859 - 2.7min\n",
      "[CV] n_estimators=130, criterion=gini, max_depth=16 ..................\n"
     ]
    },
    {
     "name": "stderr",
     "output_type": "stream",
     "text": [
      "[Parallel(n_jobs=4)]: Done 187 tasks      | elapsed: 64.3min\n"
     ]
    },
    {
     "name": "stdout",
     "output_type": "stream",
     "text": [
      "[CV]  n_estimators=120, criterion=gini, max_depth=16, score=-0.643387 - 2.7min\n",
      "[CV] n_estimators=130, criterion=gini, max_depth=16 ..................\n"
     ]
    },
    {
     "name": "stderr",
     "output_type": "stream",
     "text": [
      "[Parallel(n_jobs=4)]: Done 188 tasks      | elapsed: 65.1min\n"
     ]
    },
    {
     "name": "stdout",
     "output_type": "stream",
     "text": [
      "[CV]  n_estimators=120, criterion=gini, max_depth=16, score=-0.644691 - 2.7min\n",
      "[CV] n_estimators=130, criterion=gini, max_depth=16 ..................\n"
     ]
    },
    {
     "name": "stderr",
     "output_type": "stream",
     "text": [
      "[Parallel(n_jobs=4)]: Done 189 tasks      | elapsed: 65.7min\n"
     ]
    },
    {
     "name": "stdout",
     "output_type": "stream",
     "text": [
      "[CV]  n_estimators=120, criterion=gini, max_depth=16, score=-0.655785 - 2.7min\n",
      "[CV] n_estimators=130, criterion=gini, max_depth=16 ..................\n"
     ]
    },
    {
     "name": "stderr",
     "output_type": "stream",
     "text": [
      "[Parallel(n_jobs=4)]: Done 190 tasks      | elapsed: 66.5min\n"
     ]
    },
    {
     "name": "stdout",
     "output_type": "stream",
     "text": [
      "[CV]  n_estimators=130, criterion=gini, max_depth=16, score=-0.645057 - 2.9min\n",
      "[CV] n_estimators=130, criterion=gini, max_depth=16 ..................\n"
     ]
    },
    {
     "name": "stderr",
     "output_type": "stream",
     "text": [
      "[Parallel(n_jobs=4)]: Done 191 tasks      | elapsed: 67.2min\n"
     ]
    },
    {
     "name": "stdout",
     "output_type": "stream",
     "text": [
      "[CV]  n_estimators=130, criterion=gini, max_depth=16, score=-0.640664 - 2.9min\n",
      "[CV] n_estimators=140, criterion=gini, max_depth=16 ..................\n"
     ]
    },
    {
     "name": "stderr",
     "output_type": "stream",
     "text": [
      "[Parallel(n_jobs=4)]: Done 192 tasks      | elapsed: 68.0min\n"
     ]
    },
    {
     "name": "stdout",
     "output_type": "stream",
     "text": [
      "[CV]  n_estimators=130, criterion=gini, max_depth=16, score=-0.641022 - 2.9min\n",
      "[CV] n_estimators=140, criterion=gini, max_depth=16 ..................\n"
     ]
    },
    {
     "name": "stderr",
     "output_type": "stream",
     "text": [
      "[Parallel(n_jobs=4)]: Done 193 tasks      | elapsed: 68.7min\n"
     ]
    },
    {
     "name": "stdout",
     "output_type": "stream",
     "text": [
      "[CV]  n_estimators=130, criterion=gini, max_depth=16, score=-0.647203 - 2.9min\n",
      "[CV] n_estimators=140, criterion=gini, max_depth=16 ..................\n"
     ]
    },
    {
     "name": "stderr",
     "output_type": "stream",
     "text": [
      "[Parallel(n_jobs=4)]: Done 194 tasks      | elapsed: 69.4min\n"
     ]
    },
    {
     "name": "stdout",
     "output_type": "stream",
     "text": [
      "[CV]  n_estimators=130, criterion=gini, max_depth=16, score=-0.654635 - 2.9min\n",
      "[CV] n_estimators=140, criterion=gini, max_depth=16 ..................\n"
     ]
    },
    {
     "name": "stderr",
     "output_type": "stream",
     "text": [
      "[Parallel(n_jobs=4)]: Done 195 tasks      | elapsed: 70.2min\n"
     ]
    },
    {
     "name": "stdout",
     "output_type": "stream",
     "text": [
      "[CV]  n_estimators=140, criterion=gini, max_depth=16, score=-0.648246 - 3.1min\n",
      "[CV] n_estimators=140, criterion=gini, max_depth=16 ..................\n"
     ]
    },
    {
     "name": "stderr",
     "output_type": "stream",
     "text": [
      "[Parallel(n_jobs=4)]: Done 196 tasks      | elapsed: 71.1min\n"
     ]
    },
    {
     "name": "stdout",
     "output_type": "stream",
     "text": [
      "[CV]  n_estimators=140, criterion=gini, max_depth=16, score=-0.643066 - 3.1min\n",
      "[CV] n_estimators=50, criterion=gini, max_depth=18 ...................\n"
     ]
    },
    {
     "name": "stderr",
     "output_type": "stream",
     "text": [
      "[Parallel(n_jobs=4)]: Done 197 tasks      | elapsed: 71.8min\n"
     ]
    },
    {
     "name": "stdout",
     "output_type": "stream",
     "text": [
      "[CV]  n_estimators=140, criterion=gini, max_depth=16, score=-0.644497 - 3.1min\n",
      "[CV] n_estimators=50, criterion=gini, max_depth=18 ...................\n"
     ]
    },
    {
     "name": "stderr",
     "output_type": "stream",
     "text": [
      "[Parallel(n_jobs=4)]: Done 198 tasks      | elapsed: 72.6min\n"
     ]
    },
    {
     "name": "stdout",
     "output_type": "stream",
     "text": [
      "[CV]  n_estimators=50, criterion=gini, max_depth=18, score=-0.650594 - 1.4min\n",
      "[CV] n_estimators=50, criterion=gini, max_depth=18 ...................\n"
     ]
    },
    {
     "name": "stderr",
     "output_type": "stream",
     "text": [
      "[Parallel(n_jobs=4)]: Done 199 tasks      | elapsed: 73.1min\n"
     ]
    },
    {
     "name": "stdout",
     "output_type": "stream",
     "text": [
      "[CV]  n_estimators=140, criterion=gini, max_depth=16, score=-0.647184 - 3.1min\n",
      "[CV] n_estimators=50, criterion=gini, max_depth=18 ...................\n"
     ]
    },
    {
     "name": "stderr",
     "output_type": "stream",
     "text": [
      "[Parallel(n_jobs=4)]: Done 200 tasks      | elapsed: 73.3min\n"
     ]
    },
    {
     "name": "stdout",
     "output_type": "stream",
     "text": [
      "[CV]  n_estimators=50, criterion=gini, max_depth=18, score=-0.649361 - 1.3min\n",
      "[CV] n_estimators=50, criterion=gini, max_depth=18 ...................\n"
     ]
    },
    {
     "name": "stderr",
     "output_type": "stream",
     "text": [
      "[Parallel(n_jobs=4)]: Done 201 tasks      | elapsed: 73.9min\n"
     ]
    },
    {
     "name": "stdout",
     "output_type": "stream",
     "text": [
      "[CV]  n_estimators=140, criterion=gini, max_depth=16, score=-0.654241 - 3.1min\n",
      "[CV] n_estimators=60, criterion=gini, max_depth=18 ...................\n"
     ]
    },
    {
     "name": "stderr",
     "output_type": "stream",
     "text": [
      "[Parallel(n_jobs=4)]: Done 202 tasks      | elapsed: 74.3min\n"
     ]
    },
    {
     "name": "stdout",
     "output_type": "stream",
     "text": [
      "[CV]  n_estimators=50, criterion=gini, max_depth=18, score=-0.645839 - 1.4min\n",
      "[CV] n_estimators=60, criterion=gini, max_depth=18 ...................\n"
     ]
    },
    {
     "name": "stderr",
     "output_type": "stream",
     "text": [
      "[Parallel(n_jobs=4)]: Done 203 tasks      | elapsed: 74.5min\n"
     ]
    },
    {
     "name": "stdout",
     "output_type": "stream",
     "text": [
      "[CV]  n_estimators=50, criterion=gini, max_depth=18, score=-0.645155 - 1.4min\n",
      "[CV] n_estimators=60, criterion=gini, max_depth=18 ...................\n"
     ]
    },
    {
     "name": "stderr",
     "output_type": "stream",
     "text": [
      "[Parallel(n_jobs=4)]: Done 204 tasks      | elapsed: 74.7min\n"
     ]
    },
    {
     "name": "stdout",
     "output_type": "stream",
     "text": [
      "[CV]  n_estimators=50, criterion=gini, max_depth=18, score=-0.657325 - 1.4min\n",
      "[CV] n_estimators=60, criterion=gini, max_depth=18 ...................\n"
     ]
    },
    {
     "name": "stderr",
     "output_type": "stream",
     "text": [
      "[Parallel(n_jobs=4)]: Done 205 tasks      | elapsed: 75.3min\n"
     ]
    },
    {
     "name": "stdout",
     "output_type": "stream",
     "text": [
      "[CV]  n_estimators=60, criterion=gini, max_depth=18, score=-0.647913 - 1.6min\n",
      "[CV] n_estimators=60, criterion=gini, max_depth=18 ...................\n"
     ]
    },
    {
     "name": "stderr",
     "output_type": "stream",
     "text": [
      "[Parallel(n_jobs=4)]: Done 206 tasks      | elapsed: 75.9min\n"
     ]
    },
    {
     "name": "stdout",
     "output_type": "stream",
     "text": [
      "[CV]  n_estimators=60, criterion=gini, max_depth=18, score=-0.643725 - 1.6min\n",
      "[CV] n_estimators=70, criterion=gini, max_depth=18 ...................\n"
     ]
    },
    {
     "name": "stderr",
     "output_type": "stream",
     "text": [
      "[Parallel(n_jobs=4)]: Done 207 tasks      | elapsed: 76.2min\n"
     ]
    },
    {
     "name": "stdout",
     "output_type": "stream",
     "text": [
      "[CV]  n_estimators=60, criterion=gini, max_depth=18, score=-0.643969 - 1.7min\n",
      "[CV] n_estimators=70, criterion=gini, max_depth=18 ...................\n"
     ]
    },
    {
     "name": "stderr",
     "output_type": "stream",
     "text": [
      "[Parallel(n_jobs=4)]: Done 208 tasks      | elapsed: 76.3min\n"
     ]
    },
    {
     "name": "stdout",
     "output_type": "stream",
     "text": [
      "[CV]  n_estimators=60, criterion=gini, max_depth=18, score=-0.650921 - 1.7min\n",
      "[CV] n_estimators=70, criterion=gini, max_depth=18 ...................\n"
     ]
    },
    {
     "name": "stderr",
     "output_type": "stream",
     "text": [
      "[Parallel(n_jobs=4)]: Done 209 tasks      | elapsed: 77.0min\n"
     ]
    },
    {
     "name": "stdout",
     "output_type": "stream",
     "text": [
      "[CV]  n_estimators=60, criterion=gini, max_depth=18, score=-0.655992 - 1.7min\n",
      "[CV] n_estimators=70, criterion=gini, max_depth=18 ...................\n"
     ]
    },
    {
     "name": "stderr",
     "output_type": "stream",
     "text": [
      "[Parallel(n_jobs=4)]: Done 210 tasks      | elapsed: 77.6min\n"
     ]
    },
    {
     "name": "stdout",
     "output_type": "stream",
     "text": [
      "[CV]  n_estimators=70, criterion=gini, max_depth=18, score=-0.645522 - 1.9min\n",
      "[CV] n_estimators=70, criterion=gini, max_depth=18 ...................\n"
     ]
    },
    {
     "name": "stderr",
     "output_type": "stream",
     "text": [
      "[Parallel(n_jobs=4)]: Done 211 tasks      | elapsed: 78.1min\n"
     ]
    },
    {
     "name": "stdout",
     "output_type": "stream",
     "text": [
      "[CV]  n_estimators=70, criterion=gini, max_depth=18, score=-0.640202 - 1.9min\n",
      "[CV] n_estimators=80, criterion=gini, max_depth=18 ...................\n"
     ]
    },
    {
     "name": "stderr",
     "output_type": "stream",
     "text": [
      "[Parallel(n_jobs=4)]: Done 212 tasks      | elapsed: 78.2min\n"
     ]
    },
    {
     "name": "stdout",
     "output_type": "stream",
     "text": [
      "[CV]  n_estimators=70, criterion=gini, max_depth=18, score=-0.644541 - 1.9min\n",
      "[CV] n_estimators=80, criterion=gini, max_depth=18 ...................\n"
     ]
    },
    {
     "name": "stderr",
     "output_type": "stream",
     "text": [
      "[Parallel(n_jobs=4)]: Done 213 tasks      | elapsed: 78.9min\n"
     ]
    },
    {
     "name": "stdout",
     "output_type": "stream",
     "text": [
      "[CV]  n_estimators=70, criterion=gini, max_depth=18, score=-0.645102 - 1.9min\n",
      "[CV] n_estimators=80, criterion=gini, max_depth=18 ...................\n"
     ]
    },
    {
     "name": "stderr",
     "output_type": "stream",
     "text": [
      "[Parallel(n_jobs=4)]: Done 214 tasks      | elapsed: 79.5min\n"
     ]
    },
    {
     "name": "stdout",
     "output_type": "stream",
     "text": [
      "[CV]  n_estimators=70, criterion=gini, max_depth=18, score=-0.654962 - 1.9min\n",
      "[CV] n_estimators=80, criterion=gini, max_depth=18 ...................\n"
     ]
    },
    {
     "name": "stderr",
     "output_type": "stream",
     "text": [
      "[Parallel(n_jobs=4)]: Done 215 tasks      | elapsed: 80.0min\n"
     ]
    },
    {
     "name": "stdout",
     "output_type": "stream",
     "text": [
      "[CV]  n_estimators=80, criterion=gini, max_depth=18, score=-0.648137 - 2.2min\n",
      "[CV] n_estimators=80, criterion=gini, max_depth=18 ...................\n"
     ]
    },
    {
     "name": "stderr",
     "output_type": "stream",
     "text": [
      "[Parallel(n_jobs=4)]: Done 216 tasks      | elapsed: 80.4min\n"
     ]
    },
    {
     "name": "stdout",
     "output_type": "stream",
     "text": [
      "[CV]  n_estimators=80, criterion=gini, max_depth=18, score=-0.640087 - 2.2min\n",
      "[CV] n_estimators=90, criterion=gini, max_depth=18 ...................\n"
     ]
    },
    {
     "name": "stderr",
     "output_type": "stream",
     "text": [
      "[Parallel(n_jobs=4)]: Done 217 tasks      | elapsed: 81.1min\n"
     ]
    },
    {
     "name": "stdout",
     "output_type": "stream",
     "text": [
      "[CV]  n_estimators=80, criterion=gini, max_depth=18, score=-0.641800 - 2.3min\n",
      "[CV] n_estimators=90, criterion=gini, max_depth=18 ...................\n"
     ]
    },
    {
     "name": "stderr",
     "output_type": "stream",
     "text": [
      "[Parallel(n_jobs=4)]: Done 218 tasks      | elapsed: 81.8min\n"
     ]
    },
    {
     "name": "stdout",
     "output_type": "stream",
     "text": [
      "[CV]  n_estimators=80, criterion=gini, max_depth=18, score=-0.646401 - 2.3min\n",
      "[CV] n_estimators=90, criterion=gini, max_depth=18 ...................\n"
     ]
    },
    {
     "name": "stderr",
     "output_type": "stream",
     "text": [
      "[Parallel(n_jobs=4)]: Done 219 tasks      | elapsed: 82.3min\n"
     ]
    },
    {
     "name": "stdout",
     "output_type": "stream",
     "text": [
      "[CV]  n_estimators=80, criterion=gini, max_depth=18, score=-0.652951 - 2.3min\n",
      "[CV] n_estimators=90, criterion=gini, max_depth=18 ...................\n"
     ]
    },
    {
     "name": "stderr",
     "output_type": "stream",
     "text": [
      "[Parallel(n_jobs=4)]: Done 220 tasks      | elapsed: 82.8min\n"
     ]
    },
    {
     "name": "stdout",
     "output_type": "stream",
     "text": [
      "[CV]  n_estimators=90, criterion=gini, max_depth=18, score=-0.647271 - 2.6min\n",
      "[CV] n_estimators=90, criterion=gini, max_depth=18 ...................\n"
     ]
    },
    {
     "name": "stderr",
     "output_type": "stream",
     "text": [
      "[Parallel(n_jobs=4)]: Done 221 tasks      | elapsed: 83.7min\n"
     ]
    },
    {
     "name": "stdout",
     "output_type": "stream",
     "text": [
      "[CV]  n_estimators=90, criterion=gini, max_depth=18, score=-0.639230 - 2.6min\n",
      "[CV] n_estimators=100, criterion=gini, max_depth=18 ..................\n"
     ]
    },
    {
     "name": "stderr",
     "output_type": "stream",
     "text": [
      "[Parallel(n_jobs=4)]: Done 222 tasks      | elapsed: 84.4min\n"
     ]
    },
    {
     "name": "stdout",
     "output_type": "stream",
     "text": [
      "[CV]  n_estimators=90, criterion=gini, max_depth=18, score=-0.641919 - 2.6min\n",
      "[CV] n_estimators=100, criterion=gini, max_depth=18 ..................\n"
     ]
    },
    {
     "name": "stderr",
     "output_type": "stream",
     "text": [
      "[Parallel(n_jobs=4)]: Done 223 tasks      | elapsed: 84.9min\n"
     ]
    },
    {
     "name": "stdout",
     "output_type": "stream",
     "text": [
      "[CV]  n_estimators=90, criterion=gini, max_depth=18, score=-0.644143 - 2.6min\n",
      "[CV] n_estimators=100, criterion=gini, max_depth=18 ..................\n"
     ]
    },
    {
     "name": "stderr",
     "output_type": "stream",
     "text": [
      "[Parallel(n_jobs=4)]: Done 224 tasks      | elapsed: 85.3min\n"
     ]
    },
    {
     "name": "stdout",
     "output_type": "stream",
     "text": [
      "[CV]  n_estimators=90, criterion=gini, max_depth=18, score=-0.652314 - 2.6min\n",
      "[CV] n_estimators=100, criterion=gini, max_depth=18 ..................\n"
     ]
    },
    {
     "name": "stderr",
     "output_type": "stream",
     "text": [
      "[Parallel(n_jobs=4)]: Done 225 tasks      | elapsed: 86.3min\n"
     ]
    },
    {
     "name": "stdout",
     "output_type": "stream",
     "text": [
      "[CV]  n_estimators=100, criterion=gini, max_depth=18, score=-0.643517 - 2.8min\n",
      "[CV] n_estimators=100, criterion=gini, max_depth=18 ..................\n"
     ]
    },
    {
     "name": "stderr",
     "output_type": "stream",
     "text": [
      "[Parallel(n_jobs=4)]: Done 226 tasks      | elapsed: 87.2min\n"
     ]
    },
    {
     "name": "stdout",
     "output_type": "stream",
     "text": [
      "[CV]  n_estimators=100, criterion=gini, max_depth=18, score=-0.639133 - 2.8min\n",
      "[CV] n_estimators=110, criterion=gini, max_depth=18 ..................\n"
     ]
    },
    {
     "name": "stderr",
     "output_type": "stream",
     "text": [
      "[Parallel(n_jobs=4)]: Done 227 tasks      | elapsed: 87.7min\n"
     ]
    },
    {
     "name": "stdout",
     "output_type": "stream",
     "text": [
      "[CV]  n_estimators=100, criterion=gini, max_depth=18, score=-0.639133 - 2.8min\n",
      "[CV] n_estimators=110, criterion=gini, max_depth=18 ..................\n"
     ]
    },
    {
     "name": "stderr",
     "output_type": "stream",
     "text": [
      "[Parallel(n_jobs=4)]: Done 228 tasks      | elapsed: 88.1min\n"
     ]
    },
    {
     "name": "stdout",
     "output_type": "stream",
     "text": [
      "[CV]  n_estimators=100, criterion=gini, max_depth=18, score=-0.641499 - 2.8min\n",
      "[CV] n_estimators=110, criterion=gini, max_depth=18 ..................\n"
     ]
    },
    {
     "name": "stderr",
     "output_type": "stream",
     "text": [
      "[Parallel(n_jobs=4)]: Done 229 tasks      | elapsed: 89.1min\n"
     ]
    },
    {
     "name": "stdout",
     "output_type": "stream",
     "text": [
      "[CV]  n_estimators=100, criterion=gini, max_depth=18, score=-0.653277 - 2.8min\n",
      "[CV] n_estimators=110, criterion=gini, max_depth=18 ..................\n"
     ]
    },
    {
     "name": "stderr",
     "output_type": "stream",
     "text": [
      "[Parallel(n_jobs=4)]: Done 230 tasks      | elapsed: 90.0min\n"
     ]
    },
    {
     "name": "stdout",
     "output_type": "stream",
     "text": [
      "[CV]  n_estimators=110, criterion=gini, max_depth=18, score=-0.642962 - 3.1min\n",
      "[CV] n_estimators=110, criterion=gini, max_depth=18 ..................\n"
     ]
    },
    {
     "name": "stderr",
     "output_type": "stream",
     "text": [
      "[Parallel(n_jobs=4)]: Done 231 tasks      | elapsed: 90.7min\n"
     ]
    },
    {
     "name": "stdout",
     "output_type": "stream",
     "text": [
      "[CV]  n_estimators=110, criterion=gini, max_depth=18, score=-0.639535 - 3.1min\n",
      "[CV] n_estimators=120, criterion=gini, max_depth=18 ..................\n"
     ]
    },
    {
     "name": "stderr",
     "output_type": "stream",
     "text": [
      "[Parallel(n_jobs=4)]: Done 232 tasks      | elapsed: 91.2min\n"
     ]
    },
    {
     "name": "stdout",
     "output_type": "stream",
     "text": [
      "[CV]  n_estimators=110, criterion=gini, max_depth=18, score=-0.643598 - 3.1min\n",
      "[CV] n_estimators=120, criterion=gini, max_depth=18 ..................\n"
     ]
    },
    {
     "name": "stderr",
     "output_type": "stream",
     "text": [
      "[Parallel(n_jobs=4)]: Done 233 tasks      | elapsed: 92.1min\n"
     ]
    },
    {
     "name": "stdout",
     "output_type": "stream",
     "text": [
      "[CV]  n_estimators=110, criterion=gini, max_depth=18, score=-0.640552 - 3.0min\n",
      "[CV] n_estimators=120, criterion=gini, max_depth=18 ..................\n"
     ]
    },
    {
     "name": "stderr",
     "output_type": "stream",
     "text": [
      "[Parallel(n_jobs=4)]: Done 234 tasks      | elapsed: 93.0min\n"
     ]
    },
    {
     "name": "stdout",
     "output_type": "stream",
     "text": [
      "[CV]  n_estimators=110, criterion=gini, max_depth=18, score=-0.652777 - 3.0min\n",
      "[CV] n_estimators=120, criterion=gini, max_depth=18 ..................\n"
     ]
    },
    {
     "name": "stderr",
     "output_type": "stream",
     "text": [
      "[Parallel(n_jobs=4)]: Done 235 tasks      | elapsed: 93.7min\n"
     ]
    },
    {
     "name": "stdout",
     "output_type": "stream",
     "text": [
      "[CV]  n_estimators=120, criterion=gini, max_depth=18, score=-0.643515 - 3.3min\n",
      "[CV] n_estimators=120, criterion=gini, max_depth=18 ..................\n"
     ]
    },
    {
     "name": "stderr",
     "output_type": "stream",
     "text": [
      "[Parallel(n_jobs=4)]: Done 236 tasks      | elapsed: 94.5min\n"
     ]
    },
    {
     "name": "stdout",
     "output_type": "stream",
     "text": [
      "[CV]  n_estimators=120, criterion=gini, max_depth=18, score=-0.639258 - 3.3min\n",
      "[CV] n_estimators=130, criterion=gini, max_depth=18 ..................\n"
     ]
    },
    {
     "name": "stderr",
     "output_type": "stream",
     "text": [
      "[Parallel(n_jobs=4)]: Done 237 tasks      | elapsed: 95.4min\n"
     ]
    },
    {
     "name": "stdout",
     "output_type": "stream",
     "text": [
      "[CV]  n_estimators=120, criterion=gini, max_depth=18, score=-0.638680 - 3.3min\n",
      "[CV] n_estimators=130, criterion=gini, max_depth=18 ..................\n"
     ]
    },
    {
     "name": "stderr",
     "output_type": "stream",
     "text": [
      "[Parallel(n_jobs=4)]: Done 238 tasks      | elapsed: 96.3min\n"
     ]
    },
    {
     "name": "stdout",
     "output_type": "stream",
     "text": [
      "[CV]  n_estimators=120, criterion=gini, max_depth=18, score=-0.641220 - 3.3min\n",
      "[CV] n_estimators=130, criterion=gini, max_depth=18 ..................\n"
     ]
    },
    {
     "name": "stderr",
     "output_type": "stream",
     "text": [
      "[Parallel(n_jobs=4)]: Done 239 tasks      | elapsed: 97.1min\n"
     ]
    },
    {
     "name": "stdout",
     "output_type": "stream",
     "text": [
      "[CV]  n_estimators=120, criterion=gini, max_depth=18, score=-0.651265 - 3.4min\n",
      "[CV] n_estimators=130, criterion=gini, max_depth=18 ..................\n"
     ]
    },
    {
     "name": "stderr",
     "output_type": "stream",
     "text": [
      "[Parallel(n_jobs=4)]: Done 240 tasks      | elapsed: 97.8min\n"
     ]
    },
    {
     "name": "stdout",
     "output_type": "stream",
     "text": [
      "[CV]  n_estimators=130, criterion=gini, max_depth=18, score=-0.643408 - 3.7min\n",
      "[CV] n_estimators=130, criterion=gini, max_depth=18 ..................\n"
     ]
    },
    {
     "name": "stderr",
     "output_type": "stream",
     "text": [
      "[Parallel(n_jobs=4)]: Done 241 tasks      | elapsed: 99.1min\n"
     ]
    },
    {
     "name": "stdout",
     "output_type": "stream",
     "text": [
      "[CV]  n_estimators=130, criterion=gini, max_depth=18, score=-0.638392 - 3.9min\n",
      "[CV] n_estimators=140, criterion=gini, max_depth=18 ..................\n"
     ]
    },
    {
     "name": "stderr",
     "output_type": "stream",
     "text": [
      "[Parallel(n_jobs=4)]: Done 242 tasks      | elapsed: 100.2min\n"
     ]
    },
    {
     "name": "stdout",
     "output_type": "stream",
     "text": [
      "[CV]  n_estimators=130, criterion=gini, max_depth=18, score=-0.638355 - 3.9min\n",
      "[CV] n_estimators=140, criterion=gini, max_depth=18 ..................\n"
     ]
    },
    {
     "name": "stderr",
     "output_type": "stream",
     "text": [
      "[Parallel(n_jobs=4)]: Done 243 tasks      | elapsed: 101.0min\n"
     ]
    },
    {
     "name": "stdout",
     "output_type": "stream",
     "text": [
      "[CV]  n_estimators=130, criterion=gini, max_depth=18, score=-0.642142 - 3.9min\n",
      "[CV] n_estimators=140, criterion=gini, max_depth=18 ..................\n"
     ]
    },
    {
     "name": "stderr",
     "output_type": "stream",
     "text": [
      "[Parallel(n_jobs=4)]: Done 244 tasks      | elapsed: 101.8min\n"
     ]
    },
    {
     "name": "stdout",
     "output_type": "stream",
     "text": [
      "[CV]  n_estimators=130, criterion=gini, max_depth=18, score=-0.650677 - 3.8min\n",
      "[CV] n_estimators=140, criterion=gini, max_depth=18 ..................\n"
     ]
    },
    {
     "name": "stderr",
     "output_type": "stream",
     "text": [
      "[Parallel(n_jobs=4)]: Done 245 tasks      | elapsed: 103.0min\n"
     ]
    },
    {
     "name": "stdout",
     "output_type": "stream",
     "text": [
      "[CV]  n_estimators=140, criterion=gini, max_depth=18, score=-0.645282 - 4.0min\n",
      "[CV] n_estimators=140, criterion=gini, max_depth=18 ..................\n"
     ]
    },
    {
     "name": "stderr",
     "output_type": "stream",
     "text": [
      "[Parallel(n_jobs=4)]: Done 246 tasks      | elapsed: 104.2min\n"
     ]
    },
    {
     "name": "stdout",
     "output_type": "stream",
     "text": [
      "[CV]  n_estimators=140, criterion=gini, max_depth=18, score=-0.638697 - 4.0min\n",
      "[CV] n_estimators=50, criterion=gini, max_depth=20 ...................\n"
     ]
    },
    {
     "name": "stderr",
     "output_type": "stream",
     "text": [
      "[Parallel(n_jobs=4)]: Done 247 tasks      | elapsed: 105.0min\n"
     ]
    },
    {
     "name": "stdout",
     "output_type": "stream",
     "text": [
      "[CV]  n_estimators=140, criterion=gini, max_depth=18, score=-0.640199 - 3.9min\n",
      "[CV] n_estimators=50, criterion=gini, max_depth=20 ...................\n"
     ]
    },
    {
     "name": "stderr",
     "output_type": "stream",
     "text": [
      "[Parallel(n_jobs=4)]: Done 248 tasks      | elapsed: 105.7min\n"
     ]
    },
    {
     "name": "stdout",
     "output_type": "stream",
     "text": [
      "[CV]  n_estimators=50, criterion=gini, max_depth=20, score=-0.650476 - 1.5min\n",
      "[CV] n_estimators=50, criterion=gini, max_depth=20 ...................\n"
     ]
    },
    {
     "name": "stderr",
     "output_type": "stream",
     "text": [
      "[Parallel(n_jobs=4)]: Done 249 tasks      | elapsed: 106.5min\n"
     ]
    },
    {
     "name": "stdout",
     "output_type": "stream",
     "text": [
      "[CV]  n_estimators=140, criterion=gini, max_depth=18, score=-0.642817 - 3.9min\n",
      "[CV] n_estimators=50, criterion=gini, max_depth=20 ...................\n"
     ]
    },
    {
     "name": "stderr",
     "output_type": "stream",
     "text": [
      "[Parallel(n_jobs=4)]: Done 250 tasks      | elapsed: 106.9min\n"
     ]
    },
    {
     "name": "stdout",
     "output_type": "stream",
     "text": [
      "[CV]  n_estimators=50, criterion=gini, max_depth=20, score=-0.651644 - 1.6min\n",
      "[CV] n_estimators=50, criterion=gini, max_depth=20 ...................\n"
     ]
    },
    {
     "name": "stderr",
     "output_type": "stream",
     "text": [
      "[Parallel(n_jobs=4)]: Done 251 tasks      | elapsed: 107.3min\n"
     ]
    },
    {
     "name": "stdout",
     "output_type": "stream",
     "text": [
      "[CV]  n_estimators=140, criterion=gini, max_depth=18, score=-0.651710 - 3.9min\n",
      "[CV] n_estimators=60, criterion=gini, max_depth=20 ...................\n"
     ]
    },
    {
     "name": "stderr",
     "output_type": "stream",
     "text": [
      "[Parallel(n_jobs=4)]: Done 252 tasks      | elapsed: 108.1min\n"
     ]
    },
    {
     "name": "stdout",
     "output_type": "stream",
     "text": [
      "[CV]  n_estimators=50, criterion=gini, max_depth=20, score=-0.647834 - 1.7min\n",
      "[CV] n_estimators=60, criterion=gini, max_depth=20 ...................\n"
     ]
    },
    {
     "name": "stderr",
     "output_type": "stream",
     "text": [
      "[Parallel(n_jobs=4)]: Done 253 tasks      | elapsed: 108.2min\n"
     ]
    },
    {
     "name": "stdout",
     "output_type": "stream",
     "text": [
      "[CV]  n_estimators=50, criterion=gini, max_depth=20, score=-0.649015 - 1.8min\n",
      "[CV] n_estimators=60, criterion=gini, max_depth=20 ...................\n"
     ]
    },
    {
     "name": "stderr",
     "output_type": "stream",
     "text": [
      "[Parallel(n_jobs=4)]: Done 254 tasks      | elapsed: 108.7min\n"
     ]
    },
    {
     "name": "stdout",
     "output_type": "stream",
     "text": [
      "[CV]  n_estimators=50, criterion=gini, max_depth=20, score=-0.662144 - 1.8min\n",
      "[CV] n_estimators=60, criterion=gini, max_depth=20 ...................\n"
     ]
    },
    {
     "name": "stderr",
     "output_type": "stream",
     "text": [
      "[Parallel(n_jobs=4)]: Done 255 tasks      | elapsed: 109.1min\n"
     ]
    },
    {
     "name": "stdout",
     "output_type": "stream",
     "text": [
      "[CV]  n_estimators=60, criterion=gini, max_depth=20, score=-0.646029 - 2.0min\n",
      "[CV] n_estimators=60, criterion=gini, max_depth=20 ...................\n"
     ]
    },
    {
     "name": "stderr",
     "output_type": "stream",
     "text": [
      "[Parallel(n_jobs=4)]: Done 256 tasks      | elapsed: 110.1min\n"
     ]
    },
    {
     "name": "stdout",
     "output_type": "stream",
     "text": [
      "[CV]  n_estimators=60, criterion=gini, max_depth=20, score=-0.642395 - 2.0min\n",
      "[CV] n_estimators=70, criterion=gini, max_depth=20 ...................\n"
     ]
    },
    {
     "name": "stderr",
     "output_type": "stream",
     "text": [
      "[Parallel(n_jobs=4)]: Done 257 tasks      | elapsed: 110.3min\n"
     ]
    },
    {
     "name": "stdout",
     "output_type": "stream",
     "text": [
      "[CV]  n_estimators=60, criterion=gini, max_depth=20, score=-0.641757 - 2.0min\n",
      "[CV] n_estimators=70, criterion=gini, max_depth=20 ...................\n"
     ]
    },
    {
     "name": "stderr",
     "output_type": "stream",
     "text": [
      "[Parallel(n_jobs=4)]: Done 258 tasks      | elapsed: 110.7min\n"
     ]
    },
    {
     "name": "stdout",
     "output_type": "stream",
     "text": [
      "[CV]  n_estimators=60, criterion=gini, max_depth=20, score=-0.648784 - 2.0min\n",
      "[CV] n_estimators=70, criterion=gini, max_depth=20 ...................\n"
     ]
    },
    {
     "name": "stderr",
     "output_type": "stream",
     "text": [
      "[Parallel(n_jobs=4)]: Done 259 tasks      | elapsed: 111.1min\n"
     ]
    },
    {
     "name": "stdout",
     "output_type": "stream",
     "text": [
      "[CV]  n_estimators=60, criterion=gini, max_depth=20, score=-0.663263 - 2.0min\n",
      "[CV] n_estimators=70, criterion=gini, max_depth=20 ...................\n"
     ]
    },
    {
     "name": "stderr",
     "output_type": "stream",
     "text": [
      "[Parallel(n_jobs=4)]: Done 260 tasks      | elapsed: 112.1min\n"
     ]
    },
    {
     "name": "stdout",
     "output_type": "stream",
     "text": [
      "[CV]  n_estimators=70, criterion=gini, max_depth=20, score=-0.645411 - 2.4min\n",
      "[CV] n_estimators=70, criterion=gini, max_depth=20 ...................\n"
     ]
    },
    {
     "name": "stderr",
     "output_type": "stream",
     "text": [
      "[Parallel(n_jobs=4)]: Done 261 tasks      | elapsed: 112.6min\n"
     ]
    },
    {
     "name": "stdout",
     "output_type": "stream",
     "text": [
      "[CV]  n_estimators=70, criterion=gini, max_depth=20, score=-0.641403 - 2.4min\n",
      "[CV] n_estimators=80, criterion=gini, max_depth=20 ...................\n"
     ]
    },
    {
     "name": "stderr",
     "output_type": "stream",
     "text": [
      "[Parallel(n_jobs=4)]: Done 262 tasks      | elapsed: 113.0min\n"
     ]
    },
    {
     "name": "stdout",
     "output_type": "stream",
     "text": [
      "[CV]  n_estimators=70, criterion=gini, max_depth=20, score=-0.641730 - 2.3min\n",
      "[CV] n_estimators=80, criterion=gini, max_depth=20 ...................\n"
     ]
    },
    {
     "name": "stderr",
     "output_type": "stream",
     "text": [
      "[Parallel(n_jobs=4)]: Done 263 tasks      | elapsed: 113.5min\n"
     ]
    },
    {
     "name": "stdout",
     "output_type": "stream",
     "text": [
      "[CV]  n_estimators=70, criterion=gini, max_depth=20, score=-0.642287 - 2.4min\n",
      "[CV] n_estimators=80, criterion=gini, max_depth=20 ...................\n"
     ]
    },
    {
     "name": "stderr",
     "output_type": "stream",
     "text": [
      "[Parallel(n_jobs=4)]: Done 264 tasks      | elapsed: 114.5min\n"
     ]
    },
    {
     "name": "stdout",
     "output_type": "stream",
     "text": [
      "[CV]  n_estimators=70, criterion=gini, max_depth=20, score=-0.662683 - 2.5min\n",
      "[CV] n_estimators=80, criterion=gini, max_depth=20 ...................\n"
     ]
    },
    {
     "name": "stderr",
     "output_type": "stream",
     "text": [
      "[Parallel(n_jobs=4)]: Done 265 tasks      | elapsed: 115.1min\n"
     ]
    },
    {
     "name": "stdout",
     "output_type": "stream",
     "text": [
      "[CV]  n_estimators=80, criterion=gini, max_depth=20, score=-0.645137 - 2.8min\n",
      "[CV] n_estimators=80, criterion=gini, max_depth=20 ...................\n"
     ]
    },
    {
     "name": "stderr",
     "output_type": "stream",
     "text": [
      "[Parallel(n_jobs=4)]: Done 266 tasks      | elapsed: 115.9min\n"
     ]
    },
    {
     "name": "stdout",
     "output_type": "stream",
     "text": [
      "[CV]  n_estimators=80, criterion=gini, max_depth=20, score=-0.638512 - 2.9min\n",
      "[CV] n_estimators=90, criterion=gini, max_depth=20 ...................\n"
     ]
    },
    {
     "name": "stderr",
     "output_type": "stream",
     "text": [
      "[Parallel(n_jobs=4)]: Done 267 tasks      | elapsed: 116.3min\n"
     ]
    },
    {
     "name": "stdout",
     "output_type": "stream",
     "text": [
      "[CV]  n_estimators=80, criterion=gini, max_depth=20, score=-0.640912 - 2.9min\n",
      "[CV] n_estimators=90, criterion=gini, max_depth=20 ...................\n"
     ]
    },
    {
     "name": "stderr",
     "output_type": "stream",
     "text": [
      "[Parallel(n_jobs=4)]: Done 268 tasks      | elapsed: 117.5min\n"
     ]
    },
    {
     "name": "stdout",
     "output_type": "stream",
     "text": [
      "[CV]  n_estimators=80, criterion=gini, max_depth=20, score=-0.641550 - 2.8min\n",
      "[CV] n_estimators=90, criterion=gini, max_depth=20 ...................\n"
     ]
    },
    {
     "name": "stderr",
     "output_type": "stream",
     "text": [
      "[Parallel(n_jobs=4)]: Done 269 tasks      | elapsed: 117.9min\n"
     ]
    },
    {
     "name": "stdout",
     "output_type": "stream",
     "text": [
      "[CV]  n_estimators=80, criterion=gini, max_depth=20, score=-0.653737 - 2.7min\n",
      "[CV] n_estimators=90, criterion=gini, max_depth=20 ...................\n"
     ]
    },
    {
     "name": "stderr",
     "output_type": "stream",
     "text": [
      "[Parallel(n_jobs=4)]: Done 270 tasks      | elapsed: 118.6min\n"
     ]
    },
    {
     "name": "stdout",
     "output_type": "stream",
     "text": [
      "[CV]  n_estimators=90, criterion=gini, max_depth=20, score=-0.642710 - 3.1min\n",
      "[CV] n_estimators=90, criterion=gini, max_depth=20 ...................\n"
     ]
    },
    {
     "name": "stderr",
     "output_type": "stream",
     "text": [
      "[Parallel(n_jobs=4)]: Done 271 tasks      | elapsed: 119.5min\n"
     ]
    },
    {
     "name": "stdout",
     "output_type": "stream",
     "text": [
      "[CV]  n_estimators=90, criterion=gini, max_depth=20, score=-0.638570 - 3.1min\n",
      "[CV] n_estimators=100, criterion=gini, max_depth=20 ..................\n"
     ]
    },
    {
     "name": "stderr",
     "output_type": "stream",
     "text": [
      "[Parallel(n_jobs=4)]: Done 272 tasks      | elapsed: 120.6min\n"
     ]
    },
    {
     "name": "stdout",
     "output_type": "stream",
     "text": [
      "[CV]  n_estimators=90, criterion=gini, max_depth=20, score=-0.640519 - 3.1min\n",
      "[CV] n_estimators=100, criterion=gini, max_depth=20 ..................\n"
     ]
    },
    {
     "name": "stderr",
     "output_type": "stream",
     "text": [
      "[Parallel(n_jobs=4)]: Done 273 tasks      | elapsed: 121.1min\n"
     ]
    },
    {
     "name": "stdout",
     "output_type": "stream",
     "text": [
      "[CV]  n_estimators=90, criterion=gini, max_depth=20, score=-0.640998 - 3.2min\n",
      "[CV] n_estimators=100, criterion=gini, max_depth=20 ..................\n"
     ]
    },
    {
     "name": "stderr",
     "output_type": "stream",
     "text": [
      "[Parallel(n_jobs=4)]: Done 274 tasks      | elapsed: 121.8min\n"
     ]
    },
    {
     "name": "stdout",
     "output_type": "stream",
     "text": [
      "[CV]  n_estimators=90, criterion=gini, max_depth=20, score=-0.655647 - 3.3min\n",
      "[CV] n_estimators=100, criterion=gini, max_depth=20 ..................\n"
     ]
    },
    {
     "name": "stderr",
     "output_type": "stream",
     "text": [
      "[Parallel(n_jobs=4)]: Done 275 tasks      | elapsed: 122.8min\n"
     ]
    },
    {
     "name": "stdout",
     "output_type": "stream",
     "text": [
      "[CV]  n_estimators=100, criterion=gini, max_depth=20, score=-0.643433 - 3.5min\n",
      "[CV] n_estimators=100, criterion=gini, max_depth=20 ..................\n"
     ]
    },
    {
     "name": "stderr",
     "output_type": "stream",
     "text": [
      "[Parallel(n_jobs=4)]: Done 276 tasks      | elapsed: 124.1min\n"
     ]
    },
    {
     "name": "stdout",
     "output_type": "stream",
     "text": [
      "[CV]  n_estimators=100, criterion=gini, max_depth=20, score=-0.637419 - 3.6min\n",
      "[CV] n_estimators=110, criterion=gini, max_depth=20 ..................\n"
     ]
    },
    {
     "name": "stderr",
     "output_type": "stream",
     "text": [
      "[Parallel(n_jobs=4)]: Done 277 tasks      | elapsed: 124.7min\n"
     ]
    },
    {
     "name": "stdout",
     "output_type": "stream",
     "text": [
      "[CV]  n_estimators=100, criterion=gini, max_depth=20, score=-0.639240 - 3.5min\n",
      "[CV] n_estimators=110, criterion=gini, max_depth=20 ..................\n"
     ]
    },
    {
     "name": "stderr",
     "output_type": "stream",
     "text": [
      "[Parallel(n_jobs=4)]: Done 278 tasks      | elapsed: 125.3min\n"
     ]
    },
    {
     "name": "stdout",
     "output_type": "stream",
     "text": [
      "[CV]  n_estimators=100, criterion=gini, max_depth=20, score=-0.643087 - 3.5min\n",
      "[CV] n_estimators=110, criterion=gini, max_depth=20 ..................\n"
     ]
    },
    {
     "name": "stderr",
     "output_type": "stream",
     "text": [
      "[Parallel(n_jobs=4)]: Done 279 tasks      | elapsed: 126.3min\n"
     ]
    },
    {
     "name": "stdout",
     "output_type": "stream",
     "text": [
      "[CV]  n_estimators=100, criterion=gini, max_depth=20, score=-0.654185 - 3.6min\n",
      "[CV] n_estimators=110, criterion=gini, max_depth=20 ..................\n"
     ]
    },
    {
     "name": "stderr",
     "output_type": "stream",
     "text": [
      "[Parallel(n_jobs=4)]: Done 280 tasks      | elapsed: 127.8min\n"
     ]
    },
    {
     "name": "stdout",
     "output_type": "stream",
     "text": [
      "[CV]  n_estimators=110, criterion=gini, max_depth=20, score=-0.642319 - 4.0min\n",
      "[CV] n_estimators=110, criterion=gini, max_depth=20 ..................\n"
     ]
    },
    {
     "name": "stderr",
     "output_type": "stream",
     "text": [
      "[Parallel(n_jobs=4)]: Done 281 tasks      | elapsed: 128.7min\n"
     ]
    },
    {
     "name": "stdout",
     "output_type": "stream",
     "text": [
      "[CV]  n_estimators=110, criterion=gini, max_depth=20, score=-0.638943 - 4.0min\n",
      "[CV] n_estimators=120, criterion=gini, max_depth=20 ..................\n"
     ]
    },
    {
     "name": "stderr",
     "output_type": "stream",
     "text": [
      "[Parallel(n_jobs=4)]: Done 282 tasks      | elapsed: 129.4min\n"
     ]
    },
    {
     "name": "stdout",
     "output_type": "stream",
     "text": [
      "[CV]  n_estimators=110, criterion=gini, max_depth=20, score=-0.639233 - 3.9min\n",
      "[CV] n_estimators=120, criterion=gini, max_depth=20 ..................\n"
     ]
    },
    {
     "name": "stderr",
     "output_type": "stream",
     "text": [
      "[Parallel(n_jobs=4)]: Done 283 tasks      | elapsed: 130.1min\n"
     ]
    },
    {
     "name": "stdout",
     "output_type": "stream",
     "text": [
      "[CV]  n_estimators=110, criterion=gini, max_depth=20, score=-0.642246 - 3.8min\n",
      "[CV] n_estimators=120, criterion=gini, max_depth=20 ..................\n"
     ]
    },
    {
     "name": "stderr",
     "output_type": "stream",
     "text": [
      "[Parallel(n_jobs=4)]: Done 284 tasks      | elapsed: 131.6min\n"
     ]
    },
    {
     "name": "stdout",
     "output_type": "stream",
     "text": [
      "[CV]  n_estimators=110, criterion=gini, max_depth=20, score=-0.650681 - 3.8min\n",
      "[CV] n_estimators=120, criterion=gini, max_depth=20 ..................\n"
     ]
    },
    {
     "name": "stderr",
     "output_type": "stream",
     "text": [
      "[Parallel(n_jobs=4)]: Done 285 tasks      | elapsed: 132.5min\n"
     ]
    },
    {
     "name": "stdout",
     "output_type": "stream",
     "text": [
      "[CV]  n_estimators=120, criterion=gini, max_depth=20, score=-0.642612 - 4.2min\n",
      "[CV] n_estimators=120, criterion=gini, max_depth=20 ..................\n"
     ]
    },
    {
     "name": "stderr",
     "output_type": "stream",
     "text": [
      "[Parallel(n_jobs=4)]: Done 286 tasks      | elapsed: 133.6min\n"
     ]
    },
    {
     "name": "stdout",
     "output_type": "stream",
     "text": [
      "[CV]  n_estimators=120, criterion=gini, max_depth=20, score=-0.637217 - 4.3min\n",
      "[CV] n_estimators=130, criterion=gini, max_depth=20 ..................\n"
     ]
    },
    {
     "name": "stderr",
     "output_type": "stream",
     "text": [
      "[Parallel(n_jobs=4)]: Done 287 tasks      | elapsed: 134.4min\n"
     ]
    },
    {
     "name": "stdout",
     "output_type": "stream",
     "text": [
      "[CV]  n_estimators=120, criterion=gini, max_depth=20, score=-0.639406 - 4.1min\n",
      "[CV] n_estimators=130, criterion=gini, max_depth=20 ..................\n"
     ]
    },
    {
     "name": "stderr",
     "output_type": "stream",
     "text": [
      "[Parallel(n_jobs=4)]: Done 288 tasks      | elapsed: 135.8min\n"
     ]
    },
    {
     "name": "stdout",
     "output_type": "stream",
     "text": [
      "[CV]  n_estimators=120, criterion=gini, max_depth=20, score=-0.643950 - 4.1min\n",
      "[CV] n_estimators=130, criterion=gini, max_depth=20 ..................\n"
     ]
    },
    {
     "name": "stderr",
     "output_type": "stream",
     "text": [
      "[Parallel(n_jobs=4)]: Done 289 tasks      | elapsed: 136.6min\n"
     ]
    },
    {
     "name": "stdout",
     "output_type": "stream",
     "text": [
      "[CV]  n_estimators=120, criterion=gini, max_depth=20, score=-0.656245 - 3.9min\n",
      "[CV] n_estimators=130, criterion=gini, max_depth=20 ..................\n"
     ]
    },
    {
     "name": "stderr",
     "output_type": "stream",
     "text": [
      "[Parallel(n_jobs=4)]: Done 290 tasks      | elapsed: 137.5min\n"
     ]
    },
    {
     "name": "stdout",
     "output_type": "stream",
     "text": [
      "[CV]  n_estimators=130, criterion=gini, max_depth=20, score=-0.646256 - 4.3min\n",
      "[CV] n_estimators=130, criterion=gini, max_depth=20 ..................\n"
     ]
    },
    {
     "name": "stderr",
     "output_type": "stream",
     "text": [
      "[Parallel(n_jobs=4)]: Done 291 tasks      | elapsed: 138.7min\n"
     ]
    },
    {
     "name": "stdout",
     "output_type": "stream",
     "text": [
      "[CV]  n_estimators=130, criterion=gini, max_depth=20, score=-0.639876 - 4.2min\n",
      "[CV] n_estimators=140, criterion=gini, max_depth=20 ..................\n"
     ]
    },
    {
     "name": "stderr",
     "output_type": "stream",
     "text": [
      "[Parallel(n_jobs=4)]: Done 292 tasks      | elapsed: 140.0min\n"
     ]
    },
    {
     "name": "stdout",
     "output_type": "stream",
     "text": [
      "[CV]  n_estimators=130, criterion=gini, max_depth=20, score=-0.638697 - 4.2min\n",
      "[CV] n_estimators=140, criterion=gini, max_depth=20 ..................\n"
     ]
    },
    {
     "name": "stderr",
     "output_type": "stream",
     "text": [
      "[Parallel(n_jobs=4)]: Done 293 tasks      | elapsed: 140.8min\n"
     ]
    },
    {
     "name": "stdout",
     "output_type": "stream",
     "text": [
      "[CV]  n_estimators=130, criterion=gini, max_depth=20, score=-0.641138 - 4.3min\n",
      "[CV] n_estimators=140, criterion=gini, max_depth=20 ..................\n"
     ]
    },
    {
     "name": "stderr",
     "output_type": "stream",
     "text": [
      "[Parallel(n_jobs=4)]: Done 294 tasks      | elapsed: 141.8min\n"
     ]
    },
    {
     "name": "stdout",
     "output_type": "stream",
     "text": [
      "[CV]  n_estimators=130, criterion=gini, max_depth=20, score=-0.651071 - 4.2min\n",
      "[CV] n_estimators=140, criterion=gini, max_depth=20 ..................\n"
     ]
    },
    {
     "name": "stderr",
     "output_type": "stream",
     "text": [
      "[Parallel(n_jobs=4)]: Done 295 tasks      | elapsed: 142.9min\n"
     ]
    },
    {
     "name": "stdout",
     "output_type": "stream",
     "text": [
      "[CV]  n_estimators=140, criterion=gini, max_depth=20, score=-0.642401 - 4.6min\n",
      "[CV] n_estimators=140, criterion=gini, max_depth=20 ..................\n"
     ]
    },
    {
     "name": "stderr",
     "output_type": "stream",
     "text": [
      "[Parallel(n_jobs=4)]: Done 296 tasks      | elapsed: 144.6min\n"
     ]
    },
    {
     "name": "stdout",
     "output_type": "stream",
     "text": [
      "[CV]  n_estimators=140, criterion=gini, max_depth=20, score=-0.635841 - 4.6min\n",
      "[CV] n_estimators=50, criterion=gini, max_depth=22 ...................\n"
     ]
    },
    {
     "name": "stderr",
     "output_type": "stream",
     "text": [
      "[Parallel(n_jobs=4)]: Done 297 tasks      | elapsed: 145.4min\n"
     ]
    },
    {
     "name": "stdout",
     "output_type": "stream",
     "text": [
      "[CV]  n_estimators=140, criterion=gini, max_depth=20, score=-0.638214 - 4.6min\n",
      "[CV] n_estimators=50, criterion=gini, max_depth=22 ...................\n"
     ]
    },
    {
     "name": "stderr",
     "output_type": "stream",
     "text": [
      "[Parallel(n_jobs=4)]: Done 298 tasks      | elapsed: 146.3min\n"
     ]
    },
    {
     "name": "stdout",
     "output_type": "stream",
     "text": [
      "[CV]  n_estimators=50, criterion=gini, max_depth=22, score=-0.655055 - 1.8min\n",
      "[CV] n_estimators=50, criterion=gini, max_depth=22 ...................\n"
     ]
    },
    {
     "name": "stderr",
     "output_type": "stream",
     "text": [
      "[Parallel(n_jobs=4)]: Done 299 tasks      | elapsed: 147.2min\n"
     ]
    },
    {
     "name": "stdout",
     "output_type": "stream",
     "text": [
      "[CV]  n_estimators=140, criterion=gini, max_depth=20, score=-0.641950 - 4.5min\n",
      "[CV] n_estimators=50, criterion=gini, max_depth=22 ...................\n"
     ]
    },
    {
     "name": "stderr",
     "output_type": "stream",
     "text": [
      "[Parallel(n_jobs=4)]: Done 300 tasks      | elapsed: 147.5min\n"
     ]
    },
    {
     "name": "stdout",
     "output_type": "stream",
     "text": [
      "[CV]  n_estimators=50, criterion=gini, max_depth=22, score=-0.643917 - 1.8min\n",
      "[CV] n_estimators=50, criterion=gini, max_depth=22 ...................\n"
     ]
    },
    {
     "name": "stderr",
     "output_type": "stream",
     "text": [
      "[Parallel(n_jobs=4)]: Done 301 tasks      | elapsed: 148.1min\n"
     ]
    },
    {
     "name": "stdout",
     "output_type": "stream",
     "text": [
      "[CV]  n_estimators=50, criterion=gini, max_depth=22, score=-0.645414 - 1.8min\n",
      "[CV] n_estimators=60, criterion=gini, max_depth=22 ...................\n"
     ]
    },
    {
     "name": "stderr",
     "output_type": "stream",
     "text": [
      "[Parallel(n_jobs=4)]: Done 302 tasks      | elapsed: 149.0min\n"
     ]
    },
    {
     "name": "stdout",
     "output_type": "stream",
     "text": [
      "[CV]  n_estimators=140, criterion=gini, max_depth=20, score=-0.651890 - 4.5min\n",
      "[CV] n_estimators=60, criterion=gini, max_depth=22 ...................\n"
     ]
    },
    {
     "name": "stderr",
     "output_type": "stream",
     "text": [
      "[Parallel(n_jobs=4)]: Done 303 tasks      | elapsed: 149.1min\n"
     ]
    },
    {
     "name": "stdout",
     "output_type": "stream",
     "text": [
      "[CV]  n_estimators=50, criterion=gini, max_depth=22, score=-0.648788 - 1.8min\n",
      "[CV] n_estimators=60, criterion=gini, max_depth=22 ...................\n"
     ]
    },
    {
     "name": "stderr",
     "output_type": "stream",
     "text": [
      "[Parallel(n_jobs=4)]: Done 304 tasks      | elapsed: 149.2min\n"
     ]
    },
    {
     "name": "stdout",
     "output_type": "stream",
     "text": [
      "[CV]  n_estimators=50, criterion=gini, max_depth=22, score=-0.659772 - 1.8min\n",
      "[CV] n_estimators=60, criterion=gini, max_depth=22 ...................\n"
     ]
    },
    {
     "name": "stderr",
     "output_type": "stream",
     "text": [
      "[Parallel(n_jobs=4)]: Done 305 tasks      | elapsed: 149.9min\n"
     ]
    },
    {
     "name": "stdout",
     "output_type": "stream",
     "text": [
      "[CV]  n_estimators=60, criterion=gini, max_depth=22, score=-0.647381 - 2.1min\n",
      "[CV] n_estimators=60, criterion=gini, max_depth=22 ...................\n"
     ]
    },
    {
     "name": "stderr",
     "output_type": "stream",
     "text": [
      "[Parallel(n_jobs=4)]: Done 306 tasks      | elapsed: 151.1min\n"
     ]
    },
    {
     "name": "stdout",
     "output_type": "stream",
     "text": [
      "[CV]  n_estimators=60, criterion=gini, max_depth=22, score=-0.646153 - 2.1min\n",
      "[CV] n_estimators=70, criterion=gini, max_depth=22 ...................\n"
     ]
    },
    {
     "name": "stderr",
     "output_type": "stream",
     "text": [
      "[Parallel(n_jobs=4)]: Done 307 tasks      | elapsed: 151.2min\n"
     ]
    },
    {
     "name": "stdout",
     "output_type": "stream",
     "text": [
      "[CV]  n_estimators=60, criterion=gini, max_depth=22, score=-0.648118 - 2.1min\n",
      "[CV] n_estimators=70, criterion=gini, max_depth=22 ...................\n"
     ]
    },
    {
     "name": "stderr",
     "output_type": "stream",
     "text": [
      "[Parallel(n_jobs=4)]: Done 308 tasks      | elapsed: 151.4min\n"
     ]
    },
    {
     "name": "stdout",
     "output_type": "stream",
     "text": [
      "[CV]  n_estimators=60, criterion=gini, max_depth=22, score=-0.645317 - 2.1min\n",
      "[CV] n_estimators=70, criterion=gini, max_depth=22 ...................\n"
     ]
    },
    {
     "name": "stderr",
     "output_type": "stream",
     "text": [
      "[Parallel(n_jobs=4)]: Done 309 tasks      | elapsed: 152.0min\n"
     ]
    },
    {
     "name": "stdout",
     "output_type": "stream",
     "text": [
      "[CV]  n_estimators=60, criterion=gini, max_depth=22, score=-0.658938 - 2.1min\n",
      "[CV] n_estimators=70, criterion=gini, max_depth=22 ...................\n"
     ]
    },
    {
     "name": "stderr",
     "output_type": "stream",
     "text": [
      "[Parallel(n_jobs=4)]: Done 310 tasks      | elapsed: 153.2min\n"
     ]
    },
    {
     "name": "stdout",
     "output_type": "stream",
     "text": [
      "[CV]  n_estimators=70, criterion=gini, max_depth=22, score=-0.648410 - 2.5min\n",
      "[CV] n_estimators=70, criterion=gini, max_depth=22 ...................\n"
     ]
    },
    {
     "name": "stderr",
     "output_type": "stream",
     "text": [
      "[Parallel(n_jobs=4)]: Done 311 tasks      | elapsed: 153.7min\n"
     ]
    },
    {
     "name": "stdout",
     "output_type": "stream",
     "text": [
      "[CV]  n_estimators=70, criterion=gini, max_depth=22, score=-0.641902 - 2.5min\n",
      "[CV] n_estimators=80, criterion=gini, max_depth=22 ...................\n"
     ]
    },
    {
     "name": "stderr",
     "output_type": "stream",
     "text": [
      "[Parallel(n_jobs=4)]: Done 312 tasks      | elapsed: 153.9min\n"
     ]
    },
    {
     "name": "stdout",
     "output_type": "stream",
     "text": [
      "[CV]  n_estimators=70, criterion=gini, max_depth=22, score=-0.645485 - 2.6min\n",
      "[CV] n_estimators=80, criterion=gini, max_depth=22 ...................\n"
     ]
    },
    {
     "name": "stderr",
     "output_type": "stream",
     "text": [
      "[Parallel(n_jobs=4)]: Done 313 tasks      | elapsed: 154.6min\n"
     ]
    },
    {
     "name": "stdout",
     "output_type": "stream",
     "text": [
      "[CV]  n_estimators=70, criterion=gini, max_depth=22, score=-0.647616 - 2.6min\n",
      "[CV] n_estimators=80, criterion=gini, max_depth=22 ...................\n"
     ]
    },
    {
     "name": "stderr",
     "output_type": "stream",
     "text": [
      "[Parallel(n_jobs=4)]: Done 314 tasks      | elapsed: 155.9min\n"
     ]
    },
    {
     "name": "stdout",
     "output_type": "stream",
     "text": [
      "[CV]  n_estimators=70, criterion=gini, max_depth=22, score=-0.654288 - 2.6min\n",
      "[CV] n_estimators=80, criterion=gini, max_depth=22 ...................\n"
     ]
    },
    {
     "name": "stderr",
     "output_type": "stream",
     "text": [
      "[Parallel(n_jobs=4)]: Done 315 tasks      | elapsed: 156.3min\n"
     ]
    },
    {
     "name": "stdout",
     "output_type": "stream",
     "text": [
      "[CV]  n_estimators=80, criterion=gini, max_depth=22, score=-0.646726 - 3.0min\n",
      "[CV] n_estimators=80, criterion=gini, max_depth=22 ...................\n"
     ]
    },
    {
     "name": "stderr",
     "output_type": "stream",
     "text": [
      "[Parallel(n_jobs=4)]: Done 316 tasks      | elapsed: 156.8min\n"
     ]
    },
    {
     "name": "stdout",
     "output_type": "stream",
     "text": [
      "[CV]  n_estimators=80, criterion=gini, max_depth=22, score=-0.646324 - 2.9min\n",
      "[CV] n_estimators=90, criterion=gini, max_depth=22 ...................\n"
     ]
    },
    {
     "name": "stderr",
     "output_type": "stream",
     "text": [
      "[Parallel(n_jobs=4)]: Done 317 tasks      | elapsed: 157.4min\n"
     ]
    },
    {
     "name": "stdout",
     "output_type": "stream",
     "text": [
      "[CV]  n_estimators=80, criterion=gini, max_depth=22, score=-0.643114 - 2.8min\n",
      "[CV] n_estimators=90, criterion=gini, max_depth=22 ...................\n"
     ]
    },
    {
     "name": "stderr",
     "output_type": "stream",
     "text": [
      "[Parallel(n_jobs=4)]: Done 318 tasks      | elapsed: 158.7min\n"
     ]
    },
    {
     "name": "stdout",
     "output_type": "stream",
     "text": [
      "[CV]  n_estimators=80, criterion=gini, max_depth=22, score=-0.644447 - 2.8min\n",
      "[CV] n_estimators=90, criterion=gini, max_depth=22 ...................\n"
     ]
    },
    {
     "name": "stderr",
     "output_type": "stream",
     "text": [
      "[Parallel(n_jobs=4)]: Done 319 tasks      | elapsed: 159.2min\n"
     ]
    },
    {
     "name": "stdout",
     "output_type": "stream",
     "text": [
      "[CV]  n_estimators=80, criterion=gini, max_depth=22, score=-0.652821 - 2.8min\n",
      "[CV] n_estimators=90, criterion=gini, max_depth=22 ...................\n"
     ]
    },
    {
     "name": "stderr",
     "output_type": "stream",
     "text": [
      "[Parallel(n_jobs=4)]: Done 320 tasks      | elapsed: 159.7min\n"
     ]
    },
    {
     "name": "stdout",
     "output_type": "stream",
     "text": [
      "[CV]  n_estimators=90, criterion=gini, max_depth=22, score=-0.648646 - 3.2min\n",
      "[CV] n_estimators=90, criterion=gini, max_depth=22 ...................\n"
     ]
    },
    {
     "name": "stderr",
     "output_type": "stream",
     "text": [
      "[Parallel(n_jobs=4)]: Done 321 tasks      | elapsed: 160.7min\n"
     ]
    },
    {
     "name": "stdout",
     "output_type": "stream",
     "text": [
      "[CV]  n_estimators=90, criterion=gini, max_depth=22, score=-0.639818 - 3.2min\n",
      "[CV] n_estimators=100, criterion=gini, max_depth=22 ..................\n"
     ]
    },
    {
     "name": "stderr",
     "output_type": "stream",
     "text": [
      "[Parallel(n_jobs=4)]: Done 322 tasks      | elapsed: 161.9min\n"
     ]
    },
    {
     "name": "stdout",
     "output_type": "stream",
     "text": [
      "[CV]  n_estimators=90, criterion=gini, max_depth=22, score=-0.643196 - 3.2min\n",
      "[CV] n_estimators=100, criterion=gini, max_depth=22 ..................\n"
     ]
    },
    {
     "name": "stderr",
     "output_type": "stream",
     "text": [
      "[Parallel(n_jobs=4)]: Done 323 tasks      | elapsed: 162.4min\n"
     ]
    },
    {
     "name": "stdout",
     "output_type": "stream",
     "text": [
      "[CV]  n_estimators=90, criterion=gini, max_depth=22, score=-0.643511 - 3.2min\n",
      "[CV] n_estimators=100, criterion=gini, max_depth=22 ..................\n"
     ]
    },
    {
     "name": "stderr",
     "output_type": "stream",
     "text": [
      "[Parallel(n_jobs=4)]: Done 324 tasks      | elapsed: 162.9min\n"
     ]
    },
    {
     "name": "stdout",
     "output_type": "stream",
     "text": [
      "[CV]  n_estimators=90, criterion=gini, max_depth=22, score=-0.654825 - 3.2min\n",
      "[CV] n_estimators=100, criterion=gini, max_depth=22 ..................\n"
     ]
    },
    {
     "name": "stderr",
     "output_type": "stream",
     "text": [
      "[Parallel(n_jobs=4)]: Done 325 tasks      | elapsed: 163.8min\n"
     ]
    },
    {
     "name": "stdout",
     "output_type": "stream",
     "text": [
      "[CV]  n_estimators=100, criterion=gini, max_depth=22, score=-0.649609 - 3.5min\n",
      "[CV] n_estimators=100, criterion=gini, max_depth=22 ..................\n"
     ]
    },
    {
     "name": "stderr",
     "output_type": "stream",
     "text": [
      "[Parallel(n_jobs=4)]: Done 326 tasks      | elapsed: 165.4min\n"
     ]
    },
    {
     "name": "stdout",
     "output_type": "stream",
     "text": [
      "[CV]  n_estimators=100, criterion=gini, max_depth=22, score=-0.640771 - 3.5min\n",
      "[CV] n_estimators=110, criterion=gini, max_depth=22 ..................\n"
     ]
    },
    {
     "name": "stderr",
     "output_type": "stream",
     "text": [
      "[Parallel(n_jobs=4)]: Done 327 tasks      | elapsed: 165.9min\n"
     ]
    },
    {
     "name": "stdout",
     "output_type": "stream",
     "text": [
      "[CV]  n_estimators=100, criterion=gini, max_depth=22, score=-0.642302 - 3.6min\n",
      "[CV] n_estimators=110, criterion=gini, max_depth=22 ..................\n"
     ]
    },
    {
     "name": "stderr",
     "output_type": "stream",
     "text": [
      "[Parallel(n_jobs=4)]: Done 328 tasks      | elapsed: 166.4min\n"
     ]
    },
    {
     "name": "stdout",
     "output_type": "stream",
     "text": [
      "[CV]  n_estimators=100, criterion=gini, max_depth=22, score=-0.643935 - 3.6min\n",
      "[CV] n_estimators=110, criterion=gini, max_depth=22 ..................\n"
     ]
    },
    {
     "name": "stderr",
     "output_type": "stream",
     "text": [
      "[Parallel(n_jobs=4)]: Done 329 tasks      | elapsed: 167.4min\n"
     ]
    },
    {
     "name": "stdout",
     "output_type": "stream",
     "text": [
      "[CV]  n_estimators=100, criterion=gini, max_depth=22, score=-0.654076 - 3.5min\n",
      "[CV] n_estimators=110, criterion=gini, max_depth=22 ..................\n"
     ]
    },
    {
     "name": "stderr",
     "output_type": "stream",
     "text": [
      "[Parallel(n_jobs=4)]: Done 330 tasks      | elapsed: 169.0min\n"
     ]
    },
    {
     "name": "stdout",
     "output_type": "stream",
     "text": [
      "[CV]  n_estimators=110, criterion=gini, max_depth=22, score=-0.643801 - 4.0min\n",
      "[CV] n_estimators=110, criterion=gini, max_depth=22 ..................\n"
     ]
    },
    {
     "name": "stderr",
     "output_type": "stream",
     "text": [
      "[Parallel(n_jobs=4)]: Done 331 tasks      | elapsed: 169.9min\n"
     ]
    },
    {
     "name": "stdout",
     "output_type": "stream",
     "text": [
      "[CV]  n_estimators=110, criterion=gini, max_depth=22, score=-0.639179 - 4.0min\n",
      "[CV] n_estimators=120, criterion=gini, max_depth=22 ..................\n"
     ]
    },
    {
     "name": "stderr",
     "output_type": "stream",
     "text": [
      "[Parallel(n_jobs=4)]: Done 332 tasks      | elapsed: 170.4min\n"
     ]
    },
    {
     "name": "stdout",
     "output_type": "stream",
     "text": [
      "[CV]  n_estimators=110, criterion=gini, max_depth=22, score=-0.641919 - 4.0min\n",
      "[CV] n_estimators=120, criterion=gini, max_depth=22 ..................\n"
     ]
    },
    {
     "name": "stderr",
     "output_type": "stream",
     "text": [
      "[Parallel(n_jobs=4)]: Done 333 tasks      | elapsed: 171.4min\n"
     ]
    },
    {
     "name": "stdout",
     "output_type": "stream",
     "text": [
      "[CV]  n_estimators=110, criterion=gini, max_depth=22, score=-0.643732 - 4.2min\n",
      "[CV] n_estimators=120, criterion=gini, max_depth=22 ..................\n"
     ]
    },
    {
     "name": "stderr",
     "output_type": "stream",
     "text": [
      "[Parallel(n_jobs=4)]: Done 334 tasks      | elapsed: 173.2min\n"
     ]
    },
    {
     "name": "stdout",
     "output_type": "stream",
     "text": [
      "[CV]  n_estimators=110, criterion=gini, max_depth=22, score=-0.654160 - 4.2min\n",
      "[CV] n_estimators=120, criterion=gini, max_depth=22 ..................\n"
     ]
    },
    {
     "name": "stderr",
     "output_type": "stream",
     "text": [
      "[Parallel(n_jobs=4)]: Done 335 tasks      | elapsed: 174.1min\n"
     ]
    },
    {
     "name": "stdout",
     "output_type": "stream",
     "text": [
      "[CV]  n_estimators=120, criterion=gini, max_depth=22, score=-0.644165 - 4.7min\n",
      "[CV] n_estimators=120, criterion=gini, max_depth=22 ..................\n"
     ]
    },
    {
     "name": "stderr",
     "output_type": "stream",
     "text": [
      "[Parallel(n_jobs=4)]: Done 336 tasks      | elapsed: 175.1min\n"
     ]
    },
    {
     "name": "stdout",
     "output_type": "stream",
     "text": [
      "[CV]  n_estimators=120, criterion=gini, max_depth=22, score=-0.640970 - 4.7min\n",
      "[CV] n_estimators=130, criterion=gini, max_depth=22 ..................\n"
     ]
    },
    {
     "name": "stderr",
     "output_type": "stream",
     "text": [
      "[Parallel(n_jobs=4)]: Done 337 tasks      | elapsed: 176.2min\n"
     ]
    },
    {
     "name": "stdout",
     "output_type": "stream",
     "text": [
      "[CV]  n_estimators=120, criterion=gini, max_depth=22, score=-0.640632 - 4.8min\n",
      "[CV] n_estimators=130, criterion=gini, max_depth=22 ..................\n"
     ]
    },
    {
     "name": "stderr",
     "output_type": "stream",
     "text": [
      "[Parallel(n_jobs=4)]: Done 338 tasks      | elapsed: 178.0min\n"
     ]
    },
    {
     "name": "stdout",
     "output_type": "stream",
     "text": [
      "[CV]  n_estimators=120, criterion=gini, max_depth=22, score=-0.642168 - 4.9min\n",
      "[CV] n_estimators=130, criterion=gini, max_depth=22 ..................\n"
     ]
    },
    {
     "name": "stderr",
     "output_type": "stream",
     "text": [
      "[Parallel(n_jobs=4)]: Done 339 tasks      | elapsed: 179.0min\n"
     ]
    },
    {
     "name": "stdout",
     "output_type": "stream",
     "text": [
      "[CV]  n_estimators=120, criterion=gini, max_depth=22, score=-0.652980 - 5.0min\n",
      "[CV] n_estimators=130, criterion=gini, max_depth=22 ..................\n"
     ]
    },
    {
     "name": "stderr",
     "output_type": "stream",
     "text": [
      "[Parallel(n_jobs=4)]: Done 340 tasks      | elapsed: 180.1min\n"
     ]
    },
    {
     "name": "stdout",
     "output_type": "stream",
     "text": [
      "[CV]  n_estimators=130, criterion=gini, max_depth=22, score=-0.644287 - 5.3min\n",
      "[CV] n_estimators=130, criterion=gini, max_depth=22 ..................\n"
     ]
    },
    {
     "name": "stderr",
     "output_type": "stream",
     "text": [
      "[Parallel(n_jobs=4)]: Done 341 tasks      | elapsed: 181.5min\n"
     ]
    },
    {
     "name": "stdout",
     "output_type": "stream",
     "text": [
      "[CV]  n_estimators=130, criterion=gini, max_depth=22, score=-0.638125 - 5.2min\n",
      "[CV] n_estimators=140, criterion=gini, max_depth=22 ..................\n"
     ]
    },
    {
     "name": "stderr",
     "output_type": "stream",
     "text": [
      "[Parallel(n_jobs=4)]: Done 342 tasks      | elapsed: 183.2min\n"
     ]
    },
    {
     "name": "stdout",
     "output_type": "stream",
     "text": [
      "[CV]  n_estimators=130, criterion=gini, max_depth=22, score=-0.640824 - 5.4min\n",
      "[CV] n_estimators=140, criterion=gini, max_depth=22 ..................\n"
     ]
    },
    {
     "name": "stderr",
     "output_type": "stream",
     "text": [
      "[Parallel(n_jobs=4)]: Done 343 tasks      | elapsed: 184.4min\n"
     ]
    },
    {
     "name": "stdout",
     "output_type": "stream",
     "text": [
      "[CV]  n_estimators=130, criterion=gini, max_depth=22, score=-0.640314 - 5.4min\n",
      "[CV] n_estimators=140, criterion=gini, max_depth=22 ..................\n"
     ]
    },
    {
     "name": "stderr",
     "output_type": "stream",
     "text": [
      "[Parallel(n_jobs=4)]: Done 344 tasks      | elapsed: 185.6min\n"
     ]
    },
    {
     "name": "stdout",
     "output_type": "stream",
     "text": [
      "[CV]  n_estimators=130, criterion=gini, max_depth=22, score=-0.652976 - 5.8min\n",
      "[CV] n_estimators=140, criterion=gini, max_depth=22 ..................\n"
     ]
    },
    {
     "name": "stderr",
     "output_type": "stream",
     "text": [
      "[Parallel(n_jobs=4)]: Done 345 tasks      | elapsed: 187.2min\n"
     ]
    },
    {
     "name": "stdout",
     "output_type": "stream",
     "text": [
      "[CV]  n_estimators=140, criterion=gini, max_depth=22, score=-0.642802 - 6.1min\n",
      "[CV] n_estimators=140, criterion=gini, max_depth=22 ..................\n"
     ]
    },
    {
     "name": "stderr",
     "output_type": "stream",
     "text": [
      "[Parallel(n_jobs=4)]: Done 346 tasks      | elapsed: 189.2min\n"
     ]
    },
    {
     "name": "stdout",
     "output_type": "stream",
     "text": [
      "[CV]  n_estimators=140, criterion=gini, max_depth=22, score=-0.637191 - 5.8min\n",
      "[CV] n_estimators=50, criterion=gini, max_depth=24 ...................\n"
     ]
    },
    {
     "name": "stderr",
     "output_type": "stream",
     "text": [
      "[Parallel(n_jobs=4)]: Done 347 tasks      | elapsed: 190.2min\n"
     ]
    },
    {
     "name": "stdout",
     "output_type": "stream",
     "text": [
      "[CV]  n_estimators=140, criterion=gini, max_depth=22, score=-0.641012 - 5.5min\n",
      "[CV] n_estimators=50, criterion=gini, max_depth=24 ...................\n"
     ]
    },
    {
     "name": "stderr",
     "output_type": "stream",
     "text": [
      "[Parallel(n_jobs=4)]: Done 348 tasks      | elapsed: 191.0min\n"
     ]
    },
    {
     "name": "stdout",
     "output_type": "stream",
     "text": [
      "[CV]  n_estimators=50, criterion=gini, max_depth=24, score=-0.660352 - 2.1min\n",
      "[CV] n_estimators=50, criterion=gini, max_depth=24 ...................\n"
     ]
    },
    {
     "name": "stderr",
     "output_type": "stream",
     "text": [
      "[Parallel(n_jobs=4)]: Done 349 tasks      | elapsed: 192.3min\n"
     ]
    },
    {
     "name": "stdout",
     "output_type": "stream",
     "text": [
      "[CV]  n_estimators=140, criterion=gini, max_depth=22, score=-0.641512 - 5.3min\n",
      "[CV] n_estimators=50, criterion=gini, max_depth=24 ...................\n"
     ]
    },
    {
     "name": "stderr",
     "output_type": "stream",
     "text": [
      "[Parallel(n_jobs=4)]: Done 350 tasks      | elapsed: 192.5min\n"
     ]
    },
    {
     "name": "stdout",
     "output_type": "stream",
     "text": [
      "[CV]  n_estimators=50, criterion=gini, max_depth=24, score=-0.652766 - 2.0min\n",
      "[CV] n_estimators=50, criterion=gini, max_depth=24 ...................\n"
     ]
    },
    {
     "name": "stderr",
     "output_type": "stream",
     "text": [
      "[Parallel(n_jobs=4)]: Done 351 tasks      | elapsed: 193.1min\n"
     ]
    },
    {
     "name": "stdout",
     "output_type": "stream",
     "text": [
      "[CV]  n_estimators=50, criterion=gini, max_depth=24, score=-0.651431 - 2.1min\n",
      "[CV] n_estimators=60, criterion=gini, max_depth=24 ...................\n"
     ]
    },
    {
     "name": "stderr",
     "output_type": "stream",
     "text": [
      "[Parallel(n_jobs=4)]: Done 352 tasks      | elapsed: 194.4min\n"
     ]
    },
    {
     "name": "stdout",
     "output_type": "stream",
     "text": [
      "[CV]  n_estimators=50, criterion=gini, max_depth=24, score=-0.657352 - 2.1min\n",
      "[CV] n_estimators=60, criterion=gini, max_depth=24 ...................\n"
     ]
    },
    {
     "name": "stderr",
     "output_type": "stream",
     "text": [
      "[Parallel(n_jobs=4)]: Done 353 tasks      | elapsed: 194.6min\n"
     ]
    },
    {
     "name": "stdout",
     "output_type": "stream",
     "text": [
      "[CV]  n_estimators=140, criterion=gini, max_depth=22, score=-0.652927 - 5.4min\n",
      "[CV] n_estimators=60, criterion=gini, max_depth=24 ...................\n"
     ]
    },
    {
     "name": "stderr",
     "output_type": "stream",
     "text": [
      "[Parallel(n_jobs=4)]: Done 354 tasks      | elapsed: 194.6min\n"
     ]
    },
    {
     "name": "stdout",
     "output_type": "stream",
     "text": [
      "[CV]  n_estimators=50, criterion=gini, max_depth=24, score=-0.668990 - 2.1min\n",
      "[CV] n_estimators=60, criterion=gini, max_depth=24 ...................\n"
     ]
    },
    {
     "name": "stderr",
     "output_type": "stream",
     "text": [
      "[Parallel(n_jobs=4)]: Done 355 tasks      | elapsed: 195.2min\n"
     ]
    },
    {
     "name": "stdout",
     "output_type": "stream",
     "text": [
      "[CV]  n_estimators=60, criterion=gini, max_depth=24, score=-0.648147 - 2.5min\n",
      "[CV] n_estimators=60, criterion=gini, max_depth=24 ...................\n"
     ]
    },
    {
     "name": "stderr",
     "output_type": "stream",
     "text": [
      "[Parallel(n_jobs=4)]: Done 356 tasks      | elapsed: 196.8min\n"
     ]
    },
    {
     "name": "stdout",
     "output_type": "stream",
     "text": [
      "[CV]  n_estimators=60, criterion=gini, max_depth=24, score=-0.642832 - 2.5min\n",
      "[CV] n_estimators=70, criterion=gini, max_depth=24 ...................\n"
     ]
    },
    {
     "name": "stderr",
     "output_type": "stream",
     "text": [
      "[Parallel(n_jobs=4)]: Done 357 tasks      | elapsed: 197.0min\n"
     ]
    },
    {
     "name": "stdout",
     "output_type": "stream",
     "text": [
      "[CV]  n_estimators=60, criterion=gini, max_depth=24, score=-0.647947 - 2.5min\n",
      "[CV] n_estimators=70, criterion=gini, max_depth=24 ...................\n"
     ]
    },
    {
     "name": "stderr",
     "output_type": "stream",
     "text": [
      "[Parallel(n_jobs=4)]: Done 358 tasks      | elapsed: 197.1min\n"
     ]
    },
    {
     "name": "stdout",
     "output_type": "stream",
     "text": [
      "[CV]  n_estimators=60, criterion=gini, max_depth=24, score=-0.650202 - 2.5min\n",
      "[CV] n_estimators=70, criterion=gini, max_depth=24 ...................\n"
     ]
    },
    {
     "name": "stderr",
     "output_type": "stream",
     "text": [
      "[Parallel(n_jobs=4)]: Done 359 tasks      | elapsed: 197.7min\n"
     ]
    },
    {
     "name": "stdout",
     "output_type": "stream",
     "text": [
      "[CV]  n_estimators=60, criterion=gini, max_depth=24, score=-0.656659 - 2.6min\n",
      "[CV] n_estimators=70, criterion=gini, max_depth=24 ...................\n"
     ]
    },
    {
     "name": "stderr",
     "output_type": "stream",
     "text": [
      "[Parallel(n_jobs=4)]: Done 360 tasks      | elapsed: 199.4min\n"
     ]
    },
    {
     "name": "stdout",
     "output_type": "stream",
     "text": [
      "[CV]  n_estimators=70, criterion=gini, max_depth=24, score=-0.647331 - 2.9min\n",
      "[CV] n_estimators=70, criterion=gini, max_depth=24 ...................\n"
     ]
    },
    {
     "name": "stderr",
     "output_type": "stream",
     "text": [
      "[Parallel(n_jobs=4)]: Done 361 tasks      | elapsed: 200.0min\n"
     ]
    },
    {
     "name": "stdout",
     "output_type": "stream",
     "text": [
      "[CV]  n_estimators=70, criterion=gini, max_depth=24, score=-0.641238 - 2.9min\n",
      "[CV] n_estimators=80, criterion=gini, max_depth=24 ...................\n"
     ]
    },
    {
     "name": "stderr",
     "output_type": "stream",
     "text": [
      "[Parallel(n_jobs=4)]: Done 362 tasks      | elapsed: 200.0min\n"
     ]
    },
    {
     "name": "stdout",
     "output_type": "stream",
     "text": [
      "[CV]  n_estimators=70, criterion=gini, max_depth=24, score=-0.646422 - 2.9min\n",
      "[CV] n_estimators=80, criterion=gini, max_depth=24 ...................\n"
     ]
    },
    {
     "name": "stderr",
     "output_type": "stream",
     "text": [
      "[Parallel(n_jobs=4)]: Done 363 tasks      | elapsed: 200.6min\n"
     ]
    },
    {
     "name": "stdout",
     "output_type": "stream",
     "text": [
      "[CV]  n_estimators=70, criterion=gini, max_depth=24, score=-0.652174 - 2.9min\n",
      "[CV] n_estimators=80, criterion=gini, max_depth=24 ...................\n"
     ]
    },
    {
     "name": "stderr",
     "output_type": "stream",
     "text": [
      "[Parallel(n_jobs=4)]: Done 364 tasks      | elapsed: 202.3min\n"
     ]
    },
    {
     "name": "stdout",
     "output_type": "stream",
     "text": [
      "[CV]  n_estimators=70, criterion=gini, max_depth=24, score=-0.655898 - 2.9min\n",
      "[CV] n_estimators=80, criterion=gini, max_depth=24 ...................\n"
     ]
    },
    {
     "name": "stderr",
     "output_type": "stream",
     "text": [
      "[Parallel(n_jobs=4)]: Done 365 tasks      | elapsed: 202.9min\n"
     ]
    },
    {
     "name": "stdout",
     "output_type": "stream",
     "text": [
      "[CV]  n_estimators=80, criterion=gini, max_depth=24, score=-0.649324 - 3.3min\n",
      "[CV] n_estimators=80, criterion=gini, max_depth=24 ...................\n"
     ]
    },
    {
     "name": "stderr",
     "output_type": "stream",
     "text": [
      "[Parallel(n_jobs=4)]: Done 366 tasks      | elapsed: 203.4min\n"
     ]
    },
    {
     "name": "stdout",
     "output_type": "stream",
     "text": [
      "[CV]  n_estimators=80, criterion=gini, max_depth=24, score=-0.642600 - 3.4min\n",
      "[CV] n_estimators=90, criterion=gini, max_depth=24 ...................\n"
     ]
    },
    {
     "name": "stderr",
     "output_type": "stream",
     "text": [
      "[Parallel(n_jobs=4)]: Done 367 tasks      | elapsed: 204.0min\n"
     ]
    },
    {
     "name": "stdout",
     "output_type": "stream",
     "text": [
      "[CV]  n_estimators=80, criterion=gini, max_depth=24, score=-0.647083 - 3.6min\n",
      "[CV] n_estimators=90, criterion=gini, max_depth=24 ...................\n"
     ]
    },
    {
     "name": "stderr",
     "output_type": "stream",
     "text": [
      "[Parallel(n_jobs=4)]: Done 368 tasks      | elapsed: 205.8min\n"
     ]
    },
    {
     "name": "stdout",
     "output_type": "stream",
     "text": [
      "[CV]  n_estimators=80, criterion=gini, max_depth=24, score=-0.650076 - 3.6min\n",
      "[CV] n_estimators=90, criterion=gini, max_depth=24 ...................\n"
     ]
    },
    {
     "name": "stderr",
     "output_type": "stream",
     "text": [
      "[Parallel(n_jobs=4)]: Done 369 tasks      | elapsed: 206.5min\n"
     ]
    },
    {
     "name": "stdout",
     "output_type": "stream",
     "text": [
      "[CV]  n_estimators=80, criterion=gini, max_depth=24, score=-0.658710 - 3.6min\n",
      "[CV] n_estimators=90, criterion=gini, max_depth=24 ...................\n"
     ]
    },
    {
     "name": "stderr",
     "output_type": "stream",
     "text": [
      "[Parallel(n_jobs=4)]: Done 370 tasks      | elapsed: 207.0min\n"
     ]
    },
    {
     "name": "stdout",
     "output_type": "stream",
     "text": [
      "[CV]  n_estimators=90, criterion=gini, max_depth=24, score=-0.647193 - 3.9min\n",
      "[CV] n_estimators=90, criterion=gini, max_depth=24 ...................\n"
     ]
    },
    {
     "name": "stderr",
     "output_type": "stream",
     "text": [
      "[Parallel(n_jobs=4)]: Done 371 tasks      | elapsed: 207.9min\n"
     ]
    },
    {
     "name": "stdout",
     "output_type": "stream",
     "text": [
      "[CV]  n_estimators=90, criterion=gini, max_depth=24, score=-0.645375 - 3.8min\n",
      "[CV] n_estimators=100, criterion=gini, max_depth=24 ..................\n"
     ]
    },
    {
     "name": "stderr",
     "output_type": "stream",
     "text": [
      "[Parallel(n_jobs=4)]: Done 372 tasks      | elapsed: 209.6min\n"
     ]
    },
    {
     "name": "stdout",
     "output_type": "stream",
     "text": [
      "[CV]  n_estimators=90, criterion=gini, max_depth=24, score=-0.645602 - 3.9min\n",
      "[CV] n_estimators=100, criterion=gini, max_depth=24 ..................\n"
     ]
    },
    {
     "name": "stderr",
     "output_type": "stream",
     "text": [
      "[Parallel(n_jobs=4)]: Done 373 tasks      | elapsed: 210.4min\n"
     ]
    },
    {
     "name": "stdout",
     "output_type": "stream",
     "text": [
      "[CV]  n_estimators=90, criterion=gini, max_depth=24, score=-0.647794 - 4.0min\n",
      "[CV] n_estimators=100, criterion=gini, max_depth=24 ..................\n"
     ]
    },
    {
     "name": "stderr",
     "output_type": "stream",
     "text": [
      "[Parallel(n_jobs=4)]: Done 374 tasks      | elapsed: 211.0min\n"
     ]
    },
    {
     "name": "stdout",
     "output_type": "stream",
     "text": [
      "[CV]  n_estimators=90, criterion=gini, max_depth=24, score=-0.654520 - 4.0min\n",
      "[CV] n_estimators=100, criterion=gini, max_depth=24 ..................\n"
     ]
    },
    {
     "name": "stderr",
     "output_type": "stream",
     "text": [
      "[Parallel(n_jobs=4)]: Done 375 tasks      | elapsed: 212.0min\n"
     ]
    },
    {
     "name": "stdout",
     "output_type": "stream",
     "text": [
      "[CV]  n_estimators=100, criterion=gini, max_depth=24, score=-0.651537 - 4.4min\n",
      "[CV] n_estimators=100, criterion=gini, max_depth=24 ..................\n"
     ]
    },
    {
     "name": "stderr",
     "output_type": "stream",
     "text": [
      "[Parallel(n_jobs=4)]: Done 376 tasks      | elapsed: 214.1min\n"
     ]
    },
    {
     "name": "stdout",
     "output_type": "stream",
     "text": [
      "[CV]  n_estimators=100, criterion=gini, max_depth=24, score=-0.642393 - 4.3min\n",
      "[CV] n_estimators=110, criterion=gini, max_depth=24 ..................\n"
     ]
    },
    {
     "name": "stderr",
     "output_type": "stream",
     "text": [
      "[Parallel(n_jobs=4)]: Done 377 tasks      | elapsed: 214.7min\n"
     ]
    },
    {
     "name": "stdout",
     "output_type": "stream",
     "text": [
      "[CV]  n_estimators=100, criterion=gini, max_depth=24, score=-0.645119 - 4.1min\n",
      "[CV] n_estimators=110, criterion=gini, max_depth=24 ..................\n"
     ]
    },
    {
     "name": "stderr",
     "output_type": "stream",
     "text": [
      "[Parallel(n_jobs=4)]: Done 378 tasks      | elapsed: 215.1min\n"
     ]
    },
    {
     "name": "stdout",
     "output_type": "stream",
     "text": [
      "[CV]  n_estimators=100, criterion=gini, max_depth=24, score=-0.646034 - 4.1min\n",
      "[CV] n_estimators=110, criterion=gini, max_depth=24 ..................\n"
     ]
    },
    {
     "name": "stderr",
     "output_type": "stream",
     "text": [
      "[Parallel(n_jobs=4)]: Done 379 tasks      | elapsed: 216.1min\n"
     ]
    },
    {
     "name": "stdout",
     "output_type": "stream",
     "text": [
      "[CV]  n_estimators=100, criterion=gini, max_depth=24, score=-0.656377 - 4.0min\n",
      "[CV] n_estimators=110, criterion=gini, max_depth=24 ..................\n"
     ]
    },
    {
     "name": "stderr",
     "output_type": "stream",
     "text": [
      "[Parallel(n_jobs=4)]: Done 380 tasks      | elapsed: 218.0min\n"
     ]
    },
    {
     "name": "stdout",
     "output_type": "stream",
     "text": [
      "[CV]  n_estimators=110, criterion=gini, max_depth=24, score=-0.649697 - 4.3min\n",
      "[CV] n_estimators=110, criterion=gini, max_depth=24 ..................\n"
     ]
    },
    {
     "name": "stderr",
     "output_type": "stream",
     "text": [
      "[Parallel(n_jobs=4)]: Done 381 tasks      | elapsed: 218.9min\n"
     ]
    },
    {
     "name": "stdout",
     "output_type": "stream",
     "text": [
      "[CV]  n_estimators=110, criterion=gini, max_depth=24, score=-0.638503 - 4.3min\n",
      "[CV] n_estimators=120, criterion=gini, max_depth=24 ..................\n"
     ]
    },
    {
     "name": "stderr",
     "output_type": "stream",
     "text": [
      "[Parallel(n_jobs=4)]: Done 382 tasks      | elapsed: 219.4min\n"
     ]
    },
    {
     "name": "stdout",
     "output_type": "stream",
     "text": [
      "[CV]  n_estimators=110, criterion=gini, max_depth=24, score=-0.645026 - 4.4min\n",
      "[CV] n_estimators=120, criterion=gini, max_depth=24 ..................\n"
     ]
    },
    {
     "name": "stderr",
     "output_type": "stream",
     "text": [
      "[Parallel(n_jobs=4)]: Done 383 tasks      | elapsed: 220.5min\n"
     ]
    },
    {
     "name": "stdout",
     "output_type": "stream",
     "text": [
      "[CV]  n_estimators=110, criterion=gini, max_depth=24, score=-0.645336 - 4.3min\n",
      "[CV] n_estimators=120, criterion=gini, max_depth=24 ..................\n"
     ]
    },
    {
     "name": "stderr",
     "output_type": "stream",
     "text": [
      "[Parallel(n_jobs=4)]: Done 384 tasks      | elapsed: 222.4min\n"
     ]
    },
    {
     "name": "stdout",
     "output_type": "stream",
     "text": [
      "[CV]  n_estimators=110, criterion=gini, max_depth=24, score=-0.655858 - 4.3min\n",
      "[CV] n_estimators=120, criterion=gini, max_depth=24 ..................\n"
     ]
    },
    {
     "name": "stderr",
     "output_type": "stream",
     "text": [
      "[Parallel(n_jobs=4)]: Done 385 tasks      | elapsed: 223.3min\n"
     ]
    },
    {
     "name": "stdout",
     "output_type": "stream",
     "text": [
      "[CV]  n_estimators=120, criterion=gini, max_depth=24, score=-0.648638 - 4.7min\n",
      "[CV] n_estimators=120, criterion=gini, max_depth=24 ..................\n"
     ]
    },
    {
     "name": "stderr",
     "output_type": "stream",
     "text": [
      "[Parallel(n_jobs=4)]: Done 386 tasks      | elapsed: 224.1min\n"
     ]
    },
    {
     "name": "stdout",
     "output_type": "stream",
     "text": [
      "[CV]  n_estimators=120, criterion=gini, max_depth=24, score=-0.640854 - 4.6min\n",
      "[CV] n_estimators=130, criterion=gini, max_depth=24 ..................\n"
     ]
    },
    {
     "name": "stderr",
     "output_type": "stream",
     "text": [
      "[Parallel(n_jobs=4)]: Done 387 tasks      | elapsed: 225.1min\n"
     ]
    },
    {
     "name": "stdout",
     "output_type": "stream",
     "text": [
      "[CV]  n_estimators=120, criterion=gini, max_depth=24, score=-0.642633 - 4.8min\n",
      "[CV] n_estimators=130, criterion=gini, max_depth=24 ..................\n"
     ]
    },
    {
     "name": "stderr",
     "output_type": "stream",
     "text": [
      "[Parallel(n_jobs=4)]: Done 388 tasks      | elapsed: 227.1min\n"
     ]
    },
    {
     "name": "stdout",
     "output_type": "stream",
     "text": [
      "[CV]  n_estimators=120, criterion=gini, max_depth=24, score=-0.643833 - 4.7min\n",
      "[CV] n_estimators=130, criterion=gini, max_depth=24 ..................\n"
     ]
    },
    {
     "name": "stderr",
     "output_type": "stream",
     "text": [
      "[Parallel(n_jobs=4)]: Done 389 tasks      | elapsed: 228.0min\n"
     ]
    },
    {
     "name": "stdout",
     "output_type": "stream",
     "text": [
      "[CV]  n_estimators=120, criterion=gini, max_depth=24, score=-0.654280 - 4.8min\n",
      "[CV] n_estimators=130, criterion=gini, max_depth=24 ..................\n"
     ]
    },
    {
     "name": "stderr",
     "output_type": "stream",
     "text": [
      "[Parallel(n_jobs=4)]: Done 390 tasks      | elapsed: 228.9min\n"
     ]
    },
    {
     "name": "stdout",
     "output_type": "stream",
     "text": [
      "[CV]  n_estimators=130, criterion=gini, max_depth=24, score=-0.645599 - 5.2min\n",
      "[CV] n_estimators=130, criterion=gini, max_depth=24 ..................\n"
     ]
    },
    {
     "name": "stderr",
     "output_type": "stream",
     "text": [
      "[Parallel(n_jobs=4)]: Done 391 tasks      | elapsed: 230.3min\n"
     ]
    },
    {
     "name": "stdout",
     "output_type": "stream",
     "text": [
      "[CV]  n_estimators=130, criterion=gini, max_depth=24, score=-0.640593 - 5.0min\n",
      "[CV] n_estimators=140, criterion=gini, max_depth=24 ..................\n"
     ]
    },
    {
     "name": "stderr",
     "output_type": "stream",
     "text": [
      "[Parallel(n_jobs=4)]: Done 392 tasks      | elapsed: 232.1min\n"
     ]
    },
    {
     "name": "stdout",
     "output_type": "stream",
     "text": [
      "[CV]  n_estimators=130, criterion=gini, max_depth=24, score=-0.642848 - 5.0min\n",
      "[CV] n_estimators=140, criterion=gini, max_depth=24 ..................\n"
     ]
    },
    {
     "name": "stderr",
     "output_type": "stream",
     "text": [
      "[Parallel(n_jobs=4)]: Done 393 tasks      | elapsed: 233.1min\n"
     ]
    },
    {
     "name": "stdout",
     "output_type": "stream",
     "text": [
      "[CV]  n_estimators=130, criterion=gini, max_depth=24, score=-0.645168 - 5.0min\n",
      "[CV] n_estimators=140, criterion=gini, max_depth=24 ..................\n"
     ]
    },
    {
     "name": "stderr",
     "output_type": "stream",
     "text": [
      "[Parallel(n_jobs=4)]: Done 394 tasks      | elapsed: 233.9min\n"
     ]
    },
    {
     "name": "stdout",
     "output_type": "stream",
     "text": [
      "[CV]  n_estimators=130, criterion=gini, max_depth=24, score=-0.652550 - 5.1min\n",
      "[CV] n_estimators=140, criterion=gini, max_depth=24 ..................\n"
     ]
    },
    {
     "name": "stderr",
     "output_type": "stream",
     "text": [
      "[Parallel(n_jobs=4)]: Done 395 tasks      | elapsed: 235.4min\n"
     ]
    },
    {
     "name": "stdout",
     "output_type": "stream",
     "text": [
      "[CV]  n_estimators=140, criterion=gini, max_depth=24, score=-0.644919 - 5.8min\n",
      "[CV] n_estimators=140, criterion=gini, max_depth=24 ..................\n"
     ]
    },
    {
     "name": "stderr",
     "output_type": "stream",
     "text": [
      "[Parallel(n_jobs=4)]: Done 396 tasks      | elapsed: 238.0min\n"
     ]
    },
    {
     "name": "stdout",
     "output_type": "stream",
     "text": [
      "[CV]  n_estimators=140, criterion=gini, max_depth=24, score=-0.640261 - 5.9min\n",
      "[CV] n_estimators=50, criterion=gini, max_depth=26 ...................\n"
     ]
    },
    {
     "name": "stderr",
     "output_type": "stream",
     "text": [
      "[Parallel(n_jobs=4)]: Done 397 tasks      | elapsed: 238.9min\n"
     ]
    },
    {
     "name": "stdout",
     "output_type": "stream",
     "text": [
      "[CV]  n_estimators=140, criterion=gini, max_depth=24, score=-0.642859 - 5.9min\n",
      "[CV] n_estimators=50, criterion=gini, max_depth=26 ...................\n"
     ]
    },
    {
     "name": "stderr",
     "output_type": "stream",
     "text": [
      "[Parallel(n_jobs=4)]: Done 398 tasks      | elapsed: 239.8min\n"
     ]
    },
    {
     "name": "stdout",
     "output_type": "stream",
     "text": [
      "[CV]  n_estimators=50, criterion=gini, max_depth=26, score=-0.665252 - 2.2min\n",
      "[CV] n_estimators=50, criterion=gini, max_depth=26 ...................\n"
     ]
    },
    {
     "name": "stderr",
     "output_type": "stream",
     "text": [
      "[Parallel(n_jobs=4)]: Done 399 tasks      | elapsed: 241.2min\n"
     ]
    },
    {
     "name": "stdout",
     "output_type": "stream",
     "text": [
      "[CV]  n_estimators=140, criterion=gini, max_depth=24, score=-0.643922 - 6.0min\n",
      "[CV] n_estimators=50, criterion=gini, max_depth=26 ...................\n"
     ]
    },
    {
     "name": "stderr",
     "output_type": "stream",
     "text": [
      "[Parallel(n_jobs=4)]: Done 400 tasks      | elapsed: 241.4min\n"
     ]
    },
    {
     "name": "stdout",
     "output_type": "stream",
     "text": [
      "[CV]  n_estimators=50, criterion=gini, max_depth=26, score=-0.659466 - 2.2min\n",
      "[CV] n_estimators=50, criterion=gini, max_depth=26 ...................\n"
     ]
    },
    {
     "name": "stderr",
     "output_type": "stream",
     "text": [
      "[Parallel(n_jobs=4)]: Done 401 tasks      | elapsed: 242.0min\n"
     ]
    },
    {
     "name": "stdout",
     "output_type": "stream",
     "text": [
      "[CV]  n_estimators=50, criterion=gini, max_depth=26, score=-0.652719 - 2.2min\n",
      "[CV] n_estimators=60, criterion=gini, max_depth=26 ...................\n"
     ]
    },
    {
     "name": "stderr",
     "output_type": "stream",
     "text": [
      "[Parallel(n_jobs=4)]: Done 402 tasks      | elapsed: 243.4min\n"
     ]
    },
    {
     "name": "stdout",
     "output_type": "stream",
     "text": [
      "[CV]  n_estimators=50, criterion=gini, max_depth=26, score=-0.660620 - 2.2min\n",
      "[CV] n_estimators=60, criterion=gini, max_depth=26 ...................\n"
     ]
    },
    {
     "name": "stderr",
     "output_type": "stream",
     "text": [
      "[Parallel(n_jobs=4)]: Done 403 tasks      | elapsed: 243.6min\n"
     ]
    },
    {
     "name": "stdout",
     "output_type": "stream",
     "text": [
      "[CV]  n_estimators=140, criterion=gini, max_depth=24, score=-0.653190 - 5.8min\n",
      "[CV] n_estimators=60, criterion=gini, max_depth=26 ...................\n"
     ]
    },
    {
     "name": "stderr",
     "output_type": "stream",
     "text": [
      "[Parallel(n_jobs=4)]: Done 404 tasks      | elapsed: 243.7min\n"
     ]
    },
    {
     "name": "stdout",
     "output_type": "stream",
     "text": [
      "[CV]  n_estimators=50, criterion=gini, max_depth=26, score=-0.666378 - 2.2min\n",
      "[CV] n_estimators=60, criterion=gini, max_depth=26 ...................\n"
     ]
    },
    {
     "name": "stderr",
     "output_type": "stream",
     "text": [
      "[Parallel(n_jobs=4)]: Done 405 tasks      | elapsed: 244.2min\n"
     ]
    },
    {
     "name": "stdout",
     "output_type": "stream",
     "text": [
      "[CV]  n_estimators=60, criterion=gini, max_depth=26, score=-0.654779 - 2.5min\n",
      "[CV] n_estimators=60, criterion=gini, max_depth=26 ...................\n"
     ]
    },
    {
     "name": "stderr",
     "output_type": "stream",
     "text": [
      "[Parallel(n_jobs=4)]: Done 406 tasks      | elapsed: 245.8min\n"
     ]
    },
    {
     "name": "stdout",
     "output_type": "stream",
     "text": [
      "[CV]  n_estimators=60, criterion=gini, max_depth=26, score=-0.646096 - 2.5min\n",
      "[CV] n_estimators=70, criterion=gini, max_depth=26 ...................\n"
     ]
    },
    {
     "name": "stderr",
     "output_type": "stream",
     "text": [
      "[Parallel(n_jobs=4)]: Done 407 tasks      | elapsed: 246.0min\n"
     ]
    },
    {
     "name": "stdout",
     "output_type": "stream",
     "text": [
      "[CV]  n_estimators=60, criterion=gini, max_depth=26, score=-0.654787 - 2.5min\n",
      "[CV] n_estimators=70, criterion=gini, max_depth=26 ...................\n"
     ]
    },
    {
     "name": "stderr",
     "output_type": "stream",
     "text": [
      "[Parallel(n_jobs=4)]: Done 408 tasks      | elapsed: 246.2min\n"
     ]
    },
    {
     "name": "stdout",
     "output_type": "stream",
     "text": [
      "[CV]  n_estimators=60, criterion=gini, max_depth=26, score=-0.654670 - 2.5min\n",
      "[CV] n_estimators=70, criterion=gini, max_depth=26 ...................\n"
     ]
    },
    {
     "name": "stderr",
     "output_type": "stream",
     "text": [
      "[Parallel(n_jobs=4)]: Done 409 tasks      | elapsed: 246.6min\n"
     ]
    },
    {
     "name": "stdout",
     "output_type": "stream",
     "text": [
      "[CV]  n_estimators=60, criterion=gini, max_depth=26, score=-0.679525 - 2.4min\n",
      "[CV] n_estimators=70, criterion=gini, max_depth=26 ...................\n"
     ]
    },
    {
     "name": "stderr",
     "output_type": "stream",
     "text": [
      "[Parallel(n_jobs=4)]: Done 410 tasks      | elapsed: 248.3min\n"
     ]
    },
    {
     "name": "stdout",
     "output_type": "stream",
     "text": [
      "[CV]  n_estimators=70, criterion=gini, max_depth=26, score=-0.650685 - 2.9min\n",
      "[CV] n_estimators=70, criterion=gini, max_depth=26 ...................\n"
     ]
    },
    {
     "name": "stderr",
     "output_type": "stream",
     "text": [
      "[Parallel(n_jobs=4)]: Done 411 tasks      | elapsed: 248.9min\n"
     ]
    },
    {
     "name": "stdout",
     "output_type": "stream",
     "text": [
      "[CV]  n_estimators=70, criterion=gini, max_depth=26, score=-0.647711 - 2.9min\n",
      "[CV] n_estimators=80, criterion=gini, max_depth=26 ...................\n"
     ]
    },
    {
     "name": "stderr",
     "output_type": "stream",
     "text": [
      "[Parallel(n_jobs=4)]: Done 412 tasks      | elapsed: 249.1min\n"
     ]
    },
    {
     "name": "stdout",
     "output_type": "stream",
     "text": [
      "[CV]  n_estimators=70, criterion=gini, max_depth=26, score=-0.652249 - 2.9min\n",
      "[CV] n_estimators=80, criterion=gini, max_depth=26 ...................\n"
     ]
    },
    {
     "name": "stderr",
     "output_type": "stream",
     "text": [
      "[Parallel(n_jobs=4)]: Done 413 tasks      | elapsed: 249.5min\n"
     ]
    },
    {
     "name": "stdout",
     "output_type": "stream",
     "text": [
      "[CV]  n_estimators=70, criterion=gini, max_depth=26, score=-0.650778 - 2.9min\n",
      "[CV] n_estimators=80, criterion=gini, max_depth=26 ...................\n"
     ]
    },
    {
     "name": "stderr",
     "output_type": "stream",
     "text": [
      "[Parallel(n_jobs=4)]: Done 414 tasks      | elapsed: 251.1min\n"
     ]
    },
    {
     "name": "stdout",
     "output_type": "stream",
     "text": [
      "[CV]  n_estimators=70, criterion=gini, max_depth=26, score=-0.658547 - 2.9min\n",
      "[CV] n_estimators=80, criterion=gini, max_depth=26 ...................\n"
     ]
    },
    {
     "name": "stderr",
     "output_type": "stream",
     "text": [
      "[Parallel(n_jobs=4)]: Done 415 tasks      | elapsed: 251.8min\n"
     ]
    },
    {
     "name": "stdout",
     "output_type": "stream",
     "text": [
      "[CV]  n_estimators=80, criterion=gini, max_depth=26, score=-0.654239 - 3.3min\n",
      "[CV] n_estimators=80, criterion=gini, max_depth=26 ...................\n"
     ]
    },
    {
     "name": "stderr",
     "output_type": "stream",
     "text": [
      "[Parallel(n_jobs=4)]: Done 416 tasks      | elapsed: 252.4min\n"
     ]
    },
    {
     "name": "stdout",
     "output_type": "stream",
     "text": [
      "[CV]  n_estimators=80, criterion=gini, max_depth=26, score=-0.647408 - 3.3min\n",
      "[CV] n_estimators=90, criterion=gini, max_depth=26 ...................\n"
     ]
    },
    {
     "name": "stderr",
     "output_type": "stream",
     "text": [
      "[Parallel(n_jobs=4)]: Done 417 tasks      | elapsed: 252.8min\n"
     ]
    },
    {
     "name": "stdout",
     "output_type": "stream",
     "text": [
      "[CV]  n_estimators=80, criterion=gini, max_depth=26, score=-0.650169 - 3.3min\n",
      "[CV] n_estimators=90, criterion=gini, max_depth=26 ...................\n"
     ]
    },
    {
     "name": "stderr",
     "output_type": "stream",
     "text": [
      "[Parallel(n_jobs=4)]: Done 418 tasks      | elapsed: 254.5min\n"
     ]
    },
    {
     "name": "stdout",
     "output_type": "stream",
     "text": [
      "[CV]  n_estimators=80, criterion=gini, max_depth=26, score=-0.649662 - 3.3min\n",
      "[CV] n_estimators=90, criterion=gini, max_depth=26 ...................\n"
     ]
    },
    {
     "name": "stderr",
     "output_type": "stream",
     "text": [
      "[Parallel(n_jobs=4)]: Done 419 tasks      | elapsed: 255.1min\n"
     ]
    },
    {
     "name": "stdout",
     "output_type": "stream",
     "text": [
      "[CV]  n_estimators=80, criterion=gini, max_depth=26, score=-0.659917 - 3.3min\n",
      "[CV] n_estimators=90, criterion=gini, max_depth=26 ...................\n"
     ]
    },
    {
     "name": "stderr",
     "output_type": "stream",
     "text": [
      "[Parallel(n_jobs=4)]: Done 420 tasks      | elapsed: 255.7min\n"
     ]
    },
    {
     "name": "stdout",
     "output_type": "stream",
     "text": [
      "[CV]  n_estimators=90, criterion=gini, max_depth=26, score=-0.653627 - 3.7min\n",
      "[CV] n_estimators=90, criterion=gini, max_depth=26 ...................\n"
     ]
    },
    {
     "name": "stderr",
     "output_type": "stream",
     "text": [
      "[Parallel(n_jobs=4)]: Done 421 tasks      | elapsed: 256.6min\n"
     ]
    },
    {
     "name": "stdout",
     "output_type": "stream",
     "text": [
      "[CV]  n_estimators=90, criterion=gini, max_depth=26, score=-0.647718 - 3.8min\n",
      "[CV] n_estimators=100, criterion=gini, max_depth=26 ..................\n"
     ]
    },
    {
     "name": "stderr",
     "output_type": "stream",
     "text": [
      "[Parallel(n_jobs=4)]: Done 422 tasks      | elapsed: 258.2min\n"
     ]
    },
    {
     "name": "stdout",
     "output_type": "stream",
     "text": [
      "[CV]  n_estimators=90, criterion=gini, max_depth=26, score=-0.647476 - 3.7min\n",
      "[CV] n_estimators=100, criterion=gini, max_depth=26 ..................\n"
     ]
    },
    {
     "name": "stderr",
     "output_type": "stream",
     "text": [
      "[Parallel(n_jobs=4)]: Done 423 tasks      | elapsed: 258.8min\n"
     ]
    },
    {
     "name": "stdout",
     "output_type": "stream",
     "text": [
      "[CV]  n_estimators=90, criterion=gini, max_depth=26, score=-0.650056 - 3.7min\n",
      "[CV] n_estimators=100, criterion=gini, max_depth=26 ..................\n"
     ]
    },
    {
     "name": "stderr",
     "output_type": "stream",
     "text": [
      "[Parallel(n_jobs=4)]: Done 424 tasks      | elapsed: 259.4min\n"
     ]
    },
    {
     "name": "stdout",
     "output_type": "stream",
     "text": [
      "[CV]  n_estimators=90, criterion=gini, max_depth=26, score=-0.658965 - 3.7min\n",
      "[CV] n_estimators=100, criterion=gini, max_depth=26 ..................\n"
     ]
    },
    {
     "name": "stderr",
     "output_type": "stream",
     "text": [
      "[Parallel(n_jobs=4)]: Done 425 tasks      | elapsed: 260.3min\n"
     ]
    },
    {
     "name": "stdout",
     "output_type": "stream",
     "text": [
      "[CV]  n_estimators=100, criterion=gini, max_depth=26, score=-0.644800 - 4.0min\n",
      "[CV] n_estimators=100, criterion=gini, max_depth=26 ..................\n"
     ]
    },
    {
     "name": "stderr",
     "output_type": "stream",
     "text": [
      "[Parallel(n_jobs=4)]: Done 426 tasks      | elapsed: 262.3min\n"
     ]
    },
    {
     "name": "stdout",
     "output_type": "stream",
     "text": [
      "[CV]  n_estimators=100, criterion=gini, max_depth=26, score=-0.642927 - 4.1min\n",
      "[CV] n_estimators=110, criterion=gini, max_depth=26 ..................\n"
     ]
    },
    {
     "name": "stderr",
     "output_type": "stream",
     "text": [
      "[Parallel(n_jobs=4)]: Done 427 tasks      | elapsed: 262.9min\n"
     ]
    },
    {
     "name": "stdout",
     "output_type": "stream",
     "text": [
      "[CV]  n_estimators=100, criterion=gini, max_depth=26, score=-0.645818 - 4.1min\n",
      "[CV] n_estimators=110, criterion=gini, max_depth=26 ..................\n"
     ]
    },
    {
     "name": "stderr",
     "output_type": "stream",
     "text": [
      "[Parallel(n_jobs=4)]: Done 428 tasks      | elapsed: 263.5min\n"
     ]
    },
    {
     "name": "stdout",
     "output_type": "stream",
     "text": [
      "[CV]  n_estimators=100, criterion=gini, max_depth=26, score=-0.649394 - 4.1min\n",
      "[CV] n_estimators=110, criterion=gini, max_depth=26 ..................\n"
     ]
    },
    {
     "name": "stderr",
     "output_type": "stream",
     "text": [
      "[Parallel(n_jobs=4)]: Done 429 tasks      | elapsed: 264.4min\n"
     ]
    },
    {
     "name": "stdout",
     "output_type": "stream",
     "text": [
      "[CV]  n_estimators=100, criterion=gini, max_depth=26, score=-0.657130 - 4.1min\n",
      "[CV] n_estimators=110, criterion=gini, max_depth=26 ..................\n"
     ]
    },
    {
     "name": "stderr",
     "output_type": "stream",
     "text": [
      "[Parallel(n_jobs=4)]: Done 430 tasks      | elapsed: 266.3min\n"
     ]
    },
    {
     "name": "stdout",
     "output_type": "stream",
     "text": [
      "[CV]  n_estimators=110, criterion=gini, max_depth=26, score=-0.647805 - 4.5min\n",
      "[CV] n_estimators=110, criterion=gini, max_depth=26 ..................\n"
     ]
    },
    {
     "name": "stderr",
     "output_type": "stream",
     "text": [
      "[Parallel(n_jobs=4)]: Done 431 tasks      | elapsed: 267.4min\n"
     ]
    },
    {
     "name": "stdout",
     "output_type": "stream",
     "text": [
      "[CV]  n_estimators=110, criterion=gini, max_depth=26, score=-0.639988 - 4.5min\n",
      "[CV] n_estimators=120, criterion=gini, max_depth=26 ..................\n"
     ]
    },
    {
     "name": "stderr",
     "output_type": "stream",
     "text": [
      "[Parallel(n_jobs=4)]: Done 432 tasks      | elapsed: 267.9min\n"
     ]
    },
    {
     "name": "stdout",
     "output_type": "stream",
     "text": [
      "[CV]  n_estimators=110, criterion=gini, max_depth=26, score=-0.646977 - 4.5min\n",
      "[CV] n_estimators=120, criterion=gini, max_depth=26 ..................\n"
     ]
    },
    {
     "name": "stderr",
     "output_type": "stream",
     "text": [
      "[Parallel(n_jobs=4)]: Done 433 tasks      | elapsed: 268.8min\n"
     ]
    },
    {
     "name": "stdout",
     "output_type": "stream",
     "text": [
      "[CV]  n_estimators=110, criterion=gini, max_depth=26, score=-0.646840 - 4.4min\n",
      "[CV] n_estimators=120, criterion=gini, max_depth=26 ..................\n"
     ]
    },
    {
     "name": "stderr",
     "output_type": "stream",
     "text": [
      "[Parallel(n_jobs=4)]: Done 434 tasks      | elapsed: 270.8min\n"
     ]
    },
    {
     "name": "stdout",
     "output_type": "stream",
     "text": [
      "[CV]  n_estimators=110, criterion=gini, max_depth=26, score=-0.654321 - 4.4min\n",
      "[CV] n_estimators=120, criterion=gini, max_depth=26 ..................\n"
     ]
    },
    {
     "name": "stderr",
     "output_type": "stream",
     "text": [
      "[Parallel(n_jobs=4)]: Done 435 tasks      | elapsed: 271.8min\n"
     ]
    },
    {
     "name": "stdout",
     "output_type": "stream",
     "text": [
      "[CV]  n_estimators=120, criterion=gini, max_depth=26, score=-0.651125 - 4.9min\n",
      "[CV] n_estimators=120, criterion=gini, max_depth=26 ..................\n"
     ]
    },
    {
     "name": "stderr",
     "output_type": "stream",
     "text": [
      "[Parallel(n_jobs=4)]: Done 436 tasks      | elapsed: 272.8min\n"
     ]
    },
    {
     "name": "stdout",
     "output_type": "stream",
     "text": [
      "[CV]  n_estimators=120, criterion=gini, max_depth=26, score=-0.640046 - 4.8min\n",
      "[CV] n_estimators=130, criterion=gini, max_depth=26 ..................\n"
     ]
    },
    {
     "name": "stderr",
     "output_type": "stream",
     "text": [
      "[Parallel(n_jobs=4)]: Done 437 tasks      | elapsed: 273.6min\n"
     ]
    },
    {
     "name": "stdout",
     "output_type": "stream",
     "text": [
      "[CV]  n_estimators=120, criterion=gini, max_depth=26, score=-0.646984 - 4.9min\n",
      "[CV] n_estimators=130, criterion=gini, max_depth=26 ..................\n"
     ]
    },
    {
     "name": "stderr",
     "output_type": "stream",
     "text": [
      "[Parallel(n_jobs=4)]: Done 438 tasks      | elapsed: 275.6min\n"
     ]
    },
    {
     "name": "stdout",
     "output_type": "stream",
     "text": [
      "[CV]  n_estimators=120, criterion=gini, max_depth=26, score=-0.647967 - 4.8min\n",
      "[CV] n_estimators=130, criterion=gini, max_depth=26 ..................\n"
     ]
    },
    {
     "name": "stderr",
     "output_type": "stream",
     "text": [
      "[Parallel(n_jobs=4)]: Done 439 tasks      | elapsed: 276.6min\n"
     ]
    },
    {
     "name": "stdout",
     "output_type": "stream",
     "text": [
      "[CV]  n_estimators=120, criterion=gini, max_depth=26, score=-0.654882 - 4.8min\n",
      "[CV] n_estimators=130, criterion=gini, max_depth=26 ..................\n"
     ]
    },
    {
     "name": "stderr",
     "output_type": "stream",
     "text": [
      "[Parallel(n_jobs=4)]: Done 440 tasks      | elapsed: 277.6min\n"
     ]
    },
    {
     "name": "stdout",
     "output_type": "stream",
     "text": [
      "[CV]  n_estimators=130, criterion=gini, max_depth=26, score=-0.646859 - 5.3min\n",
      "[CV] n_estimators=130, criterion=gini, max_depth=26 ..................\n"
     ]
    },
    {
     "name": "stderr",
     "output_type": "stream",
     "text": [
      "[Parallel(n_jobs=4)]: Done 441 tasks      | elapsed: 278.9min\n"
     ]
    },
    {
     "name": "stdout",
     "output_type": "stream",
     "text": [
      "[CV]  n_estimators=130, criterion=gini, max_depth=26, score=-0.642599 - 5.2min\n",
      "[CV] n_estimators=140, criterion=gini, max_depth=26 ..................\n"
     ]
    },
    {
     "name": "stderr",
     "output_type": "stream",
     "text": [
      "[Parallel(n_jobs=4)]: Done 442 tasks      | elapsed: 280.8min\n"
     ]
    },
    {
     "name": "stdout",
     "output_type": "stream",
     "text": [
      "[CV]  n_estimators=130, criterion=gini, max_depth=26, score=-0.645785 - 5.2min\n",
      "[CV] n_estimators=140, criterion=gini, max_depth=26 ..................\n"
     ]
    },
    {
     "name": "stderr",
     "output_type": "stream",
     "text": [
      "[Parallel(n_jobs=4)]: Done 443 tasks      | elapsed: 281.8min\n"
     ]
    },
    {
     "name": "stdout",
     "output_type": "stream",
     "text": [
      "[CV]  n_estimators=130, criterion=gini, max_depth=26, score=-0.647633 - 5.2min\n",
      "[CV] n_estimators=140, criterion=gini, max_depth=26 ..................\n"
     ]
    },
    {
     "name": "stderr",
     "output_type": "stream",
     "text": [
      "[Parallel(n_jobs=4)]: Done 444 tasks      | elapsed: 282.8min\n"
     ]
    },
    {
     "name": "stdout",
     "output_type": "stream",
     "text": [
      "[CV]  n_estimators=130, criterion=gini, max_depth=26, score=-0.659451 - 5.2min\n",
      "[CV] n_estimators=140, criterion=gini, max_depth=26 ..................\n"
     ]
    },
    {
     "name": "stderr",
     "output_type": "stream",
     "text": [
      "[Parallel(n_jobs=4)]: Done 445 tasks      | elapsed: 284.1min\n"
     ]
    },
    {
     "name": "stdout",
     "output_type": "stream",
     "text": [
      "[CV]  n_estimators=140, criterion=gini, max_depth=26, score=-0.646564 - 5.9min\n",
      "[CV] n_estimators=140, criterion=gini, max_depth=26 ..................\n"
     ]
    },
    {
     "name": "stderr",
     "output_type": "stream",
     "text": [
      "[Parallel(n_jobs=4)]: Done 446 tasks      | elapsed: 286.7min\n"
     ]
    },
    {
     "name": "stdout",
     "output_type": "stream",
     "text": [
      "[CV]  n_estimators=140, criterion=gini, max_depth=26, score=-0.640802 - 5.9min\n",
      "[CV] n_estimators=50, criterion=gini, max_depth=28 ...................\n"
     ]
    },
    {
     "name": "stderr",
     "output_type": "stream",
     "text": [
      "[Parallel(n_jobs=4)]: Done 447 tasks      | elapsed: 287.7min\n"
     ]
    },
    {
     "name": "stdout",
     "output_type": "stream",
     "text": [
      "[CV]  n_estimators=140, criterion=gini, max_depth=26, score=-0.642568 - 5.9min\n",
      "[CV] n_estimators=50, criterion=gini, max_depth=28 ...................\n"
     ]
    },
    {
     "name": "stderr",
     "output_type": "stream",
     "text": [
      "[Parallel(n_jobs=4)]: Done 448 tasks      | elapsed: 288.7min\n"
     ]
    },
    {
     "name": "stdout",
     "output_type": "stream",
     "text": [
      "[CV]  n_estimators=50, criterion=gini, max_depth=28, score=-0.677505 - 2.1min\n",
      "[CV] n_estimators=50, criterion=gini, max_depth=28 ...................\n"
     ]
    },
    {
     "name": "stderr",
     "output_type": "stream",
     "text": [
      "[Parallel(n_jobs=4)]: Done 449 tasks      | elapsed: 289.8min\n"
     ]
    },
    {
     "name": "stdout",
     "output_type": "stream",
     "text": [
      "[CV]  n_estimators=140, criterion=gini, max_depth=26, score=-0.646687 - 5.9min\n",
      "[CV] n_estimators=50, criterion=gini, max_depth=28 ...................\n"
     ]
    },
    {
     "name": "stderr",
     "output_type": "stream",
     "text": [
      "[Parallel(n_jobs=4)]: Done 450 tasks      | elapsed: 290.0min\n"
     ]
    },
    {
     "name": "stdout",
     "output_type": "stream",
     "text": [
      "[CV]  n_estimators=50, criterion=gini, max_depth=28, score=-0.661186 - 2.1min\n",
      "[CV] n_estimators=50, criterion=gini, max_depth=28 ...................\n"
     ]
    },
    {
     "name": "stderr",
     "output_type": "stream",
     "text": [
      "[Parallel(n_jobs=4)]: Done 451 tasks      | elapsed: 290.8min\n"
     ]
    },
    {
     "name": "stdout",
     "output_type": "stream",
     "text": [
      "[CV]  n_estimators=50, criterion=gini, max_depth=28, score=-0.679994 - 2.2min\n",
      "[CV] n_estimators=60, criterion=gini, max_depth=28 ...................\n"
     ]
    },
    {
     "name": "stderr",
     "output_type": "stream",
     "text": [
      "[Parallel(n_jobs=4)]: Done 452 tasks      | elapsed: 292.0min\n"
     ]
    },
    {
     "name": "stdout",
     "output_type": "stream",
     "text": [
      "[CV]  n_estimators=50, criterion=gini, max_depth=28, score=-0.665831 - 2.2min\n",
      "[CV] n_estimators=60, criterion=gini, max_depth=28 ...................\n"
     ]
    },
    {
     "name": "stderr",
     "output_type": "stream",
     "text": [
      "[Parallel(n_jobs=4)]: Done 453 tasks      | elapsed: 292.2min\n"
     ]
    },
    {
     "name": "stdout",
     "output_type": "stream",
     "text": [
      "[CV]  n_estimators=140, criterion=gini, max_depth=26, score=-0.657705 - 5.7min\n",
      "[CV] n_estimators=60, criterion=gini, max_depth=28 ...................\n"
     ]
    },
    {
     "name": "stderr",
     "output_type": "stream",
     "text": [
      "[Parallel(n_jobs=4)]: Done 454 tasks      | elapsed: 292.5min\n"
     ]
    },
    {
     "name": "stdout",
     "output_type": "stream",
     "text": [
      "[CV]  n_estimators=50, criterion=gini, max_depth=28, score=-0.683949 - 2.2min\n",
      "[CV] n_estimators=60, criterion=gini, max_depth=28 ...................\n"
     ]
    },
    {
     "name": "stderr",
     "output_type": "stream",
     "text": [
      "[Parallel(n_jobs=4)]: Done 455 tasks      | elapsed: 293.0min\n"
     ]
    },
    {
     "name": "stdout",
     "output_type": "stream",
     "text": [
      "[CV]  n_estimators=60, criterion=gini, max_depth=28, score=-0.659068 - 2.5min\n",
      "[CV] n_estimators=60, criterion=gini, max_depth=28 ...................\n"
     ]
    },
    {
     "name": "stderr",
     "output_type": "stream",
     "text": [
      "[Parallel(n_jobs=4)]: Done 456 tasks      | elapsed: 294.5min\n"
     ]
    },
    {
     "name": "stdout",
     "output_type": "stream",
     "text": [
      "[CV]  n_estimators=60, criterion=gini, max_depth=28, score=-0.651922 - 2.5min\n",
      "[CV] n_estimators=70, criterion=gini, max_depth=28 ...................\n"
     ]
    },
    {
     "name": "stderr",
     "output_type": "stream",
     "text": [
      "[Parallel(n_jobs=4)]: Done 457 tasks      | elapsed: 294.7min\n"
     ]
    },
    {
     "name": "stdout",
     "output_type": "stream",
     "text": [
      "[CV]  n_estimators=60, criterion=gini, max_depth=28, score=-0.654976 - 2.5min\n",
      "[CV] n_estimators=70, criterion=gini, max_depth=28 ...................\n"
     ]
    },
    {
     "name": "stderr",
     "output_type": "stream",
     "text": [
      "[Parallel(n_jobs=4)]: Done 458 tasks      | elapsed: 295.0min\n"
     ]
    },
    {
     "name": "stdout",
     "output_type": "stream",
     "text": [
      "[CV]  n_estimators=60, criterion=gini, max_depth=28, score=-0.664040 - 2.5min\n",
      "[CV] n_estimators=70, criterion=gini, max_depth=28 ...................\n"
     ]
    },
    {
     "name": "stderr",
     "output_type": "stream",
     "text": [
      "[Parallel(n_jobs=4)]: Done 459 tasks      | elapsed: 295.5min\n"
     ]
    },
    {
     "name": "stdout",
     "output_type": "stream",
     "text": [
      "[CV]  n_estimators=60, criterion=gini, max_depth=28, score=-0.678617 - 2.5min\n",
      "[CV] n_estimators=70, criterion=gini, max_depth=28 ...................\n"
     ]
    },
    {
     "name": "stderr",
     "output_type": "stream",
     "text": [
      "[Parallel(n_jobs=4)]: Done 460 tasks      | elapsed: 297.0min\n"
     ]
    },
    {
     "name": "stdout",
     "output_type": "stream",
     "text": [
      "[CV]  n_estimators=70, criterion=gini, max_depth=28, score=-0.659199 - 2.9min\n",
      "[CV] n_estimators=70, criterion=gini, max_depth=28 ...................\n"
     ]
    },
    {
     "name": "stderr",
     "output_type": "stream",
     "text": [
      "[Parallel(n_jobs=4)]: Done 461 tasks      | elapsed: 297.6min\n"
     ]
    },
    {
     "name": "stdout",
     "output_type": "stream",
     "text": [
      "[CV]  n_estimators=70, criterion=gini, max_depth=28, score=-0.646789 - 2.9min\n",
      "[CV] n_estimators=80, criterion=gini, max_depth=28 ...................\n"
     ]
    },
    {
     "name": "stderr",
     "output_type": "stream",
     "text": [
      "[Parallel(n_jobs=4)]: Done 462 tasks      | elapsed: 297.9min\n"
     ]
    },
    {
     "name": "stdout",
     "output_type": "stream",
     "text": [
      "[CV]  n_estimators=70, criterion=gini, max_depth=28, score=-0.665442 - 2.9min\n",
      "[CV] n_estimators=80, criterion=gini, max_depth=28 ...................\n"
     ]
    },
    {
     "name": "stderr",
     "output_type": "stream",
     "text": [
      "[Parallel(n_jobs=4)]: Done 463 tasks      | elapsed: 298.4min\n"
     ]
    },
    {
     "name": "stdout",
     "output_type": "stream",
     "text": [
      "[CV]  n_estimators=70, criterion=gini, max_depth=28, score=-0.661445 - 3.0min\n",
      "[CV] n_estimators=80, criterion=gini, max_depth=28 ...................\n"
     ]
    },
    {
     "name": "stderr",
     "output_type": "stream",
     "text": [
      "[Parallel(n_jobs=4)]: Done 464 tasks      | elapsed: 300.0min\n"
     ]
    },
    {
     "name": "stdout",
     "output_type": "stream",
     "text": [
      "[CV]  n_estimators=70, criterion=gini, max_depth=28, score=-0.673697 - 2.9min\n",
      "[CV] n_estimators=80, criterion=gini, max_depth=28 ...................\n"
     ]
    },
    {
     "name": "stderr",
     "output_type": "stream",
     "text": [
      "[Parallel(n_jobs=4)]: Done 465 tasks      | elapsed: 300.5min\n"
     ]
    },
    {
     "name": "stdout",
     "output_type": "stream",
     "text": [
      "[CV]  n_estimators=80, criterion=gini, max_depth=28, score=-0.655032 - 3.4min\n",
      "[CV] n_estimators=80, criterion=gini, max_depth=28 ...................\n"
     ]
    },
    {
     "name": "stderr",
     "output_type": "stream",
     "text": [
      "[Parallel(n_jobs=4)]: Done 466 tasks      | elapsed: 301.3min\n"
     ]
    },
    {
     "name": "stdout",
     "output_type": "stream",
     "text": [
      "[CV]  n_estimators=80, criterion=gini, max_depth=28, score=-0.647778 - 3.4min\n",
      "[CV] n_estimators=90, criterion=gini, max_depth=28 ...................\n"
     ]
    },
    {
     "name": "stderr",
     "output_type": "stream",
     "text": [
      "[Parallel(n_jobs=4)]: Done 467 tasks      | elapsed: 301.8min\n"
     ]
    },
    {
     "name": "stdout",
     "output_type": "stream",
     "text": [
      "[CV]  n_estimators=80, criterion=gini, max_depth=28, score=-0.657526 - 3.5min\n",
      "[CV] n_estimators=90, criterion=gini, max_depth=28 ...................\n"
     ]
    },
    {
     "name": "stderr",
     "output_type": "stream",
     "text": [
      "[Parallel(n_jobs=4)]: Done 468 tasks      | elapsed: 303.5min\n"
     ]
    },
    {
     "name": "stdout",
     "output_type": "stream",
     "text": [
      "[CV]  n_estimators=80, criterion=gini, max_depth=28, score=-0.653222 - 3.6min\n",
      "[CV] n_estimators=90, criterion=gini, max_depth=28 ...................\n"
     ]
    },
    {
     "name": "stderr",
     "output_type": "stream",
     "text": [
      "[Parallel(n_jobs=4)]: Done 469 tasks      | elapsed: 304.1min\n"
     ]
    },
    {
     "name": "stdout",
     "output_type": "stream",
     "text": [
      "[CV]  n_estimators=80, criterion=gini, max_depth=28, score=-0.667039 - 3.6min\n",
      "[CV] n_estimators=90, criterion=gini, max_depth=28 ...................\n"
     ]
    },
    {
     "name": "stderr",
     "output_type": "stream",
     "text": [
      "[Parallel(n_jobs=4)]: Done 470 tasks      | elapsed: 304.9min\n"
     ]
    },
    {
     "name": "stdout",
     "output_type": "stream",
     "text": [
      "[CV]  n_estimators=90, criterion=gini, max_depth=28, score=-0.653398 - 4.0min\n",
      "[CV] n_estimators=90, criterion=gini, max_depth=28 ...................\n"
     ]
    },
    {
     "name": "stderr",
     "output_type": "stream",
     "text": [
      "[Parallel(n_jobs=4)]: Done 471 tasks      | elapsed: 305.8min\n"
     ]
    },
    {
     "name": "stdout",
     "output_type": "stream",
     "text": [
      "[CV]  n_estimators=90, criterion=gini, max_depth=28, score=-0.646001 - 4.0min\n",
      "[CV] n_estimators=100, criterion=gini, max_depth=28 ..................\n"
     ]
    },
    {
     "name": "stderr",
     "output_type": "stream",
     "text": [
      "[Parallel(n_jobs=4)]: Done 472 tasks      | elapsed: 307.5min\n"
     ]
    },
    {
     "name": "stdout",
     "output_type": "stream",
     "text": [
      "[CV]  n_estimators=90, criterion=gini, max_depth=28, score=-0.649492 - 4.0min\n",
      "[CV] n_estimators=100, criterion=gini, max_depth=28 ..................\n"
     ]
    },
    {
     "name": "stderr",
     "output_type": "stream",
     "text": [
      "[Parallel(n_jobs=4)]: Done 473 tasks      | elapsed: 308.2min\n"
     ]
    },
    {
     "name": "stdout",
     "output_type": "stream",
     "text": [
      "[CV]  n_estimators=90, criterion=gini, max_depth=28, score=-0.649155 - 4.1min\n",
      "[CV] n_estimators=100, criterion=gini, max_depth=28 ..................\n"
     ]
    },
    {
     "name": "stderr",
     "output_type": "stream",
     "text": [
      "[Parallel(n_jobs=4)]: Done 474 tasks      | elapsed: 309.0min\n"
     ]
    },
    {
     "name": "stdout",
     "output_type": "stream",
     "text": [
      "[CV]  n_estimators=90, criterion=gini, max_depth=28, score=-0.666458 - 4.1min\n",
      "[CV] n_estimators=100, criterion=gini, max_depth=28 ..................\n"
     ]
    },
    {
     "name": "stderr",
     "output_type": "stream",
     "text": [
      "[Parallel(n_jobs=4)]: Done 475 tasks      | elapsed: 309.9min\n"
     ]
    },
    {
     "name": "stdout",
     "output_type": "stream",
     "text": [
      "[CV]  n_estimators=100, criterion=gini, max_depth=28, score=-0.649105 - 4.4min\n",
      "[CV] n_estimators=100, criterion=gini, max_depth=28 ..................\n"
     ]
    },
    {
     "name": "stderr",
     "output_type": "stream",
     "text": [
      "[Parallel(n_jobs=4)]: Done 476 tasks      | elapsed: 311.9min\n"
     ]
    },
    {
     "name": "stdout",
     "output_type": "stream",
     "text": [
      "[CV]  n_estimators=100, criterion=gini, max_depth=28, score=-0.643791 - 4.3min\n",
      "[CV] n_estimators=110, criterion=gini, max_depth=28 ..................\n"
     ]
    },
    {
     "name": "stderr",
     "output_type": "stream",
     "text": [
      "[Parallel(n_jobs=4)]: Done 477 tasks      | elapsed: 312.5min\n"
     ]
    },
    {
     "name": "stdout",
     "output_type": "stream",
     "text": [
      "[CV]  n_estimators=100, criterion=gini, max_depth=28, score=-0.645764 - 4.3min\n",
      "[CV] n_estimators=110, criterion=gini, max_depth=28 ..................\n"
     ]
    },
    {
     "name": "stderr",
     "output_type": "stream",
     "text": [
      "[Parallel(n_jobs=4)]: Done 478 tasks      | elapsed: 313.2min\n"
     ]
    },
    {
     "name": "stdout",
     "output_type": "stream",
     "text": [
      "[CV]  n_estimators=100, criterion=gini, max_depth=28, score=-0.646642 - 4.3min\n",
      "[CV] n_estimators=110, criterion=gini, max_depth=28 ..................\n"
     ]
    },
    {
     "name": "stderr",
     "output_type": "stream",
     "text": [
      "[Parallel(n_jobs=4)]: Done 479 tasks      | elapsed: 314.2min\n"
     ]
    },
    {
     "name": "stdout",
     "output_type": "stream",
     "text": [
      "[CV]  n_estimators=100, criterion=gini, max_depth=28, score=-0.658913 - 4.4min\n",
      "[CV] n_estimators=110, criterion=gini, max_depth=28 ..................\n"
     ]
    },
    {
     "name": "stderr",
     "output_type": "stream",
     "text": [
      "[Parallel(n_jobs=4)]: Done 480 tasks      | elapsed: 316.3min\n"
     ]
    },
    {
     "name": "stdout",
     "output_type": "stream",
     "text": [
      "[CV]  n_estimators=110, criterion=gini, max_depth=28, score=-0.653145 - 4.9min\n",
      "[CV] n_estimators=110, criterion=gini, max_depth=28 ..................\n"
     ]
    },
    {
     "name": "stderr",
     "output_type": "stream",
     "text": [
      "[Parallel(n_jobs=4)]: Done 481 tasks      | elapsed: 317.3min\n"
     ]
    },
    {
     "name": "stdout",
     "output_type": "stream",
     "text": [
      "[CV]  n_estimators=110, criterion=gini, max_depth=28, score=-0.644343 - 4.9min\n",
      "[CV] n_estimators=120, criterion=gini, max_depth=28 ..................\n"
     ]
    },
    {
     "name": "stderr",
     "output_type": "stream",
     "text": [
      "[Parallel(n_jobs=4)]: Done 482 tasks      | elapsed: 318.2min\n"
     ]
    },
    {
     "name": "stdout",
     "output_type": "stream",
     "text": [
      "[CV]  n_estimators=110, criterion=gini, max_depth=28, score=-0.648065 - 5.2min\n",
      "[CV] n_estimators=120, criterion=gini, max_depth=28 ..................\n"
     ]
    },
    {
     "name": "stderr",
     "output_type": "stream",
     "text": [
      "[Parallel(n_jobs=4)]: Done 483 tasks      | elapsed: 319.3min\n"
     ]
    },
    {
     "name": "stdout",
     "output_type": "stream",
     "text": [
      "[CV]  n_estimators=110, criterion=gini, max_depth=28, score=-0.645112 - 5.3min\n",
      "[CV] n_estimators=120, criterion=gini, max_depth=28 ..................\n"
     ]
    },
    {
     "name": "stderr",
     "output_type": "stream",
     "text": [
      "[Parallel(n_jobs=4)]: Done 484 tasks      | elapsed: 321.6min\n"
     ]
    },
    {
     "name": "stdout",
     "output_type": "stream",
     "text": [
      "[CV]  n_estimators=110, criterion=gini, max_depth=28, score=-0.660282 - 5.4min\n",
      "[CV] n_estimators=120, criterion=gini, max_depth=28 ..................\n"
     ]
    },
    {
     "name": "stderr",
     "output_type": "stream",
     "text": [
      "[Parallel(n_jobs=4)]: Done 485 tasks      | elapsed: 322.8min\n"
     ]
    },
    {
     "name": "stdout",
     "output_type": "stream",
     "text": [
      "[CV]  n_estimators=120, criterion=gini, max_depth=28, score=-0.648964 - 5.9min\n",
      "[CV] n_estimators=120, criterion=gini, max_depth=28 ..................\n"
     ]
    },
    {
     "name": "stderr",
     "output_type": "stream",
     "text": [
      "[Parallel(n_jobs=4)]: Done 486 tasks      | elapsed: 324.0min\n"
     ]
    },
    {
     "name": "stdout",
     "output_type": "stream",
     "text": [
      "[CV]  n_estimators=120, criterion=gini, max_depth=28, score=-0.647510 - 5.6min\n",
      "[CV] n_estimators=130, criterion=gini, max_depth=28 ..................\n"
     ]
    },
    {
     "name": "stderr",
     "output_type": "stream",
     "text": [
      "[Parallel(n_jobs=4)]: Done 487 tasks      | elapsed: 325.0min\n"
     ]
    },
    {
     "name": "stdout",
     "output_type": "stream",
     "text": [
      "[CV]  n_estimators=120, criterion=gini, max_depth=28, score=-0.645461 -62.6min\n",
      "[CV] n_estimators=130, criterion=gini, max_depth=28 ..................\n"
     ]
    },
    {
     "name": "stderr",
     "output_type": "stream",
     "text": [
      "[Parallel(n_jobs=4)]: Done 488 tasks      | elapsed: 384.2min\n"
     ]
    },
    {
     "name": "stdout",
     "output_type": "stream",
     "text": [
      "[CV]  n_estimators=120, criterion=gini, max_depth=28, score=-0.649388 -85.3min\n",
      "[CV] n_estimators=130, criterion=gini, max_depth=28 ..................\n"
     ]
    },
    {
     "name": "stderr",
     "output_type": "stream",
     "text": [
      "[Parallel(n_jobs=4)]: Done 489 tasks      | elapsed: 408.0min\n"
     ]
    },
    {
     "name": "stdout",
     "output_type": "stream",
     "text": [
      "[CV]  n_estimators=120, criterion=gini, max_depth=28, score=-0.662538 -93.4min\n",
      "[CV] n_estimators=130, criterion=gini, max_depth=28 ..................\n"
     ]
    },
    {
     "name": "stderr",
     "output_type": "stream",
     "text": [
      "[Parallel(n_jobs=4)]: Done 490 tasks      | elapsed: 417.4min\n"
     ]
    },
    {
     "name": "stdout",
     "output_type": "stream",
     "text": [
      "[CV]  n_estimators=130, criterion=gini, max_depth=28, score=-0.650191 -94.3min\n",
      "[CV] n_estimators=130, criterion=gini, max_depth=28 ..................\n"
     ]
    },
    {
     "name": "stderr",
     "output_type": "stream",
     "text": [
      "[Parallel(n_jobs=4)]: Done 491 tasks      | elapsed: 419.3min\n"
     ]
    },
    {
     "name": "stdout",
     "output_type": "stream",
     "text": [
      "[CV]  n_estimators=130, criterion=gini, max_depth=28, score=-0.640869 -37.5min\n",
      "[CV] n_estimators=140, criterion=gini, max_depth=28 ..................\n"
     ]
    },
    {
     "name": "stderr",
     "output_type": "stream",
     "text": [
      "[Parallel(n_jobs=4)]: Done 492 tasks      | elapsed: 421.7min\n"
     ]
    },
    {
     "name": "stdout",
     "output_type": "stream",
     "text": [
      "[CV]  n_estimators=130, criterion=gini, max_depth=28, score=-0.644285 -14.9min\n",
      "[CV] n_estimators=140, criterion=gini, max_depth=28 ..................\n"
     ]
    },
    {
     "name": "stderr",
     "output_type": "stream",
     "text": [
      "[Parallel(n_jobs=4)]: Done 493 tasks      | elapsed: 423.0min\n"
     ]
    },
    {
     "name": "stdout",
     "output_type": "stream",
     "text": [
      "[CV]  n_estimators=130, criterion=gini, max_depth=28, score=-0.650779 - 7.0min\n",
      "[CV] n_estimators=140, criterion=gini, max_depth=28 ..................\n"
     ]
    },
    {
     "name": "stderr",
     "output_type": "stream",
     "text": [
      "[Parallel(n_jobs=4)]: Done 494 tasks      | elapsed: 424.4min\n"
     ]
    },
    {
     "name": "stdout",
     "output_type": "stream",
     "text": [
      "[CV]  n_estimators=130, criterion=gini, max_depth=28, score=-0.661404 - 7.0min\n",
      "[CV] n_estimators=140, criterion=gini, max_depth=28 ..................\n"
     ]
    },
    {
     "name": "stderr",
     "output_type": "stream",
     "text": [
      "[Parallel(n_jobs=4)]: Done 495 tasks      | elapsed: 426.3min\n"
     ]
    },
    {
     "name": "stdout",
     "output_type": "stream",
     "text": [
      "[CV]  n_estimators=140, criterion=gini, max_depth=28, score=-0.648413 - 7.5min\n",
      "[CV] n_estimators=140, criterion=gini, max_depth=28 ..................\n"
     ]
    },
    {
     "name": "stderr",
     "output_type": "stream",
     "text": [
      "[Parallel(n_jobs=4)]: Done 496 tasks      | elapsed: 429.2min\n"
     ]
    },
    {
     "name": "stdout",
     "output_type": "stream",
     "text": [
      "[CV]  n_estimators=140, criterion=gini, max_depth=28, score=-0.640235 - 7.5min\n",
      "[CV] n_estimators=50, criterion=gini, max_depth=30 ...................\n"
     ]
    },
    {
     "name": "stderr",
     "output_type": "stream",
     "text": [
      "[Parallel(n_jobs=4)]: Done 497 tasks      | elapsed: 430.5min\n"
     ]
    },
    {
     "name": "stdout",
     "output_type": "stream",
     "text": [
      "[CV]  n_estimators=140, criterion=gini, max_depth=28, score=-0.644201 - 7.5min\n",
      "[CV] n_estimators=50, criterion=gini, max_depth=30 ...................\n"
     ]
    },
    {
     "name": "stderr",
     "output_type": "stream",
     "text": [
      "[Parallel(n_jobs=4)]: Done 498 tasks      | elapsed: 431.9min\n"
     ]
    },
    {
     "name": "stdout",
     "output_type": "stream",
     "text": [
      "[CV]  n_estimators=50, criterion=gini, max_depth=30, score=-0.674096 - 2.6min\n",
      "[CV] n_estimators=50, criterion=gini, max_depth=30 ...................\n"
     ]
    },
    {
     "name": "stderr",
     "output_type": "stream",
     "text": [
      "[Parallel(n_jobs=4)]: Done 499 tasks      | elapsed: 433.1min\n"
     ]
    },
    {
     "name": "stdout",
     "output_type": "stream",
     "text": [
      "[CV]  n_estimators=140, criterion=gini, max_depth=28, score=-0.645513 - 7.3min\n",
      "[CV] n_estimators=50, criterion=gini, max_depth=30 ...................\n"
     ]
    },
    {
     "name": "stderr",
     "output_type": "stream",
     "text": [
      "[Parallel(n_jobs=4)]: Done 500 tasks      | elapsed: 433.6min\n"
     ]
    },
    {
     "name": "stdout",
     "output_type": "stream",
     "text": [
      "[CV]  n_estimators=50, criterion=gini, max_depth=30, score=-0.679244 - 2.7min\n",
      "[CV] n_estimators=50, criterion=gini, max_depth=30 ...................\n"
     ]
    },
    {
     "name": "stderr",
     "output_type": "stream",
     "text": [
      "[Parallel(n_jobs=4)]: Done 501 tasks      | elapsed: 434.6min\n"
     ]
    },
    {
     "name": "stdout",
     "output_type": "stream",
     "text": [
      "[CV]  n_estimators=50, criterion=gini, max_depth=30, score=-0.666700 - 2.8min\n",
      "[CV] n_estimators=60, criterion=gini, max_depth=30 ...................\n"
     ]
    },
    {
     "name": "stderr",
     "output_type": "stream",
     "text": [
      "[Parallel(n_jobs=4)]: Done 502 tasks      | elapsed: 435.9min\n"
     ]
    },
    {
     "name": "stdout",
     "output_type": "stream",
     "text": [
      "[CV]  n_estimators=50, criterion=gini, max_depth=30, score=-0.680332 - 2.8min\n",
      "[CV] n_estimators=60, criterion=gini, max_depth=30 ...................\n"
     ]
    },
    {
     "name": "stderr",
     "output_type": "stream",
     "text": [
      "[Parallel(n_jobs=4)]: Done 503 tasks      | elapsed: 436.4min\n"
     ]
    },
    {
     "name": "stdout",
     "output_type": "stream",
     "text": [
      "[CV]  n_estimators=140, criterion=gini, max_depth=28, score=-0.657602 - 7.3min\n",
      "[CV] n_estimators=60, criterion=gini, max_depth=30 ...................\n"
     ]
    },
    {
     "name": "stderr",
     "output_type": "stream",
     "text": [
      "[Parallel(n_jobs=4)]: Done 504 tasks      | elapsed: 436.6min\n"
     ]
    },
    {
     "name": "stdout",
     "output_type": "stream",
     "text": [
      "[CV]  n_estimators=50, criterion=gini, max_depth=30, score=-0.686798 - 2.8min\n",
      "[CV] n_estimators=60, criterion=gini, max_depth=30 ...................\n"
     ]
    },
    {
     "name": "stderr",
     "output_type": "stream",
     "text": [
      "[Parallel(n_jobs=4)]: Done 505 tasks      | elapsed: 437.4min\n"
     ]
    },
    {
     "name": "stdout",
     "output_type": "stream",
     "text": [
      "[CV]  n_estimators=60, criterion=gini, max_depth=30, score=-0.675852 - 3.0min\n",
      "[CV] n_estimators=60, criterion=gini, max_depth=30 ...................\n"
     ]
    },
    {
     "name": "stderr",
     "output_type": "stream",
     "text": [
      "[Parallel(n_jobs=4)]: Done 506 tasks      | elapsed: 438.9min\n"
     ]
    },
    {
     "name": "stdout",
     "output_type": "stream",
     "text": [
      "[CV]  n_estimators=60, criterion=gini, max_depth=30, score=-0.660500 - 3.0min\n",
      "[CV] n_estimators=70, criterion=gini, max_depth=30 ...................\n"
     ]
    },
    {
     "name": "stderr",
     "output_type": "stream",
     "text": [
      "[Parallel(n_jobs=4)]: Done 507 tasks      | elapsed: 439.4min\n"
     ]
    },
    {
     "name": "stdout",
     "output_type": "stream",
     "text": [
      "[CV]  n_estimators=60, criterion=gini, max_depth=30, score=-0.663996 - 3.0min\n",
      "[CV] n_estimators=70, criterion=gini, max_depth=30 ...................\n"
     ]
    },
    {
     "name": "stderr",
     "output_type": "stream",
     "text": [
      "[Parallel(n_jobs=4)]: Done 508 tasks      | elapsed: 439.6min\n"
     ]
    },
    {
     "name": "stdout",
     "output_type": "stream",
     "text": [
      "[CV]  n_estimators=60, criterion=gini, max_depth=30, score=-0.668680 - 3.0min\n",
      "[CV] n_estimators=70, criterion=gini, max_depth=30 ...................\n"
     ]
    },
    {
     "name": "stderr",
     "output_type": "stream",
     "text": [
      "[Parallel(n_jobs=4)]: Done 509 tasks      | elapsed: 440.4min\n"
     ]
    },
    {
     "name": "stdout",
     "output_type": "stream",
     "text": [
      "[CV]  n_estimators=60, criterion=gini, max_depth=30, score=-0.684117 - 3.2min\n",
      "[CV] n_estimators=70, criterion=gini, max_depth=30 ...................\n"
     ]
    },
    {
     "name": "stderr",
     "output_type": "stream",
     "text": [
      "[Parallel(n_jobs=4)]: Done 510 tasks      | elapsed: 442.1min\n"
     ]
    },
    {
     "name": "stdout",
     "output_type": "stream",
     "text": [
      "[CV]  n_estimators=70, criterion=gini, max_depth=30, score=-0.660722 - 3.8min\n",
      "[CV] n_estimators=70, criterion=gini, max_depth=30 ...................\n"
     ]
    },
    {
     "name": "stderr",
     "output_type": "stream",
     "text": [
      "[Parallel(n_jobs=4)]: Done 511 tasks      | elapsed: 443.2min\n"
     ]
    },
    {
     "name": "stdout",
     "output_type": "stream",
     "text": [
      "[CV]  n_estimators=70, criterion=gini, max_depth=30, score=-0.655908 - 3.8min\n",
      "[CV] n_estimators=80, criterion=gini, max_depth=30 ...................\n"
     ]
    },
    {
     "name": "stderr",
     "output_type": "stream",
     "text": [
      "[Parallel(n_jobs=4)]: Done 512 tasks      | elapsed: 443.4min\n"
     ]
    },
    {
     "name": "stdout",
     "output_type": "stream",
     "text": [
      "[CV]  n_estimators=70, criterion=gini, max_depth=30, score=-0.654725 - 3.7min\n",
      "[CV] n_estimators=80, criterion=gini, max_depth=30 ...................\n"
     ]
    },
    {
     "name": "stderr",
     "output_type": "stream",
     "text": [
      "[Parallel(n_jobs=4)]: Done 513 tasks      | elapsed: 444.1min\n"
     ]
    },
    {
     "name": "stdout",
     "output_type": "stream",
     "text": [
      "[CV]  n_estimators=70, criterion=gini, max_depth=30, score=-0.661922 - 3.7min\n",
      "[CV] n_estimators=80, criterion=gini, max_depth=30 ...................\n"
     ]
    },
    {
     "name": "stderr",
     "output_type": "stream",
     "text": [
      "[Parallel(n_jobs=4)]: Done 514 tasks      | elapsed: 445.7min\n"
     ]
    },
    {
     "name": "stdout",
     "output_type": "stream",
     "text": [
      "[CV]  n_estimators=70, criterion=gini, max_depth=30, score=-0.668875 - 3.6min\n",
      "[CV] n_estimators=80, criterion=gini, max_depth=30 ...................\n"
     ]
    },
    {
     "name": "stderr",
     "output_type": "stream",
     "text": [
      "[Parallel(n_jobs=4)]: Done 515 tasks      | elapsed: 446.8min\n"
     ]
    },
    {
     "name": "stdout",
     "output_type": "stream",
     "text": [
      "[CV]  n_estimators=80, criterion=gini, max_depth=30, score=-0.659249 - 4.1min\n",
      "[CV] n_estimators=80, criterion=gini, max_depth=30 ...................\n"
     ]
    },
    {
     "name": "stderr",
     "output_type": "stream",
     "text": [
      "[Parallel(n_jobs=4)]: Done 516 tasks      | elapsed: 447.5min\n"
     ]
    },
    {
     "name": "stdout",
     "output_type": "stream",
     "text": [
      "[CV]  n_estimators=80, criterion=gini, max_depth=30, score=-0.647944 - 4.1min\n",
      "[CV] n_estimators=90, criterion=gini, max_depth=30 ...................\n"
     ]
    },
    {
     "name": "stderr",
     "output_type": "stream",
     "text": [
      "[Parallel(n_jobs=4)]: Done 517 tasks      | elapsed: 448.2min\n"
     ]
    },
    {
     "name": "stdout",
     "output_type": "stream",
     "text": [
      "[CV]  n_estimators=80, criterion=gini, max_depth=30, score=-0.650805 - 4.1min\n",
      "[CV] n_estimators=90, criterion=gini, max_depth=30 ...................\n"
     ]
    },
    {
     "name": "stderr",
     "output_type": "stream",
     "text": [
      "[Parallel(n_jobs=4)]: Done 518 tasks      | elapsed: 449.8min\n"
     ]
    },
    {
     "name": "stdout",
     "output_type": "stream",
     "text": [
      "[CV]  n_estimators=80, criterion=gini, max_depth=30, score=-0.655588 - 4.0min\n",
      "[CV] n_estimators=90, criterion=gini, max_depth=30 ...................\n"
     ]
    },
    {
     "name": "stderr",
     "output_type": "stream",
     "text": [
      "[Parallel(n_jobs=4)]: Done 519 tasks      | elapsed: 450.7min\n"
     ]
    },
    {
     "name": "stdout",
     "output_type": "stream",
     "text": [
      "[CV]  n_estimators=80, criterion=gini, max_depth=30, score=-0.666528 - 4.0min\n",
      "[CV] n_estimators=90, criterion=gini, max_depth=30 ...................\n"
     ]
    },
    {
     "name": "stderr",
     "output_type": "stream",
     "text": [
      "[Parallel(n_jobs=4)]: Done 520 tasks      | elapsed: 451.4min\n"
     ]
    },
    {
     "name": "stdout",
     "output_type": "stream",
     "text": [
      "[CV]  n_estimators=90, criterion=gini, max_depth=30, score=-0.660838 - 4.5min\n",
      "[CV] n_estimators=90, criterion=gini, max_depth=30 ...................\n"
     ]
    },
    {
     "name": "stderr",
     "output_type": "stream",
     "text": [
      "[Parallel(n_jobs=4)]: Done 521 tasks      | elapsed: 452.7min\n"
     ]
    },
    {
     "name": "stdout",
     "output_type": "stream",
     "text": [
      "[CV]  n_estimators=90, criterion=gini, max_depth=30, score=-0.649095 - 4.5min\n",
      "[CV] n_estimators=100, criterion=gini, max_depth=30 ..................\n"
     ]
    },
    {
     "name": "stderr",
     "output_type": "stream",
     "text": [
      "[Parallel(n_jobs=4)]: Done 522 tasks      | elapsed: 454.3min\n"
     ]
    },
    {
     "name": "stdout",
     "output_type": "stream",
     "text": [
      "[CV]  n_estimators=90, criterion=gini, max_depth=30, score=-0.650119 - 4.6min\n",
      "[CV] n_estimators=100, criterion=gini, max_depth=30 ..................\n"
     ]
    },
    {
     "name": "stderr",
     "output_type": "stream",
     "text": [
      "[Parallel(n_jobs=4)]: Done 523 tasks      | elapsed: 455.3min\n"
     ]
    },
    {
     "name": "stdout",
     "output_type": "stream",
     "text": [
      "[CV]  n_estimators=90, criterion=gini, max_depth=30, score=-0.654392 - 4.6min\n",
      "[CV] n_estimators=100, criterion=gini, max_depth=30 ..................\n"
     ]
    },
    {
     "name": "stderr",
     "output_type": "stream",
     "text": [
      "[Parallel(n_jobs=4)]: Done 524 tasks      | elapsed: 456.0min\n"
     ]
    },
    {
     "name": "stdout",
     "output_type": "stream",
     "text": [
      "[CV]  n_estimators=90, criterion=gini, max_depth=30, score=-0.663736 - 4.6min\n",
      "[CV] n_estimators=100, criterion=gini, max_depth=30 ..................\n"
     ]
    },
    {
     "name": "stderr",
     "output_type": "stream",
     "text": [
      "[Parallel(n_jobs=4)]: Done 525 tasks      | elapsed: 457.2min\n"
     ]
    },
    {
     "name": "stdout",
     "output_type": "stream",
     "text": [
      "[CV]  n_estimators=100, criterion=gini, max_depth=30, score=-0.659786 - 5.0min\n",
      "[CV] n_estimators=100, criterion=gini, max_depth=30 ..................\n"
     ]
    },
    {
     "name": "stderr",
     "output_type": "stream",
     "text": [
      "[Parallel(n_jobs=4)]: Done 526 tasks      | elapsed: 459.3min\n"
     ]
    },
    {
     "name": "stdout",
     "output_type": "stream",
     "text": [
      "[CV]  n_estimators=100, criterion=gini, max_depth=30, score=-0.648983 - 5.0min\n",
      "[CV] n_estimators=110, criterion=gini, max_depth=30 ..................\n"
     ]
    },
    {
     "name": "stderr",
     "output_type": "stream",
     "text": [
      "[Parallel(n_jobs=4)]: Done 527 tasks      | elapsed: 460.3min\n"
     ]
    },
    {
     "name": "stdout",
     "output_type": "stream",
     "text": [
      "[CV]  n_estimators=100, criterion=gini, max_depth=30, score=-0.648764 - 4.9min\n",
      "[CV] n_estimators=110, criterion=gini, max_depth=30 ..................\n"
     ]
    },
    {
     "name": "stderr",
     "output_type": "stream",
     "text": [
      "[Parallel(n_jobs=4)]: Done 528 tasks      | elapsed: 460.9min\n"
     ]
    },
    {
     "name": "stdout",
     "output_type": "stream",
     "text": [
      "[CV]  n_estimators=100, criterion=gini, max_depth=30, score=-0.652116 - 4.7min\n",
      "[CV] n_estimators=110, criterion=gini, max_depth=30 ..................\n"
     ]
    },
    {
     "name": "stderr",
     "output_type": "stream",
     "text": [
      "[Parallel(n_jobs=4)]: Done 529 tasks      | elapsed: 462.0min\n"
     ]
    },
    {
     "name": "stdout",
     "output_type": "stream",
     "text": [
      "[CV]  n_estimators=100, criterion=gini, max_depth=30, score=-0.664427 - 4.5min\n",
      "[CV] n_estimators=110, criterion=gini, max_depth=30 ..................\n"
     ]
    },
    {
     "name": "stderr",
     "output_type": "stream",
     "text": [
      "[Parallel(n_jobs=4)]: Done 530 tasks      | elapsed: 463.8min\n"
     ]
    },
    {
     "name": "stdout",
     "output_type": "stream",
     "text": [
      "[CV]  n_estimators=110, criterion=gini, max_depth=30, score=-0.649280 - 4.8min\n",
      "[CV] n_estimators=110, criterion=gini, max_depth=30 ..................\n"
     ]
    },
    {
     "name": "stderr",
     "output_type": "stream",
     "text": [
      "[Parallel(n_jobs=4)]: Done 531 tasks      | elapsed: 465.1min\n"
     ]
    },
    {
     "name": "stdout",
     "output_type": "stream",
     "text": [
      "[CV]  n_estimators=110, criterion=gini, max_depth=30, score=-0.644836 - 4.9min\n",
      "[CV] n_estimators=120, criterion=gini, max_depth=30 ..................\n"
     ]
    },
    {
     "name": "stderr",
     "output_type": "stream",
     "text": [
      "[Parallel(n_jobs=4)]: Done 532 tasks      | elapsed: 465.8min\n"
     ]
    },
    {
     "name": "stdout",
     "output_type": "stream",
     "text": [
      "[CV]  n_estimators=110, criterion=gini, max_depth=30, score=-0.649405 - 5.0min\n",
      "[CV] n_estimators=120, criterion=gini, max_depth=30 ..................\n"
     ]
    },
    {
     "name": "stderr",
     "output_type": "stream",
     "text": [
      "[Parallel(n_jobs=4)]: Done 533 tasks      | elapsed: 466.9min\n"
     ]
    },
    {
     "name": "stdout",
     "output_type": "stream",
     "text": [
      "[CV]  n_estimators=110, criterion=gini, max_depth=30, score=-0.652917 - 5.2min\n",
      "[CV] n_estimators=120, criterion=gini, max_depth=30 ..................\n"
     ]
    },
    {
     "name": "stderr",
     "output_type": "stream",
     "text": [
      "[Parallel(n_jobs=4)]: Done 534 tasks      | elapsed: 469.0min\n"
     ]
    },
    {
     "name": "stdout",
     "output_type": "stream",
     "text": [
      "[CV]  n_estimators=110, criterion=gini, max_depth=30, score=-0.658006 - 5.3min\n",
      "[CV] n_estimators=120, criterion=gini, max_depth=30 ..................\n"
     ]
    },
    {
     "name": "stderr",
     "output_type": "stream",
     "text": [
      "[Parallel(n_jobs=4)]: Done 535 tasks      | elapsed: 470.4min\n"
     ]
    },
    {
     "name": "stdout",
     "output_type": "stream",
     "text": [
      "[CV]  n_estimators=120, criterion=gini, max_depth=30, score=-0.653952 - 5.7min\n",
      "[CV] n_estimators=120, criterion=gini, max_depth=30 ..................\n"
     ]
    },
    {
     "name": "stderr",
     "output_type": "stream",
     "text": [
      "[Parallel(n_jobs=4)]: Done 536 tasks      | elapsed: 471.5min\n"
     ]
    },
    {
     "name": "stdout",
     "output_type": "stream",
     "text": [
      "[CV]  n_estimators=120, criterion=gini, max_depth=30, score=-0.645643 - 5.8min\n",
      "[CV] n_estimators=130, criterion=gini, max_depth=30 ..................\n"
     ]
    },
    {
     "name": "stderr",
     "output_type": "stream",
     "text": [
      "[Parallel(n_jobs=4)]: Done 537 tasks      | elapsed: 472.7min\n"
     ]
    },
    {
     "name": "stdout",
     "output_type": "stream",
     "text": [
      "[CV]  n_estimators=120, criterion=gini, max_depth=30, score=-0.649487 - 5.8min\n",
      "[CV] n_estimators=130, criterion=gini, max_depth=30 ..................\n"
     ]
    },
    {
     "name": "stderr",
     "output_type": "stream",
     "text": [
      "[Parallel(n_jobs=4)]: Done 538 tasks      | elapsed: 474.8min\n"
     ]
    },
    {
     "name": "stdout",
     "output_type": "stream",
     "text": [
      "[CV]  n_estimators=120, criterion=gini, max_depth=30, score=-0.653528 - 5.7min\n",
      "[CV] n_estimators=130, criterion=gini, max_depth=30 ..................\n"
     ]
    },
    {
     "name": "stderr",
     "output_type": "stream",
     "text": [
      "[Parallel(n_jobs=4)]: Done 539 tasks      | elapsed: 476.1min\n"
     ]
    },
    {
     "name": "stdout",
     "output_type": "stream",
     "text": [
      "[CV]  n_estimators=120, criterion=gini, max_depth=30, score=-0.656541 - 5.6min\n",
      "[CV] n_estimators=130, criterion=gini, max_depth=30 ..................\n"
     ]
    },
    {
     "name": "stderr",
     "output_type": "stream",
     "text": [
      "[Parallel(n_jobs=4)]: Done 540 tasks      | elapsed: 477.2min\n"
     ]
    },
    {
     "name": "stdout",
     "output_type": "stream",
     "text": [
      "[CV]  n_estimators=130, criterion=gini, max_depth=30, score=-0.661286 - 6.1min\n",
      "[CV] n_estimators=130, criterion=gini, max_depth=30 ..................\n"
     ]
    },
    {
     "name": "stderr",
     "output_type": "stream",
     "text": [
      "[Parallel(n_jobs=4)]: Done 541 tasks      | elapsed: 478.8min\n"
     ]
    },
    {
     "name": "stdout",
     "output_type": "stream",
     "text": [
      "[CV]  n_estimators=130, criterion=gini, max_depth=30, score=-0.644094 - 5.9min\n",
      "[CV] n_estimators=140, criterion=gini, max_depth=30 ..................\n"
     ]
    },
    {
     "name": "stderr",
     "output_type": "stream",
     "text": [
      "[Parallel(n_jobs=4)]: Done 542 tasks      | elapsed: 480.7min\n"
     ]
    },
    {
     "name": "stdout",
     "output_type": "stream",
     "text": [
      "[CV]  n_estimators=130, criterion=gini, max_depth=30, score=-0.646908 - 5.9min\n",
      "[CV] n_estimators=140, criterion=gini, max_depth=30 ..................\n"
     ]
    },
    {
     "name": "stderr",
     "output_type": "stream",
     "text": [
      "[Parallel(n_jobs=4)]: Done 543 tasks      | elapsed: 482.1min\n"
     ]
    },
    {
     "name": "stdout",
     "output_type": "stream",
     "text": [
      "[CV]  n_estimators=130, criterion=gini, max_depth=30, score=-0.647759 - 5.9min\n",
      "[CV] n_estimators=140, criterion=gini, max_depth=30 ..................\n"
     ]
    },
    {
     "name": "stderr",
     "output_type": "stream",
     "text": [
      "[Parallel(n_jobs=4)]: Done 544 tasks      | elapsed: 483.1min\n"
     ]
    },
    {
     "name": "stdout",
     "output_type": "stream",
     "text": [
      "[CV]  n_estimators=130, criterion=gini, max_depth=30, score=-0.663138 - 6.0min\n",
      "[CV] n_estimators=140, criterion=gini, max_depth=30 ..................\n"
     ]
    },
    {
     "name": "stderr",
     "output_type": "stream",
     "text": [
      "[Parallel(n_jobs=4)]: Done 545 tasks      | elapsed: 484.9min\n"
     ]
    },
    {
     "name": "stdout",
     "output_type": "stream",
     "text": [
      "[CV]  n_estimators=140, criterion=gini, max_depth=30, score=-0.647075 - 6.8min\n",
      "[CV] n_estimators=140, criterion=gini, max_depth=30 ..................\n"
     ]
    },
    {
     "name": "stderr",
     "output_type": "stream",
     "text": [
      "[Parallel(n_jobs=4)]: Done 546 tasks      | elapsed: 487.5min\n"
     ]
    },
    {
     "name": "stdout",
     "output_type": "stream",
     "text": [
      "[CV]  n_estimators=140, criterion=gini, max_depth=30, score=-0.640863 - 6.8min\n",
      "[CV] n_estimators=50, criterion=gini, max_depth=32 ...................\n"
     ]
    },
    {
     "name": "stderr",
     "output_type": "stream",
     "text": [
      "[Parallel(n_jobs=4)]: Done 547 tasks      | elapsed: 488.9min\n"
     ]
    },
    {
     "name": "stdout",
     "output_type": "stream",
     "text": [
      "[CV]  n_estimators=140, criterion=gini, max_depth=30, score=-0.646516 - 6.9min\n",
      "[CV] n_estimators=50, criterion=gini, max_depth=32 ...................\n"
     ]
    },
    {
     "name": "stderr",
     "output_type": "stream",
     "text": [
      "[Parallel(n_jobs=4)]: Done 548 tasks      | elapsed: 490.0min\n"
     ]
    },
    {
     "name": "stdout",
     "output_type": "stream",
     "text": [
      "[CV]  n_estimators=50, criterion=gini, max_depth=32, score=-0.697588 - 2.4min\n",
      "[CV] n_estimators=50, criterion=gini, max_depth=32 ...................\n"
     ]
    },
    {
     "name": "stderr",
     "output_type": "stream",
     "text": [
      "[Parallel(n_jobs=4)]: Done 549 tasks      | elapsed: 491.3min\n"
     ]
    },
    {
     "name": "stdout",
     "output_type": "stream",
     "text": [
      "[CV]  n_estimators=140, criterion=gini, max_depth=30, score=-0.649249 - 6.7min\n",
      "[CV] n_estimators=50, criterion=gini, max_depth=32 ...................\n"
     ]
    },
    {
     "name": "stderr",
     "output_type": "stream",
     "text": [
      "[Parallel(n_jobs=4)]: Done 550 tasks      | elapsed: 491.5min\n"
     ]
    },
    {
     "name": "stdout",
     "output_type": "stream",
     "text": [
      "[CV]  n_estimators=50, criterion=gini, max_depth=32, score=-0.691752 - 2.3min\n",
      "[CV] n_estimators=50, criterion=gini, max_depth=32 ...................\n"
     ]
    },
    {
     "name": "stderr",
     "output_type": "stream",
     "text": [
      "[Parallel(n_jobs=4)]: Done 551 tasks      | elapsed: 492.3min\n"
     ]
    },
    {
     "name": "stdout",
     "output_type": "stream",
     "text": [
      "[CV]  n_estimators=50, criterion=gini, max_depth=32, score=-0.688966 - 2.4min\n",
      "[CV] n_estimators=60, criterion=gini, max_depth=32 ...................\n"
     ]
    },
    {
     "name": "stderr",
     "output_type": "stream",
     "text": [
      "[Parallel(n_jobs=4)]: Done 552 tasks      | elapsed: 493.7min\n"
     ]
    },
    {
     "name": "stdout",
     "output_type": "stream",
     "text": [
      "[CV]  n_estimators=50, criterion=gini, max_depth=32, score=-0.682883 - 2.5min\n",
      "[CV] n_estimators=60, criterion=gini, max_depth=32 ...................\n"
     ]
    },
    {
     "name": "stderr",
     "output_type": "stream",
     "text": [
      "[Parallel(n_jobs=4)]: Done 553 tasks      | elapsed: 494.0min\n"
     ]
    },
    {
     "name": "stdout",
     "output_type": "stream",
     "text": [
      "[CV]  n_estimators=140, criterion=gini, max_depth=30, score=-0.655344 - 6.6min\n",
      "[CV] n_estimators=60, criterion=gini, max_depth=32 ...................\n"
     ]
    },
    {
     "name": "stderr",
     "output_type": "stream",
     "text": [
      "[Parallel(n_jobs=4)]: Done 554 tasks      | elapsed: 494.1min\n"
     ]
    },
    {
     "name": "stdout",
     "output_type": "stream",
     "text": [
      "[CV]  n_estimators=50, criterion=gini, max_depth=32, score=-0.700909 - 2.4min\n",
      "[CV] n_estimators=60, criterion=gini, max_depth=32 ...................\n"
     ]
    },
    {
     "name": "stderr",
     "output_type": "stream",
     "text": [
      "[Parallel(n_jobs=4)]: Done 555 tasks      | elapsed: 494.8min\n"
     ]
    },
    {
     "name": "stdout",
     "output_type": "stream",
     "text": [
      "[CV]  n_estimators=60, criterion=gini, max_depth=32, score=-0.680534 - 2.9min\n",
      "[CV] n_estimators=60, criterion=gini, max_depth=32 ...................\n"
     ]
    },
    {
     "name": "stderr",
     "output_type": "stream",
     "text": [
      "[Parallel(n_jobs=4)]: Done 556 tasks      | elapsed: 496.6min\n"
     ]
    },
    {
     "name": "stdout",
     "output_type": "stream",
     "text": [
      "[CV]  n_estimators=60, criterion=gini, max_depth=32, score=-0.674064 - 2.8min\n",
      "[CV] n_estimators=70, criterion=gini, max_depth=32 ...................\n"
     ]
    },
    {
     "name": "stderr",
     "output_type": "stream",
     "text": [
      "[Parallel(n_jobs=4)]: Done 557 tasks      | elapsed: 496.9min\n"
     ]
    },
    {
     "name": "stdout",
     "output_type": "stream",
     "text": [
      "[CV]  n_estimators=60, criterion=gini, max_depth=32, score=-0.671274 - 2.8min\n",
      "[CV] n_estimators=70, criterion=gini, max_depth=32 ...................\n"
     ]
    },
    {
     "name": "stderr",
     "output_type": "stream",
     "text": [
      "[Parallel(n_jobs=4)]: Done 558 tasks      | elapsed: 497.0min\n"
     ]
    },
    {
     "name": "stdout",
     "output_type": "stream",
     "text": [
      "[CV]  n_estimators=60, criterion=gini, max_depth=32, score=-0.673565 - 2.9min\n",
      "[CV] n_estimators=70, criterion=gini, max_depth=32 ...................\n"
     ]
    },
    {
     "name": "stderr",
     "output_type": "stream",
     "text": [
      "[Parallel(n_jobs=4)]: Done 559 tasks      | elapsed: 497.7min\n"
     ]
    },
    {
     "name": "stdout",
     "output_type": "stream",
     "text": [
      "[CV]  n_estimators=60, criterion=gini, max_depth=32, score=-0.681685 - 2.7min\n",
      "[CV] n_estimators=70, criterion=gini, max_depth=32 ...................\n"
     ]
    },
    {
     "name": "stderr",
     "output_type": "stream",
     "text": [
      "[Parallel(n_jobs=4)]: Done 560 tasks      | elapsed: 499.3min\n"
     ]
    },
    {
     "name": "stdout",
     "output_type": "stream",
     "text": [
      "[CV]  n_estimators=70, criterion=gini, max_depth=32, score=-0.670885 - 3.2min\n",
      "[CV] n_estimators=70, criterion=gini, max_depth=32 ...................\n"
     ]
    },
    {
     "name": "stderr",
     "output_type": "stream",
     "text": [
      "[Parallel(n_jobs=4)]: Done 561 tasks      | elapsed: 500.1min\n"
     ]
    },
    {
     "name": "stdout",
     "output_type": "stream",
     "text": [
      "[CV]  n_estimators=70, criterion=gini, max_depth=32, score=-0.662945 - 3.2min\n",
      "[CV] n_estimators=80, criterion=gini, max_depth=32 ...................\n"
     ]
    },
    {
     "name": "stderr",
     "output_type": "stream",
     "text": [
      "[Parallel(n_jobs=4)]: Done 562 tasks      | elapsed: 500.2min\n"
     ]
    },
    {
     "name": "stdout",
     "output_type": "stream",
     "text": [
      "[CV]  n_estimators=70, criterion=gini, max_depth=32, score=-0.671068 - 3.1min\n",
      "[CV] n_estimators=80, criterion=gini, max_depth=32 ...................\n"
     ]
    },
    {
     "name": "stderr",
     "output_type": "stream",
     "text": [
      "[Parallel(n_jobs=4)]: Done 563 tasks      | elapsed: 500.8min\n"
     ]
    },
    {
     "name": "stdout",
     "output_type": "stream",
     "text": [
      "[CV]  n_estimators=70, criterion=gini, max_depth=32, score=-0.669516 - 3.1min\n",
      "[CV] n_estimators=80, criterion=gini, max_depth=32 ...................\n"
     ]
    },
    {
     "name": "stderr",
     "output_type": "stream",
     "text": [
      "[Parallel(n_jobs=4)]: Done 564 tasks      | elapsed: 502.4min\n"
     ]
    },
    {
     "name": "stdout",
     "output_type": "stream",
     "text": [
      "[CV]  n_estimators=70, criterion=gini, max_depth=32, score=-0.677450 - 3.2min\n",
      "[CV] n_estimators=80, criterion=gini, max_depth=32 ...................\n"
     ]
    },
    {
     "name": "stderr",
     "output_type": "stream",
     "text": [
      "[Parallel(n_jobs=4)]: Done 565 tasks      | elapsed: 503.2min\n"
     ]
    },
    {
     "name": "stdout",
     "output_type": "stream",
     "text": [
      "[CV]  n_estimators=80, criterion=gini, max_depth=32, score=-0.662233 - 3.6min\n",
      "[CV] n_estimators=80, criterion=gini, max_depth=32 ...................\n"
     ]
    },
    {
     "name": "stderr",
     "output_type": "stream",
     "text": [
      "[Parallel(n_jobs=4)]: Done 566 tasks      | elapsed: 503.8min\n"
     ]
    },
    {
     "name": "stdout",
     "output_type": "stream",
     "text": [
      "[CV]  n_estimators=80, criterion=gini, max_depth=32, score=-0.659923 - 3.6min\n",
      "[CV] n_estimators=90, criterion=gini, max_depth=32 ...................\n"
     ]
    },
    {
     "name": "stderr",
     "output_type": "stream",
     "text": [
      "[Parallel(n_jobs=4)]: Done 567 tasks      | elapsed: 504.4min\n"
     ]
    },
    {
     "name": "stdout",
     "output_type": "stream",
     "text": [
      "[CV]  n_estimators=80, criterion=gini, max_depth=32, score=-0.650237 - 3.6min\n",
      "[CV] n_estimators=90, criterion=gini, max_depth=32 ...................\n"
     ]
    },
    {
     "name": "stderr",
     "output_type": "stream",
     "text": [
      "[Parallel(n_jobs=4)]: Done 568 tasks      | elapsed: 506.0min\n"
     ]
    },
    {
     "name": "stdout",
     "output_type": "stream",
     "text": [
      "[CV]  n_estimators=80, criterion=gini, max_depth=32, score=-0.662736 - 3.5min\n",
      "[CV] n_estimators=90, criterion=gini, max_depth=32 ...................\n"
     ]
    },
    {
     "name": "stderr",
     "output_type": "stream",
     "text": [
      "[Parallel(n_jobs=4)]: Done 569 tasks      | elapsed: 506.7min\n"
     ]
    },
    {
     "name": "stdout",
     "output_type": "stream",
     "text": [
      "[CV]  n_estimators=80, criterion=gini, max_depth=32, score=-0.665637 - 3.5min\n",
      "[CV] n_estimators=90, criterion=gini, max_depth=32 ...................\n"
     ]
    },
    {
     "name": "stderr",
     "output_type": "stream",
     "text": [
      "[Parallel(n_jobs=4)]: Done 570 tasks      | elapsed: 507.3min\n"
     ]
    },
    {
     "name": "stdout",
     "output_type": "stream",
     "text": [
      "[CV]  n_estimators=90, criterion=gini, max_depth=32, score=-0.662308 - 3.9min\n",
      "[CV] n_estimators=90, criterion=gini, max_depth=32 ...................\n"
     ]
    },
    {
     "name": "stderr",
     "output_type": "stream",
     "text": [
      "[Parallel(n_jobs=4)]: Done 571 tasks      | elapsed: 508.3min\n"
     ]
    },
    {
     "name": "stdout",
     "output_type": "stream",
     "text": [
      "[CV]  n_estimators=90, criterion=gini, max_depth=32, score=-0.651655 - 3.9min\n",
      "[CV] n_estimators=100, criterion=gini, max_depth=32 ..................\n"
     ]
    },
    {
     "name": "stderr",
     "output_type": "stream",
     "text": [
      "[Parallel(n_jobs=4)]: Done 572 tasks      | elapsed: 509.9min\n"
     ]
    },
    {
     "name": "stdout",
     "output_type": "stream",
     "text": [
      "[CV]  n_estimators=90, criterion=gini, max_depth=32, score=-0.650408 - 4.0min\n",
      "[CV] n_estimators=100, criterion=gini, max_depth=32 ..................\n"
     ]
    },
    {
     "name": "stderr",
     "output_type": "stream",
     "text": [
      "[Parallel(n_jobs=4)]: Done 573 tasks      | elapsed: 510.7min\n"
     ]
    },
    {
     "name": "stdout",
     "output_type": "stream",
     "text": [
      "[CV]  n_estimators=90, criterion=gini, max_depth=32, score=-0.650884 - 3.9min\n",
      "[CV] n_estimators=100, criterion=gini, max_depth=32 ..................\n"
     ]
    },
    {
     "name": "stderr",
     "output_type": "stream",
     "text": [
      "[Parallel(n_jobs=4)]: Done 574 tasks      | elapsed: 511.2min\n"
     ]
    },
    {
     "name": "stdout",
     "output_type": "stream",
     "text": [
      "[CV]  n_estimators=90, criterion=gini, max_depth=32, score=-0.671592 - 4.0min\n",
      "[CV] n_estimators=100, criterion=gini, max_depth=32 ..................\n"
     ]
    },
    {
     "name": "stderr",
     "output_type": "stream",
     "text": [
      "[Parallel(n_jobs=4)]: Done 575 tasks      | elapsed: 512.3min\n"
     ]
    },
    {
     "name": "stdout",
     "output_type": "stream",
     "text": [
      "[CV]  n_estimators=100, criterion=gini, max_depth=32, score=-0.665094 - 4.5min\n",
      "[CV] n_estimators=100, criterion=gini, max_depth=32 ..................\n"
     ]
    },
    {
     "name": "stderr",
     "output_type": "stream",
     "text": [
      "[Parallel(n_jobs=4)]: Done 576 tasks      | elapsed: 514.4min\n"
     ]
    },
    {
     "name": "stdout",
     "output_type": "stream",
     "text": [
      "[CV]  n_estimators=100, criterion=gini, max_depth=32, score=-0.651379 - 4.4min\n",
      "[CV] n_estimators=110, criterion=gini, max_depth=32 ..................\n"
     ]
    },
    {
     "name": "stderr",
     "output_type": "stream",
     "text": [
      "[Parallel(n_jobs=4)]: Done 577 tasks      | elapsed: 515.1min\n"
     ]
    },
    {
     "name": "stdout",
     "output_type": "stream",
     "text": [
      "[CV]  n_estimators=100, criterion=gini, max_depth=32, score=-0.660115 - 4.4min\n",
      "[CV] n_estimators=110, criterion=gini, max_depth=32 ..................\n"
     ]
    },
    {
     "name": "stderr",
     "output_type": "stream",
     "text": [
      "[Parallel(n_jobs=4)]: Done 578 tasks      | elapsed: 515.6min\n"
     ]
    },
    {
     "name": "stdout",
     "output_type": "stream",
     "text": [
      "[CV]  n_estimators=100, criterion=gini, max_depth=32, score=-0.658940 - 4.4min\n",
      "[CV] n_estimators=110, criterion=gini, max_depth=32 ..................\n"
     ]
    },
    {
     "name": "stderr",
     "output_type": "stream",
     "text": [
      "[Parallel(n_jobs=4)]: Done 579 tasks      | elapsed: 516.7min\n"
     ]
    },
    {
     "name": "stdout",
     "output_type": "stream",
     "text": [
      "[CV]  n_estimators=100, criterion=gini, max_depth=32, score=-0.666407 - 4.5min\n",
      "[CV] n_estimators=110, criterion=gini, max_depth=32 ..................\n"
     ]
    },
    {
     "name": "stderr",
     "output_type": "stream",
     "text": [
      "[Parallel(n_jobs=4)]: Done 580 tasks      | elapsed: 518.9min\n"
     ]
    },
    {
     "name": "stdout",
     "output_type": "stream",
     "text": [
      "[CV]  n_estimators=110, criterion=gini, max_depth=32, score=-0.658557 - 5.0min\n",
      "[CV] n_estimators=110, criterion=gini, max_depth=32 ..................\n"
     ]
    },
    {
     "name": "stderr",
     "output_type": "stream",
     "text": [
      "[Parallel(n_jobs=4)]: Done 581 tasks      | elapsed: 520.1min\n"
     ]
    },
    {
     "name": "stdout",
     "output_type": "stream",
     "text": [
      "[CV]  n_estimators=110, criterion=gini, max_depth=32, score=-0.650782 - 4.9min\n",
      "[CV] n_estimators=120, criterion=gini, max_depth=32 ..................\n"
     ]
    },
    {
     "name": "stderr",
     "output_type": "stream",
     "text": [
      "[Parallel(n_jobs=4)]: Done 582 tasks      | elapsed: 520.6min\n"
     ]
    },
    {
     "name": "stdout",
     "output_type": "stream",
     "text": [
      "[CV]  n_estimators=110, criterion=gini, max_depth=32, score=-0.656000 - 4.9min\n",
      "[CV] n_estimators=120, criterion=gini, max_depth=32 ..................\n"
     ]
    },
    {
     "name": "stderr",
     "output_type": "stream",
     "text": [
      "[Parallel(n_jobs=4)]: Done 583 tasks      | elapsed: 521.6min\n"
     ]
    },
    {
     "name": "stdout",
     "output_type": "stream",
     "text": [
      "[CV]  n_estimators=110, criterion=gini, max_depth=32, score=-0.651676 - 4.7min\n",
      "[CV] n_estimators=120, criterion=gini, max_depth=32 ..................\n"
     ]
    },
    {
     "name": "stderr",
     "output_type": "stream",
     "text": [
      "[Parallel(n_jobs=4)]: Done 584 tasks      | elapsed: 523.6min\n"
     ]
    },
    {
     "name": "stdout",
     "output_type": "stream",
     "text": [
      "[CV]  n_estimators=110, criterion=gini, max_depth=32, score=-0.664186 - 4.7min\n",
      "[CV] n_estimators=120, criterion=gini, max_depth=32 ..................\n"
     ]
    },
    {
     "name": "stderr",
     "output_type": "stream",
     "text": [
      "[Parallel(n_jobs=4)]: Done 585 tasks      | elapsed: 524.8min\n"
     ]
    },
    {
     "name": "stdout",
     "output_type": "stream",
     "text": [
      "[CV]  n_estimators=120, criterion=gini, max_depth=32, score=-0.647708 - 5.1min\n",
      "[CV] n_estimators=120, criterion=gini, max_depth=32 ..................\n"
     ]
    },
    {
     "name": "stderr",
     "output_type": "stream",
     "text": [
      "[Parallel(n_jobs=4)]: Done 586 tasks      | elapsed: 525.7min\n"
     ]
    },
    {
     "name": "stdout",
     "output_type": "stream",
     "text": [
      "[CV]  n_estimators=120, criterion=gini, max_depth=32, score=-0.645732 - 5.1min\n",
      "[CV] n_estimators=130, criterion=gini, max_depth=32 ..................\n"
     ]
    },
    {
     "name": "stderr",
     "output_type": "stream",
     "text": [
      "[Parallel(n_jobs=4)]: Done 587 tasks      | elapsed: 526.7min\n"
     ]
    },
    {
     "name": "stdout",
     "output_type": "stream",
     "text": [
      "[CV]  n_estimators=120, criterion=gini, max_depth=32, score=-0.646824 - 5.2min\n",
      "[CV] n_estimators=130, criterion=gini, max_depth=32 ..................\n"
     ]
    },
    {
     "name": "stderr",
     "output_type": "stream",
     "text": [
      "[Parallel(n_jobs=4)]: Done 588 tasks      | elapsed: 528.8min\n"
     ]
    },
    {
     "name": "stdout",
     "output_type": "stream",
     "text": [
      "[CV]  n_estimators=120, criterion=gini, max_depth=32, score=-0.654423 - 5.1min\n",
      "[CV] n_estimators=130, criterion=gini, max_depth=32 ..................\n"
     ]
    },
    {
     "name": "stderr",
     "output_type": "stream",
     "text": [
      "[Parallel(n_jobs=4)]: Done 589 tasks      | elapsed: 529.9min\n"
     ]
    },
    {
     "name": "stdout",
     "output_type": "stream",
     "text": [
      "[CV]  n_estimators=120, criterion=gini, max_depth=32, score=-0.665966 - 5.1min\n",
      "[CV] n_estimators=130, criterion=gini, max_depth=32 ..................\n"
     ]
    },
    {
     "name": "stderr",
     "output_type": "stream",
     "text": [
      "[Parallel(n_jobs=4)]: Done 590 tasks      | elapsed: 530.8min\n"
     ]
    },
    {
     "name": "stdout",
     "output_type": "stream",
     "text": [
      "[CV]  n_estimators=130, criterion=gini, max_depth=32, score=-0.651474 - 5.6min\n",
      "[CV] n_estimators=130, criterion=gini, max_depth=32 ..................\n"
     ]
    },
    {
     "name": "stderr",
     "output_type": "stream",
     "text": [
      "[Parallel(n_jobs=4)]: Done 591 tasks      | elapsed: 532.3min\n"
     ]
    },
    {
     "name": "stdout",
     "output_type": "stream",
     "text": [
      "[CV]  n_estimators=130, criterion=gini, max_depth=32, score=-0.640763 - 5.6min\n",
      "[CV] n_estimators=140, criterion=gini, max_depth=32 ..................\n"
     ]
    },
    {
     "name": "stderr",
     "output_type": "stream",
     "text": [
      "[Parallel(n_jobs=4)]: Done 592 tasks      | elapsed: 534.3min\n"
     ]
    },
    {
     "name": "stdout",
     "output_type": "stream",
     "text": [
      "[CV]  n_estimators=130, criterion=gini, max_depth=32, score=-0.646953 - 5.5min\n",
      "[CV] n_estimators=140, criterion=gini, max_depth=32 ..................\n"
     ]
    },
    {
     "name": "stderr",
     "output_type": "stream",
     "text": [
      "[Parallel(n_jobs=4)]: Done 593 tasks      | elapsed: 535.5min\n"
     ]
    },
    {
     "name": "stdout",
     "output_type": "stream",
     "text": [
      "[CV]  n_estimators=130, criterion=gini, max_depth=32, score=-0.649994 - 5.5min\n",
      "[CV] n_estimators=140, criterion=gini, max_depth=32 ..................\n"
     ]
    },
    {
     "name": "stderr",
     "output_type": "stream",
     "text": [
      "[Parallel(n_jobs=4)]: Done 594 tasks      | elapsed: 536.4min\n"
     ]
    },
    {
     "name": "stdout",
     "output_type": "stream",
     "text": [
      "[CV]  n_estimators=130, criterion=gini, max_depth=32, score=-0.657834 - 5.6min\n",
      "[CV] n_estimators=140, criterion=gini, max_depth=32 ..................\n"
     ]
    },
    {
     "name": "stderr",
     "output_type": "stream",
     "text": [
      "[Parallel(n_jobs=4)]: Done 595 tasks      | elapsed: 537.9min\n"
     ]
    },
    {
     "name": "stdout",
     "output_type": "stream",
     "text": [
      "[CV]  n_estimators=140, criterion=gini, max_depth=32, score=-0.655853 - 6.0min\n",
      "[CV] n_estimators=140, criterion=gini, max_depth=32 ..................\n"
     ]
    },
    {
     "name": "stderr",
     "output_type": "stream",
     "text": [
      "[Parallel(n_jobs=4)]: Done 596 tasks      | elapsed: 540.3min\n"
     ]
    },
    {
     "name": "stdout",
     "output_type": "stream",
     "text": [
      "[CV]  n_estimators=140, criterion=gini, max_depth=32, score=-0.642294 - 6.0min\n",
      "[CV] n_estimators=50, criterion=gini, max_depth=34 ...................\n"
     ]
    },
    {
     "name": "stderr",
     "output_type": "stream",
     "text": [
      "[Parallel(n_jobs=4)]: Done 597 tasks      | elapsed: 541.4min\n"
     ]
    },
    {
     "name": "stdout",
     "output_type": "stream",
     "text": [
      "[CV]  n_estimators=140, criterion=gini, max_depth=32, score=-0.644171 - 6.0min\n",
      "[CV] n_estimators=50, criterion=gini, max_depth=34 ...................\n"
     ]
    },
    {
     "name": "stderr",
     "output_type": "stream",
     "text": [
      "[Parallel(n_jobs=4)]: Done 598 tasks      | elapsed: 542.4min\n"
     ]
    },
    {
     "name": "stdout",
     "output_type": "stream",
     "text": [
      "[CV]  n_estimators=50, criterion=gini, max_depth=34, score=-0.688702 - 2.1min\n",
      "[CV] n_estimators=50, criterion=gini, max_depth=34 ...................\n"
     ]
    },
    {
     "name": "stderr",
     "output_type": "stream",
     "text": [
      "[Parallel(n_jobs=4)]: Done 599 tasks      | elapsed: 543.6min\n"
     ]
    },
    {
     "name": "stdout",
     "output_type": "stream",
     "text": [
      "[CV]  n_estimators=140, criterion=gini, max_depth=32, score=-0.651782 - 6.0min\n",
      "[CV] n_estimators=50, criterion=gini, max_depth=34 ...................\n"
     ]
    },
    {
     "name": "stderr",
     "output_type": "stream",
     "text": [
      "[Parallel(n_jobs=4)]: Done 600 tasks      | elapsed: 543.8min\n"
     ]
    },
    {
     "name": "stdout",
     "output_type": "stream",
     "text": [
      "[CV]  n_estimators=50, criterion=gini, max_depth=34, score=-0.681291 - 2.1min\n",
      "[CV] n_estimators=50, criterion=gini, max_depth=34 ...................\n"
     ]
    },
    {
     "name": "stderr",
     "output_type": "stream",
     "text": [
      "[Parallel(n_jobs=4)]: Done 601 tasks      | elapsed: 544.5min\n"
     ]
    },
    {
     "name": "stdout",
     "output_type": "stream",
     "text": [
      "[CV]  n_estimators=50, criterion=gini, max_depth=34, score=-0.699356 - 2.2min\n",
      "[CV] n_estimators=60, criterion=gini, max_depth=34 ...................\n"
     ]
    },
    {
     "name": "stderr",
     "output_type": "stream",
     "text": [
      "[Parallel(n_jobs=4)]: Done 602 tasks      | elapsed: 545.7min\n"
     ]
    },
    {
     "name": "stdout",
     "output_type": "stream",
     "text": [
      "[CV]  n_estimators=50, criterion=gini, max_depth=34, score=-0.717052 - 2.1min\n",
      "[CV] n_estimators=60, criterion=gini, max_depth=34 ...................\n"
     ]
    },
    {
     "name": "stderr",
     "output_type": "stream",
     "text": [
      "[Parallel(n_jobs=4)]: Done 603 tasks      | elapsed: 546.0min\n"
     ]
    },
    {
     "name": "stdout",
     "output_type": "stream",
     "text": [
      "[CV]  n_estimators=140, criterion=gini, max_depth=32, score=-0.663077 - 5.9min\n",
      "[CV] n_estimators=60, criterion=gini, max_depth=34 ...................\n"
     ]
    },
    {
     "name": "stderr",
     "output_type": "stream",
     "text": [
      "[Parallel(n_jobs=4)]: Done 604 tasks      | elapsed: 546.3min\n"
     ]
    },
    {
     "name": "stdout",
     "output_type": "stream",
     "text": [
      "[CV]  n_estimators=50, criterion=gini, max_depth=34, score=-0.686846 - 2.1min\n",
      "[CV] n_estimators=60, criterion=gini, max_depth=34 ...................\n"
     ]
    },
    {
     "name": "stderr",
     "output_type": "stream",
     "text": [
      "[Parallel(n_jobs=4)]: Done 605 tasks      | elapsed: 546.7min\n"
     ]
    },
    {
     "name": "stdout",
     "output_type": "stream",
     "text": [
      "[CV]  n_estimators=60, criterion=gini, max_depth=34, score=-0.699258 - 2.6min\n",
      "[CV] n_estimators=60, criterion=gini, max_depth=34 ...................\n"
     ]
    },
    {
     "name": "stderr",
     "output_type": "stream",
     "text": [
      "[Parallel(n_jobs=4)]: Done 606 tasks      | elapsed: 548.3min\n"
     ]
    },
    {
     "name": "stdout",
     "output_type": "stream",
     "text": [
      "[CV]  n_estimators=60, criterion=gini, max_depth=34, score=-0.660139 - 2.6min\n",
      "[CV] n_estimators=70, criterion=gini, max_depth=34 ...................\n"
     ]
    },
    {
     "name": "stderr",
     "output_type": "stream",
     "text": [
      "[Parallel(n_jobs=4)]: Done 607 tasks      | elapsed: 548.5min\n"
     ]
    },
    {
     "name": "stdout",
     "output_type": "stream",
     "text": [
      "[CV]  n_estimators=60, criterion=gini, max_depth=34, score=-0.669220 - 2.6min\n",
      "[CV] n_estimators=70, criterion=gini, max_depth=34 ...................\n"
     ]
    },
    {
     "name": "stderr",
     "output_type": "stream",
     "text": [
      "[Parallel(n_jobs=4)]: Done 608 tasks      | elapsed: 548.8min\n"
     ]
    },
    {
     "name": "stdout",
     "output_type": "stream",
     "text": [
      "[CV]  n_estimators=60, criterion=gini, max_depth=34, score=-0.682421 - 2.6min\n",
      "[CV] n_estimators=70, criterion=gini, max_depth=34 ...................\n"
     ]
    },
    {
     "name": "stderr",
     "output_type": "stream",
     "text": [
      "[Parallel(n_jobs=4)]: Done 609 tasks      | elapsed: 549.2min\n"
     ]
    },
    {
     "name": "stdout",
     "output_type": "stream",
     "text": [
      "[CV]  n_estimators=60, criterion=gini, max_depth=34, score=-0.700436 - 2.6min\n",
      "[CV] n_estimators=70, criterion=gini, max_depth=34 ...................\n"
     ]
    },
    {
     "name": "stderr",
     "output_type": "stream",
     "text": [
      "[Parallel(n_jobs=4)]: Done 610 tasks      | elapsed: 550.9min\n"
     ]
    },
    {
     "name": "stdout",
     "output_type": "stream",
     "text": [
      "[CV]  n_estimators=70, criterion=gini, max_depth=34, score=-0.670884 - 3.0min\n",
      "[CV] n_estimators=70, criterion=gini, max_depth=34 ...................\n"
     ]
    },
    {
     "name": "stderr",
     "output_type": "stream",
     "text": [
      "[Parallel(n_jobs=4)]: Done 611 tasks      | elapsed: 551.6min\n"
     ]
    },
    {
     "name": "stdout",
     "output_type": "stream",
     "text": [
      "[CV]  n_estimators=70, criterion=gini, max_depth=34, score=-0.660649 - 3.0min\n",
      "[CV] n_estimators=80, criterion=gini, max_depth=34 ...................\n"
     ]
    },
    {
     "name": "stderr",
     "output_type": "stream",
     "text": [
      "[Parallel(n_jobs=4)]: Done 612 tasks      | elapsed: 551.8min\n"
     ]
    },
    {
     "name": "stdout",
     "output_type": "stream",
     "text": [
      "[CV]  n_estimators=70, criterion=gini, max_depth=34, score=-0.657612 - 3.0min\n",
      "[CV] n_estimators=80, criterion=gini, max_depth=34 ...................\n"
     ]
    },
    {
     "name": "stderr",
     "output_type": "stream",
     "text": [
      "[Parallel(n_jobs=4)]: Done 613 tasks      | elapsed: 552.3min\n"
     ]
    },
    {
     "name": "stdout",
     "output_type": "stream",
     "text": [
      "[CV]  n_estimators=70, criterion=gini, max_depth=34, score=-0.663569 - 3.0min\n",
      "[CV] n_estimators=80, criterion=gini, max_depth=34 ...................\n"
     ]
    },
    {
     "name": "stderr",
     "output_type": "stream",
     "text": [
      "[Parallel(n_jobs=4)]: Done 614 tasks      | elapsed: 553.9min\n"
     ]
    },
    {
     "name": "stdout",
     "output_type": "stream",
     "text": [
      "[CV]  n_estimators=70, criterion=gini, max_depth=34, score=-0.675644 - 3.0min\n",
      "[CV] n_estimators=80, criterion=gini, max_depth=34 ...................\n"
     ]
    },
    {
     "name": "stderr",
     "output_type": "stream",
     "text": [
      "[Parallel(n_jobs=4)]: Done 615 tasks      | elapsed: 554.6min\n"
     ]
    },
    {
     "name": "stdout",
     "output_type": "stream",
     "text": [
      "[CV]  n_estimators=80, criterion=gini, max_depth=34, score=-0.674559 - 3.4min\n",
      "[CV] n_estimators=80, criterion=gini, max_depth=34 ...................\n"
     ]
    },
    {
     "name": "stderr",
     "output_type": "stream",
     "text": [
      "[Parallel(n_jobs=4)]: Done 616 tasks      | elapsed: 555.3min\n"
     ]
    },
    {
     "name": "stdout",
     "output_type": "stream",
     "text": [
      "[CV]  n_estimators=80, criterion=gini, max_depth=34, score=-0.659565 - 3.4min\n",
      "[CV] n_estimators=90, criterion=gini, max_depth=34 ...................\n"
     ]
    },
    {
     "name": "stderr",
     "output_type": "stream",
     "text": [
      "[Parallel(n_jobs=4)]: Done 617 tasks      | elapsed: 555.7min\n"
     ]
    },
    {
     "name": "stdout",
     "output_type": "stream",
     "text": [
      "[CV]  n_estimators=80, criterion=gini, max_depth=34, score=-0.658620 - 3.4min\n",
      "[CV] n_estimators=90, criterion=gini, max_depth=34 ...................\n"
     ]
    },
    {
     "name": "stderr",
     "output_type": "stream",
     "text": [
      "[Parallel(n_jobs=4)]: Done 618 tasks      | elapsed: 557.4min\n"
     ]
    },
    {
     "name": "stdout",
     "output_type": "stream",
     "text": [
      "[CV]  n_estimators=80, criterion=gini, max_depth=34, score=-0.668990 - 3.4min\n",
      "[CV] n_estimators=90, criterion=gini, max_depth=34 ...................\n"
     ]
    },
    {
     "name": "stderr",
     "output_type": "stream",
     "text": [
      "[Parallel(n_jobs=4)]: Done 619 tasks      | elapsed: 558.0min\n"
     ]
    },
    {
     "name": "stdout",
     "output_type": "stream",
     "text": [
      "[CV]  n_estimators=80, criterion=gini, max_depth=34, score=-0.670029 - 3.4min\n",
      "[CV] n_estimators=90, criterion=gini, max_depth=34 ...................\n"
     ]
    },
    {
     "name": "stderr",
     "output_type": "stream",
     "text": [
      "[Parallel(n_jobs=4)]: Done 620 tasks      | elapsed: 558.7min\n"
     ]
    },
    {
     "name": "stdout",
     "output_type": "stream",
     "text": [
      "[CV]  n_estimators=90, criterion=gini, max_depth=34, score=-0.670035 - 3.9min\n",
      "[CV] n_estimators=90, criterion=gini, max_depth=34 ...................\n"
     ]
    },
    {
     "name": "stderr",
     "output_type": "stream",
     "text": [
      "[Parallel(n_jobs=4)]: Done 621 tasks      | elapsed: 559.6min\n"
     ]
    },
    {
     "name": "stdout",
     "output_type": "stream",
     "text": [
      "[CV]  n_estimators=90, criterion=gini, max_depth=34, score=-0.650218 - 3.9min\n",
      "[CV] n_estimators=100, criterion=gini, max_depth=34 ..................\n"
     ]
    },
    {
     "name": "stderr",
     "output_type": "stream",
     "text": [
      "[Parallel(n_jobs=4)]: Done 622 tasks      | elapsed: 561.2min\n"
     ]
    },
    {
     "name": "stdout",
     "output_type": "stream",
     "text": [
      "[CV]  n_estimators=90, criterion=gini, max_depth=34, score=-0.656647 - 3.9min\n",
      "[CV] n_estimators=100, criterion=gini, max_depth=34 ..................\n"
     ]
    },
    {
     "name": "stderr",
     "output_type": "stream",
     "text": [
      "[Parallel(n_jobs=4)]: Done 623 tasks      | elapsed: 561.9min\n"
     ]
    },
    {
     "name": "stdout",
     "output_type": "stream",
     "text": [
      "[CV]  n_estimators=90, criterion=gini, max_depth=34, score=-0.661306 - 3.9min\n",
      "[CV] n_estimators=100, criterion=gini, max_depth=34 ..................\n"
     ]
    },
    {
     "name": "stderr",
     "output_type": "stream",
     "text": [
      "[Parallel(n_jobs=4)]: Done 624 tasks      | elapsed: 562.6min\n"
     ]
    },
    {
     "name": "stdout",
     "output_type": "stream",
     "text": [
      "[CV]  n_estimators=90, criterion=gini, max_depth=34, score=-0.667491 - 3.9min\n",
      "[CV] n_estimators=100, criterion=gini, max_depth=34 ..................\n"
     ]
    },
    {
     "name": "stderr",
     "output_type": "stream",
     "text": [
      "[Parallel(n_jobs=4)]: Done 625 tasks      | elapsed: 563.4min\n"
     ]
    },
    {
     "name": "stdout",
     "output_type": "stream",
     "text": [
      "[CV]  n_estimators=100, criterion=gini, max_depth=34, score=-0.651983 - 4.3min\n",
      "[CV] n_estimators=100, criterion=gini, max_depth=34 ..................\n"
     ]
    },
    {
     "name": "stderr",
     "output_type": "stream",
     "text": [
      "[Parallel(n_jobs=4)]: Done 626 tasks      | elapsed: 565.5min\n"
     ]
    },
    {
     "name": "stdout",
     "output_type": "stream",
     "text": [
      "[CV]  n_estimators=100, criterion=gini, max_depth=34, score=-0.648637 - 4.3min\n",
      "[CV] n_estimators=110, criterion=gini, max_depth=34 ..................\n"
     ]
    },
    {
     "name": "stderr",
     "output_type": "stream",
     "text": [
      "[Parallel(n_jobs=4)]: Done 627 tasks      | elapsed: 566.1min\n"
     ]
    },
    {
     "name": "stdout",
     "output_type": "stream",
     "text": [
      "[CV]  n_estimators=100, criterion=gini, max_depth=34, score=-0.654279 - 4.3min\n",
      "[CV] n_estimators=110, criterion=gini, max_depth=34 ..................\n"
     ]
    },
    {
     "name": "stderr",
     "output_type": "stream",
     "text": [
      "[Parallel(n_jobs=4)]: Done 628 tasks      | elapsed: 566.9min\n"
     ]
    },
    {
     "name": "stdout",
     "output_type": "stream",
     "text": [
      "[CV]  n_estimators=100, criterion=gini, max_depth=34, score=-0.659790 - 4.3min\n",
      "[CV] n_estimators=110, criterion=gini, max_depth=34 ..................\n"
     ]
    },
    {
     "name": "stderr",
     "output_type": "stream",
     "text": [
      "[Parallel(n_jobs=4)]: Done 629 tasks      | elapsed: 567.7min\n"
     ]
    },
    {
     "name": "stdout",
     "output_type": "stream",
     "text": [
      "[CV]  n_estimators=100, criterion=gini, max_depth=34, score=-0.669983 - 4.3min\n",
      "[CV] n_estimators=110, criterion=gini, max_depth=34 ..................\n"
     ]
    },
    {
     "name": "stderr",
     "output_type": "stream",
     "text": [
      "[Parallel(n_jobs=4)]: Done 630 tasks      | elapsed: 569.8min\n"
     ]
    },
    {
     "name": "stdout",
     "output_type": "stream",
     "text": [
      "[CV]  n_estimators=110, criterion=gini, max_depth=34, score=-0.659848 - 4.7min\n",
      "[CV] n_estimators=110, criterion=gini, max_depth=34 ..................\n"
     ]
    },
    {
     "name": "stderr",
     "output_type": "stream",
     "text": [
      "[Parallel(n_jobs=4)]: Done 631 tasks      | elapsed: 570.9min\n"
     ]
    },
    {
     "name": "stdout",
     "output_type": "stream",
     "text": [
      "[CV]  n_estimators=110, criterion=gini, max_depth=34, score=-0.646317 - 4.7min\n",
      "[CV] n_estimators=120, criterion=gini, max_depth=34 ..................\n"
     ]
    },
    {
     "name": "stderr",
     "output_type": "stream",
     "text": [
      "[Parallel(n_jobs=4)]: Done 632 tasks      | elapsed: 571.6min\n"
     ]
    },
    {
     "name": "stdout",
     "output_type": "stream",
     "text": [
      "[CV]  n_estimators=110, criterion=gini, max_depth=34, score=-0.649374 - 4.7min\n",
      "[CV] n_estimators=120, criterion=gini, max_depth=34 ..................\n"
     ]
    },
    {
     "name": "stderr",
     "output_type": "stream",
     "text": [
      "[Parallel(n_jobs=4)]: Done 633 tasks      | elapsed: 572.4min\n"
     ]
    },
    {
     "name": "stdout",
     "output_type": "stream",
     "text": [
      "[CV]  n_estimators=110, criterion=gini, max_depth=34, score=-0.657183 - 4.7min\n",
      "[CV] n_estimators=120, criterion=gini, max_depth=34 ..................\n"
     ]
    },
    {
     "name": "stderr",
     "output_type": "stream",
     "text": [
      "[Parallel(n_jobs=4)]: Done 634 tasks      | elapsed: 574.5min\n"
     ]
    },
    {
     "name": "stdout",
     "output_type": "stream",
     "text": [
      "[CV]  n_estimators=110, criterion=gini, max_depth=34, score=-0.672543 - 4.7min\n",
      "[CV] n_estimators=120, criterion=gini, max_depth=34 ..................\n"
     ]
    },
    {
     "name": "stderr",
     "output_type": "stream",
     "text": [
      "[Parallel(n_jobs=4)]: Done 635 tasks      | elapsed: 575.6min\n"
     ]
    },
    {
     "name": "stdout",
     "output_type": "stream",
     "text": [
      "[CV]  n_estimators=120, criterion=gini, max_depth=34, score=-0.654152 - 5.1min\n",
      "[CV] n_estimators=120, criterion=gini, max_depth=34 ..................\n"
     ]
    },
    {
     "name": "stderr",
     "output_type": "stream",
     "text": [
      "[Parallel(n_jobs=4)]: Done 636 tasks      | elapsed: 576.7min\n"
     ]
    },
    {
     "name": "stdout",
     "output_type": "stream",
     "text": [
      "[CV]  n_estimators=120, criterion=gini, max_depth=34, score=-0.645373 - 5.2min\n",
      "[CV] n_estimators=130, criterion=gini, max_depth=34 ..................\n"
     ]
    },
    {
     "name": "stderr",
     "output_type": "stream",
     "text": [
      "[Parallel(n_jobs=4)]: Done 637 tasks      | elapsed: 577.6min\n"
     ]
    },
    {
     "name": "stdout",
     "output_type": "stream",
     "text": [
      "[CV]  n_estimators=120, criterion=gini, max_depth=34, score=-0.649373 - 5.2min\n",
      "[CV] n_estimators=130, criterion=gini, max_depth=34 ..................\n"
     ]
    },
    {
     "name": "stderr",
     "output_type": "stream",
     "text": [
      "[Parallel(n_jobs=4)]: Done 638 tasks      | elapsed: 579.7min\n"
     ]
    },
    {
     "name": "stdout",
     "output_type": "stream",
     "text": [
      "[CV]  n_estimators=120, criterion=gini, max_depth=34, score=-0.650346 - 5.1min\n",
      "[CV] n_estimators=130, criterion=gini, max_depth=34 ..................\n"
     ]
    },
    {
     "name": "stderr",
     "output_type": "stream",
     "text": [
      "[Parallel(n_jobs=4)]: Done 639 tasks      | elapsed: 580.7min\n"
     ]
    },
    {
     "name": "stdout",
     "output_type": "stream",
     "text": [
      "[CV]  n_estimators=120, criterion=gini, max_depth=34, score=-0.661049 - 5.1min\n",
      "[CV] n_estimators=130, criterion=gini, max_depth=34 ..................\n"
     ]
    },
    {
     "name": "stderr",
     "output_type": "stream",
     "text": [
      "[Parallel(n_jobs=4)]: Done 640 tasks      | elapsed: 581.9min\n"
     ]
    },
    {
     "name": "stdout",
     "output_type": "stream",
     "text": [
      "[CV]  n_estimators=130, criterion=gini, max_depth=34, score=-0.658101 - 5.6min\n",
      "[CV] n_estimators=130, criterion=gini, max_depth=34 ..................\n"
     ]
    },
    {
     "name": "stderr",
     "output_type": "stream",
     "text": [
      "[Parallel(n_jobs=4)]: Done 641 tasks      | elapsed: 583.2min\n"
     ]
    },
    {
     "name": "stdout",
     "output_type": "stream",
     "text": [
      "[CV]  n_estimators=130, criterion=gini, max_depth=34, score=-0.644925 - 5.6min\n",
      "[CV] n_estimators=140, criterion=gini, max_depth=34 ..................\n"
     ]
    },
    {
     "name": "stderr",
     "output_type": "stream",
     "text": [
      "[Parallel(n_jobs=4)]: Done 642 tasks      | elapsed: 585.2min\n"
     ]
    },
    {
     "name": "stdout",
     "output_type": "stream",
     "text": [
      "[CV]  n_estimators=130, criterion=gini, max_depth=34, score=-0.648447 - 5.6min\n",
      "[CV] n_estimators=140, criterion=gini, max_depth=34 ..................\n"
     ]
    },
    {
     "name": "stderr",
     "output_type": "stream",
     "text": [
      "[Parallel(n_jobs=4)]: Done 643 tasks      | elapsed: 586.3min\n"
     ]
    },
    {
     "name": "stdout",
     "output_type": "stream",
     "text": [
      "[CV]  n_estimators=130, criterion=gini, max_depth=34, score=-0.651514 - 5.6min\n",
      "[CV] n_estimators=140, criterion=gini, max_depth=34 ..................\n"
     ]
    },
    {
     "name": "stderr",
     "output_type": "stream",
     "text": [
      "[Parallel(n_jobs=4)]: Done 644 tasks      | elapsed: 587.4min\n"
     ]
    },
    {
     "name": "stdout",
     "output_type": "stream",
     "text": [
      "[CV]  n_estimators=130, criterion=gini, max_depth=34, score=-0.661059 - 5.6min\n",
      "[CV] n_estimators=140, criterion=gini, max_depth=34 ..................\n"
     ]
    },
    {
     "name": "stderr",
     "output_type": "stream",
     "text": [
      "[Parallel(n_jobs=4)]: Done 645 tasks      | elapsed: 588.7min\n"
     ]
    },
    {
     "name": "stdout",
     "output_type": "stream",
     "text": [
      "[CV]  n_estimators=140, criterion=gini, max_depth=34, score=-0.650901 - 6.0min\n",
      "[CV] n_estimators=140, criterion=gini, max_depth=34 ..................\n"
     ]
    },
    {
     "name": "stderr",
     "output_type": "stream",
     "text": [
      "[Parallel(n_jobs=4)]: Done 646 tasks      | elapsed: 591.2min\n"
     ]
    },
    {
     "name": "stdout",
     "output_type": "stream",
     "text": [
      "[CV]  n_estimators=140, criterion=gini, max_depth=34, score=-0.640360 - 6.0min\n",
      "[CV] n_estimators=50, criterion=gini, max_depth=36 ...................\n"
     ]
    },
    {
     "name": "stderr",
     "output_type": "stream",
     "text": [
      "[Parallel(n_jobs=4)]: Done 647 tasks      | elapsed: 592.3min\n"
     ]
    },
    {
     "name": "stdout",
     "output_type": "stream",
     "text": [
      "[CV]  n_estimators=140, criterion=gini, max_depth=34, score=-0.647021 - 6.0min\n",
      "[CV] n_estimators=50, criterion=gini, max_depth=36 ...................\n"
     ]
    },
    {
     "name": "stderr",
     "output_type": "stream",
     "text": [
      "[Parallel(n_jobs=4)]: Done 648 tasks      | elapsed: 593.4min\n"
     ]
    },
    {
     "name": "stdout",
     "output_type": "stream",
     "text": [
      "[CV]  n_estimators=50, criterion=gini, max_depth=36, score=-0.717810 - 2.1min\n",
      "[CV] n_estimators=50, criterion=gini, max_depth=36 ...................\n"
     ]
    },
    {
     "name": "stderr",
     "output_type": "stream",
     "text": [
      "[Parallel(n_jobs=4)]: Done 649 tasks      | elapsed: 594.4min\n"
     ]
    },
    {
     "name": "stdout",
     "output_type": "stream",
     "text": [
      "[CV]  n_estimators=140, criterion=gini, max_depth=34, score=-0.649729 - 6.0min\n",
      "[CV] n_estimators=50, criterion=gini, max_depth=36 ...................\n"
     ]
    },
    {
     "name": "stderr",
     "output_type": "stream",
     "text": [
      "[Parallel(n_jobs=4)]: Done 650 tasks      | elapsed: 594.7min\n"
     ]
    },
    {
     "name": "stdout",
     "output_type": "stream",
     "text": [
      "[CV]  n_estimators=50, criterion=gini, max_depth=36, score=-0.712501 - 2.1min\n",
      "[CV] n_estimators=50, criterion=gini, max_depth=36 ...................\n"
     ]
    },
    {
     "name": "stderr",
     "output_type": "stream",
     "text": [
      "[Parallel(n_jobs=4)]: Done 651 tasks      | elapsed: 595.6min\n"
     ]
    },
    {
     "name": "stdout",
     "output_type": "stream",
     "text": [
      "[CV]  n_estimators=50, criterion=gini, max_depth=36, score=-0.703270 - 2.2min\n",
      "[CV] n_estimators=60, criterion=gini, max_depth=36 ...................\n"
     ]
    },
    {
     "name": "stderr",
     "output_type": "stream",
     "text": [
      "[Parallel(n_jobs=4)]: Done 652 tasks      | elapsed: 596.6min\n"
     ]
    },
    {
     "name": "stdout",
     "output_type": "stream",
     "text": [
      "[CV]  n_estimators=50, criterion=gini, max_depth=36, score=-0.708643 - 2.2min\n",
      "[CV] n_estimators=60, criterion=gini, max_depth=36 ...................\n"
     ]
    },
    {
     "name": "stderr",
     "output_type": "stream",
     "text": [
      "[Parallel(n_jobs=4)]: Done 653 tasks      | elapsed: 596.9min\n"
     ]
    },
    {
     "name": "stdout",
     "output_type": "stream",
     "text": [
      "[CV]  n_estimators=140, criterion=gini, max_depth=34, score=-0.656253 - 6.0min\n",
      "[CV] n_estimators=60, criterion=gini, max_depth=36 ...................\n"
     ]
    },
    {
     "name": "stderr",
     "output_type": "stream",
     "text": [
      "[Parallel(n_jobs=4)]: Done 654 tasks      | elapsed: 597.2min\n"
     ]
    },
    {
     "name": "stdout",
     "output_type": "stream",
     "text": [
      "[CV]  n_estimators=50, criterion=gini, max_depth=36, score=-0.705070 - 2.2min\n",
      "[CV] n_estimators=60, criterion=gini, max_depth=36 ...................\n"
     ]
    },
    {
     "name": "stderr",
     "output_type": "stream",
     "text": [
      "[Parallel(n_jobs=4)]: Done 655 tasks      | elapsed: 597.8min\n"
     ]
    },
    {
     "name": "stdout",
     "output_type": "stream",
     "text": [
      "[CV]  n_estimators=60, criterion=gini, max_depth=36, score=-0.685390 - 2.6min\n",
      "[CV] n_estimators=60, criterion=gini, max_depth=36 ...................\n"
     ]
    },
    {
     "name": "stderr",
     "output_type": "stream",
     "text": [
      "[Parallel(n_jobs=4)]: Done 656 tasks      | elapsed: 599.2min\n"
     ]
    },
    {
     "name": "stdout",
     "output_type": "stream",
     "text": [
      "[CV]  n_estimators=60, criterion=gini, max_depth=36, score=-0.691351 - 2.6min\n",
      "[CV] n_estimators=70, criterion=gini, max_depth=36 ...................\n"
     ]
    },
    {
     "name": "stderr",
     "output_type": "stream",
     "text": [
      "[Parallel(n_jobs=4)]: Done 657 tasks      | elapsed: 599.4min\n"
     ]
    },
    {
     "name": "stdout",
     "output_type": "stream",
     "text": [
      "[CV]  n_estimators=60, criterion=gini, max_depth=36, score=-0.692345 - 2.6min\n",
      "[CV] n_estimators=70, criterion=gini, max_depth=36 ...................\n"
     ]
    },
    {
     "name": "stderr",
     "output_type": "stream",
     "text": [
      "[Parallel(n_jobs=4)]: Done 658 tasks      | elapsed: 599.8min\n"
     ]
    },
    {
     "name": "stdout",
     "output_type": "stream",
     "text": [
      "[CV]  n_estimators=60, criterion=gini, max_depth=36, score=-0.687887 - 2.6min\n",
      "[CV] n_estimators=70, criterion=gini, max_depth=36 ...................\n"
     ]
    },
    {
     "name": "stderr",
     "output_type": "stream",
     "text": [
      "[Parallel(n_jobs=4)]: Done 659 tasks      | elapsed: 600.3min\n"
     ]
    },
    {
     "name": "stdout",
     "output_type": "stream",
     "text": [
      "[CV]  n_estimators=60, criterion=gini, max_depth=36, score=-0.687756 - 2.6min\n",
      "[CV] n_estimators=70, criterion=gini, max_depth=36 ...................\n"
     ]
    },
    {
     "name": "stderr",
     "output_type": "stream",
     "text": [
      "[Parallel(n_jobs=4)]: Done 660 tasks      | elapsed: 601.8min\n"
     ]
    },
    {
     "name": "stdout",
     "output_type": "stream",
     "text": [
      "[CV]  n_estimators=70, criterion=gini, max_depth=36, score=-0.674700 - 3.0min\n",
      "[CV] n_estimators=70, criterion=gini, max_depth=36 ...................\n"
     ]
    },
    {
     "name": "stderr",
     "output_type": "stream",
     "text": [
      "[Parallel(n_jobs=4)]: Done 661 tasks      | elapsed: 602.4min\n"
     ]
    },
    {
     "name": "stdout",
     "output_type": "stream",
     "text": [
      "[CV]  n_estimators=70, criterion=gini, max_depth=36, score=-0.664458 - 3.0min\n",
      "[CV] n_estimators=80, criterion=gini, max_depth=36 ...................\n"
     ]
    },
    {
     "name": "stderr",
     "output_type": "stream",
     "text": [
      "[Parallel(n_jobs=4)]: Done 662 tasks      | elapsed: 602.8min\n"
     ]
    },
    {
     "name": "stdout",
     "output_type": "stream",
     "text": [
      "[CV]  n_estimators=70, criterion=gini, max_depth=36, score=-0.682242 - 3.0min\n",
      "[CV] n_estimators=80, criterion=gini, max_depth=36 ...................\n"
     ]
    },
    {
     "name": "stderr",
     "output_type": "stream",
     "text": [
      "[Parallel(n_jobs=4)]: Done 663 tasks      | elapsed: 603.4min\n"
     ]
    },
    {
     "name": "stdout",
     "output_type": "stream",
     "text": [
      "[CV]  n_estimators=70, criterion=gini, max_depth=36, score=-0.672636 - 3.0min\n",
      "[CV] n_estimators=80, criterion=gini, max_depth=36 ...................\n"
     ]
    },
    {
     "name": "stderr",
     "output_type": "stream",
     "text": [
      "[Parallel(n_jobs=4)]: Done 664 tasks      | elapsed: 604.8min\n"
     ]
    },
    {
     "name": "stdout",
     "output_type": "stream",
     "text": [
      "[CV]  n_estimators=70, criterion=gini, max_depth=36, score=-0.692675 - 3.0min\n",
      "[CV] n_estimators=80, criterion=gini, max_depth=36 ...................\n"
     ]
    },
    {
     "name": "stderr",
     "output_type": "stream",
     "text": [
      "[Parallel(n_jobs=4)]: Done 665 tasks      | elapsed: 605.4min\n"
     ]
    },
    {
     "name": "stdout",
     "output_type": "stream",
     "text": [
      "[CV]  n_estimators=80, criterion=gini, max_depth=36, score=-0.675351 - 3.4min\n",
      "[CV] n_estimators=80, criterion=gini, max_depth=36 ...................\n"
     ]
    },
    {
     "name": "stderr",
     "output_type": "stream",
     "text": [
      "[Parallel(n_jobs=4)]: Done 666 tasks      | elapsed: 606.3min\n"
     ]
    },
    {
     "name": "stdout",
     "output_type": "stream",
     "text": [
      "[CV]  n_estimators=80, criterion=gini, max_depth=36, score=-0.654369 - 3.5min\n",
      "[CV] n_estimators=90, criterion=gini, max_depth=36 ...................\n"
     ]
    },
    {
     "name": "stderr",
     "output_type": "stream",
     "text": [
      "[Parallel(n_jobs=4)]: Done 667 tasks      | elapsed: 606.8min\n"
     ]
    },
    {
     "name": "stdout",
     "output_type": "stream",
     "text": [
      "[CV]  n_estimators=80, criterion=gini, max_depth=36, score=-0.664756 - 3.5min\n",
      "[CV] n_estimators=90, criterion=gini, max_depth=36 ...................\n"
     ]
    },
    {
     "name": "stderr",
     "output_type": "stream",
     "text": [
      "[Parallel(n_jobs=4)]: Done 668 tasks      | elapsed: 608.2min\n"
     ]
    },
    {
     "name": "stdout",
     "output_type": "stream",
     "text": [
      "[CV]  n_estimators=80, criterion=gini, max_depth=36, score=-0.667125 - 3.4min\n",
      "[CV] n_estimators=90, criterion=gini, max_depth=36 ...................\n"
     ]
    },
    {
     "name": "stderr",
     "output_type": "stream",
     "text": [
      "[Parallel(n_jobs=4)]: Done 669 tasks      | elapsed: 608.9min\n"
     ]
    },
    {
     "name": "stdout",
     "output_type": "stream",
     "text": [
      "[CV]  n_estimators=80, criterion=gini, max_depth=36, score=-0.685477 - 3.4min\n",
      "[CV] n_estimators=90, criterion=gini, max_depth=36 ...................\n"
     ]
    },
    {
     "name": "stderr",
     "output_type": "stream",
     "text": [
      "[Parallel(n_jobs=4)]: Done 670 tasks      | elapsed: 609.7min\n"
     ]
    },
    {
     "name": "stdout",
     "output_type": "stream",
     "text": [
      "[CV]  n_estimators=90, criterion=gini, max_depth=36, score=-0.667187 - 3.9min\n",
      "[CV] n_estimators=90, criterion=gini, max_depth=36 ...................\n"
     ]
    },
    {
     "name": "stderr",
     "output_type": "stream",
     "text": [
      "[Parallel(n_jobs=4)]: Done 671 tasks      | elapsed: 610.7min\n"
     ]
    },
    {
     "name": "stdout",
     "output_type": "stream",
     "text": [
      "[CV]  n_estimators=90, criterion=gini, max_depth=36, score=-0.652524 - 3.9min\n",
      "[CV] n_estimators=100, criterion=gini, max_depth=36 ..................\n"
     ]
    },
    {
     "name": "stderr",
     "output_type": "stream",
     "text": [
      "[Parallel(n_jobs=4)]: Done 672 tasks      | elapsed: 612.1min\n"
     ]
    },
    {
     "name": "stdout",
     "output_type": "stream",
     "text": [
      "[CV]  n_estimators=90, criterion=gini, max_depth=36, score=-0.661516 - 3.9min\n",
      "[CV] n_estimators=100, criterion=gini, max_depth=36 ..................\n"
     ]
    },
    {
     "name": "stderr",
     "output_type": "stream",
     "text": [
      "[Parallel(n_jobs=4)]: Done 673 tasks      | elapsed: 612.7min\n"
     ]
    },
    {
     "name": "stdout",
     "output_type": "stream",
     "text": [
      "[CV]  n_estimators=90, criterion=gini, max_depth=36, score=-0.663769 - 3.9min\n",
      "[CV] n_estimators=100, criterion=gini, max_depth=36 ..................\n"
     ]
    },
    {
     "name": "stderr",
     "output_type": "stream",
     "text": [
      "[Parallel(n_jobs=4)]: Done 674 tasks      | elapsed: 613.5min\n"
     ]
    },
    {
     "name": "stdout",
     "output_type": "stream",
     "text": [
      "[CV]  n_estimators=90, criterion=gini, max_depth=36, score=-0.678423 - 3.9min\n",
      "[CV] n_estimators=100, criterion=gini, max_depth=36 ..................\n"
     ]
    },
    {
     "name": "stderr",
     "output_type": "stream",
     "text": [
      "[Parallel(n_jobs=4)]: Done 675 tasks      | elapsed: 614.6min\n"
     ]
    },
    {
     "name": "stdout",
     "output_type": "stream",
     "text": [
      "[CV]  n_estimators=100, criterion=gini, max_depth=36, score=-0.663680 - 4.3min\n",
      "[CV] n_estimators=100, criterion=gini, max_depth=36 ..................\n"
     ]
    },
    {
     "name": "stderr",
     "output_type": "stream",
     "text": [
      "[Parallel(n_jobs=4)]: Done 676 tasks      | elapsed: 616.4min\n"
     ]
    },
    {
     "name": "stdout",
     "output_type": "stream",
     "text": [
      "[CV]  n_estimators=100, criterion=gini, max_depth=36, score=-0.650580 - 4.3min\n",
      "[CV] n_estimators=110, criterion=gini, max_depth=36 ..................\n"
     ]
    },
    {
     "name": "stderr",
     "output_type": "stream",
     "text": [
      "[Parallel(n_jobs=4)]: Done 677 tasks      | elapsed: 617.0min\n"
     ]
    },
    {
     "name": "stdout",
     "output_type": "stream",
     "text": [
      "[CV]  n_estimators=100, criterion=gini, max_depth=36, score=-0.656485 - 4.3min\n",
      "[CV] n_estimators=110, criterion=gini, max_depth=36 ..................\n"
     ]
    },
    {
     "name": "stderr",
     "output_type": "stream",
     "text": [
      "[Parallel(n_jobs=4)]: Done 678 tasks      | elapsed: 617.9min\n"
     ]
    },
    {
     "name": "stdout",
     "output_type": "stream",
     "text": [
      "[CV]  n_estimators=100, criterion=gini, max_depth=36, score=-0.664249 - 4.3min\n",
      "[CV] n_estimators=110, criterion=gini, max_depth=36 ..................\n"
     ]
    },
    {
     "name": "stderr",
     "output_type": "stream",
     "text": [
      "[Parallel(n_jobs=4)]: Done 679 tasks      | elapsed: 618.9min\n"
     ]
    },
    {
     "name": "stdout",
     "output_type": "stream",
     "text": [
      "[CV]  n_estimators=100, criterion=gini, max_depth=36, score=-0.664801 - 4.3min\n",
      "[CV] n_estimators=110, criterion=gini, max_depth=36 ..................\n"
     ]
    },
    {
     "name": "stderr",
     "output_type": "stream",
     "text": [
      "[Parallel(n_jobs=4)]: Done 680 tasks      | elapsed: 620.7min\n"
     ]
    },
    {
     "name": "stdout",
     "output_type": "stream",
     "text": [
      "[CV]  n_estimators=110, criterion=gini, max_depth=36, score=-0.661427 - 4.7min\n",
      "[CV] n_estimators=110, criterion=gini, max_depth=36 ..................\n"
     ]
    },
    {
     "name": "stderr",
     "output_type": "stream",
     "text": [
      "[Parallel(n_jobs=4)]: Done 681 tasks      | elapsed: 621.8min\n"
     ]
    },
    {
     "name": "stdout",
     "output_type": "stream",
     "text": [
      "[CV]  n_estimators=110, criterion=gini, max_depth=36, score=-0.648022 - 4.7min\n",
      "[CV] n_estimators=120, criterion=gini, max_depth=36 ..................\n"
     ]
    },
    {
     "name": "stderr",
     "output_type": "stream",
     "text": [
      "[Parallel(n_jobs=4)]: Done 682 tasks      | elapsed: 622.6min\n"
     ]
    },
    {
     "name": "stdout",
     "output_type": "stream",
     "text": [
      "[CV]  n_estimators=110, criterion=gini, max_depth=36, score=-0.648817 - 4.7min\n",
      "[CV] n_estimators=120, criterion=gini, max_depth=36 ..................\n"
     ]
    },
    {
     "name": "stderr",
     "output_type": "stream",
     "text": [
      "[Parallel(n_jobs=4)]: Done 683 tasks      | elapsed: 623.6min\n"
     ]
    },
    {
     "name": "stdout",
     "output_type": "stream",
     "text": [
      "[CV]  n_estimators=110, criterion=gini, max_depth=36, score=-0.655922 - 4.7min\n",
      "[CV] n_estimators=120, criterion=gini, max_depth=36 ..................\n"
     ]
    },
    {
     "name": "stderr",
     "output_type": "stream",
     "text": [
      "[Parallel(n_jobs=4)]: Done 684 tasks      | elapsed: 625.4min\n"
     ]
    },
    {
     "name": "stdout",
     "output_type": "stream",
     "text": [
      "[CV]  n_estimators=110, criterion=gini, max_depth=36, score=-0.668294 - 4.7min\n",
      "[CV] n_estimators=120, criterion=gini, max_depth=36 ..................\n"
     ]
    },
    {
     "name": "stderr",
     "output_type": "stream",
     "text": [
      "[Parallel(n_jobs=4)]: Done 685 tasks      | elapsed: 626.5min\n"
     ]
    },
    {
     "name": "stdout",
     "output_type": "stream",
     "text": [
      "[CV]  n_estimators=120, criterion=gini, max_depth=36, score=-0.661915 - 5.2min\n",
      "[CV] n_estimators=120, criterion=gini, max_depth=36 ..................\n"
     ]
    },
    {
     "name": "stderr",
     "output_type": "stream",
     "text": [
      "[Parallel(n_jobs=4)]: Done 686 tasks      | elapsed: 627.8min\n"
     ]
    },
    {
     "name": "stdout",
     "output_type": "stream",
     "text": [
      "[CV]  n_estimators=120, criterion=gini, max_depth=36, score=-0.645220 - 5.2min\n",
      "[CV] n_estimators=130, criterion=gini, max_depth=36 ..................\n"
     ]
    },
    {
     "name": "stderr",
     "output_type": "stream",
     "text": [
      "[Parallel(n_jobs=4)]: Done 687 tasks      | elapsed: 628.8min\n"
     ]
    },
    {
     "name": "stdout",
     "output_type": "stream",
     "text": [
      "[CV]  n_estimators=120, criterion=gini, max_depth=36, score=-0.649859 - 5.2min\n",
      "[CV] n_estimators=130, criterion=gini, max_depth=36 ..................\n"
     ]
    },
    {
     "name": "stderr",
     "output_type": "stream",
     "text": [
      "[Parallel(n_jobs=4)]: Done 688 tasks      | elapsed: 630.6min\n"
     ]
    },
    {
     "name": "stdout",
     "output_type": "stream",
     "text": [
      "[CV]  n_estimators=120, criterion=gini, max_depth=36, score=-0.654736 - 5.2min\n",
      "[CV] n_estimators=130, criterion=gini, max_depth=36 ..................\n"
     ]
    },
    {
     "name": "stderr",
     "output_type": "stream",
     "text": [
      "[Parallel(n_jobs=4)]: Done 689 tasks      | elapsed: 631.7min\n"
     ]
    },
    {
     "name": "stdout",
     "output_type": "stream",
     "text": [
      "[CV]  n_estimators=120, criterion=gini, max_depth=36, score=-0.662600 - 5.2min\n",
      "[CV] n_estimators=130, criterion=gini, max_depth=36 ..................\n"
     ]
    },
    {
     "name": "stderr",
     "output_type": "stream",
     "text": [
      "[Parallel(n_jobs=4)]: Done 690 tasks      | elapsed: 632.9min\n"
     ]
    },
    {
     "name": "stdout",
     "output_type": "stream",
     "text": [
      "[CV]  n_estimators=130, criterion=gini, max_depth=36, score=-0.654746 - 5.6min\n",
      "[CV] n_estimators=130, criterion=gini, max_depth=36 ..................\n"
     ]
    },
    {
     "name": "stderr",
     "output_type": "stream",
     "text": [
      "[Parallel(n_jobs=4)]: Done 691 tasks      | elapsed: 634.4min\n"
     ]
    },
    {
     "name": "stdout",
     "output_type": "stream",
     "text": [
      "[CV]  n_estimators=130, criterion=gini, max_depth=36, score=-0.643063 - 5.6min\n",
      "[CV] n_estimators=140, criterion=gini, max_depth=36 ..................\n"
     ]
    },
    {
     "name": "stderr",
     "output_type": "stream",
     "text": [
      "[Parallel(n_jobs=4)]: Done 692 tasks      | elapsed: 636.2min\n"
     ]
    },
    {
     "name": "stdout",
     "output_type": "stream",
     "text": [
      "[CV]  n_estimators=130, criterion=gini, max_depth=36, score=-0.652021 - 5.6min\n",
      "[CV] n_estimators=140, criterion=gini, max_depth=36 ..................\n"
     ]
    },
    {
     "name": "stderr",
     "output_type": "stream",
     "text": [
      "[Parallel(n_jobs=4)]: Done 693 tasks      | elapsed: 637.3min\n"
     ]
    },
    {
     "name": "stdout",
     "output_type": "stream",
     "text": [
      "[CV]  n_estimators=130, criterion=gini, max_depth=36, score=-0.648198 - 5.6min\n",
      "[CV] n_estimators=140, criterion=gini, max_depth=36 ..................\n"
     ]
    },
    {
     "name": "stderr",
     "output_type": "stream",
     "text": [
      "[Parallel(n_jobs=4)]: Done 694 tasks      | elapsed: 638.5min\n"
     ]
    },
    {
     "name": "stdout",
     "output_type": "stream",
     "text": [
      "[CV]  n_estimators=130, criterion=gini, max_depth=36, score=-0.664476 - 5.5min\n",
      "[CV] n_estimators=140, criterion=gini, max_depth=36 ..................\n"
     ]
    },
    {
     "name": "stderr",
     "output_type": "stream",
     "text": [
      "[Parallel(n_jobs=4)]: Done 695 tasks      | elapsed: 639.9min\n"
     ]
    },
    {
     "name": "stdout",
     "output_type": "stream",
     "text": [
      "[CV]  n_estimators=140, criterion=gini, max_depth=36, score=-0.654702 - 6.0min\n",
      "[CV] n_estimators=140, criterion=gini, max_depth=36 ..................\n"
     ]
    },
    {
     "name": "stderr",
     "output_type": "stream",
     "text": [
      "[Parallel(n_jobs=4)]: Done 696 tasks      | elapsed: 642.2min\n"
     ]
    },
    {
     "name": "stdout",
     "output_type": "stream",
     "text": [
      "[CV]  n_estimators=140, criterion=gini, max_depth=36, score=-0.644460 - 6.0min\n",
      "[CV] n_estimators=50, criterion=gini, max_depth=38 ...................\n"
     ]
    },
    {
     "name": "stderr",
     "output_type": "stream",
     "text": [
      "[Parallel(n_jobs=4)]: Done 697 tasks      | elapsed: 643.3min\n"
     ]
    },
    {
     "name": "stdout",
     "output_type": "stream",
     "text": [
      "[CV]  n_estimators=140, criterion=gini, max_depth=36, score=-0.648763 - 6.0min\n",
      "[CV] n_estimators=50, criterion=gini, max_depth=38 ...................\n"
     ]
    },
    {
     "name": "stderr",
     "output_type": "stream",
     "text": [
      "[Parallel(n_jobs=4)]: Done 698 tasks      | elapsed: 644.5min\n"
     ]
    },
    {
     "name": "stdout",
     "output_type": "stream",
     "text": [
      "[CV]  n_estimators=50, criterion=gini, max_depth=38, score=-0.714893 - 2.2min\n",
      "[CV] n_estimators=50, criterion=gini, max_depth=38 ...................\n"
     ]
    },
    {
     "name": "stderr",
     "output_type": "stream",
     "text": [
      "[Parallel(n_jobs=4)]: Done 699 tasks      | elapsed: 645.4min\n"
     ]
    },
    {
     "name": "stdout",
     "output_type": "stream",
     "text": [
      "[CV]  n_estimators=140, criterion=gini, max_depth=36, score=-0.653475 - 6.0min\n",
      "[CV] n_estimators=50, criterion=gini, max_depth=38 ...................\n"
     ]
    },
    {
     "name": "stderr",
     "output_type": "stream",
     "text": [
      "[Parallel(n_jobs=4)]: Done 700 tasks      | elapsed: 645.9min\n"
     ]
    },
    {
     "name": "stdout",
     "output_type": "stream",
     "text": [
      "[CV]  n_estimators=50, criterion=gini, max_depth=38, score=-0.691182 - 2.2min\n",
      "[CV] n_estimators=50, criterion=gini, max_depth=38 ...................\n"
     ]
    },
    {
     "name": "stderr",
     "output_type": "stream",
     "text": [
      "[Parallel(n_jobs=4)]: Done 701 tasks      | elapsed: 646.7min\n"
     ]
    },
    {
     "name": "stdout",
     "output_type": "stream",
     "text": [
      "[CV]  n_estimators=50, criterion=gini, max_depth=38, score=-0.726505 - 2.2min\n",
      "[CV] n_estimators=60, criterion=gini, max_depth=38 ...................\n"
     ]
    },
    {
     "name": "stderr",
     "output_type": "stream",
     "text": [
      "[Parallel(n_jobs=4)]: Done 702 tasks      | elapsed: 647.6min\n"
     ]
    },
    {
     "name": "stdout",
     "output_type": "stream",
     "text": [
      "[CV]  n_estimators=50, criterion=gini, max_depth=38, score=-0.719106 - 2.2min\n",
      "[CV] n_estimators=60, criterion=gini, max_depth=38 ...................\n"
     ]
    },
    {
     "name": "stderr",
     "output_type": "stream",
     "text": [
      "[Parallel(n_jobs=4)]: Done 703 tasks      | elapsed: 648.1min\n"
     ]
    },
    {
     "name": "stdout",
     "output_type": "stream",
     "text": [
      "[CV]  n_estimators=140, criterion=gini, max_depth=36, score=-0.665487 - 6.0min\n",
      "[CV] n_estimators=60, criterion=gini, max_depth=38 ...................\n"
     ]
    },
    {
     "name": "stderr",
     "output_type": "stream",
     "text": [
      "[Parallel(n_jobs=4)]: Done 704 tasks      | elapsed: 648.2min\n"
     ]
    },
    {
     "name": "stdout",
     "output_type": "stream",
     "text": [
      "[CV]  n_estimators=50, criterion=gini, max_depth=38, score=-0.728028 - 2.2min\n",
      "[CV] n_estimators=60, criterion=gini, max_depth=38 ...................\n"
     ]
    },
    {
     "name": "stderr",
     "output_type": "stream",
     "text": [
      "[Parallel(n_jobs=4)]: Done 705 tasks      | elapsed: 648.9min\n"
     ]
    },
    {
     "name": "stdout",
     "output_type": "stream",
     "text": [
      "[CV]  n_estimators=60, criterion=gini, max_depth=38, score=-0.679421 - 2.6min\n",
      "[CV] n_estimators=60, criterion=gini, max_depth=38 ...................\n"
     ]
    },
    {
     "name": "stderr",
     "output_type": "stream",
     "text": [
      "[Parallel(n_jobs=4)]: Done 706 tasks      | elapsed: 650.2min\n"
     ]
    },
    {
     "name": "stdout",
     "output_type": "stream",
     "text": [
      "[CV]  n_estimators=60, criterion=gini, max_depth=38, score=-0.684750 - 2.6min\n",
      "[CV] n_estimators=70, criterion=gini, max_depth=38 ...................\n"
     ]
    },
    {
     "name": "stderr",
     "output_type": "stream",
     "text": [
      "[Parallel(n_jobs=4)]: Done 707 tasks      | elapsed: 650.7min\n"
     ]
    },
    {
     "name": "stdout",
     "output_type": "stream",
     "text": [
      "[CV]  n_estimators=60, criterion=gini, max_depth=38, score=-0.688453 - 2.6min\n",
      "[CV] n_estimators=70, criterion=gini, max_depth=38 ...................\n"
     ]
    },
    {
     "name": "stderr",
     "output_type": "stream",
     "text": [
      "[Parallel(n_jobs=4)]: Done 708 tasks      | elapsed: 650.8min\n"
     ]
    },
    {
     "name": "stdout",
     "output_type": "stream",
     "text": [
      "[CV]  n_estimators=60, criterion=gini, max_depth=38, score=-0.695978 - 2.6min\n",
      "[CV] n_estimators=70, criterion=gini, max_depth=38 ...................\n"
     ]
    },
    {
     "name": "stderr",
     "output_type": "stream",
     "text": [
      "[Parallel(n_jobs=4)]: Done 709 tasks      | elapsed: 651.5min\n"
     ]
    },
    {
     "name": "stdout",
     "output_type": "stream",
     "text": [
      "[CV]  n_estimators=60, criterion=gini, max_depth=38, score=-0.708315 - 2.6min\n",
      "[CV] n_estimators=70, criterion=gini, max_depth=38 ...................\n"
     ]
    },
    {
     "name": "stderr",
     "output_type": "stream",
     "text": [
      "[Parallel(n_jobs=4)]: Done 710 tasks      | elapsed: 652.7min\n"
     ]
    },
    {
     "name": "stdout",
     "output_type": "stream",
     "text": [
      "[CV]  n_estimators=70, criterion=gini, max_depth=38, score=-0.666771 - 3.0min\n",
      "[CV] n_estimators=70, criterion=gini, max_depth=38 ...................\n"
     ]
    },
    {
     "name": "stderr",
     "output_type": "stream",
     "text": [
      "[Parallel(n_jobs=4)]: Done 711 tasks      | elapsed: 653.7min\n"
     ]
    },
    {
     "name": "stdout",
     "output_type": "stream",
     "text": [
      "[CV]  n_estimators=70, criterion=gini, max_depth=38, score=-0.666181 - 3.0min\n",
      "[CV] n_estimators=80, criterion=gini, max_depth=38 ...................\n"
     ]
    },
    {
     "name": "stderr",
     "output_type": "stream",
     "text": [
      "[Parallel(n_jobs=4)]: Done 712 tasks      | elapsed: 653.8min\n"
     ]
    },
    {
     "name": "stdout",
     "output_type": "stream",
     "text": [
      "[CV]  n_estimators=70, criterion=gini, max_depth=38, score=-0.669828 - 3.0min\n",
      "[CV] n_estimators=80, criterion=gini, max_depth=38 ...................\n"
     ]
    },
    {
     "name": "stderr",
     "output_type": "stream",
     "text": [
      "[Parallel(n_jobs=4)]: Done 713 tasks      | elapsed: 654.5min\n"
     ]
    },
    {
     "name": "stdout",
     "output_type": "stream",
     "text": [
      "[CV]  n_estimators=70, criterion=gini, max_depth=38, score=-0.680260 - 3.0min\n",
      "[CV] n_estimators=80, criterion=gini, max_depth=38 ...................\n"
     ]
    },
    {
     "name": "stderr",
     "output_type": "stream",
     "text": [
      "[Parallel(n_jobs=4)]: Done 714 tasks      | elapsed: 655.8min\n"
     ]
    },
    {
     "name": "stdout",
     "output_type": "stream",
     "text": [
      "[CV]  n_estimators=70, criterion=gini, max_depth=38, score=-0.689561 - 3.0min\n",
      "[CV] n_estimators=80, criterion=gini, max_depth=38 ...................\n"
     ]
    },
    {
     "name": "stderr",
     "output_type": "stream",
     "text": [
      "[Parallel(n_jobs=4)]: Done 715 tasks      | elapsed: 656.7min\n"
     ]
    },
    {
     "name": "stdout",
     "output_type": "stream",
     "text": [
      "[CV]  n_estimators=80, criterion=gini, max_depth=38, score=-0.672512 - 3.4min\n",
      "[CV] n_estimators=80, criterion=gini, max_depth=38 ...................\n"
     ]
    },
    {
     "name": "stderr",
     "output_type": "stream",
     "text": [
      "[Parallel(n_jobs=4)]: Done 716 tasks      | elapsed: 657.3min\n"
     ]
    },
    {
     "name": "stdout",
     "output_type": "stream",
     "text": [
      "[CV]  n_estimators=80, criterion=gini, max_depth=38, score=-0.659451 - 3.4min\n",
      "[CV] n_estimators=90, criterion=gini, max_depth=38 ...................\n"
     ]
    },
    {
     "name": "stderr",
     "output_type": "stream",
     "text": [
      "[Parallel(n_jobs=4)]: Done 717 tasks      | elapsed: 657.9min\n"
     ]
    },
    {
     "name": "stdout",
     "output_type": "stream",
     "text": [
      "[CV]  n_estimators=80, criterion=gini, max_depth=38, score=-0.662458 - 3.5min\n",
      "[CV] n_estimators=90, criterion=gini, max_depth=38 ...................\n"
     ]
    },
    {
     "name": "stderr",
     "output_type": "stream",
     "text": [
      "[Parallel(n_jobs=4)]: Done 718 tasks      | elapsed: 659.2min\n"
     ]
    },
    {
     "name": "stdout",
     "output_type": "stream",
     "text": [
      "[CV]  n_estimators=80, criterion=gini, max_depth=38, score=-0.661121 - 3.4min\n",
      "[CV] n_estimators=90, criterion=gini, max_depth=38 ...................\n"
     ]
    },
    {
     "name": "stderr",
     "output_type": "stream",
     "text": [
      "[Parallel(n_jobs=4)]: Done 719 tasks      | elapsed: 660.2min\n"
     ]
    },
    {
     "name": "stdout",
     "output_type": "stream",
     "text": [
      "[CV]  n_estimators=80, criterion=gini, max_depth=38, score=-0.686569 - 3.5min\n",
      "[CV] n_estimators=90, criterion=gini, max_depth=38 ...................\n"
     ]
    },
    {
     "name": "stderr",
     "output_type": "stream",
     "text": [
      "[Parallel(n_jobs=4)]: Done 720 tasks      | elapsed: 660.7min\n"
     ]
    },
    {
     "name": "stdout",
     "output_type": "stream",
     "text": [
      "[CV]  n_estimators=90, criterion=gini, max_depth=38, score=-0.667546 - 3.9min\n",
      "[CV] n_estimators=90, criterion=gini, max_depth=38 ...................\n"
     ]
    },
    {
     "name": "stderr",
     "output_type": "stream",
     "text": [
      "[Parallel(n_jobs=4)]: Done 721 tasks      | elapsed: 661.8min\n"
     ]
    },
    {
     "name": "stdout",
     "output_type": "stream",
     "text": [
      "[CV]  n_estimators=90, criterion=gini, max_depth=38, score=-0.675046 - 3.9min\n",
      "[CV] n_estimators=100, criterion=gini, max_depth=38 ..................\n"
     ]
    },
    {
     "name": "stderr",
     "output_type": "stream",
     "text": [
      "[Parallel(n_jobs=4)]: Done 722 tasks      | elapsed: 663.1min\n"
     ]
    },
    {
     "name": "stdout",
     "output_type": "stream",
     "text": [
      "[CV]  n_estimators=90, criterion=gini, max_depth=38, score=-0.666052 - 3.9min\n",
      "[CV] n_estimators=100, criterion=gini, max_depth=38 ..................\n"
     ]
    },
    {
     "name": "stderr",
     "output_type": "stream",
     "text": [
      "[Parallel(n_jobs=4)]: Done 723 tasks      | elapsed: 664.0min\n"
     ]
    },
    {
     "name": "stdout",
     "output_type": "stream",
     "text": [
      "[CV]  n_estimators=90, criterion=gini, max_depth=38, score=-0.659481 - 3.9min\n",
      "[CV] n_estimators=100, criterion=gini, max_depth=38 ..................\n"
     ]
    },
    {
     "name": "stderr",
     "output_type": "stream",
     "text": [
      "[Parallel(n_jobs=4)]: Done 724 tasks      | elapsed: 664.6min\n"
     ]
    },
    {
     "name": "stdout",
     "output_type": "stream",
     "text": [
      "[CV]  n_estimators=90, criterion=gini, max_depth=38, score=-0.673372 - 3.9min\n",
      "[CV] n_estimators=100, criterion=gini, max_depth=38 ..................\n"
     ]
    },
    {
     "name": "stderr",
     "output_type": "stream",
     "text": [
      "[Parallel(n_jobs=4)]: Done 725 tasks      | elapsed: 665.7min\n"
     ]
    },
    {
     "name": "stdout",
     "output_type": "stream",
     "text": [
      "[CV]  n_estimators=100, criterion=gini, max_depth=38, score=-0.669262 - 4.3min\n",
      "[CV] n_estimators=100, criterion=gini, max_depth=38 ..................\n"
     ]
    },
    {
     "name": "stderr",
     "output_type": "stream",
     "text": [
      "[Parallel(n_jobs=4)]: Done 726 tasks      | elapsed: 667.4min\n"
     ]
    },
    {
     "name": "stdout",
     "output_type": "stream",
     "text": [
      "[CV]  n_estimators=100, criterion=gini, max_depth=38, score=-0.655250 - 4.3min\n",
      "[CV] n_estimators=110, criterion=gini, max_depth=38 ..................\n"
     ]
    },
    {
     "name": "stderr",
     "output_type": "stream",
     "text": [
      "[Parallel(n_jobs=4)]: Done 727 tasks      | elapsed: 668.4min\n"
     ]
    },
    {
     "name": "stdout",
     "output_type": "stream",
     "text": [
      "[CV]  n_estimators=100, criterion=gini, max_depth=38, score=-0.664682 - 4.3min\n",
      "[CV] n_estimators=110, criterion=gini, max_depth=38 ..................\n"
     ]
    },
    {
     "name": "stderr",
     "output_type": "stream",
     "text": [
      "[Parallel(n_jobs=4)]: Done 728 tasks      | elapsed: 668.9min\n"
     ]
    },
    {
     "name": "stdout",
     "output_type": "stream",
     "text": [
      "[CV]  n_estimators=100, criterion=gini, max_depth=38, score=-0.658440 - 4.3min\n",
      "[CV] n_estimators=110, criterion=gini, max_depth=38 ..................\n"
     ]
    },
    {
     "name": "stderr",
     "output_type": "stream",
     "text": [
      "[Parallel(n_jobs=4)]: Done 729 tasks      | elapsed: 670.0min\n"
     ]
    },
    {
     "name": "stdout",
     "output_type": "stream",
     "text": [
      "[CV]  n_estimators=100, criterion=gini, max_depth=38, score=-0.669761 - 4.3min\n",
      "[CV] n_estimators=110, criterion=gini, max_depth=38 ..................\n"
     ]
    },
    {
     "name": "stderr",
     "output_type": "stream",
     "text": [
      "[Parallel(n_jobs=4)]: Done 730 tasks      | elapsed: 671.7min\n"
     ]
    },
    {
     "name": "stdout",
     "output_type": "stream",
     "text": [
      "[CV]  n_estimators=110, criterion=gini, max_depth=38, score=-0.669318 - 4.7min\n",
      "[CV] n_estimators=110, criterion=gini, max_depth=38 ..................\n"
     ]
    },
    {
     "name": "stderr",
     "output_type": "stream",
     "text": [
      "[Parallel(n_jobs=4)]: Done 731 tasks      | elapsed: 673.1min\n"
     ]
    },
    {
     "name": "stdout",
     "output_type": "stream",
     "text": [
      "[CV]  n_estimators=110, criterion=gini, max_depth=38, score=-0.651236 - 4.7min\n",
      "[CV] n_estimators=120, criterion=gini, max_depth=38 ..................\n"
     ]
    },
    {
     "name": "stderr",
     "output_type": "stream",
     "text": [
      "[Parallel(n_jobs=4)]: Done 732 tasks      | elapsed: 673.6min\n"
     ]
    },
    {
     "name": "stdout",
     "output_type": "stream",
     "text": [
      "[CV]  n_estimators=110, criterion=gini, max_depth=38, score=-0.647902 - 4.7min\n",
      "[CV] n_estimators=120, criterion=gini, max_depth=38 ..................\n"
     ]
    },
    {
     "name": "stderr",
     "output_type": "stream",
     "text": [
      "[Parallel(n_jobs=4)]: Done 733 tasks      | elapsed: 674.7min\n"
     ]
    },
    {
     "name": "stdout",
     "output_type": "stream",
     "text": [
      "[CV]  n_estimators=110, criterion=gini, max_depth=38, score=-0.667004 - 4.7min\n",
      "[CV] n_estimators=120, criterion=gini, max_depth=38 ..................\n"
     ]
    },
    {
     "name": "stderr",
     "output_type": "stream",
     "text": [
      "[Parallel(n_jobs=4)]: Done 734 tasks      | elapsed: 676.4min\n"
     ]
    },
    {
     "name": "stdout",
     "output_type": "stream",
     "text": [
      "[CV]  n_estimators=110, criterion=gini, max_depth=38, score=-0.671206 - 4.7min\n",
      "[CV] n_estimators=120, criterion=gini, max_depth=38 ..................\n"
     ]
    },
    {
     "name": "stderr",
     "output_type": "stream",
     "text": [
      "[Parallel(n_jobs=4)]: Done 735 tasks      | elapsed: 677.8min\n"
     ]
    },
    {
     "name": "stdout",
     "output_type": "stream",
     "text": [
      "[CV]  n_estimators=120, criterion=gini, max_depth=38, score=-0.660776 - 5.2min\n",
      "[CV] n_estimators=120, criterion=gini, max_depth=38 ..................\n"
     ]
    },
    {
     "name": "stderr",
     "output_type": "stream",
     "text": [
      "[Parallel(n_jobs=4)]: Done 736 tasks      | elapsed: 678.8min\n"
     ]
    },
    {
     "name": "stdout",
     "output_type": "stream",
     "text": [
      "[CV]  n_estimators=120, criterion=gini, max_depth=38, score=-0.647663 - 5.1min\n",
      "[CV] n_estimators=130, criterion=gini, max_depth=38 ..................\n"
     ]
    },
    {
     "name": "stderr",
     "output_type": "stream",
     "text": [
      "[Parallel(n_jobs=4)]: Done 737 tasks      | elapsed: 679.9min\n"
     ]
    },
    {
     "name": "stdout",
     "output_type": "stream",
     "text": [
      "[CV]  n_estimators=120, criterion=gini, max_depth=38, score=-0.651734 - 5.2min\n",
      "[CV] n_estimators=130, criterion=gini, max_depth=38 ..................\n"
     ]
    },
    {
     "name": "stderr",
     "output_type": "stream",
     "text": [
      "[Parallel(n_jobs=4)]: Done 738 tasks      | elapsed: 681.6min\n"
     ]
    },
    {
     "name": "stdout",
     "output_type": "stream",
     "text": [
      "[CV]  n_estimators=120, criterion=gini, max_depth=38, score=-0.657500 - 5.2min\n",
      "[CV] n_estimators=130, criterion=gini, max_depth=38 ..................\n"
     ]
    },
    {
     "name": "stderr",
     "output_type": "stream",
     "text": [
      "[Parallel(n_jobs=4)]: Done 739 tasks      | elapsed: 683.0min\n"
     ]
    },
    {
     "name": "stdout",
     "output_type": "stream",
     "text": [
      "[CV]  n_estimators=120, criterion=gini, max_depth=38, score=-0.664511 - 5.2min\n",
      "[CV] n_estimators=130, criterion=gini, max_depth=38 ..................\n"
     ]
    },
    {
     "name": "stderr",
     "output_type": "stream",
     "text": [
      "[Parallel(n_jobs=4)]: Done 740 tasks      | elapsed: 684.0min\n"
     ]
    },
    {
     "name": "stdout",
     "output_type": "stream",
     "text": [
      "[CV]  n_estimators=130, criterion=gini, max_depth=38, score=-0.654461 - 5.6min\n",
      "[CV] n_estimators=130, criterion=gini, max_depth=38 ..................\n"
     ]
    },
    {
     "name": "stderr",
     "output_type": "stream",
     "text": [
      "[Parallel(n_jobs=4)]: Done 741 tasks      | elapsed: 685.5min\n"
     ]
    },
    {
     "name": "stdout",
     "output_type": "stream",
     "text": [
      "[CV]  n_estimators=130, criterion=gini, max_depth=38, score=-0.642316 - 5.6min\n",
      "[CV] n_estimators=140, criterion=gini, max_depth=38 ..................\n"
     ]
    },
    {
     "name": "stderr",
     "output_type": "stream",
     "text": [
      "[Parallel(n_jobs=4)]: Done 742 tasks      | elapsed: 687.2min\n"
     ]
    },
    {
     "name": "stdout",
     "output_type": "stream",
     "text": [
      "[CV]  n_estimators=130, criterion=gini, max_depth=38, score=-0.652903 - 5.6min\n",
      "[CV] n_estimators=140, criterion=gini, max_depth=38 ..................\n"
     ]
    },
    {
     "name": "stderr",
     "output_type": "stream",
     "text": [
      "[Parallel(n_jobs=4)]: Done 743 tasks      | elapsed: 688.6min\n"
     ]
    },
    {
     "name": "stdout",
     "output_type": "stream",
     "text": [
      "[CV]  n_estimators=130, criterion=gini, max_depth=38, score=-0.652085 - 5.6min\n",
      "[CV] n_estimators=140, criterion=gini, max_depth=38 ..................\n"
     ]
    },
    {
     "name": "stderr",
     "output_type": "stream",
     "text": [
      "[Parallel(n_jobs=4)]: Done 744 tasks      | elapsed: 689.6min\n"
     ]
    },
    {
     "name": "stdout",
     "output_type": "stream",
     "text": [
      "[CV]  n_estimators=130, criterion=gini, max_depth=38, score=-0.662484 - 5.6min\n",
      "[CV] n_estimators=140, criterion=gini, max_depth=38 ..................\n"
     ]
    },
    {
     "name": "stderr",
     "output_type": "stream",
     "text": [
      "[Parallel(n_jobs=4)]: Done 745 tasks      | elapsed: 691.1min\n"
     ]
    },
    {
     "name": "stdout",
     "output_type": "stream",
     "text": [
      "[CV]  n_estimators=140, criterion=gini, max_depth=38, score=-0.657008 - 6.0min\n",
      "[CV] n_estimators=140, criterion=gini, max_depth=38 ..................\n"
     ]
    },
    {
     "name": "stderr",
     "output_type": "stream",
     "text": [
      "[Parallel(n_jobs=4)]: Done 746 tasks      | elapsed: 693.3min\n"
     ]
    },
    {
     "name": "stdout",
     "output_type": "stream",
     "text": [
      "[CV]  n_estimators=140, criterion=gini, max_depth=38, score=-0.641437 - 6.0min\n",
      "[CV] n_estimators=50, criterion=entropy, max_depth=10 ................\n"
     ]
    },
    {
     "name": "stderr",
     "output_type": "stream",
     "text": [
      "[Parallel(n_jobs=4)]: Done 747 tasks      | elapsed: 694.6min\n"
     ]
    },
    {
     "name": "stdout",
     "output_type": "stream",
     "text": [
      "[CV]  n_estimators=50, criterion=entropy, max_depth=10, score=-0.675302 -  33.7s\n",
      "[CV] n_estimators=50, criterion=entropy, max_depth=10 ................\n"
     ]
    },
    {
     "name": "stderr",
     "output_type": "stream",
     "text": [
      "[Parallel(n_jobs=4)]: Done 748 tasks      | elapsed: 695.2min\n"
     ]
    },
    {
     "name": "stdout",
     "output_type": "stream",
     "text": [
      "[CV]  n_estimators=140, criterion=gini, max_depth=38, score=-0.659619 - 6.0min\n",
      "[CV] n_estimators=50, criterion=entropy, max_depth=10 ................\n"
     ]
    },
    {
     "name": "stderr",
     "output_type": "stream",
     "text": [
      "[Parallel(n_jobs=4)]: Done 749 tasks      | elapsed: 695.6min\n"
     ]
    },
    {
     "name": "stdout",
     "output_type": "stream",
     "text": [
      "[CV]  n_estimators=50, criterion=entropy, max_depth=10, score=-0.671238 -  33.5s\n",
      "[CV] n_estimators=50, criterion=entropy, max_depth=10 ................\n"
     ]
    },
    {
     "name": "stderr",
     "output_type": "stream",
     "text": [
      "[Parallel(n_jobs=4)]: Done 750 tasks      | elapsed: 695.7min\n"
     ]
    },
    {
     "name": "stdout",
     "output_type": "stream",
     "text": [
      "[CV]  n_estimators=50, criterion=entropy, max_depth=10, score=-0.674542 -  32.7s\n",
      "[CV] n_estimators=50, criterion=entropy, max_depth=10 ................\n"
     ]
    },
    {
     "name": "stderr",
     "output_type": "stream",
     "text": [
      "[Parallel(n_jobs=4)]: Done 751 tasks      | elapsed: 696.1min\n"
     ]
    },
    {
     "name": "stdout",
     "output_type": "stream",
     "text": [
      "[CV]  n_estimators=50, criterion=entropy, max_depth=10, score=-0.672996 -  32.8s\n",
      "[CV] n_estimators=60, criterion=entropy, max_depth=10 ................\n"
     ]
    },
    {
     "name": "stderr",
     "output_type": "stream",
     "text": [
      "[Parallel(n_jobs=4)]: Done 752 tasks      | elapsed: 696.3min\n"
     ]
    },
    {
     "name": "stdout",
     "output_type": "stream",
     "text": [
      "[CV]  n_estimators=50, criterion=entropy, max_depth=10, score=-0.678244 -  33.0s\n",
      "[CV] n_estimators=60, criterion=entropy, max_depth=10 ................\n"
     ]
    },
    {
     "name": "stderr",
     "output_type": "stream",
     "text": [
      "[Parallel(n_jobs=4)]: Done 753 tasks      | elapsed: 696.7min\n"
     ]
    },
    {
     "name": "stdout",
     "output_type": "stream",
     "text": [
      "[CV]  n_estimators=60, criterion=entropy, max_depth=10, score=-0.676100 -  39.0s\n",
      "[CV] n_estimators=60, criterion=entropy, max_depth=10 ................\n"
     ]
    },
    {
     "name": "stderr",
     "output_type": "stream",
     "text": [
      "[Parallel(n_jobs=4)]: Done 754 tasks      | elapsed: 696.9min\n"
     ]
    },
    {
     "name": "stdout",
     "output_type": "stream",
     "text": [
      "[CV]  n_estimators=140, criterion=gini, max_depth=38, score=-0.650077 - 5.9min\n",
      "[CV] n_estimators=60, criterion=entropy, max_depth=10 ................\n"
     ]
    },
    {
     "name": "stderr",
     "output_type": "stream",
     "text": [
      "[Parallel(n_jobs=4)]: Done 755 tasks      | elapsed: 697.0min\n"
     ]
    },
    {
     "name": "stdout",
     "output_type": "stream",
     "text": [
      "[CV]  n_estimators=60, criterion=entropy, max_depth=10, score=-0.671479 -  38.7s\n",
      "[CV] n_estimators=60, criterion=entropy, max_depth=10 ................\n"
     ]
    },
    {
     "name": "stderr",
     "output_type": "stream",
     "text": [
      "[Parallel(n_jobs=4)]: Done 756 tasks      | elapsed: 697.3min\n"
     ]
    },
    {
     "name": "stdout",
     "output_type": "stream",
     "text": [
      "[CV]  n_estimators=60, criterion=entropy, max_depth=10, score=-0.667766 -  39.2s\n",
      "[CV] n_estimators=70, criterion=entropy, max_depth=10 ................\n"
     ]
    },
    {
     "name": "stderr",
     "output_type": "stream",
     "text": [
      "[Parallel(n_jobs=4)]: Done 757 tasks      | elapsed: 697.6min\n"
     ]
    },
    {
     "name": "stdout",
     "output_type": "stream",
     "text": [
      "[CV]  n_estimators=60, criterion=entropy, max_depth=10, score=-0.672593 -  38.6s\n",
      "[CV] n_estimators=70, criterion=entropy, max_depth=10 ................\n"
     ]
    },
    {
     "name": "stderr",
     "output_type": "stream",
     "text": [
      "[Parallel(n_jobs=4)]: Done 758 tasks      | elapsed: 697.6min\n"
     ]
    },
    {
     "name": "stdout",
     "output_type": "stream",
     "text": [
      "[CV]  n_estimators=60, criterion=entropy, max_depth=10, score=-0.680313 -  37.7s\n",
      "[CV] n_estimators=70, criterion=entropy, max_depth=10 ................\n"
     ]
    },
    {
     "name": "stderr",
     "output_type": "stream",
     "text": [
      "[Parallel(n_jobs=4)]: Done 759 tasks      | elapsed: 697.9min\n"
     ]
    },
    {
     "name": "stdout",
     "output_type": "stream",
     "text": [
      "[CV]  n_estimators=70, criterion=entropy, max_depth=10, score=-0.677190 -  44.9s\n",
      "[CV] n_estimators=70, criterion=entropy, max_depth=10 ................\n"
     ]
    },
    {
     "name": "stderr",
     "output_type": "stream",
     "text": [
      "[Parallel(n_jobs=4)]: Done 760 tasks      | elapsed: 698.3min\n"
     ]
    },
    {
     "name": "stdout",
     "output_type": "stream",
     "text": [
      "[CV]  n_estimators=70, criterion=entropy, max_depth=10, score=-0.672555 -  44.2s\n",
      "[CV] n_estimators=70, criterion=entropy, max_depth=10 ................\n"
     ]
    },
    {
     "name": "stderr",
     "output_type": "stream",
     "text": [
      "[Parallel(n_jobs=4)]: Done 761 tasks      | elapsed: 698.4min\n"
     ]
    },
    {
     "name": "stdout",
     "output_type": "stream",
     "text": [
      "[CV]  n_estimators=70, criterion=entropy, max_depth=10, score=-0.671102 -  44.1s\n",
      "[CV] n_estimators=80, criterion=entropy, max_depth=10 ................\n"
     ]
    },
    {
     "name": "stderr",
     "output_type": "stream",
     "text": [
      "[Parallel(n_jobs=4)]: Done 762 tasks      | elapsed: 698.7min\n"
     ]
    },
    {
     "name": "stdout",
     "output_type": "stream",
     "text": [
      "[CV]  n_estimators=140, criterion=gini, max_depth=38, score=-0.662059 - 5.7min\n",
      "[CV] n_estimators=80, criterion=entropy, max_depth=10 ................\n"
     ]
    },
    {
     "name": "stderr",
     "output_type": "stream",
     "text": [
      "[Parallel(n_jobs=4)]: Done 763 tasks      | elapsed: 699.0min\n"
     ]
    },
    {
     "name": "stdout",
     "output_type": "stream",
     "text": [
      "[CV]  n_estimators=70, criterion=entropy, max_depth=10, score=-0.674228 -  44.5s\n",
      "[CV] n_estimators=80, criterion=entropy, max_depth=10 ................\n"
     ]
    },
    {
     "name": "stderr",
     "output_type": "stream",
     "text": [
      "[Parallel(n_jobs=4)]: Done 764 tasks      | elapsed: 699.1min\n"
     ]
    },
    {
     "name": "stdout",
     "output_type": "stream",
     "text": [
      "[CV]  n_estimators=70, criterion=entropy, max_depth=10, score=-0.680097 -  44.2s\n",
      "[CV] n_estimators=80, criterion=entropy, max_depth=10 ................\n"
     ]
    },
    {
     "name": "stderr",
     "output_type": "stream",
     "text": [
      "[Parallel(n_jobs=4)]: Done 765 tasks      | elapsed: 699.1min\n"
     ]
    },
    {
     "name": "stdout",
     "output_type": "stream",
     "text": [
      "[CV]  n_estimators=80, criterion=entropy, max_depth=10, score=-0.673274 -  50.9s\n",
      "[CV] n_estimators=80, criterion=entropy, max_depth=10 ................\n"
     ]
    },
    {
     "name": "stderr",
     "output_type": "stream",
     "text": [
      "[Parallel(n_jobs=4)]: Done 766 tasks      | elapsed: 699.5min\n"
     ]
    },
    {
     "name": "stdout",
     "output_type": "stream",
     "text": [
      "[CV]  n_estimators=80, criterion=entropy, max_depth=10, score=-0.672470 -  49.4s\n",
      "[CV] n_estimators=90, criterion=entropy, max_depth=10 ................\n"
     ]
    },
    {
     "name": "stderr",
     "output_type": "stream",
     "text": [
      "[Parallel(n_jobs=4)]: Done 767 tasks      | elapsed: 699.8min\n"
     ]
    },
    {
     "name": "stdout",
     "output_type": "stream",
     "text": [
      "[CV]  n_estimators=80, criterion=entropy, max_depth=10, score=-0.668673 -  49.5s\n",
      "[CV] n_estimators=90, criterion=entropy, max_depth=10 ................\n"
     ]
    },
    {
     "name": "stderr",
     "output_type": "stream",
     "text": [
      "[Parallel(n_jobs=4)]: Done 768 tasks      | elapsed: 699.9min\n"
     ]
    },
    {
     "name": "stdout",
     "output_type": "stream",
     "text": [
      "[CV]  n_estimators=80, criterion=entropy, max_depth=10, score=-0.670001 -  49.6s\n",
      "[CV] n_estimators=90, criterion=entropy, max_depth=10 ................\n"
     ]
    },
    {
     "name": "stderr",
     "output_type": "stream",
     "text": [
      "[Parallel(n_jobs=4)]: Done 769 tasks      | elapsed: 699.9min\n"
     ]
    },
    {
     "name": "stdout",
     "output_type": "stream",
     "text": [
      "[CV]  n_estimators=80, criterion=entropy, max_depth=10, score=-0.680498 -  49.8s\n",
      "[CV] n_estimators=90, criterion=entropy, max_depth=10 ................\n"
     ]
    },
    {
     "name": "stderr",
     "output_type": "stream",
     "text": [
      "[Parallel(n_jobs=4)]: Done 770 tasks      | elapsed: 700.3min\n"
     ]
    },
    {
     "name": "stdout",
     "output_type": "stream",
     "text": [
      "[CV]  n_estimators=90, criterion=entropy, max_depth=10, score=-0.675824 -  55.3s\n",
      "[CV] n_estimators=90, criterion=entropy, max_depth=10 ................\n"
     ]
    },
    {
     "name": "stderr",
     "output_type": "stream",
     "text": [
      "[Parallel(n_jobs=4)]: Done 771 tasks      | elapsed: 700.8min\n"
     ]
    },
    {
     "name": "stdout",
     "output_type": "stream",
     "text": [
      "[CV]  n_estimators=90, criterion=entropy, max_depth=10, score=-0.671511 -  55.8s\n",
      "[CV] n_estimators=100, criterion=entropy, max_depth=10 ...............\n"
     ]
    },
    {
     "name": "stderr",
     "output_type": "stream",
     "text": [
      "[Parallel(n_jobs=4)]: Done 772 tasks      | elapsed: 700.8min\n"
     ]
    },
    {
     "name": "stdout",
     "output_type": "stream",
     "text": [
      "[CV]  n_estimators=90, criterion=entropy, max_depth=10, score=-0.671797 -  56.3s\n",
      "[CV] n_estimators=100, criterion=entropy, max_depth=10 ...............\n"
     ]
    },
    {
     "name": "stderr",
     "output_type": "stream",
     "text": [
      "[Parallel(n_jobs=4)]: Done 773 tasks      | elapsed: 700.9min\n"
     ]
    },
    {
     "name": "stdout",
     "output_type": "stream",
     "text": [
      "[CV]  n_estimators=90, criterion=entropy, max_depth=10, score=-0.672249 -  55.6s\n",
      "[CV] n_estimators=100, criterion=entropy, max_depth=10 ...............\n"
     ]
    },
    {
     "name": "stderr",
     "output_type": "stream",
     "text": [
      "[Parallel(n_jobs=4)]: Done 774 tasks      | elapsed: 701.3min\n"
     ]
    },
    {
     "name": "stdout",
     "output_type": "stream",
     "text": [
      "[CV]  n_estimators=90, criterion=entropy, max_depth=10, score=-0.681033 -  56.1s\n",
      "[CV] n_estimators=100, criterion=entropy, max_depth=10 ...............\n"
     ]
    },
    {
     "name": "stderr",
     "output_type": "stream",
     "text": [
      "[Parallel(n_jobs=4)]: Done 775 tasks      | elapsed: 701.7min\n"
     ]
    },
    {
     "name": "stdout",
     "output_type": "stream",
     "text": [
      "[CV]  n_estimators=100, criterion=entropy, max_depth=10, score=-0.674693 - 1.0min\n",
      "[CV] n_estimators=100, criterion=entropy, max_depth=10 ...............\n"
     ]
    },
    {
     "name": "stderr",
     "output_type": "stream",
     "text": [
      "[Parallel(n_jobs=4)]: Done 776 tasks      | elapsed: 701.9min\n"
     ]
    },
    {
     "name": "stdout",
     "output_type": "stream",
     "text": [
      "[CV]  n_estimators=100, criterion=entropy, max_depth=10, score=-0.672047 - 1.0min\n",
      "[CV] n_estimators=110, criterion=entropy, max_depth=10 ...............\n"
     ]
    },
    {
     "name": "stderr",
     "output_type": "stream",
     "text": [
      "[Parallel(n_jobs=4)]: Done 777 tasks      | elapsed: 701.9min\n"
     ]
    },
    {
     "name": "stdout",
     "output_type": "stream",
     "text": [
      "[CV]  n_estimators=100, criterion=entropy, max_depth=10, score=-0.667773 - 1.0min\n",
      "[CV] n_estimators=110, criterion=entropy, max_depth=10 ...............\n"
     ]
    },
    {
     "name": "stderr",
     "output_type": "stream",
     "text": [
      "[Parallel(n_jobs=4)]: Done 778 tasks      | elapsed: 702.3min\n"
     ]
    },
    {
     "name": "stdout",
     "output_type": "stream",
     "text": [
      "[CV]  n_estimators=100, criterion=entropy, max_depth=10, score=-0.673904 - 1.0min\n",
      "[CV] n_estimators=110, criterion=entropy, max_depth=10 ...............\n"
     ]
    },
    {
     "name": "stderr",
     "output_type": "stream",
     "text": [
      "[Parallel(n_jobs=4)]: Done 779 tasks      | elapsed: 702.7min\n"
     ]
    },
    {
     "name": "stdout",
     "output_type": "stream",
     "text": [
      "[CV]  n_estimators=100, criterion=entropy, max_depth=10, score=-0.680639 - 1.0min\n",
      "[CV] n_estimators=110, criterion=entropy, max_depth=10 ...............\n"
     ]
    },
    {
     "name": "stderr",
     "output_type": "stream",
     "text": [
      "[Parallel(n_jobs=4)]: Done 780 tasks      | elapsed: 702.9min\n"
     ]
    },
    {
     "name": "stdout",
     "output_type": "stream",
     "text": [
      "[CV]  n_estimators=110, criterion=entropy, max_depth=10, score=-0.674537 - 1.1min\n",
      "[CV] n_estimators=110, criterion=entropy, max_depth=10 ...............\n"
     ]
    },
    {
     "name": "stderr",
     "output_type": "stream",
     "text": [
      "[Parallel(n_jobs=4)]: Done 781 tasks      | elapsed: 703.0min\n"
     ]
    },
    {
     "name": "stdout",
     "output_type": "stream",
     "text": [
      "[CV]  n_estimators=110, criterion=entropy, max_depth=10, score=-0.670753 - 1.1min\n",
      "[CV] n_estimators=120, criterion=entropy, max_depth=10 ...............\n"
     ]
    },
    {
     "name": "stderr",
     "output_type": "stream",
     "text": [
      "[Parallel(n_jobs=4)]: Done 782 tasks      | elapsed: 703.4min\n"
     ]
    },
    {
     "name": "stdout",
     "output_type": "stream",
     "text": [
      "[CV]  n_estimators=110, criterion=entropy, max_depth=10, score=-0.668214 - 1.1min\n",
      "[CV] n_estimators=120, criterion=entropy, max_depth=10 ...............\n"
     ]
    },
    {
     "name": "stderr",
     "output_type": "stream",
     "text": [
      "[Parallel(n_jobs=4)]: Done 783 tasks      | elapsed: 703.9min\n"
     ]
    },
    {
     "name": "stdout",
     "output_type": "stream",
     "text": [
      "[CV]  n_estimators=110, criterion=entropy, max_depth=10, score=-0.673142 - 1.1min\n",
      "[CV] n_estimators=120, criterion=entropy, max_depth=10 ...............\n"
     ]
    },
    {
     "name": "stderr",
     "output_type": "stream",
     "text": [
      "[Parallel(n_jobs=4)]: Done 784 tasks      | elapsed: 704.0min\n"
     ]
    },
    {
     "name": "stdout",
     "output_type": "stream",
     "text": [
      "[CV]  n_estimators=110, criterion=entropy, max_depth=10, score=-0.681729 - 1.1min\n",
      "[CV] n_estimators=120, criterion=entropy, max_depth=10 ...............\n"
     ]
    },
    {
     "name": "stderr",
     "output_type": "stream",
     "text": [
      "[Parallel(n_jobs=4)]: Done 785 tasks      | elapsed: 704.2min\n"
     ]
    },
    {
     "name": "stdout",
     "output_type": "stream",
     "text": [
      "[CV]  n_estimators=120, criterion=entropy, max_depth=10, score=-0.674950 - 1.2min\n",
      "[CV] n_estimators=120, criterion=entropy, max_depth=10 ...............\n"
     ]
    },
    {
     "name": "stderr",
     "output_type": "stream",
     "text": [
      "[Parallel(n_jobs=4)]: Done 786 tasks      | elapsed: 704.7min\n"
     ]
    },
    {
     "name": "stdout",
     "output_type": "stream",
     "text": [
      "[CV]  n_estimators=120, criterion=entropy, max_depth=10, score=-0.671946 - 1.2min\n",
      "[CV] n_estimators=130, criterion=entropy, max_depth=10 ...............\n"
     ]
    },
    {
     "name": "stderr",
     "output_type": "stream",
     "text": [
      "[Parallel(n_jobs=4)]: Done 787 tasks      | elapsed: 705.1min\n"
     ]
    },
    {
     "name": "stdout",
     "output_type": "stream",
     "text": [
      "[CV]  n_estimators=120, criterion=entropy, max_depth=10, score=-0.669353 - 1.2min\n",
      "[CV] n_estimators=130, criterion=entropy, max_depth=10 ...............\n"
     ]
    },
    {
     "name": "stderr",
     "output_type": "stream",
     "text": [
      "[Parallel(n_jobs=4)]: Done 788 tasks      | elapsed: 705.3min\n"
     ]
    },
    {
     "name": "stdout",
     "output_type": "stream",
     "text": [
      "[CV]  n_estimators=120, criterion=entropy, max_depth=10, score=-0.673971 - 1.2min\n",
      "[CV] n_estimators=130, criterion=entropy, max_depth=10 ...............\n"
     ]
    },
    {
     "name": "stderr",
     "output_type": "stream",
     "text": [
      "[Parallel(n_jobs=4)]: Done 789 tasks      | elapsed: 705.4min\n"
     ]
    },
    {
     "name": "stdout",
     "output_type": "stream",
     "text": [
      "[CV]  n_estimators=120, criterion=entropy, max_depth=10, score=-0.678658 - 1.2min\n",
      "[CV] n_estimators=130, criterion=entropy, max_depth=10 ...............\n"
     ]
    },
    {
     "name": "stderr",
     "output_type": "stream",
     "text": [
      "[Parallel(n_jobs=4)]: Done 790 tasks      | elapsed: 705.9min\n"
     ]
    },
    {
     "name": "stdout",
     "output_type": "stream",
     "text": [
      "[CV]  n_estimators=130, criterion=entropy, max_depth=10, score=-0.675143 - 1.4min\n",
      "[CV] n_estimators=130, criterion=entropy, max_depth=10 ...............\n"
     ]
    },
    {
     "name": "stderr",
     "output_type": "stream",
     "text": [
      "[Parallel(n_jobs=4)]: Done 791 tasks      | elapsed: 706.5min\n"
     ]
    },
    {
     "name": "stdout",
     "output_type": "stream",
     "text": [
      "[CV]  n_estimators=130, criterion=entropy, max_depth=10, score=-0.670182 - 1.3min\n",
      "[CV] n_estimators=140, criterion=entropy, max_depth=10 ...............\n"
     ]
    },
    {
     "name": "stderr",
     "output_type": "stream",
     "text": [
      "[Parallel(n_jobs=4)]: Done 792 tasks      | elapsed: 706.6min\n"
     ]
    },
    {
     "name": "stdout",
     "output_type": "stream",
     "text": [
      "[CV]  n_estimators=130, criterion=entropy, max_depth=10, score=-0.669101 - 1.3min\n",
      "[CV] n_estimators=140, criterion=entropy, max_depth=10 ...............\n"
     ]
    },
    {
     "name": "stderr",
     "output_type": "stream",
     "text": [
      "[Parallel(n_jobs=4)]: Done 793 tasks      | elapsed: 706.7min\n"
     ]
    },
    {
     "name": "stdout",
     "output_type": "stream",
     "text": [
      "[CV]  n_estimators=130, criterion=entropy, max_depth=10, score=-0.671654 - 1.3min\n",
      "[CV] n_estimators=140, criterion=entropy, max_depth=10 ...............\n"
     ]
    },
    {
     "name": "stderr",
     "output_type": "stream",
     "text": [
      "[Parallel(n_jobs=4)]: Done 794 tasks      | elapsed: 707.3min\n"
     ]
    },
    {
     "name": "stdout",
     "output_type": "stream",
     "text": [
      "[CV]  n_estimators=130, criterion=entropy, max_depth=10, score=-0.679247 - 1.3min\n",
      "[CV] n_estimators=140, criterion=entropy, max_depth=10 ...............\n"
     ]
    },
    {
     "name": "stderr",
     "output_type": "stream",
     "text": [
      "[Parallel(n_jobs=4)]: Done 795 tasks      | elapsed: 707.8min\n"
     ]
    },
    {
     "name": "stdout",
     "output_type": "stream",
     "text": [
      "[CV]  n_estimators=140, criterion=entropy, max_depth=10, score=-0.673942 - 1.4min\n",
      "[CV] n_estimators=140, criterion=entropy, max_depth=10 ...............\n"
     ]
    },
    {
     "name": "stderr",
     "output_type": "stream",
     "text": [
      "[Parallel(n_jobs=4)]: Done 796 tasks      | elapsed: 708.0min\n"
     ]
    },
    {
     "name": "stdout",
     "output_type": "stream",
     "text": [
      "[CV]  n_estimators=140, criterion=entropy, max_depth=10, score=-0.672670 - 1.4min\n",
      "[CV] n_estimators=50, criterion=entropy, max_depth=12 ................\n"
     ]
    },
    {
     "name": "stderr",
     "output_type": "stream",
     "text": [
      "[Parallel(n_jobs=4)]: Done 797 tasks      | elapsed: 708.2min\n"
     ]
    },
    {
     "name": "stdout",
     "output_type": "stream",
     "text": [
      "[CV]  n_estimators=140, criterion=entropy, max_depth=10, score=-0.667288 - 1.4min\n",
      "[CV] n_estimators=50, criterion=entropy, max_depth=12 ................\n"
     ]
    },
    {
     "name": "stderr",
     "output_type": "stream",
     "text": [
      "[Parallel(n_jobs=4)]: Done 798 tasks      | elapsed: 708.7min\n"
     ]
    },
    {
     "name": "stdout",
     "output_type": "stream",
     "text": [
      "[CV]  n_estimators=50, criterion=entropy, max_depth=12, score=-0.663110 -  42.7s\n",
      "[CV] n_estimators=50, criterion=entropy, max_depth=12 ................\n"
     ]
    },
    {
     "name": "stderr",
     "output_type": "stream",
     "text": [
      "[Parallel(n_jobs=4)]: Done 799 tasks      | elapsed: 708.9min\n"
     ]
    },
    {
     "name": "stdout",
     "output_type": "stream",
     "text": [
      "[CV]  n_estimators=140, criterion=entropy, max_depth=10, score=-0.670995 - 1.4min\n",
      "[CV] n_estimators=50, criterion=entropy, max_depth=12 ................\n"
     ]
    },
    {
     "name": "stderr",
     "output_type": "stream",
     "text": [
      "[Parallel(n_jobs=4)]: Done 800 tasks      | elapsed: 709.2min\n"
     ]
    },
    {
     "name": "stdout",
     "output_type": "stream",
     "text": [
      "[CV]  n_estimators=50, criterion=entropy, max_depth=12, score=-0.660643 -  42.4s\n",
      "[CV] n_estimators=50, criterion=entropy, max_depth=12 ................\n"
     ]
    },
    {
     "name": "stderr",
     "output_type": "stream",
     "text": [
      "[Parallel(n_jobs=4)]: Done 801 tasks      | elapsed: 709.4min\n"
     ]
    },
    {
     "name": "stdout",
     "output_type": "stream",
     "text": [
      "[CV]  n_estimators=140, criterion=entropy, max_depth=10, score=-0.680263 - 1.4min\n",
      "[CV] n_estimators=60, criterion=entropy, max_depth=12 ................\n"
     ]
    },
    {
     "name": "stderr",
     "output_type": "stream",
     "text": [
      "[Parallel(n_jobs=4)]: Done 802 tasks      | elapsed: 709.5min\n"
     ]
    },
    {
     "name": "stdout",
     "output_type": "stream",
     "text": [
      "[CV]  n_estimators=50, criterion=entropy, max_depth=12, score=-0.659114 -  43.0s\n",
      "[CV] n_estimators=60, criterion=entropy, max_depth=12 ................\n"
     ]
    },
    {
     "name": "stderr",
     "output_type": "stream",
     "text": [
      "[Parallel(n_jobs=4)]: Done 803 tasks      | elapsed: 709.6min\n"
     ]
    },
    {
     "name": "stdout",
     "output_type": "stream",
     "text": [
      "[CV]  n_estimators=50, criterion=entropy, max_depth=12, score=-0.663339 -  43.0s\n",
      "[CV] n_estimators=60, criterion=entropy, max_depth=12 ................\n"
     ]
    },
    {
     "name": "stderr",
     "output_type": "stream",
     "text": [
      "[Parallel(n_jobs=4)]: Done 804 tasks      | elapsed: 709.9min\n"
     ]
    },
    {
     "name": "stdout",
     "output_type": "stream",
     "text": [
      "[CV]  n_estimators=50, criterion=entropy, max_depth=12, score=-0.672779 -  43.2s\n",
      "[CV] n_estimators=60, criterion=entropy, max_depth=12 ................\n"
     ]
    },
    {
     "name": "stderr",
     "output_type": "stream",
     "text": [
      "[Parallel(n_jobs=4)]: Done 805 tasks      | elapsed: 710.1min\n"
     ]
    },
    {
     "name": "stdout",
     "output_type": "stream",
     "text": [
      "[CV]  n_estimators=60, criterion=entropy, max_depth=12, score=-0.665661 -  51.6s\n",
      "[CV] n_estimators=60, criterion=entropy, max_depth=12 ................\n"
     ]
    },
    {
     "name": "stderr",
     "output_type": "stream",
     "text": [
      "[Parallel(n_jobs=4)]: Done 806 tasks      | elapsed: 710.3min\n"
     ]
    },
    {
     "name": "stdout",
     "output_type": "stream",
     "text": [
      "[CV]  n_estimators=60, criterion=entropy, max_depth=12, score=-0.657220 -  52.2s\n",
      "[CV] n_estimators=70, criterion=entropy, max_depth=12 ................\n"
     ]
    },
    {
     "name": "stderr",
     "output_type": "stream",
     "text": [
      "[Parallel(n_jobs=4)]: Done 807 tasks      | elapsed: 710.5min\n"
     ]
    },
    {
     "name": "stdout",
     "output_type": "stream",
     "text": [
      "[CV]  n_estimators=60, criterion=entropy, max_depth=12, score=-0.656865 -  52.2s\n",
      "[CV] n_estimators=70, criterion=entropy, max_depth=12 ................\n"
     ]
    },
    {
     "name": "stderr",
     "output_type": "stream",
     "text": [
      "[Parallel(n_jobs=4)]: Done 808 tasks      | elapsed: 710.8min\n"
     ]
    },
    {
     "name": "stdout",
     "output_type": "stream",
     "text": [
      "[CV]  n_estimators=60, criterion=entropy, max_depth=12, score=-0.662613 -  50.7s\n",
      "[CV] n_estimators=70, criterion=entropy, max_depth=12 ................\n"
     ]
    },
    {
     "name": "stderr",
     "output_type": "stream",
     "text": [
      "[Parallel(n_jobs=4)]: Done 809 tasks      | elapsed: 711.0min\n"
     ]
    },
    {
     "name": "stdout",
     "output_type": "stream",
     "text": [
      "[CV]  n_estimators=60, criterion=entropy, max_depth=12, score=-0.669272 -  51.8s\n",
      "[CV] n_estimators=70, criterion=entropy, max_depth=12 ................\n"
     ]
    },
    {
     "name": "stderr",
     "output_type": "stream",
     "text": [
      "[Parallel(n_jobs=4)]: Done 810 tasks      | elapsed: 711.2min\n"
     ]
    },
    {
     "name": "stdout",
     "output_type": "stream",
     "text": [
      "[CV]  n_estimators=70, criterion=entropy, max_depth=12, score=-0.662512 -  59.7s\n",
      "[CV] n_estimators=70, criterion=entropy, max_depth=12 ................\n"
     ]
    },
    {
     "name": "stderr",
     "output_type": "stream",
     "text": [
      "[Parallel(n_jobs=4)]: Done 811 tasks      | elapsed: 711.5min\n"
     ]
    },
    {
     "name": "stdout",
     "output_type": "stream",
     "text": [
      "[CV]  n_estimators=70, criterion=entropy, max_depth=12, score=-0.656993 - 1.0min\n",
      "[CV] n_estimators=80, criterion=entropy, max_depth=12 ................\n"
     ]
    },
    {
     "name": "stderr",
     "output_type": "stream",
     "text": [
      "[Parallel(n_jobs=4)]: Done 812 tasks      | elapsed: 711.8min\n"
     ]
    },
    {
     "name": "stdout",
     "output_type": "stream",
     "text": [
      "[CV]  n_estimators=70, criterion=entropy, max_depth=12, score=-0.656058 -  59.9s\n",
      "[CV] n_estimators=80, criterion=entropy, max_depth=12 ................\n"
     ]
    },
    {
     "name": "stderr",
     "output_type": "stream",
     "text": [
      "[Parallel(n_jobs=4)]: Done 813 tasks      | elapsed: 712.0min\n"
     ]
    },
    {
     "name": "stdout",
     "output_type": "stream",
     "text": [
      "[CV]  n_estimators=70, criterion=entropy, max_depth=12, score=-0.660696 -  59.9s\n",
      "[CV] n_estimators=80, criterion=entropy, max_depth=12 ................\n"
     ]
    },
    {
     "name": "stderr",
     "output_type": "stream",
     "text": [
      "[Parallel(n_jobs=4)]: Done 814 tasks      | elapsed: 712.2min\n"
     ]
    },
    {
     "name": "stdout",
     "output_type": "stream",
     "text": [
      "[CV]  n_estimators=70, criterion=entropy, max_depth=12, score=-0.668684 - 1.0min\n",
      "[CV] n_estimators=80, criterion=entropy, max_depth=12 ................\n"
     ]
    },
    {
     "name": "stderr",
     "output_type": "stream",
     "text": [
      "[Parallel(n_jobs=4)]: Done 815 tasks      | elapsed: 712.5min\n"
     ]
    },
    {
     "name": "stdout",
     "output_type": "stream",
     "text": [
      "[CV]  n_estimators=80, criterion=entropy, max_depth=12, score=-0.662760 - 1.1min\n",
      "[CV] n_estimators=80, criterion=entropy, max_depth=12 ................\n"
     ]
    },
    {
     "name": "stderr",
     "output_type": "stream",
     "text": [
      "[Parallel(n_jobs=4)]: Done 816 tasks      | elapsed: 713.0min\n"
     ]
    },
    {
     "name": "stdout",
     "output_type": "stream",
     "text": [
      "[CV]  n_estimators=80, criterion=entropy, max_depth=12, score=-0.659915 - 1.1min\n",
      "[CV] n_estimators=90, criterion=entropy, max_depth=12 ................\n"
     ]
    },
    {
     "name": "stderr",
     "output_type": "stream",
     "text": [
      "[Parallel(n_jobs=4)]: Done 817 tasks      | elapsed: 713.1min\n"
     ]
    },
    {
     "name": "stdout",
     "output_type": "stream",
     "text": [
      "[CV]  n_estimators=80, criterion=entropy, max_depth=12, score=-0.658512 - 1.1min\n",
      "[CV] n_estimators=90, criterion=entropy, max_depth=12 ................\n"
     ]
    },
    {
     "name": "stderr",
     "output_type": "stream",
     "text": [
      "[Parallel(n_jobs=4)]: Done 818 tasks      | elapsed: 713.3min\n"
     ]
    },
    {
     "name": "stdout",
     "output_type": "stream",
     "text": [
      "[CV]  n_estimators=80, criterion=entropy, max_depth=12, score=-0.660633 - 1.2min\n",
      "[CV] n_estimators=90, criterion=entropy, max_depth=12 ................\n"
     ]
    },
    {
     "name": "stderr",
     "output_type": "stream",
     "text": [
      "[Parallel(n_jobs=4)]: Done 819 tasks      | elapsed: 713.6min\n"
     ]
    },
    {
     "name": "stdout",
     "output_type": "stream",
     "text": [
      "[CV]  n_estimators=80, criterion=entropy, max_depth=12, score=-0.668883 - 1.2min\n",
      "[CV] n_estimators=90, criterion=entropy, max_depth=12 ................\n"
     ]
    },
    {
     "name": "stderr",
     "output_type": "stream",
     "text": [
      "[Parallel(n_jobs=4)]: Done 820 tasks      | elapsed: 714.1min\n"
     ]
    },
    {
     "name": "stdout",
     "output_type": "stream",
     "text": [
      "[CV]  n_estimators=90, criterion=entropy, max_depth=12, score=-0.662548 - 1.3min\n",
      "[CV] n_estimators=90, criterion=entropy, max_depth=12 ................\n"
     ]
    },
    {
     "name": "stderr",
     "output_type": "stream",
     "text": [
      "[Parallel(n_jobs=4)]: Done 821 tasks      | elapsed: 714.4min\n"
     ]
    },
    {
     "name": "stdout",
     "output_type": "stream",
     "text": [
      "[CV]  n_estimators=90, criterion=entropy, max_depth=12, score=-0.659258 - 1.3min\n",
      "[CV] n_estimators=100, criterion=entropy, max_depth=12 ...............\n"
     ]
    },
    {
     "name": "stderr",
     "output_type": "stream",
     "text": [
      "[Parallel(n_jobs=4)]: Done 822 tasks      | elapsed: 714.6min\n"
     ]
    },
    {
     "name": "stdout",
     "output_type": "stream",
     "text": [
      "[CV]  n_estimators=90, criterion=entropy, max_depth=12, score=-0.657758 - 1.3min\n",
      "[CV] n_estimators=100, criterion=entropy, max_depth=12 ...............\n"
     ]
    },
    {
     "name": "stderr",
     "output_type": "stream",
     "text": [
      "[Parallel(n_jobs=4)]: Done 823 tasks      | elapsed: 714.9min\n"
     ]
    },
    {
     "name": "stdout",
     "output_type": "stream",
     "text": [
      "[CV]  n_estimators=90, criterion=entropy, max_depth=12, score=-0.661151 - 1.3min\n",
      "[CV] n_estimators=100, criterion=entropy, max_depth=12 ...............\n"
     ]
    },
    {
     "name": "stderr",
     "output_type": "stream",
     "text": [
      "[Parallel(n_jobs=4)]: Done 824 tasks      | elapsed: 715.4min\n"
     ]
    },
    {
     "name": "stdout",
     "output_type": "stream",
     "text": [
      "[CV]  n_estimators=90, criterion=entropy, max_depth=12, score=-0.668383 - 1.3min\n",
      "[CV] n_estimators=100, criterion=entropy, max_depth=12 ...............\n"
     ]
    },
    {
     "name": "stderr",
     "output_type": "stream",
     "text": [
      "[Parallel(n_jobs=4)]: Done 825 tasks      | elapsed: 715.7min\n"
     ]
    },
    {
     "name": "stdout",
     "output_type": "stream",
     "text": [
      "[CV]  n_estimators=100, criterion=entropy, max_depth=12, score=-0.663465 - 1.4min\n",
      "[CV] n_estimators=100, criterion=entropy, max_depth=12 ...............\n"
     ]
    },
    {
     "name": "stderr",
     "output_type": "stream",
     "text": [
      "[Parallel(n_jobs=4)]: Done 826 tasks      | elapsed: 716.1min\n"
     ]
    },
    {
     "name": "stdout",
     "output_type": "stream",
     "text": [
      "[CV]  n_estimators=100, criterion=entropy, max_depth=12, score=-0.659412 - 1.4min\n",
      "[CV] n_estimators=110, criterion=entropy, max_depth=12 ...............\n"
     ]
    },
    {
     "name": "stderr",
     "output_type": "stream",
     "text": [
      "[Parallel(n_jobs=4)]: Done 827 tasks      | elapsed: 716.3min\n"
     ]
    },
    {
     "name": "stdout",
     "output_type": "stream",
     "text": [
      "[CV]  n_estimators=100, criterion=entropy, max_depth=12, score=-0.657319 - 1.4min\n",
      "[CV] n_estimators=110, criterion=entropy, max_depth=12 ...............\n"
     ]
    },
    {
     "name": "stderr",
     "output_type": "stream",
     "text": [
      "[Parallel(n_jobs=4)]: Done 828 tasks      | elapsed: 716.8min\n"
     ]
    },
    {
     "name": "stdout",
     "output_type": "stream",
     "text": [
      "[CV]  n_estimators=100, criterion=entropy, max_depth=12, score=-0.661342 - 1.4min\n",
      "[CV] n_estimators=110, criterion=entropy, max_depth=12 ...............\n"
     ]
    },
    {
     "name": "stderr",
     "output_type": "stream",
     "text": [
      "[Parallel(n_jobs=4)]: Done 829 tasks      | elapsed: 717.1min\n"
     ]
    },
    {
     "name": "stdout",
     "output_type": "stream",
     "text": [
      "[CV]  n_estimators=100, criterion=entropy, max_depth=12, score=-0.668461 - 1.4min\n",
      "[CV] n_estimators=110, criterion=entropy, max_depth=12 ...............\n"
     ]
    },
    {
     "name": "stderr",
     "output_type": "stream",
     "text": [
      "[Parallel(n_jobs=4)]: Done 830 tasks      | elapsed: 717.5min\n"
     ]
    },
    {
     "name": "stdout",
     "output_type": "stream",
     "text": [
      "[CV]  n_estimators=110, criterion=entropy, max_depth=12, score=-0.662803 - 1.6min\n",
      "[CV] n_estimators=110, criterion=entropy, max_depth=12 ...............\n"
     ]
    },
    {
     "name": "stderr",
     "output_type": "stream",
     "text": [
      "[Parallel(n_jobs=4)]: Done 831 tasks      | elapsed: 717.9min\n"
     ]
    },
    {
     "name": "stdout",
     "output_type": "stream",
     "text": [
      "[CV]  n_estimators=110, criterion=entropy, max_depth=12, score=-0.659265 - 1.6min\n",
      "[CV] n_estimators=120, criterion=entropy, max_depth=12 ...............\n"
     ]
    },
    {
     "name": "stderr",
     "output_type": "stream",
     "text": [
      "[Parallel(n_jobs=4)]: Done 832 tasks      | elapsed: 718.4min\n"
     ]
    },
    {
     "name": "stdout",
     "output_type": "stream",
     "text": [
      "[CV]  n_estimators=110, criterion=entropy, max_depth=12, score=-0.659141 - 1.6min\n",
      "[CV] n_estimators=120, criterion=entropy, max_depth=12 ...............\n"
     ]
    },
    {
     "name": "stderr",
     "output_type": "stream",
     "text": [
      "[Parallel(n_jobs=4)]: Done 833 tasks      | elapsed: 718.7min\n"
     ]
    },
    {
     "name": "stdout",
     "output_type": "stream",
     "text": [
      "[CV]  n_estimators=110, criterion=entropy, max_depth=12, score=-0.662201 - 1.6min\n",
      "[CV] n_estimators=120, criterion=entropy, max_depth=12 ...............\n"
     ]
    },
    {
     "name": "stderr",
     "output_type": "stream",
     "text": [
      "[Parallel(n_jobs=4)]: Done 834 tasks      | elapsed: 719.1min\n"
     ]
    },
    {
     "name": "stdout",
     "output_type": "stream",
     "text": [
      "[CV]  n_estimators=110, criterion=entropy, max_depth=12, score=-0.668300 - 1.6min\n",
      "[CV] n_estimators=120, criterion=entropy, max_depth=12 ...............\n"
     ]
    },
    {
     "name": "stderr",
     "output_type": "stream",
     "text": [
      "[Parallel(n_jobs=4)]: Done 835 tasks      | elapsed: 719.5min\n"
     ]
    },
    {
     "name": "stdout",
     "output_type": "stream",
     "text": [
      "[CV]  n_estimators=120, criterion=entropy, max_depth=12, score=-0.663862 - 1.7min\n",
      "[CV] n_estimators=120, criterion=entropy, max_depth=12 ...............\n"
     ]
    },
    {
     "name": "stderr",
     "output_type": "stream",
     "text": [
      "[Parallel(n_jobs=4)]: Done 836 tasks      | elapsed: 720.1min\n"
     ]
    },
    {
     "name": "stdout",
     "output_type": "stream",
     "text": [
      "[CV]  n_estimators=120, criterion=entropy, max_depth=12, score=-0.658481 - 1.7min\n",
      "[CV] n_estimators=130, criterion=entropy, max_depth=12 ...............\n"
     ]
    },
    {
     "name": "stderr",
     "output_type": "stream",
     "text": [
      "[Parallel(n_jobs=4)]: Done 837 tasks      | elapsed: 720.4min\n"
     ]
    },
    {
     "name": "stdout",
     "output_type": "stream",
     "text": [
      "[CV]  n_estimators=120, criterion=entropy, max_depth=12, score=-0.656760 - 1.7min\n",
      "[CV] n_estimators=130, criterion=entropy, max_depth=12 ...............\n"
     ]
    },
    {
     "name": "stderr",
     "output_type": "stream",
     "text": [
      "[Parallel(n_jobs=4)]: Done 838 tasks      | elapsed: 720.8min\n"
     ]
    },
    {
     "name": "stdout",
     "output_type": "stream",
     "text": [
      "[CV]  n_estimators=120, criterion=entropy, max_depth=12, score=-0.660856 - 1.7min\n",
      "[CV] n_estimators=130, criterion=entropy, max_depth=12 ...............\n"
     ]
    },
    {
     "name": "stderr",
     "output_type": "stream",
     "text": [
      "[Parallel(n_jobs=4)]: Done 839 tasks      | elapsed: 721.2min\n"
     ]
    },
    {
     "name": "stdout",
     "output_type": "stream",
     "text": [
      "[CV]  n_estimators=120, criterion=entropy, max_depth=12, score=-0.669099 - 1.7min\n",
      "[CV] n_estimators=130, criterion=entropy, max_depth=12 ...............\n"
     ]
    },
    {
     "name": "stderr",
     "output_type": "stream",
     "text": [
      "[Parallel(n_jobs=4)]: Done 840 tasks      | elapsed: 721.8min\n"
     ]
    },
    {
     "name": "stdout",
     "output_type": "stream",
     "text": [
      "[CV]  n_estimators=130, criterion=entropy, max_depth=12, score=-0.661233 - 1.9min\n",
      "[CV] n_estimators=130, criterion=entropy, max_depth=12 ...............\n"
     ]
    },
    {
     "name": "stderr",
     "output_type": "stream",
     "text": [
      "[Parallel(n_jobs=4)]: Done 841 tasks      | elapsed: 722.3min\n"
     ]
    },
    {
     "name": "stdout",
     "output_type": "stream",
     "text": [
      "[CV]  n_estimators=130, criterion=entropy, max_depth=12, score=-0.658319 - 1.8min\n",
      "[CV] n_estimators=140, criterion=entropy, max_depth=12 ...............\n"
     ]
    },
    {
     "name": "stderr",
     "output_type": "stream",
     "text": [
      "[Parallel(n_jobs=4)]: Done 842 tasks      | elapsed: 722.6min\n"
     ]
    },
    {
     "name": "stdout",
     "output_type": "stream",
     "text": [
      "[CV]  n_estimators=130, criterion=entropy, max_depth=12, score=-0.655877 - 1.9min\n",
      "[CV] n_estimators=140, criterion=entropy, max_depth=12 ...............\n"
     ]
    },
    {
     "name": "stderr",
     "output_type": "stream",
     "text": [
      "[Parallel(n_jobs=4)]: Done 843 tasks      | elapsed: 723.1min\n"
     ]
    },
    {
     "name": "stdout",
     "output_type": "stream",
     "text": [
      "[CV]  n_estimators=130, criterion=entropy, max_depth=12, score=-0.660400 - 1.9min\n",
      "[CV] n_estimators=140, criterion=entropy, max_depth=12 ...............\n"
     ]
    },
    {
     "name": "stderr",
     "output_type": "stream",
     "text": [
      "[Parallel(n_jobs=4)]: Done 844 tasks      | elapsed: 723.7min\n"
     ]
    },
    {
     "name": "stdout",
     "output_type": "stream",
     "text": [
      "[CV]  n_estimators=130, criterion=entropy, max_depth=12, score=-0.669643 - 1.8min\n",
      "[CV] n_estimators=140, criterion=entropy, max_depth=12 ...............\n"
     ]
    },
    {
     "name": "stderr",
     "output_type": "stream",
     "text": [
      "[Parallel(n_jobs=4)]: Done 845 tasks      | elapsed: 724.1min\n"
     ]
    },
    {
     "name": "stdout",
     "output_type": "stream",
     "text": [
      "[CV]  n_estimators=140, criterion=entropy, max_depth=12, score=-0.659514 - 2.0min\n",
      "[CV] n_estimators=140, criterion=entropy, max_depth=12 ...............\n"
     ]
    },
    {
     "name": "stderr",
     "output_type": "stream",
     "text": [
      "[Parallel(n_jobs=4)]: Done 846 tasks      | elapsed: 724.6min\n"
     ]
    },
    {
     "name": "stdout",
     "output_type": "stream",
     "text": [
      "[CV]  n_estimators=140, criterion=entropy, max_depth=12, score=-0.658614 - 2.0min\n",
      "[CV] n_estimators=50, criterion=entropy, max_depth=14 ................\n"
     ]
    },
    {
     "name": "stderr",
     "output_type": "stream",
     "text": [
      "[Parallel(n_jobs=4)]: Done 847 tasks      | elapsed: 725.0min\n"
     ]
    },
    {
     "name": "stdout",
     "output_type": "stream",
     "text": [
      "[CV]  n_estimators=140, criterion=entropy, max_depth=12, score=-0.655062 - 2.0min\n",
      "[CV] n_estimators=50, criterion=entropy, max_depth=14 ................\n"
     ]
    },
    {
     "name": "stderr",
     "output_type": "stream",
     "text": [
      "[Parallel(n_jobs=4)]: Done 848 tasks      | elapsed: 725.7min\n"
     ]
    },
    {
     "name": "stdout",
     "output_type": "stream",
     "text": [
      "[CV]  n_estimators=50, criterion=entropy, max_depth=14, score=-0.656218 -  55.7s\n",
      "[CV] n_estimators=50, criterion=entropy, max_depth=14 ................\n"
     ]
    },
    {
     "name": "stderr",
     "output_type": "stream",
     "text": [
      "[Parallel(n_jobs=4)]: Done 849 tasks      | elapsed: 726.0min\n"
     ]
    },
    {
     "name": "stdout",
     "output_type": "stream",
     "text": [
      "[CV]  n_estimators=140, criterion=entropy, max_depth=12, score=-0.659674 - 2.0min\n",
      "[CV] n_estimators=50, criterion=entropy, max_depth=14 ................\n"
     ]
    },
    {
     "name": "stderr",
     "output_type": "stream",
     "text": [
      "[Parallel(n_jobs=4)]: Done 850 tasks      | elapsed: 726.1min\n"
     ]
    },
    {
     "name": "stdout",
     "output_type": "stream",
     "text": [
      "[CV]  n_estimators=50, criterion=entropy, max_depth=14, score=-0.654067 -  55.2s\n",
      "[CV] n_estimators=50, criterion=entropy, max_depth=14 ................\n"
     ]
    },
    {
     "name": "stderr",
     "output_type": "stream",
     "text": [
      "[Parallel(n_jobs=4)]: Done 851 tasks      | elapsed: 726.6min\n"
     ]
    },
    {
     "name": "stdout",
     "output_type": "stream",
     "text": [
      "[CV]  n_estimators=140, criterion=entropy, max_depth=12, score=-0.668588 - 2.0min\n",
      "[CV] n_estimators=60, criterion=entropy, max_depth=14 ................\n"
     ]
    },
    {
     "name": "stderr",
     "output_type": "stream",
     "text": [
      "[Parallel(n_jobs=4)]: Done 852 tasks      | elapsed: 726.7min\n"
     ]
    },
    {
     "name": "stdout",
     "output_type": "stream",
     "text": [
      "[CV]  n_estimators=50, criterion=entropy, max_depth=14, score=-0.650700 -  56.6s\n",
      "[CV] n_estimators=60, criterion=entropy, max_depth=14 ................\n"
     ]
    },
    {
     "name": "stderr",
     "output_type": "stream",
     "text": [
      "[Parallel(n_jobs=4)]: Done 853 tasks      | elapsed: 726.9min\n"
     ]
    },
    {
     "name": "stdout",
     "output_type": "stream",
     "text": [
      "[CV]  n_estimators=50, criterion=entropy, max_depth=14, score=-0.651603 -  56.7s\n",
      "[CV] n_estimators=60, criterion=entropy, max_depth=14 ................\n"
     ]
    },
    {
     "name": "stderr",
     "output_type": "stream",
     "text": [
      "[Parallel(n_jobs=4)]: Done 854 tasks      | elapsed: 727.1min\n"
     ]
    },
    {
     "name": "stdout",
     "output_type": "stream",
     "text": [
      "[CV]  n_estimators=50, criterion=entropy, max_depth=14, score=-0.663337 -  57.4s\n",
      "[CV] n_estimators=60, criterion=entropy, max_depth=14 ................\n"
     ]
    },
    {
     "name": "stderr",
     "output_type": "stream",
     "text": [
      "[Parallel(n_jobs=4)]: Done 855 tasks      | elapsed: 727.6min\n"
     ]
    },
    {
     "name": "stdout",
     "output_type": "stream",
     "text": [
      "[CV]  n_estimators=60, criterion=entropy, max_depth=14, score=-0.655005 - 1.1min\n",
      "[CV] n_estimators=60, criterion=entropy, max_depth=14 ................\n"
     ]
    },
    {
     "name": "stderr",
     "output_type": "stream",
     "text": [
      "[Parallel(n_jobs=4)]: Done 856 tasks      | elapsed: 727.8min\n"
     ]
    },
    {
     "name": "stdout",
     "output_type": "stream",
     "text": [
      "[CV]  n_estimators=60, criterion=entropy, max_depth=14, score=-0.649109 - 1.1min\n",
      "[CV] n_estimators=70, criterion=entropy, max_depth=14 ................\n"
     ]
    },
    {
     "name": "stderr",
     "output_type": "stream",
     "text": [
      "[Parallel(n_jobs=4)]: Done 857 tasks      | elapsed: 728.1min\n"
     ]
    },
    {
     "name": "stdout",
     "output_type": "stream",
     "text": [
      "[CV]  n_estimators=60, criterion=entropy, max_depth=14, score=-0.649803 - 1.1min\n",
      "[CV] n_estimators=70, criterion=entropy, max_depth=14 ................\n"
     ]
    },
    {
     "name": "stderr",
     "output_type": "stream",
     "text": [
      "[Parallel(n_jobs=4)]: Done 858 tasks      | elapsed: 728.2min\n"
     ]
    },
    {
     "name": "stdout",
     "output_type": "stream",
     "text": [
      "[CV]  n_estimators=60, criterion=entropy, max_depth=14, score=-0.651706 - 1.1min\n",
      "[CV] n_estimators=70, criterion=entropy, max_depth=14 ................\n"
     ]
    },
    {
     "name": "stderr",
     "output_type": "stream",
     "text": [
      "[Parallel(n_jobs=4)]: Done 859 tasks      | elapsed: 728.7min\n"
     ]
    },
    {
     "name": "stdout",
     "output_type": "stream",
     "text": [
      "[CV]  n_estimators=60, criterion=entropy, max_depth=14, score=-0.664243 - 1.1min\n",
      "[CV] n_estimators=70, criterion=entropy, max_depth=14 ................\n"
     ]
    },
    {
     "name": "stderr",
     "output_type": "stream",
     "text": [
      "[Parallel(n_jobs=4)]: Done 860 tasks      | elapsed: 728.9min\n"
     ]
    },
    {
     "name": "stdout",
     "output_type": "stream",
     "text": [
      "[CV]  n_estimators=70, criterion=entropy, max_depth=14, score=-0.656348 - 1.3min\n",
      "[CV] n_estimators=70, criterion=entropy, max_depth=14 ................\n"
     ]
    },
    {
     "name": "stderr",
     "output_type": "stream",
     "text": [
      "[Parallel(n_jobs=4)]: Done 861 tasks      | elapsed: 729.4min\n"
     ]
    },
    {
     "name": "stdout",
     "output_type": "stream",
     "text": [
      "[CV]  n_estimators=70, criterion=entropy, max_depth=14, score=-0.650803 - 1.3min\n",
      "[CV] n_estimators=80, criterion=entropy, max_depth=14 ................\n"
     ]
    },
    {
     "name": "stderr",
     "output_type": "stream",
     "text": [
      "[Parallel(n_jobs=4)]: Done 862 tasks      | elapsed: 729.5min\n"
     ]
    },
    {
     "name": "stdout",
     "output_type": "stream",
     "text": [
      "[CV]  n_estimators=70, criterion=entropy, max_depth=14, score=-0.646024 - 1.3min\n",
      "[CV] n_estimators=80, criterion=entropy, max_depth=14 ................\n"
     ]
    },
    {
     "name": "stderr",
     "output_type": "stream",
     "text": [
      "[Parallel(n_jobs=4)]: Done 863 tasks      | elapsed: 730.1min\n"
     ]
    },
    {
     "name": "stdout",
     "output_type": "stream",
     "text": [
      "[CV]  n_estimators=70, criterion=entropy, max_depth=14, score=-0.655196 - 1.3min\n",
      "[CV] n_estimators=80, criterion=entropy, max_depth=14 ................\n"
     ]
    },
    {
     "name": "stderr",
     "output_type": "stream",
     "text": [
      "[Parallel(n_jobs=4)]: Done 864 tasks      | elapsed: 730.2min\n"
     ]
    },
    {
     "name": "stdout",
     "output_type": "stream",
     "text": [
      "[CV]  n_estimators=70, criterion=entropy, max_depth=14, score=-0.664228 - 1.3min\n",
      "[CV] n_estimators=80, criterion=entropy, max_depth=14 ................\n"
     ]
    },
    {
     "name": "stderr",
     "output_type": "stream",
     "text": [
      "[Parallel(n_jobs=4)]: Done 865 tasks      | elapsed: 730.7min\n"
     ]
    },
    {
     "name": "stdout",
     "output_type": "stream",
     "text": [
      "[CV]  n_estimators=80, criterion=entropy, max_depth=14, score=-0.652658 - 1.5min\n",
      "[CV] n_estimators=80, criterion=entropy, max_depth=14 ................\n"
     ]
    },
    {
     "name": "stderr",
     "output_type": "stream",
     "text": [
      "[Parallel(n_jobs=4)]: Done 866 tasks      | elapsed: 731.0min\n"
     ]
    },
    {
     "name": "stdout",
     "output_type": "stream",
     "text": [
      "[CV]  n_estimators=80, criterion=entropy, max_depth=14, score=-0.648650 - 1.5min\n",
      "[CV] n_estimators=90, criterion=entropy, max_depth=14 ................\n"
     ]
    },
    {
     "name": "stderr",
     "output_type": "stream",
     "text": [
      "[Parallel(n_jobs=4)]: Done 867 tasks      | elapsed: 731.6min\n"
     ]
    },
    {
     "name": "stdout",
     "output_type": "stream",
     "text": [
      "[CV]  n_estimators=80, criterion=entropy, max_depth=14, score=-0.648434 - 1.5min\n",
      "[CV] n_estimators=90, criterion=entropy, max_depth=14 ................\n"
     ]
    },
    {
     "name": "stderr",
     "output_type": "stream",
     "text": [
      "[Parallel(n_jobs=4)]: Done 868 tasks      | elapsed: 731.8min\n"
     ]
    },
    {
     "name": "stdout",
     "output_type": "stream",
     "text": [
      "[CV]  n_estimators=80, criterion=entropy, max_depth=14, score=-0.652937 - 1.5min\n",
      "[CV] n_estimators=90, criterion=entropy, max_depth=14 ................\n"
     ]
    },
    {
     "name": "stderr",
     "output_type": "stream",
     "text": [
      "[Parallel(n_jobs=4)]: Done 869 tasks      | elapsed: 732.2min\n"
     ]
    },
    {
     "name": "stdout",
     "output_type": "stream",
     "text": [
      "[CV]  n_estimators=80, criterion=entropy, max_depth=14, score=-0.662929 - 1.5min\n",
      "[CV] n_estimators=90, criterion=entropy, max_depth=14 ................\n"
     ]
    },
    {
     "name": "stderr",
     "output_type": "stream",
     "text": [
      "[Parallel(n_jobs=4)]: Done 870 tasks      | elapsed: 732.6min\n"
     ]
    },
    {
     "name": "stdout",
     "output_type": "stream",
     "text": [
      "[CV]  n_estimators=90, criterion=entropy, max_depth=14, score=-0.654118 - 1.7min\n",
      "[CV] n_estimators=90, criterion=entropy, max_depth=14 ................\n"
     ]
    },
    {
     "name": "stderr",
     "output_type": "stream",
     "text": [
      "[Parallel(n_jobs=4)]: Done 871 tasks      | elapsed: 733.3min\n"
     ]
    },
    {
     "name": "stdout",
     "output_type": "stream",
     "text": [
      "[CV]  n_estimators=90, criterion=entropy, max_depth=14, score=-0.649446 - 1.7min\n",
      "[CV] n_estimators=100, criterion=entropy, max_depth=14 ...............\n"
     ]
    },
    {
     "name": "stderr",
     "output_type": "stream",
     "text": [
      "[Parallel(n_jobs=4)]: Done 872 tasks      | elapsed: 733.5min\n"
     ]
    },
    {
     "name": "stdout",
     "output_type": "stream",
     "text": [
      "[CV]  n_estimators=90, criterion=entropy, max_depth=14, score=-0.650125 - 1.7min\n",
      "[CV] n_estimators=100, criterion=entropy, max_depth=14 ...............\n"
     ]
    },
    {
     "name": "stderr",
     "output_type": "stream",
     "text": [
      "[Parallel(n_jobs=4)]: Done 873 tasks      | elapsed: 733.9min\n"
     ]
    },
    {
     "name": "stdout",
     "output_type": "stream",
     "text": [
      "[CV]  n_estimators=90, criterion=entropy, max_depth=14, score=-0.653628 - 1.7min\n",
      "[CV] n_estimators=100, criterion=entropy, max_depth=14 ...............\n"
     ]
    },
    {
     "name": "stderr",
     "output_type": "stream",
     "text": [
      "[Parallel(n_jobs=4)]: Done 874 tasks      | elapsed: 734.3min\n"
     ]
    },
    {
     "name": "stdout",
     "output_type": "stream",
     "text": [
      "[CV]  n_estimators=90, criterion=entropy, max_depth=14, score=-0.661637 - 1.7min\n",
      "[CV] n_estimators=100, criterion=entropy, max_depth=14 ...............\n"
     ]
    },
    {
     "name": "stderr",
     "output_type": "stream",
     "text": [
      "[Parallel(n_jobs=4)]: Done 875 tasks      | elapsed: 735.0min\n"
     ]
    },
    {
     "name": "stdout",
     "output_type": "stream",
     "text": [
      "[CV]  n_estimators=100, criterion=entropy, max_depth=14, score=-0.654670 - 1.9min\n",
      "[CV] n_estimators=100, criterion=entropy, max_depth=14 ...............\n"
     ]
    },
    {
     "name": "stderr",
     "output_type": "stream",
     "text": [
      "[Parallel(n_jobs=4)]: Done 876 tasks      | elapsed: 735.4min\n"
     ]
    },
    {
     "name": "stdout",
     "output_type": "stream",
     "text": [
      "[CV]  n_estimators=100, criterion=entropy, max_depth=14, score=-0.647929 - 1.9min\n",
      "[CV] n_estimators=110, criterion=entropy, max_depth=14 ...............\n"
     ]
    },
    {
     "name": "stderr",
     "output_type": "stream",
     "text": [
      "[Parallel(n_jobs=4)]: Done 877 tasks      | elapsed: 735.8min\n"
     ]
    },
    {
     "name": "stdout",
     "output_type": "stream",
     "text": [
      "[CV]  n_estimators=100, criterion=entropy, max_depth=14, score=-0.648329 - 1.9min\n",
      "[CV] n_estimators=110, criterion=entropy, max_depth=14 ...............\n"
     ]
    },
    {
     "name": "stderr",
     "output_type": "stream",
     "text": [
      "[Parallel(n_jobs=4)]: Done 878 tasks      | elapsed: 736.2min\n"
     ]
    },
    {
     "name": "stdout",
     "output_type": "stream",
     "text": [
      "[CV]  n_estimators=100, criterion=entropy, max_depth=14, score=-0.653056 - 1.9min\n",
      "[CV] n_estimators=110, criterion=entropy, max_depth=14 ...............\n"
     ]
    },
    {
     "name": "stderr",
     "output_type": "stream",
     "text": [
      "[Parallel(n_jobs=4)]: Done 879 tasks      | elapsed: 736.8min\n"
     ]
    },
    {
     "name": "stdout",
     "output_type": "stream",
     "text": [
      "[CV]  n_estimators=100, criterion=entropy, max_depth=14, score=-0.658675 - 1.9min\n",
      "[CV] n_estimators=110, criterion=entropy, max_depth=14 ...............\n"
     ]
    },
    {
     "name": "stderr",
     "output_type": "stream",
     "text": [
      "[Parallel(n_jobs=4)]: Done 880 tasks      | elapsed: 737.2min\n"
     ]
    },
    {
     "name": "stdout",
     "output_type": "stream",
     "text": [
      "[CV]  n_estimators=110, criterion=entropy, max_depth=14, score=-0.653943 - 2.1min\n",
      "[CV] n_estimators=110, criterion=entropy, max_depth=14 ...............\n"
     ]
    },
    {
     "name": "stderr",
     "output_type": "stream",
     "text": [
      "[Parallel(n_jobs=4)]: Done 881 tasks      | elapsed: 737.9min\n"
     ]
    },
    {
     "name": "stdout",
     "output_type": "stream",
     "text": [
      "[CV]  n_estimators=110, criterion=entropy, max_depth=14, score=-0.649642 - 2.1min\n",
      "[CV] n_estimators=120, criterion=entropy, max_depth=14 ...............\n"
     ]
    },
    {
     "name": "stderr",
     "output_type": "stream",
     "text": [
      "[Parallel(n_jobs=4)]: Done 882 tasks      | elapsed: 738.2min\n"
     ]
    },
    {
     "name": "stdout",
     "output_type": "stream",
     "text": [
      "[CV]  n_estimators=110, criterion=entropy, max_depth=14, score=-0.646886 - 2.1min\n",
      "[CV] n_estimators=120, criterion=entropy, max_depth=14 ...............\n"
     ]
    },
    {
     "name": "stderr",
     "output_type": "stream",
     "text": [
      "[Parallel(n_jobs=4)]: Done 883 tasks      | elapsed: 738.9min\n"
     ]
    },
    {
     "name": "stdout",
     "output_type": "stream",
     "text": [
      "[CV]  n_estimators=110, criterion=entropy, max_depth=14, score=-0.649739 - 2.1min\n",
      "[CV] n_estimators=120, criterion=entropy, max_depth=14 ...............\n"
     ]
    },
    {
     "name": "stderr",
     "output_type": "stream",
     "text": [
      "[Parallel(n_jobs=4)]: Done 884 tasks      | elapsed: 739.3min\n"
     ]
    },
    {
     "name": "stdout",
     "output_type": "stream",
     "text": [
      "[CV]  n_estimators=110, criterion=entropy, max_depth=14, score=-0.658730 - 2.1min\n",
      "[CV] n_estimators=120, criterion=entropy, max_depth=14 ...............\n"
     ]
    },
    {
     "name": "stderr",
     "output_type": "stream",
     "text": [
      "[Parallel(n_jobs=4)]: Done 885 tasks      | elapsed: 740.0min\n"
     ]
    },
    {
     "name": "stdout",
     "output_type": "stream",
     "text": [
      "[CV]  n_estimators=120, criterion=entropy, max_depth=14, score=-0.651134 - 2.3min\n",
      "[CV] n_estimators=120, criterion=entropy, max_depth=14 ...............\n"
     ]
    },
    {
     "name": "stderr",
     "output_type": "stream",
     "text": [
      "[Parallel(n_jobs=4)]: Done 886 tasks      | elapsed: 740.5min\n"
     ]
    },
    {
     "name": "stdout",
     "output_type": "stream",
     "text": [
      "[CV]  n_estimators=120, criterion=entropy, max_depth=14, score=-0.649314 - 2.3min\n",
      "[CV] n_estimators=130, criterion=entropy, max_depth=14 ...............\n"
     ]
    },
    {
     "name": "stderr",
     "output_type": "stream",
     "text": [
      "[Parallel(n_jobs=4)]: Done 887 tasks      | elapsed: 741.2min\n"
     ]
    },
    {
     "name": "stdout",
     "output_type": "stream",
     "text": [
      "[CV]  n_estimators=120, criterion=entropy, max_depth=14, score=-0.649928 - 2.2min\n",
      "[CV] n_estimators=130, criterion=entropy, max_depth=14 ...............\n"
     ]
    },
    {
     "name": "stderr",
     "output_type": "stream",
     "text": [
      "[Parallel(n_jobs=4)]: Done 888 tasks      | elapsed: 741.6min\n"
     ]
    },
    {
     "name": "stdout",
     "output_type": "stream",
     "text": [
      "[CV]  n_estimators=120, criterion=entropy, max_depth=14, score=-0.650606 - 2.2min\n",
      "[CV] n_estimators=130, criterion=entropy, max_depth=14 ...............\n"
     ]
    },
    {
     "name": "stderr",
     "output_type": "stream",
     "text": [
      "[Parallel(n_jobs=4)]: Done 889 tasks      | elapsed: 742.2min\n"
     ]
    },
    {
     "name": "stdout",
     "output_type": "stream",
     "text": [
      "[CV]  n_estimators=120, criterion=entropy, max_depth=14, score=-0.659473 - 2.3min\n",
      "[CV] n_estimators=130, criterion=entropy, max_depth=14 ...............\n"
     ]
    },
    {
     "name": "stderr",
     "output_type": "stream",
     "text": [
      "[Parallel(n_jobs=4)]: Done 890 tasks      | elapsed: 742.8min\n"
     ]
    },
    {
     "name": "stdout",
     "output_type": "stream",
     "text": [
      "[CV]  n_estimators=130, criterion=entropy, max_depth=14, score=-0.651277 - 2.4min\n",
      "[CV] n_estimators=130, criterion=entropy, max_depth=14 ...............\n"
     ]
    },
    {
     "name": "stderr",
     "output_type": "stream",
     "text": [
      "[Parallel(n_jobs=4)]: Done 891 tasks      | elapsed: 743.6min\n"
     ]
    },
    {
     "name": "stdout",
     "output_type": "stream",
     "text": [
      "[CV]  n_estimators=130, criterion=entropy, max_depth=14, score=-0.647300 - 2.4min\n",
      "[CV] n_estimators=140, criterion=entropy, max_depth=14 ...............\n"
     ]
    },
    {
     "name": "stderr",
     "output_type": "stream",
     "text": [
      "[Parallel(n_jobs=4)]: Done 892 tasks      | elapsed: 744.0min\n"
     ]
    },
    {
     "name": "stdout",
     "output_type": "stream",
     "text": [
      "[CV]  n_estimators=130, criterion=entropy, max_depth=14, score=-0.648055 - 2.4min\n",
      "[CV] n_estimators=140, criterion=entropy, max_depth=14 ...............\n"
     ]
    },
    {
     "name": "stderr",
     "output_type": "stream",
     "text": [
      "[Parallel(n_jobs=4)]: Done 893 tasks      | elapsed: 744.7min\n"
     ]
    },
    {
     "name": "stdout",
     "output_type": "stream",
     "text": [
      "[CV]  n_estimators=130, criterion=entropy, max_depth=14, score=-0.652006 - 2.4min\n",
      "[CV] n_estimators=140, criterion=entropy, max_depth=14 ...............\n"
     ]
    },
    {
     "name": "stderr",
     "output_type": "stream",
     "text": [
      "[Parallel(n_jobs=4)]: Done 894 tasks      | elapsed: 745.2min\n"
     ]
    },
    {
     "name": "stdout",
     "output_type": "stream",
     "text": [
      "[CV]  n_estimators=130, criterion=entropy, max_depth=14, score=-0.659929 - 2.4min\n",
      "[CV] n_estimators=140, criterion=entropy, max_depth=14 ...............\n"
     ]
    },
    {
     "name": "stderr",
     "output_type": "stream",
     "text": [
      "[Parallel(n_jobs=4)]: Done 895 tasks      | elapsed: 746.1min\n"
     ]
    },
    {
     "name": "stdout",
     "output_type": "stream",
     "text": [
      "[CV]  n_estimators=140, criterion=entropy, max_depth=14, score=-0.652374 - 2.6min\n",
      "[CV] n_estimators=140, criterion=entropy, max_depth=14 ...............\n"
     ]
    },
    {
     "name": "stderr",
     "output_type": "stream",
     "text": [
      "[Parallel(n_jobs=4)]: Done 896 tasks      | elapsed: 746.6min\n"
     ]
    },
    {
     "name": "stdout",
     "output_type": "stream",
     "text": [
      "[CV]  n_estimators=140, criterion=entropy, max_depth=14, score=-0.649682 - 2.6min\n",
      "[CV] n_estimators=50, criterion=entropy, max_depth=16 ................\n"
     ]
    },
    {
     "name": "stderr",
     "output_type": "stream",
     "text": [
      "[Parallel(n_jobs=4)]: Done 897 tasks      | elapsed: 747.3min\n"
     ]
    },
    {
     "name": "stdout",
     "output_type": "stream",
     "text": [
      "[CV]  n_estimators=140, criterion=entropy, max_depth=14, score=-0.646938 - 2.6min\n",
      "[CV] n_estimators=50, criterion=entropy, max_depth=16 ................\n"
     ]
    },
    {
     "name": "stderr",
     "output_type": "stream",
     "text": [
      "[Parallel(n_jobs=4)]: Done 898 tasks      | elapsed: 747.8min\n"
     ]
    },
    {
     "name": "stdout",
     "output_type": "stream",
     "text": [
      "[CV]  n_estimators=50, criterion=entropy, max_depth=16, score=-0.644482 - 1.2min\n",
      "[CV] n_estimators=50, criterion=entropy, max_depth=16 ................\n"
     ]
    },
    {
     "name": "stderr",
     "output_type": "stream",
     "text": [
      "[Parallel(n_jobs=4)]: Done 899 tasks      | elapsed: 748.5min\n"
     ]
    },
    {
     "name": "stdout",
     "output_type": "stream",
     "text": [
      "[CV]  n_estimators=140, criterion=entropy, max_depth=14, score=-0.651087 - 2.7min\n",
      "[CV] n_estimators=50, criterion=entropy, max_depth=16 ................\n"
     ]
    },
    {
     "name": "stderr",
     "output_type": "stream",
     "text": [
      "[Parallel(n_jobs=4)]: Done 900 tasks      | elapsed: 748.7min\n"
     ]
    },
    {
     "name": "stdout",
     "output_type": "stream",
     "text": [
      "[CV]  n_estimators=50, criterion=entropy, max_depth=16, score=-0.644643 - 1.2min\n",
      "[CV] n_estimators=50, criterion=entropy, max_depth=16 ................\n"
     ]
    },
    {
     "name": "stderr",
     "output_type": "stream",
     "text": [
      "[Parallel(n_jobs=4)]: Done 901 tasks      | elapsed: 749.0min\n"
     ]
    },
    {
     "name": "stdout",
     "output_type": "stream",
     "text": [
      "[CV]  n_estimators=140, criterion=entropy, max_depth=14, score=-0.659063 - 2.6min\n",
      "[CV] n_estimators=60, criterion=entropy, max_depth=16 ................\n"
     ]
    },
    {
     "name": "stderr",
     "output_type": "stream",
     "text": [
      "[Parallel(n_jobs=4)]: Done 902 tasks      | elapsed: 749.3min\n"
     ]
    },
    {
     "name": "stdout",
     "output_type": "stream",
     "text": [
      "[CV]  n_estimators=50, criterion=entropy, max_depth=16, score=-0.646179 - 1.2min\n",
      "[CV] n_estimators=60, criterion=entropy, max_depth=16 ................\n"
     ]
    },
    {
     "name": "stderr",
     "output_type": "stream",
     "text": [
      "[Parallel(n_jobs=4)]: Done 903 tasks      | elapsed: 749.7min\n"
     ]
    },
    {
     "name": "stdout",
     "output_type": "stream",
     "text": [
      "[CV]  n_estimators=50, criterion=entropy, max_depth=16, score=-0.647356 - 1.2min\n",
      "[CV] n_estimators=60, criterion=entropy, max_depth=16 ................\n"
     ]
    },
    {
     "name": "stderr",
     "output_type": "stream",
     "text": [
      "[Parallel(n_jobs=4)]: Done 904 tasks      | elapsed: 749.9min\n"
     ]
    },
    {
     "name": "stdout",
     "output_type": "stream",
     "text": [
      "[CV]  n_estimators=50, criterion=entropy, max_depth=16, score=-0.661287 - 1.2min\n",
      "[CV] n_estimators=60, criterion=entropy, max_depth=16 ................\n"
     ]
    },
    {
     "name": "stderr",
     "output_type": "stream",
     "text": [
      "[Parallel(n_jobs=4)]: Done 905 tasks      | elapsed: 750.2min\n"
     ]
    },
    {
     "name": "stdout",
     "output_type": "stream",
     "text": [
      "[CV]  n_estimators=60, criterion=entropy, max_depth=16, score=-0.653011 - 1.4min\n",
      "[CV] n_estimators=60, criterion=entropy, max_depth=16 ................\n"
     ]
    },
    {
     "name": "stderr",
     "output_type": "stream",
     "text": [
      "[Parallel(n_jobs=4)]: Done 906 tasks      | elapsed: 750.7min\n"
     ]
    },
    {
     "name": "stdout",
     "output_type": "stream",
     "text": [
      "[CV]  n_estimators=60, criterion=entropy, max_depth=16, score=-0.643954 - 1.4min\n",
      "[CV] n_estimators=70, criterion=entropy, max_depth=16 ................\n"
     ]
    },
    {
     "name": "stderr",
     "output_type": "stream",
     "text": [
      "[Parallel(n_jobs=4)]: Done 907 tasks      | elapsed: 751.1min\n"
     ]
    },
    {
     "name": "stdout",
     "output_type": "stream",
     "text": [
      "[CV]  n_estimators=60, criterion=entropy, max_depth=16, score=-0.644187 - 1.4min\n",
      "[CV] n_estimators=70, criterion=entropy, max_depth=16 ................\n"
     ]
    },
    {
     "name": "stderr",
     "output_type": "stream",
     "text": [
      "[Parallel(n_jobs=4)]: Done 908 tasks      | elapsed: 751.3min\n"
     ]
    },
    {
     "name": "stdout",
     "output_type": "stream",
     "text": [
      "[CV]  n_estimators=60, criterion=entropy, max_depth=16, score=-0.645873 - 1.4min\n",
      "[CV] n_estimators=70, criterion=entropy, max_depth=16 ................\n"
     ]
    },
    {
     "name": "stderr",
     "output_type": "stream",
     "text": [
      "[Parallel(n_jobs=4)]: Done 909 tasks      | elapsed: 751.6min\n"
     ]
    },
    {
     "name": "stdout",
     "output_type": "stream",
     "text": [
      "[CV]  n_estimators=60, criterion=entropy, max_depth=16, score=-0.662891 - 1.4min\n",
      "[CV] n_estimators=70, criterion=entropy, max_depth=16 ................\n"
     ]
    },
    {
     "name": "stderr",
     "output_type": "stream",
     "text": [
      "[Parallel(n_jobs=4)]: Done 910 tasks      | elapsed: 752.1min\n"
     ]
    },
    {
     "name": "stdout",
     "output_type": "stream",
     "text": [
      "[CV]  n_estimators=70, criterion=entropy, max_depth=16, score=-0.648041 - 1.7min\n",
      "[CV] n_estimators=70, criterion=entropy, max_depth=16 ................\n"
     ]
    },
    {
     "name": "stderr",
     "output_type": "stream",
     "text": [
      "[Parallel(n_jobs=4)]: Done 911 tasks      | elapsed: 752.8min\n"
     ]
    },
    {
     "name": "stdout",
     "output_type": "stream",
     "text": [
      "[CV]  n_estimators=70, criterion=entropy, max_depth=16, score=-0.644793 - 1.6min\n",
      "[CV] n_estimators=80, criterion=entropy, max_depth=16 ................\n"
     ]
    },
    {
     "name": "stderr",
     "output_type": "stream",
     "text": [
      "[Parallel(n_jobs=4)]: Done 912 tasks      | elapsed: 753.0min\n"
     ]
    },
    {
     "name": "stdout",
     "output_type": "stream",
     "text": [
      "[CV]  n_estimators=70, criterion=entropy, max_depth=16, score=-0.639735 - 1.7min\n",
      "[CV] n_estimators=80, criterion=entropy, max_depth=16 ................\n"
     ]
    },
    {
     "name": "stderr",
     "output_type": "stream",
     "text": [
      "[Parallel(n_jobs=4)]: Done 913 tasks      | elapsed: 753.3min\n"
     ]
    },
    {
     "name": "stdout",
     "output_type": "stream",
     "text": [
      "[CV]  n_estimators=70, criterion=entropy, max_depth=16, score=-0.646708 - 1.6min\n",
      "[CV] n_estimators=80, criterion=entropy, max_depth=16 ................\n"
     ]
    },
    {
     "name": "stderr",
     "output_type": "stream",
     "text": [
      "[Parallel(n_jobs=4)]: Done 914 tasks      | elapsed: 753.8min\n"
     ]
    },
    {
     "name": "stdout",
     "output_type": "stream",
     "text": [
      "[CV]  n_estimators=70, criterion=entropy, max_depth=16, score=-0.658118 - 1.7min\n",
      "[CV] n_estimators=80, criterion=entropy, max_depth=16 ................\n"
     ]
    },
    {
     "name": "stderr",
     "output_type": "stream",
     "text": [
      "[Parallel(n_jobs=4)]: Done 915 tasks      | elapsed: 754.4min\n"
     ]
    },
    {
     "name": "stdout",
     "output_type": "stream",
     "text": [
      "[CV]  n_estimators=80, criterion=entropy, max_depth=16, score=-0.647336 - 1.9min\n",
      "[CV] n_estimators=80, criterion=entropy, max_depth=16 ................\n"
     ]
    },
    {
     "name": "stderr",
     "output_type": "stream",
     "text": [
      "[Parallel(n_jobs=4)]: Done 916 tasks      | elapsed: 754.9min\n"
     ]
    },
    {
     "name": "stdout",
     "output_type": "stream",
     "text": [
      "[CV]  n_estimators=80, criterion=entropy, max_depth=16, score=-0.640610 - 1.9min\n",
      "[CV] n_estimators=90, criterion=entropy, max_depth=16 ................\n"
     ]
    },
    {
     "name": "stderr",
     "output_type": "stream",
     "text": [
      "[Parallel(n_jobs=4)]: Done 917 tasks      | elapsed: 755.2min\n"
     ]
    },
    {
     "name": "stdout",
     "output_type": "stream",
     "text": [
      "[CV]  n_estimators=80, criterion=entropy, max_depth=16, score=-0.643336 - 1.9min\n",
      "[CV] n_estimators=90, criterion=entropy, max_depth=16 ................\n"
     ]
    },
    {
     "name": "stderr",
     "output_type": "stream",
     "text": [
      "[Parallel(n_jobs=4)]: Done 918 tasks      | elapsed: 755.6min\n"
     ]
    },
    {
     "name": "stdout",
     "output_type": "stream",
     "text": [
      "[CV]  n_estimators=80, criterion=entropy, max_depth=16, score=-0.647285 - 1.9min\n",
      "[CV] n_estimators=90, criterion=entropy, max_depth=16 ................\n"
     ]
    },
    {
     "name": "stderr",
     "output_type": "stream",
     "text": [
      "[Parallel(n_jobs=4)]: Done 919 tasks      | elapsed: 756.3min\n"
     ]
    },
    {
     "name": "stdout",
     "output_type": "stream",
     "text": [
      "[CV]  n_estimators=80, criterion=entropy, max_depth=16, score=-0.656531 - 1.9min\n",
      "[CV] n_estimators=90, criterion=entropy, max_depth=16 ................\n"
     ]
    },
    {
     "name": "stderr",
     "output_type": "stream",
     "text": [
      "[Parallel(n_jobs=4)]: Done 920 tasks      | elapsed: 756.8min\n"
     ]
    },
    {
     "name": "stdout",
     "output_type": "stream",
     "text": [
      "[CV]  n_estimators=90, criterion=entropy, max_depth=16, score=-0.649998 - 2.1min\n",
      "[CV] n_estimators=90, criterion=entropy, max_depth=16 ................\n"
     ]
    },
    {
     "name": "stderr",
     "output_type": "stream",
     "text": [
      "[Parallel(n_jobs=4)]: Done 921 tasks      | elapsed: 757.3min\n"
     ]
    },
    {
     "name": "stdout",
     "output_type": "stream",
     "text": [
      "[CV]  n_estimators=90, criterion=entropy, max_depth=16, score=-0.641570 - 2.1min\n",
      "[CV] n_estimators=100, criterion=entropy, max_depth=16 ...............\n"
     ]
    },
    {
     "name": "stderr",
     "output_type": "stream",
     "text": [
      "[Parallel(n_jobs=4)]: Done 922 tasks      | elapsed: 757.8min\n"
     ]
    },
    {
     "name": "stdout",
     "output_type": "stream",
     "text": [
      "[CV]  n_estimators=90, criterion=entropy, max_depth=16, score=-0.639918 - 2.1min\n",
      "[CV] n_estimators=100, criterion=entropy, max_depth=16 ...............\n"
     ]
    },
    {
     "name": "stderr",
     "output_type": "stream",
     "text": [
      "[Parallel(n_jobs=4)]: Done 923 tasks      | elapsed: 758.5min\n"
     ]
    },
    {
     "name": "stdout",
     "output_type": "stream",
     "text": [
      "[CV]  n_estimators=90, criterion=entropy, max_depth=16, score=-0.646475 - 2.1min\n",
      "[CV] n_estimators=100, criterion=entropy, max_depth=16 ...............\n"
     ]
    },
    {
     "name": "stderr",
     "output_type": "stream",
     "text": [
      "[Parallel(n_jobs=4)]: Done 924 tasks      | elapsed: 758.9min\n"
     ]
    },
    {
     "name": "stdout",
     "output_type": "stream",
     "text": [
      "[CV]  n_estimators=90, criterion=entropy, max_depth=16, score=-0.654052 - 2.1min\n",
      "[CV] n_estimators=100, criterion=entropy, max_depth=16 ...............\n"
     ]
    },
    {
     "name": "stderr",
     "output_type": "stream",
     "text": [
      "[Parallel(n_jobs=4)]: Done 925 tasks      | elapsed: 759.4min\n"
     ]
    },
    {
     "name": "stdout",
     "output_type": "stream",
     "text": [
      "[CV]  n_estimators=100, criterion=entropy, max_depth=16, score=-0.648294 - 2.3min\n",
      "[CV] n_estimators=100, criterion=entropy, max_depth=16 ...............\n"
     ]
    },
    {
     "name": "stderr",
     "output_type": "stream",
     "text": [
      "[Parallel(n_jobs=4)]: Done 926 tasks      | elapsed: 760.1min\n"
     ]
    },
    {
     "name": "stdout",
     "output_type": "stream",
     "text": [
      "[CV]  n_estimators=100, criterion=entropy, max_depth=16, score=-0.641498 - 2.4min\n",
      "[CV] n_estimators=110, criterion=entropy, max_depth=16 ...............\n"
     ]
    },
    {
     "name": "stderr",
     "output_type": "stream",
     "text": [
      "[Parallel(n_jobs=4)]: Done 927 tasks      | elapsed: 760.8min\n"
     ]
    },
    {
     "name": "stdout",
     "output_type": "stream",
     "text": [
      "[CV]  n_estimators=100, criterion=entropy, max_depth=16, score=-0.640967 - 2.4min\n",
      "[CV] n_estimators=110, criterion=entropy, max_depth=16 ...............\n"
     ]
    },
    {
     "name": "stderr",
     "output_type": "stream",
     "text": [
      "[Parallel(n_jobs=4)]: Done 928 tasks      | elapsed: 761.3min\n"
     ]
    },
    {
     "name": "stdout",
     "output_type": "stream",
     "text": [
      "[CV]  n_estimators=100, criterion=entropy, max_depth=16, score=-0.646491 - 2.4min\n",
      "[CV] n_estimators=110, criterion=entropy, max_depth=16 ...............\n"
     ]
    },
    {
     "name": "stderr",
     "output_type": "stream",
     "text": [
      "[Parallel(n_jobs=4)]: Done 929 tasks      | elapsed: 761.8min\n"
     ]
    },
    {
     "name": "stdout",
     "output_type": "stream",
     "text": [
      "[CV]  n_estimators=100, criterion=entropy, max_depth=16, score=-0.656005 - 2.3min\n",
      "[CV] n_estimators=110, criterion=entropy, max_depth=16 ...............\n"
     ]
    },
    {
     "name": "stderr",
     "output_type": "stream",
     "text": [
      "[Parallel(n_jobs=4)]: Done 930 tasks      | elapsed: 762.4min\n"
     ]
    },
    {
     "name": "stdout",
     "output_type": "stream",
     "text": [
      "[CV]  n_estimators=110, criterion=entropy, max_depth=16, score=-0.649487 - 2.6min\n",
      "[CV] n_estimators=110, criterion=entropy, max_depth=16 ...............\n"
     ]
    },
    {
     "name": "stderr",
     "output_type": "stream",
     "text": [
      "[Parallel(n_jobs=4)]: Done 931 tasks      | elapsed: 763.4min\n"
     ]
    },
    {
     "name": "stdout",
     "output_type": "stream",
     "text": [
      "[CV]  n_estimators=110, criterion=entropy, max_depth=16, score=-0.642234 - 2.6min\n",
      "[CV] n_estimators=120, criterion=entropy, max_depth=16 ...............\n"
     ]
    },
    {
     "name": "stderr",
     "output_type": "stream",
     "text": [
      "[Parallel(n_jobs=4)]: Done 932 tasks      | elapsed: 763.9min\n"
     ]
    },
    {
     "name": "stdout",
     "output_type": "stream",
     "text": [
      "[CV]  n_estimators=110, criterion=entropy, max_depth=16, score=-0.641043 - 2.6min\n",
      "[CV] n_estimators=120, criterion=entropy, max_depth=16 ...............\n"
     ]
    },
    {
     "name": "stderr",
     "output_type": "stream",
     "text": [
      "[Parallel(n_jobs=4)]: Done 933 tasks      | elapsed: 764.4min\n"
     ]
    },
    {
     "name": "stdout",
     "output_type": "stream",
     "text": [
      "[CV]  n_estimators=110, criterion=entropy, max_depth=16, score=-0.645521 - 2.6min\n",
      "[CV] n_estimators=120, criterion=entropy, max_depth=16 ...............\n"
     ]
    },
    {
     "name": "stderr",
     "output_type": "stream",
     "text": [
      "[Parallel(n_jobs=4)]: Done 934 tasks      | elapsed: 765.0min\n"
     ]
    },
    {
     "name": "stdout",
     "output_type": "stream",
     "text": [
      "[CV]  n_estimators=110, criterion=entropy, max_depth=16, score=-0.652926 - 2.6min\n",
      "[CV] n_estimators=120, criterion=entropy, max_depth=16 ...............\n"
     ]
    },
    {
     "name": "stderr",
     "output_type": "stream",
     "text": [
      "[Parallel(n_jobs=4)]: Done 935 tasks      | elapsed: 766.0min\n"
     ]
    },
    {
     "name": "stdout",
     "output_type": "stream",
     "text": [
      "[CV]  n_estimators=120, criterion=entropy, max_depth=16, score=-0.649661 - 2.8min\n",
      "[CV] n_estimators=120, criterion=entropy, max_depth=16 ...............\n"
     ]
    },
    {
     "name": "stderr",
     "output_type": "stream",
     "text": [
      "[Parallel(n_jobs=4)]: Done 936 tasks      | elapsed: 766.7min\n"
     ]
    },
    {
     "name": "stdout",
     "output_type": "stream",
     "text": [
      "[CV]  n_estimators=120, criterion=entropy, max_depth=16, score=-0.640525 - 2.8min\n",
      "[CV] n_estimators=130, criterion=entropy, max_depth=16 ...............\n"
     ]
    },
    {
     "name": "stderr",
     "output_type": "stream",
     "text": [
      "[Parallel(n_jobs=4)]: Done 937 tasks      | elapsed: 767.2min\n"
     ]
    },
    {
     "name": "stdout",
     "output_type": "stream",
     "text": [
      "[CV]  n_estimators=120, criterion=entropy, max_depth=16, score=-0.640188 - 2.8min\n",
      "[CV] n_estimators=130, criterion=entropy, max_depth=16 ...............\n"
     ]
    },
    {
     "name": "stderr",
     "output_type": "stream",
     "text": [
      "[Parallel(n_jobs=4)]: Done 938 tasks      | elapsed: 767.9min\n"
     ]
    },
    {
     "name": "stdout",
     "output_type": "stream",
     "text": [
      "[CV]  n_estimators=120, criterion=entropy, max_depth=16, score=-0.642748 - 2.8min\n",
      "[CV] n_estimators=130, criterion=entropy, max_depth=16 ...............\n"
     ]
    },
    {
     "name": "stderr",
     "output_type": "stream",
     "text": [
      "[Parallel(n_jobs=4)]: Done 939 tasks      | elapsed: 768.8min\n"
     ]
    },
    {
     "name": "stdout",
     "output_type": "stream",
     "text": [
      "[CV]  n_estimators=120, criterion=entropy, max_depth=16, score=-0.652791 - 2.8min\n",
      "[CV] n_estimators=130, criterion=entropy, max_depth=16 ...............\n"
     ]
    },
    {
     "name": "stderr",
     "output_type": "stream",
     "text": [
      "[Parallel(n_jobs=4)]: Done 940 tasks      | elapsed: 769.5min\n"
     ]
    },
    {
     "name": "stdout",
     "output_type": "stream",
     "text": [
      "[CV]  n_estimators=130, criterion=entropy, max_depth=16, score=-0.646604 - 3.1min\n",
      "[CV] n_estimators=130, criterion=entropy, max_depth=16 ...............\n"
     ]
    },
    {
     "name": "stderr",
     "output_type": "stream",
     "text": [
      "[Parallel(n_jobs=4)]: Done 941 tasks      | elapsed: 770.3min\n"
     ]
    },
    {
     "name": "stdout",
     "output_type": "stream",
     "text": [
      "[CV]  n_estimators=130, criterion=entropy, max_depth=16, score=-0.642251 - 3.1min\n",
      "[CV] n_estimators=140, criterion=entropy, max_depth=16 ...............\n"
     ]
    },
    {
     "name": "stderr",
     "output_type": "stream",
     "text": [
      "[Parallel(n_jobs=4)]: Done 942 tasks      | elapsed: 770.9min\n"
     ]
    },
    {
     "name": "stdout",
     "output_type": "stream",
     "text": [
      "[CV]  n_estimators=130, criterion=entropy, max_depth=16, score=-0.640272 - 3.1min\n",
      "[CV] n_estimators=140, criterion=entropy, max_depth=16 ...............\n"
     ]
    },
    {
     "name": "stderr",
     "output_type": "stream",
     "text": [
      "[Parallel(n_jobs=4)]: Done 943 tasks      | elapsed: 771.9min\n"
     ]
    },
    {
     "name": "stdout",
     "output_type": "stream",
     "text": [
      "[CV]  n_estimators=130, criterion=entropy, max_depth=16, score=-0.642767 - 3.0min\n",
      "[CV] n_estimators=140, criterion=entropy, max_depth=16 ...............\n"
     ]
    },
    {
     "name": "stderr",
     "output_type": "stream",
     "text": [
      "[Parallel(n_jobs=4)]: Done 944 tasks      | elapsed: 772.5min\n"
     ]
    },
    {
     "name": "stdout",
     "output_type": "stream",
     "text": [
      "[CV]  n_estimators=130, criterion=entropy, max_depth=16, score=-0.655166 - 3.1min\n",
      "[CV] n_estimators=140, criterion=entropy, max_depth=16 ...............\n"
     ]
    },
    {
     "name": "stderr",
     "output_type": "stream",
     "text": [
      "[Parallel(n_jobs=4)]: Done 945 tasks      | elapsed: 773.3min\n"
     ]
    },
    {
     "name": "stdout",
     "output_type": "stream",
     "text": [
      "[CV]  n_estimators=140, criterion=entropy, max_depth=16, score=-0.647665 - 3.3min\n",
      "[CV] n_estimators=140, criterion=entropy, max_depth=16 ...............\n"
     ]
    },
    {
     "name": "stderr",
     "output_type": "stream",
     "text": [
      "[Parallel(n_jobs=4)]: Done 946 tasks      | elapsed: 774.2min\n"
     ]
    },
    {
     "name": "stdout",
     "output_type": "stream",
     "text": [
      "[CV]  n_estimators=140, criterion=entropy, max_depth=16, score=-0.641375 - 3.3min\n",
      "[CV] n_estimators=50, criterion=entropy, max_depth=18 ................\n"
     ]
    },
    {
     "name": "stderr",
     "output_type": "stream",
     "text": [
      "[Parallel(n_jobs=4)]: Done 947 tasks      | elapsed: 775.2min\n"
     ]
    },
    {
     "name": "stdout",
     "output_type": "stream",
     "text": [
      "[CV]  n_estimators=140, criterion=entropy, max_depth=16, score=-0.638625 - 3.3min\n",
      "[CV] n_estimators=50, criterion=entropy, max_depth=18 ................\n"
     ]
    },
    {
     "name": "stderr",
     "output_type": "stream",
     "text": [
      "[Parallel(n_jobs=4)]: Done 948 tasks      | elapsed: 775.9min\n"
     ]
    },
    {
     "name": "stdout",
     "output_type": "stream",
     "text": [
      "[CV]  n_estimators=50, criterion=entropy, max_depth=18, score=-0.655410 - 1.4min\n",
      "[CV] n_estimators=50, criterion=entropy, max_depth=18 ................\n"
     ]
    },
    {
     "name": "stderr",
     "output_type": "stream",
     "text": [
      "[Parallel(n_jobs=4)]: Done 949 tasks      | elapsed: 776.5min\n"
     ]
    },
    {
     "name": "stdout",
     "output_type": "stream",
     "text": [
      "[CV]  n_estimators=140, criterion=entropy, max_depth=16, score=-0.644398 - 3.3min\n",
      "[CV] n_estimators=50, criterion=entropy, max_depth=18 ................\n"
     ]
    },
    {
     "name": "stderr",
     "output_type": "stream",
     "text": [
      "[Parallel(n_jobs=4)]: Done 950 tasks      | elapsed: 776.6min\n"
     ]
    },
    {
     "name": "stdout",
     "output_type": "stream",
     "text": [
      "[CV]  n_estimators=50, criterion=entropy, max_depth=18, score=-0.640500 - 1.4min\n",
      "[CV] n_estimators=50, criterion=entropy, max_depth=18 ................\n"
     ]
    },
    {
     "name": "stderr",
     "output_type": "stream",
     "text": [
      "[Parallel(n_jobs=4)]: Done 951 tasks      | elapsed: 777.3min\n"
     ]
    },
    {
     "name": "stdout",
     "output_type": "stream",
     "text": [
      "[CV]  n_estimators=140, criterion=entropy, max_depth=16, score=-0.654529 - 3.3min\n",
      "[CV] n_estimators=60, criterion=entropy, max_depth=18 ................\n"
     ]
    },
    {
     "name": "stderr",
     "output_type": "stream",
     "text": [
      "[Parallel(n_jobs=4)]: Done 952 tasks      | elapsed: 777.5min\n"
     ]
    },
    {
     "name": "stdout",
     "output_type": "stream",
     "text": [
      "[CV]  n_estimators=50, criterion=entropy, max_depth=18, score=-0.644384 - 1.4min\n",
      "[CV] n_estimators=60, criterion=entropy, max_depth=18 ................\n"
     ]
    },
    {
     "name": "stderr",
     "output_type": "stream",
     "text": [
      "[Parallel(n_jobs=4)]: Done 953 tasks      | elapsed: 778.0min\n"
     ]
    },
    {
     "name": "stdout",
     "output_type": "stream",
     "text": [
      "[CV]  n_estimators=50, criterion=entropy, max_depth=18, score=-0.645632 - 1.4min\n",
      "[CV] n_estimators=60, criterion=entropy, max_depth=18 ................\n"
     ]
    },
    {
     "name": "stderr",
     "output_type": "stream",
     "text": [
      "[Parallel(n_jobs=4)]: Done 954 tasks      | elapsed: 778.0min\n"
     ]
    },
    {
     "name": "stdout",
     "output_type": "stream",
     "text": [
      "[CV]  n_estimators=50, criterion=entropy, max_depth=18, score=-0.663513 - 1.4min\n",
      "[CV] n_estimators=60, criterion=entropy, max_depth=18 ................\n"
     ]
    },
    {
     "name": "stderr",
     "output_type": "stream",
     "text": [
      "[Parallel(n_jobs=4)]: Done 955 tasks      | elapsed: 778.7min\n"
     ]
    },
    {
     "name": "stdout",
     "output_type": "stream",
     "text": [
      "[CV]  n_estimators=60, criterion=entropy, max_depth=18, score=-0.646149 - 1.7min\n",
      "[CV] n_estimators=60, criterion=entropy, max_depth=18 ................\n"
     ]
    },
    {
     "name": "stderr",
     "output_type": "stream",
     "text": [
      "[Parallel(n_jobs=4)]: Done 956 tasks      | elapsed: 779.2min\n"
     ]
    },
    {
     "name": "stdout",
     "output_type": "stream",
     "text": [
      "[CV]  n_estimators=60, criterion=entropy, max_depth=18, score=-0.639065 - 1.7min\n",
      "[CV] n_estimators=70, criterion=entropy, max_depth=18 ................\n"
     ]
    },
    {
     "name": "stderr",
     "output_type": "stream",
     "text": [
      "[Parallel(n_jobs=4)]: Done 957 tasks      | elapsed: 779.7min\n"
     ]
    },
    {
     "name": "stdout",
     "output_type": "stream",
     "text": [
      "[CV]  n_estimators=60, criterion=entropy, max_depth=18, score=-0.644555 - 1.7min\n",
      "[CV] n_estimators=70, criterion=entropy, max_depth=18 ................\n"
     ]
    },
    {
     "name": "stderr",
     "output_type": "stream",
     "text": [
      "[Parallel(n_jobs=4)]: Done 958 tasks      | elapsed: 779.7min\n"
     ]
    },
    {
     "name": "stdout",
     "output_type": "stream",
     "text": [
      "[CV]  n_estimators=60, criterion=entropy, max_depth=18, score=-0.646105 - 1.7min\n",
      "[CV] n_estimators=70, criterion=entropy, max_depth=18 ................\n"
     ]
    },
    {
     "name": "stderr",
     "output_type": "stream",
     "text": [
      "[Parallel(n_jobs=4)]: Done 959 tasks      | elapsed: 780.4min\n"
     ]
    },
    {
     "name": "stdout",
     "output_type": "stream",
     "text": [
      "[CV]  n_estimators=60, criterion=entropy, max_depth=18, score=-0.655989 - 1.7min\n",
      "[CV] n_estimators=70, criterion=entropy, max_depth=18 ................\n"
     ]
    },
    {
     "name": "stderr",
     "output_type": "stream",
     "text": [
      "[Parallel(n_jobs=4)]: Done 960 tasks      | elapsed: 780.9min\n"
     ]
    },
    {
     "name": "stdout",
     "output_type": "stream",
     "text": [
      "[CV]  n_estimators=70, criterion=entropy, max_depth=18, score=-0.644203 - 2.0min\n",
      "[CV] n_estimators=70, criterion=entropy, max_depth=18 ................\n"
     ]
    },
    {
     "name": "stderr",
     "output_type": "stream",
     "text": [
      "[Parallel(n_jobs=4)]: Done 961 tasks      | elapsed: 781.6min\n"
     ]
    },
    {
     "name": "stdout",
     "output_type": "stream",
     "text": [
      "[CV]  n_estimators=70, criterion=entropy, max_depth=18, score=-0.640300 - 2.0min\n",
      "[CV] n_estimators=80, criterion=entropy, max_depth=18 ................\n"
     ]
    },
    {
     "name": "stderr",
     "output_type": "stream",
     "text": [
      "[Parallel(n_jobs=4)]: Done 962 tasks      | elapsed: 781.7min\n"
     ]
    },
    {
     "name": "stdout",
     "output_type": "stream",
     "text": [
      "[CV]  n_estimators=70, criterion=entropy, max_depth=18, score=-0.640328 - 2.0min\n",
      "[CV] n_estimators=80, criterion=entropy, max_depth=18 ................\n"
     ]
    },
    {
     "name": "stderr",
     "output_type": "stream",
     "text": [
      "[Parallel(n_jobs=4)]: Done 963 tasks      | elapsed: 782.4min\n"
     ]
    },
    {
     "name": "stdout",
     "output_type": "stream",
     "text": [
      "[CV]  n_estimators=70, criterion=entropy, max_depth=18, score=-0.648166 - 1.9min\n",
      "[CV] n_estimators=80, criterion=entropy, max_depth=18 ................\n"
     ]
    },
    {
     "name": "stderr",
     "output_type": "stream",
     "text": [
      "[Parallel(n_jobs=4)]: Done 964 tasks      | elapsed: 782.9min\n"
     ]
    },
    {
     "name": "stdout",
     "output_type": "stream",
     "text": [
      "[CV]  n_estimators=70, criterion=entropy, max_depth=18, score=-0.656112 - 2.0min\n",
      "[CV] n_estimators=80, criterion=entropy, max_depth=18 ................\n"
     ]
    },
    {
     "name": "stderr",
     "output_type": "stream",
     "text": [
      "[Parallel(n_jobs=4)]: Done 965 tasks      | elapsed: 783.6min\n"
     ]
    },
    {
     "name": "stdout",
     "output_type": "stream",
     "text": [
      "[CV]  n_estimators=80, criterion=entropy, max_depth=18, score=-0.645484 - 2.3min\n",
      "[CV] n_estimators=80, criterion=entropy, max_depth=18 ................\n"
     ]
    },
    {
     "name": "stderr",
     "output_type": "stream",
     "text": [
      "[Parallel(n_jobs=4)]: Done 966 tasks      | elapsed: 784.0min\n"
     ]
    },
    {
     "name": "stdout",
     "output_type": "stream",
     "text": [
      "[CV]  n_estimators=80, criterion=entropy, max_depth=18, score=-0.637174 - 2.3min\n",
      "[CV] n_estimators=90, criterion=entropy, max_depth=18 ................\n"
     ]
    },
    {
     "name": "stderr",
     "output_type": "stream",
     "text": [
      "[Parallel(n_jobs=4)]: Done 967 tasks      | elapsed: 784.6min\n"
     ]
    },
    {
     "name": "stdout",
     "output_type": "stream",
     "text": [
      "[CV]  n_estimators=80, criterion=entropy, max_depth=18, score=-0.643142 - 2.2min\n",
      "[CV] n_estimators=90, criterion=entropy, max_depth=18 ................\n"
     ]
    },
    {
     "name": "stderr",
     "output_type": "stream",
     "text": [
      "[Parallel(n_jobs=4)]: Done 968 tasks      | elapsed: 785.1min\n"
     ]
    },
    {
     "name": "stdout",
     "output_type": "stream",
     "text": [
      "[CV]  n_estimators=80, criterion=entropy, max_depth=18, score=-0.641569 - 2.2min\n",
      "[CV] n_estimators=90, criterion=entropy, max_depth=18 ................\n"
     ]
    },
    {
     "name": "stderr",
     "output_type": "stream",
     "text": [
      "[Parallel(n_jobs=4)]: Done 969 tasks      | elapsed: 785.8min\n"
     ]
    },
    {
     "name": "stdout",
     "output_type": "stream",
     "text": [
      "[CV]  n_estimators=80, criterion=entropy, max_depth=18, score=-0.654005 - 2.3min\n",
      "[CV] n_estimators=90, criterion=entropy, max_depth=18 ................\n"
     ]
    },
    {
     "name": "stderr",
     "output_type": "stream",
     "text": [
      "[Parallel(n_jobs=4)]: Done 970 tasks      | elapsed: 786.2min\n"
     ]
    },
    {
     "name": "stdout",
     "output_type": "stream",
     "text": [
      "[CV]  n_estimators=90, criterion=entropy, max_depth=18, score=-0.646098 - 2.5min\n",
      "[CV] n_estimators=90, criterion=entropy, max_depth=18 ................\n"
     ]
    },
    {
     "name": "stderr",
     "output_type": "stream",
     "text": [
      "[Parallel(n_jobs=4)]: Done 971 tasks      | elapsed: 787.1min\n"
     ]
    },
    {
     "name": "stdout",
     "output_type": "stream",
     "text": [
      "[CV]  n_estimators=90, criterion=entropy, max_depth=18, score=-0.637811 - 2.5min\n",
      "[CV] n_estimators=100, criterion=entropy, max_depth=18 ...............\n"
     ]
    },
    {
     "name": "stderr",
     "output_type": "stream",
     "text": [
      "[Parallel(n_jobs=4)]: Done 972 tasks      | elapsed: 787.6min\n"
     ]
    },
    {
     "name": "stdout",
     "output_type": "stream",
     "text": [
      "[CV]  n_estimators=90, criterion=entropy, max_depth=18, score=-0.639063 - 2.5min\n",
      "[CV] n_estimators=100, criterion=entropy, max_depth=18 ...............\n"
     ]
    },
    {
     "name": "stderr",
     "output_type": "stream",
     "text": [
      "[Parallel(n_jobs=4)]: Done 973 tasks      | elapsed: 788.4min\n"
     ]
    },
    {
     "name": "stdout",
     "output_type": "stream",
     "text": [
      "[CV]  n_estimators=90, criterion=entropy, max_depth=18, score=-0.639855 - 2.5min\n",
      "[CV] n_estimators=100, criterion=entropy, max_depth=18 ...............\n"
     ]
    },
    {
     "name": "stderr",
     "output_type": "stream",
     "text": [
      "[Parallel(n_jobs=4)]: Done 974 tasks      | elapsed: 788.8min\n"
     ]
    },
    {
     "name": "stdout",
     "output_type": "stream",
     "text": [
      "[CV]  n_estimators=90, criterion=entropy, max_depth=18, score=-0.651632 - 2.5min\n",
      "[CV] n_estimators=100, criterion=entropy, max_depth=18 ...............\n"
     ]
    },
    {
     "name": "stderr",
     "output_type": "stream",
     "text": [
      "[Parallel(n_jobs=4)]: Done 975 tasks      | elapsed: 789.7min\n"
     ]
    },
    {
     "name": "stdout",
     "output_type": "stream",
     "text": [
      "[CV]  n_estimators=100, criterion=entropy, max_depth=18, score=-0.645750 - 2.8min\n",
      "[CV] n_estimators=100, criterion=entropy, max_depth=18 ...............\n"
     ]
    },
    {
     "name": "stderr",
     "output_type": "stream",
     "text": [
      "[Parallel(n_jobs=4)]: Done 976 tasks      | elapsed: 790.4min\n"
     ]
    },
    {
     "name": "stdout",
     "output_type": "stream",
     "text": [
      "[CV]  n_estimators=100, criterion=entropy, max_depth=18, score=-0.637251 - 2.8min\n",
      "[CV] n_estimators=110, criterion=entropy, max_depth=18 ...............\n"
     ]
    },
    {
     "name": "stderr",
     "output_type": "stream",
     "text": [
      "[Parallel(n_jobs=4)]: Done 977 tasks      | elapsed: 791.1min\n"
     ]
    },
    {
     "name": "stdout",
     "output_type": "stream",
     "text": [
      "[CV]  n_estimators=100, criterion=entropy, max_depth=18, score=-0.642026 - 2.8min\n",
      "[CV] n_estimators=110, criterion=entropy, max_depth=18 ...............\n"
     ]
    },
    {
     "name": "stderr",
     "output_type": "stream",
     "text": [
      "[Parallel(n_jobs=4)]: Done 978 tasks      | elapsed: 791.6min\n"
     ]
    },
    {
     "name": "stdout",
     "output_type": "stream",
     "text": [
      "[CV]  n_estimators=100, criterion=entropy, max_depth=18, score=-0.640572 - 2.8min\n",
      "[CV] n_estimators=110, criterion=entropy, max_depth=18 ...............\n"
     ]
    },
    {
     "name": "stderr",
     "output_type": "stream",
     "text": [
      "[Parallel(n_jobs=4)]: Done 979 tasks      | elapsed: 792.5min\n"
     ]
    },
    {
     "name": "stdout",
     "output_type": "stream",
     "text": [
      "[CV]  n_estimators=100, criterion=entropy, max_depth=18, score=-0.651672 - 2.8min\n",
      "[CV] n_estimators=110, criterion=entropy, max_depth=18 ...............\n"
     ]
    },
    {
     "name": "stderr",
     "output_type": "stream",
     "text": [
      "[Parallel(n_jobs=4)]: Done 980 tasks      | elapsed: 793.2min\n"
     ]
    },
    {
     "name": "stdout",
     "output_type": "stream",
     "text": [
      "[CV]  n_estimators=110, criterion=entropy, max_depth=18, score=-0.646888 - 3.1min\n",
      "[CV] n_estimators=110, criterion=entropy, max_depth=18 ...............\n"
     ]
    },
    {
     "name": "stderr",
     "output_type": "stream",
     "text": [
      "[Parallel(n_jobs=4)]: Done 981 tasks      | elapsed: 794.2min\n"
     ]
    },
    {
     "name": "stdout",
     "output_type": "stream",
     "text": [
      "[CV]  n_estimators=110, criterion=entropy, max_depth=18, score=-0.637475 - 3.1min\n",
      "[CV] n_estimators=120, criterion=entropy, max_depth=18 ...............\n"
     ]
    },
    {
     "name": "stderr",
     "output_type": "stream",
     "text": [
      "[Parallel(n_jobs=4)]: Done 982 tasks      | elapsed: 794.6min\n"
     ]
    },
    {
     "name": "stdout",
     "output_type": "stream",
     "text": [
      "[CV]  n_estimators=110, criterion=entropy, max_depth=18, score=-0.640229 - 3.1min\n",
      "[CV] n_estimators=120, criterion=entropy, max_depth=18 ...............\n"
     ]
    },
    {
     "name": "stderr",
     "output_type": "stream",
     "text": [
      "[Parallel(n_jobs=4)]: Done 983 tasks      | elapsed: 795.6min\n"
     ]
    },
    {
     "name": "stdout",
     "output_type": "stream",
     "text": [
      "[CV]  n_estimators=110, criterion=entropy, max_depth=18, score=-0.642084 - 3.1min\n",
      "[CV] n_estimators=120, criterion=entropy, max_depth=18 ...............\n"
     ]
    },
    {
     "name": "stderr",
     "output_type": "stream",
     "text": [
      "[Parallel(n_jobs=4)]: Done 984 tasks      | elapsed: 796.3min\n"
     ]
    },
    {
     "name": "stdout",
     "output_type": "stream",
     "text": [
      "[CV]  n_estimators=110, criterion=entropy, max_depth=18, score=-0.653389 - 3.1min\n",
      "[CV] n_estimators=120, criterion=entropy, max_depth=18 ...............\n"
     ]
    },
    {
     "name": "stderr",
     "output_type": "stream",
     "text": [
      "[Parallel(n_jobs=4)]: Done 985 tasks      | elapsed: 797.3min\n"
     ]
    },
    {
     "name": "stdout",
     "output_type": "stream",
     "text": [
      "[CV]  n_estimators=120, criterion=entropy, max_depth=18, score=-0.643105 - 3.3min\n",
      "[CV] n_estimators=120, criterion=entropy, max_depth=18 ...............\n"
     ]
    },
    {
     "name": "stderr",
     "output_type": "stream",
     "text": [
      "[Parallel(n_jobs=4)]: Done 986 tasks      | elapsed: 798.0min\n"
     ]
    },
    {
     "name": "stdout",
     "output_type": "stream",
     "text": [
      "[CV]  n_estimators=120, criterion=entropy, max_depth=18, score=-0.638035 - 3.3min\n",
      "[CV] n_estimators=130, criterion=entropy, max_depth=18 ...............\n"
     ]
    },
    {
     "name": "stderr",
     "output_type": "stream",
     "text": [
      "[Parallel(n_jobs=4)]: Done 987 tasks      | elapsed: 798.9min\n"
     ]
    },
    {
     "name": "stdout",
     "output_type": "stream",
     "text": [
      "[CV]  n_estimators=120, criterion=entropy, max_depth=18, score=-0.638748 - 3.4min\n",
      "[CV] n_estimators=130, criterion=entropy, max_depth=18 ...............\n"
     ]
    },
    {
     "name": "stderr",
     "output_type": "stream",
     "text": [
      "[Parallel(n_jobs=4)]: Done 988 tasks      | elapsed: 799.7min\n"
     ]
    },
    {
     "name": "stdout",
     "output_type": "stream",
     "text": [
      "[CV]  n_estimators=120, criterion=entropy, max_depth=18, score=-0.640066 - 3.4min\n",
      "[CV] n_estimators=130, criterion=entropy, max_depth=18 ...............\n"
     ]
    },
    {
     "name": "stderr",
     "output_type": "stream",
     "text": [
      "[Parallel(n_jobs=4)]: Done 989 tasks      | elapsed: 800.7min\n"
     ]
    },
    {
     "name": "stdout",
     "output_type": "stream",
     "text": [
      "[CV]  n_estimators=120, criterion=entropy, max_depth=18, score=-0.652550 - 3.4min\n",
      "[CV] n_estimators=130, criterion=entropy, max_depth=18 ...............\n"
     ]
    },
    {
     "name": "stderr",
     "output_type": "stream",
     "text": [
      "[Parallel(n_jobs=4)]: Done 990 tasks      | elapsed: 801.4min\n"
     ]
    },
    {
     "name": "stdout",
     "output_type": "stream",
     "text": [
      "[CV]  n_estimators=130, criterion=entropy, max_depth=18, score=-0.644857 - 3.6min\n",
      "[CV] n_estimators=130, criterion=entropy, max_depth=18 ...............\n"
     ]
    },
    {
     "name": "stderr",
     "output_type": "stream",
     "text": [
      "[Parallel(n_jobs=4)]: Done 991 tasks      | elapsed: 802.5min\n"
     ]
    },
    {
     "name": "stdout",
     "output_type": "stream",
     "text": [
      "[CV]  n_estimators=130, criterion=entropy, max_depth=18, score=-0.637735 - 3.6min\n",
      "[CV] n_estimators=140, criterion=entropy, max_depth=18 ...............\n"
     ]
    },
    {
     "name": "stderr",
     "output_type": "stream",
     "text": [
      "[Parallel(n_jobs=4)]: Done 992 tasks      | elapsed: 803.3min\n"
     ]
    },
    {
     "name": "stdout",
     "output_type": "stream",
     "text": [
      "[CV]  n_estimators=130, criterion=entropy, max_depth=18, score=-0.636669 - 3.7min\n",
      "[CV] n_estimators=140, criterion=entropy, max_depth=18 ...............\n"
     ]
    },
    {
     "name": "stderr",
     "output_type": "stream",
     "text": [
      "[Parallel(n_jobs=4)]: Done 993 tasks      | elapsed: 804.3min\n"
     ]
    },
    {
     "name": "stdout",
     "output_type": "stream",
     "text": [
      "[CV]  n_estimators=130, criterion=entropy, max_depth=18, score=-0.640851 - 3.7min\n",
      "[CV] n_estimators=140, criterion=entropy, max_depth=18 ...............\n"
     ]
    },
    {
     "name": "stderr",
     "output_type": "stream",
     "text": [
      "[Parallel(n_jobs=4)]: Done 994 tasks      | elapsed: 805.0min\n"
     ]
    },
    {
     "name": "stdout",
     "output_type": "stream",
     "text": [
      "[CV]  n_estimators=130, criterion=entropy, max_depth=18, score=-0.650882 - 3.6min\n",
      "[CV] n_estimators=140, criterion=entropy, max_depth=18 ...............\n"
     ]
    },
    {
     "name": "stderr",
     "output_type": "stream",
     "text": [
      "[Parallel(n_jobs=4)]: Done 995 tasks      | elapsed: 806.2min\n"
     ]
    },
    {
     "name": "stdout",
     "output_type": "stream",
     "text": [
      "[CV]  n_estimators=140, criterion=entropy, max_depth=18, score=-0.644919 - 3.9min\n",
      "[CV] n_estimators=140, criterion=entropy, max_depth=18 ...............\n"
     ]
    },
    {
     "name": "stderr",
     "output_type": "stream",
     "text": [
      "[Parallel(n_jobs=4)]: Done 996 tasks      | elapsed: 807.2min\n"
     ]
    },
    {
     "name": "stdout",
     "output_type": "stream",
     "text": [
      "[CV]  n_estimators=140, criterion=entropy, max_depth=18, score=-0.636083 - 3.9min\n",
      "[CV] n_estimators=50, criterion=entropy, max_depth=20 ................\n"
     ]
    },
    {
     "name": "stderr",
     "output_type": "stream",
     "text": [
      "[Parallel(n_jobs=4)]: Done 997 tasks      | elapsed: 808.2min\n"
     ]
    },
    {
     "name": "stdout",
     "output_type": "stream",
     "text": [
      "[CV]  n_estimators=140, criterion=entropy, max_depth=18, score=-0.637973 - 3.9min\n",
      "[CV] n_estimators=50, criterion=entropy, max_depth=20 ................\n"
     ]
    },
    {
     "name": "stderr",
     "output_type": "stream",
     "text": [
      "[Parallel(n_jobs=4)]: Done 998 tasks      | elapsed: 808.9min\n"
     ]
    },
    {
     "name": "stdout",
     "output_type": "stream",
     "text": [
      "[CV]  n_estimators=50, criterion=entropy, max_depth=20, score=-0.656789 - 1.6min\n",
      "[CV] n_estimators=50, criterion=entropy, max_depth=20 ................\n"
     ]
    },
    {
     "name": "stderr",
     "output_type": "stream",
     "text": [
      "[Parallel(n_jobs=4)]: Done 999 tasks      | elapsed: 809.8min\n"
     ]
    },
    {
     "name": "stdout",
     "output_type": "stream",
     "text": [
      "[CV]  n_estimators=140, criterion=entropy, max_depth=18, score=-0.641209 - 3.9min\n",
      "[CV] n_estimators=50, criterion=entropy, max_depth=20 ................\n"
     ]
    },
    {
     "name": "stderr",
     "output_type": "stream",
     "text": [
      "[Parallel(n_jobs=4)]: Done 1000 tasks      | elapsed: 810.1min\n"
     ]
    },
    {
     "name": "stdout",
     "output_type": "stream",
     "text": [
      "[CV]  n_estimators=50, criterion=entropy, max_depth=20, score=-0.642266 - 1.6min\n",
      "[CV] n_estimators=50, criterion=entropy, max_depth=20 ................\n"
     ]
    },
    {
     "name": "stderr",
     "output_type": "stream",
     "text": [
      "[Parallel(n_jobs=4)]: Done 1001 tasks      | elapsed: 810.5min\n"
     ]
    },
    {
     "name": "stdout",
     "output_type": "stream",
     "text": [
      "[CV]  n_estimators=140, criterion=entropy, max_depth=18, score=-0.648936 - 3.9min\n",
      "[CV] n_estimators=60, criterion=entropy, max_depth=20 ................\n"
     ]
    },
    {
     "name": "stderr",
     "output_type": "stream",
     "text": [
      "[Parallel(n_jobs=4)]: Done 1002 tasks      | elapsed: 811.1min\n"
     ]
    },
    {
     "name": "stdout",
     "output_type": "stream",
     "text": [
      "[CV]  n_estimators=50, criterion=entropy, max_depth=20, score=-0.650985 - 1.6min\n",
      "[CV] n_estimators=60, criterion=entropy, max_depth=20 ................\n"
     ]
    },
    {
     "name": "stderr",
     "output_type": "stream",
     "text": [
      "[Parallel(n_jobs=4)]: Done 1003 tasks      | elapsed: 811.4min\n"
     ]
    },
    {
     "name": "stdout",
     "output_type": "stream",
     "text": [
      "[CV]  n_estimators=50, criterion=entropy, max_depth=20, score=-0.654265 - 1.6min\n",
      "[CV] n_estimators=60, criterion=entropy, max_depth=20 ................\n"
     ]
    },
    {
     "name": "stderr",
     "output_type": "stream",
     "text": [
      "[Parallel(n_jobs=4)]: Done 1004 tasks      | elapsed: 811.7min\n"
     ]
    },
    {
     "name": "stdout",
     "output_type": "stream",
     "text": [
      "[CV]  n_estimators=50, criterion=entropy, max_depth=20, score=-0.665771 - 1.6min\n",
      "[CV] n_estimators=60, criterion=entropy, max_depth=20 ................\n"
     ]
    },
    {
     "name": "stderr",
     "output_type": "stream",
     "text": [
      "[Parallel(n_jobs=4)]: Done 1005 tasks      | elapsed: 812.1min\n"
     ]
    },
    {
     "name": "stdout",
     "output_type": "stream",
     "text": [
      "[CV]  n_estimators=60, criterion=entropy, max_depth=20, score=-0.654243 - 1.9min\n",
      "[CV] n_estimators=60, criterion=entropy, max_depth=20 ................\n"
     ]
    },
    {
     "name": "stderr",
     "output_type": "stream",
     "text": [
      "[Parallel(n_jobs=4)]: Done 1006 tasks      | elapsed: 813.0min\n"
     ]
    },
    {
     "name": "stdout",
     "output_type": "stream",
     "text": [
      "[CV]  n_estimators=60, criterion=entropy, max_depth=20, score=-0.640454 - 1.9min\n",
      "[CV] n_estimators=70, criterion=entropy, max_depth=20 ................\n"
     ]
    },
    {
     "name": "stderr",
     "output_type": "stream",
     "text": [
      "[Parallel(n_jobs=4)]: Done 1007 tasks      | elapsed: 813.4min\n"
     ]
    },
    {
     "name": "stdout",
     "output_type": "stream",
     "text": [
      "[CV]  n_estimators=60, criterion=entropy, max_depth=20, score=-0.640907 - 1.9min\n",
      "[CV] n_estimators=70, criterion=entropy, max_depth=20 ................\n"
     ]
    },
    {
     "name": "stderr",
     "output_type": "stream",
     "text": [
      "[Parallel(n_jobs=4)]: Done 1008 tasks      | elapsed: 813.7min\n"
     ]
    },
    {
     "name": "stdout",
     "output_type": "stream",
     "text": [
      "[CV]  n_estimators=60, criterion=entropy, max_depth=20, score=-0.650415 - 1.9min\n",
      "[CV] n_estimators=70, criterion=entropy, max_depth=20 ................\n"
     ]
    },
    {
     "name": "stderr",
     "output_type": "stream",
     "text": [
      "[Parallel(n_jobs=4)]: Done 1009 tasks      | elapsed: 814.1min\n"
     ]
    },
    {
     "name": "stdout",
     "output_type": "stream",
     "text": [
      "[CV]  n_estimators=60, criterion=entropy, max_depth=20, score=-0.660357 - 1.9min\n",
      "[CV] n_estimators=70, criterion=entropy, max_depth=20 ................\n"
     ]
    },
    {
     "name": "stderr",
     "output_type": "stream",
     "text": [
      "[Parallel(n_jobs=4)]: Done 1010 tasks      | elapsed: 815.0min\n"
     ]
    },
    {
     "name": "stdout",
     "output_type": "stream",
     "text": [
      "[CV]  n_estimators=70, criterion=entropy, max_depth=20, score=-0.650173 - 2.3min\n",
      "[CV] n_estimators=70, criterion=entropy, max_depth=20 ................\n"
     ]
    },
    {
     "name": "stderr",
     "output_type": "stream",
     "text": [
      "[Parallel(n_jobs=4)]: Done 1011 tasks      | elapsed: 815.6min\n"
     ]
    },
    {
     "name": "stdout",
     "output_type": "stream",
     "text": [
      "[CV]  n_estimators=70, criterion=entropy, max_depth=20, score=-0.639450 - 2.3min\n",
      "[CV] n_estimators=80, criterion=entropy, max_depth=20 ................\n"
     ]
    },
    {
     "name": "stderr",
     "output_type": "stream",
     "text": [
      "[Parallel(n_jobs=4)]: Done 1012 tasks      | elapsed: 815.9min\n"
     ]
    },
    {
     "name": "stdout",
     "output_type": "stream",
     "text": [
      "[CV]  n_estimators=70, criterion=entropy, max_depth=20, score=-0.646315 - 2.3min\n",
      "[CV] n_estimators=80, criterion=entropy, max_depth=20 ................\n"
     ]
    },
    {
     "name": "stderr",
     "output_type": "stream",
     "text": [
      "[Parallel(n_jobs=4)]: Done 1013 tasks      | elapsed: 816.3min\n"
     ]
    },
    {
     "name": "stdout",
     "output_type": "stream",
     "text": [
      "[CV]  n_estimators=70, criterion=entropy, max_depth=20, score=-0.648410 - 2.3min\n",
      "[CV] n_estimators=80, criterion=entropy, max_depth=20 ................\n"
     ]
    },
    {
     "name": "stderr",
     "output_type": "stream",
     "text": [
      "[Parallel(n_jobs=4)]: Done 1014 tasks      | elapsed: 817.2min\n"
     ]
    },
    {
     "name": "stdout",
     "output_type": "stream",
     "text": [
      "[CV]  n_estimators=70, criterion=entropy, max_depth=20, score=-0.657345 - 2.2min\n",
      "[CV] n_estimators=80, criterion=entropy, max_depth=20 ................\n"
     ]
    },
    {
     "name": "stderr",
     "output_type": "stream",
     "text": [
      "[Parallel(n_jobs=4)]: Done 1015 tasks      | elapsed: 817.8min\n"
     ]
    },
    {
     "name": "stdout",
     "output_type": "stream",
     "text": [
      "[CV]  n_estimators=80, criterion=entropy, max_depth=20, score=-0.648369 - 2.6min\n",
      "[CV] n_estimators=80, criterion=entropy, max_depth=20 ................\n"
     ]
    },
    {
     "name": "stderr",
     "output_type": "stream",
     "text": [
      "[Parallel(n_jobs=4)]: Done 1016 tasks      | elapsed: 818.5min\n"
     ]
    },
    {
     "name": "stdout",
     "output_type": "stream",
     "text": [
      "[CV]  n_estimators=80, criterion=entropy, max_depth=20, score=-0.641777 - 2.6min\n",
      "[CV] n_estimators=90, criterion=entropy, max_depth=20 ................\n"
     ]
    },
    {
     "name": "stderr",
     "output_type": "stream",
     "text": [
      "[Parallel(n_jobs=4)]: Done 1017 tasks      | elapsed: 818.9min\n"
     ]
    },
    {
     "name": "stdout",
     "output_type": "stream",
     "text": [
      "[CV]  n_estimators=80, criterion=entropy, max_depth=20, score=-0.640360 - 2.5min\n",
      "[CV] n_estimators=90, criterion=entropy, max_depth=20 ................\n"
     ]
    },
    {
     "name": "stderr",
     "output_type": "stream",
     "text": [
      "[Parallel(n_jobs=4)]: Done 1018 tasks      | elapsed: 819.8min\n"
     ]
    },
    {
     "name": "stdout",
     "output_type": "stream",
     "text": [
      "[CV]  n_estimators=80, criterion=entropy, max_depth=20, score=-0.642113 - 2.6min\n",
      "[CV] n_estimators=90, criterion=entropy, max_depth=20 ................\n"
     ]
    },
    {
     "name": "stderr",
     "output_type": "stream",
     "text": [
      "[Parallel(n_jobs=4)]: Done 1019 tasks      | elapsed: 820.4min\n"
     ]
    },
    {
     "name": "stdout",
     "output_type": "stream",
     "text": [
      "[CV]  n_estimators=80, criterion=entropy, max_depth=20, score=-0.655074 - 2.5min\n",
      "[CV] n_estimators=90, criterion=entropy, max_depth=20 ................\n"
     ]
    },
    {
     "name": "stderr",
     "output_type": "stream",
     "text": [
      "[Parallel(n_jobs=4)]: Done 1020 tasks      | elapsed: 821.0min\n"
     ]
    },
    {
     "name": "stdout",
     "output_type": "stream",
     "text": [
      "[CV]  n_estimators=90, criterion=entropy, max_depth=20, score=-0.648946 - 2.9min\n",
      "[CV] n_estimators=90, criterion=entropy, max_depth=20 ................\n"
     ]
    },
    {
     "name": "stderr",
     "output_type": "stream",
     "text": [
      "[Parallel(n_jobs=4)]: Done 1021 tasks      | elapsed: 821.8min\n"
     ]
    },
    {
     "name": "stdout",
     "output_type": "stream",
     "text": [
      "[CV]  n_estimators=90, criterion=entropy, max_depth=20, score=-0.638127 - 2.9min\n",
      "[CV] n_estimators=100, criterion=entropy, max_depth=20 ...............\n"
     ]
    },
    {
     "name": "stderr",
     "output_type": "stream",
     "text": [
      "[Parallel(n_jobs=4)]: Done 1022 tasks      | elapsed: 822.6min\n"
     ]
    },
    {
     "name": "stdout",
     "output_type": "stream",
     "text": [
      "[CV]  n_estimators=90, criterion=entropy, max_depth=20, score=-0.637349 - 2.9min\n",
      "[CV] n_estimators=100, criterion=entropy, max_depth=20 ...............\n"
     ]
    },
    {
     "name": "stderr",
     "output_type": "stream",
     "text": [
      "[Parallel(n_jobs=4)]: Done 1023 tasks      | elapsed: 823.3min\n"
     ]
    },
    {
     "name": "stdout",
     "output_type": "stream",
     "text": [
      "[CV]  n_estimators=90, criterion=entropy, max_depth=20, score=-0.641687 - 2.9min\n",
      "[CV] n_estimators=100, criterion=entropy, max_depth=20 ...............\n"
     ]
    },
    {
     "name": "stderr",
     "output_type": "stream",
     "text": [
      "[Parallel(n_jobs=4)]: Done 1024 tasks      | elapsed: 823.9min\n"
     ]
    },
    {
     "name": "stdout",
     "output_type": "stream",
     "text": [
      "[CV]  n_estimators=90, criterion=entropy, max_depth=20, score=-0.666541 - 2.9min\n",
      "[CV] n_estimators=100, criterion=entropy, max_depth=20 ...............\n"
     ]
    },
    {
     "name": "stderr",
     "output_type": "stream",
     "text": [
      "[Parallel(n_jobs=4)]: Done 1025 tasks      | elapsed: 824.6min\n"
     ]
    },
    {
     "name": "stdout",
     "output_type": "stream",
     "text": [
      "[CV]  n_estimators=100, criterion=entropy, max_depth=20, score=-0.645186 - 3.2min\n",
      "[CV] n_estimators=100, criterion=entropy, max_depth=20 ...............\n"
     ]
    },
    {
     "name": "stderr",
     "output_type": "stream",
     "text": [
      "[Parallel(n_jobs=4)]: Done 1026 tasks      | elapsed: 825.9min\n"
     ]
    },
    {
     "name": "stdout",
     "output_type": "stream",
     "text": [
      "[CV]  n_estimators=100, criterion=entropy, max_depth=20, score=-0.637016 - 3.2min\n",
      "[CV] n_estimators=110, criterion=entropy, max_depth=20 ...............\n"
     ]
    },
    {
     "name": "stderr",
     "output_type": "stream",
     "text": [
      "[Parallel(n_jobs=4)]: Done 1027 tasks      | elapsed: 826.5min\n"
     ]
    },
    {
     "name": "stdout",
     "output_type": "stream",
     "text": [
      "[CV]  n_estimators=100, criterion=entropy, max_depth=20, score=-0.637073 - 3.2min\n",
      "[CV] n_estimators=110, criterion=entropy, max_depth=20 ...............\n"
     ]
    },
    {
     "name": "stderr",
     "output_type": "stream",
     "text": [
      "[Parallel(n_jobs=4)]: Done 1028 tasks      | elapsed: 827.1min\n"
     ]
    },
    {
     "name": "stdout",
     "output_type": "stream",
     "text": [
      "[CV]  n_estimators=100, criterion=entropy, max_depth=20, score=-0.644180 - 3.2min\n",
      "[CV] n_estimators=110, criterion=entropy, max_depth=20 ...............\n"
     ]
    },
    {
     "name": "stderr",
     "output_type": "stream",
     "text": [
      "[Parallel(n_jobs=4)]: Done 1029 tasks      | elapsed: 827.8min\n"
     ]
    },
    {
     "name": "stdout",
     "output_type": "stream",
     "text": [
      "[CV]  n_estimators=100, criterion=entropy, max_depth=20, score=-0.650774 - 3.2min\n",
      "[CV] n_estimators=110, criterion=entropy, max_depth=20 ...............\n"
     ]
    },
    {
     "name": "stderr",
     "output_type": "stream",
     "text": [
      "[Parallel(n_jobs=4)]: Done 1030 tasks      | elapsed: 829.1min\n"
     ]
    },
    {
     "name": "stdout",
     "output_type": "stream",
     "text": [
      "[CV]  n_estimators=110, criterion=entropy, max_depth=20, score=-0.643971 - 3.5min\n",
      "[CV] n_estimators=110, criterion=entropy, max_depth=20 ...............\n"
     ]
    },
    {
     "name": "stderr",
     "output_type": "stream",
     "text": [
      "[Parallel(n_jobs=4)]: Done 1031 tasks      | elapsed: 830.0min\n"
     ]
    },
    {
     "name": "stdout",
     "output_type": "stream",
     "text": [
      "[CV]  n_estimators=110, criterion=entropy, max_depth=20, score=-0.636409 - 3.5min\n",
      "[CV] n_estimators=120, criterion=entropy, max_depth=20 ...............\n"
     ]
    },
    {
     "name": "stderr",
     "output_type": "stream",
     "text": [
      "[Parallel(n_jobs=4)]: Done 1032 tasks      | elapsed: 830.6min\n"
     ]
    },
    {
     "name": "stdout",
     "output_type": "stream",
     "text": [
      "[CV]  n_estimators=110, criterion=entropy, max_depth=20, score=-0.641029 - 3.5min\n",
      "[CV] n_estimators=120, criterion=entropy, max_depth=20 ...............\n"
     ]
    },
    {
     "name": "stderr",
     "output_type": "stream",
     "text": [
      "[Parallel(n_jobs=4)]: Done 1033 tasks      | elapsed: 831.3min\n"
     ]
    },
    {
     "name": "stdout",
     "output_type": "stream",
     "text": [
      "[CV]  n_estimators=110, criterion=entropy, max_depth=20, score=-0.639106 - 3.5min\n",
      "[CV] n_estimators=120, criterion=entropy, max_depth=20 ...............\n"
     ]
    },
    {
     "name": "stderr",
     "output_type": "stream",
     "text": [
      "[Parallel(n_jobs=4)]: Done 1034 tasks      | elapsed: 832.6min\n"
     ]
    },
    {
     "name": "stdout",
     "output_type": "stream",
     "text": [
      "[CV]  n_estimators=110, criterion=entropy, max_depth=20, score=-0.652444 - 3.6min\n",
      "[CV] n_estimators=120, criterion=entropy, max_depth=20 ...............\n"
     ]
    },
    {
     "name": "stderr",
     "output_type": "stream",
     "text": [
      "[Parallel(n_jobs=4)]: Done 1035 tasks      | elapsed: 833.6min\n"
     ]
    },
    {
     "name": "stdout",
     "output_type": "stream",
     "text": [
      "[CV]  n_estimators=120, criterion=entropy, max_depth=20, score=-0.647434 - 3.8min\n",
      "[CV] n_estimators=120, criterion=entropy, max_depth=20 ...............\n"
     ]
    },
    {
     "name": "stderr",
     "output_type": "stream",
     "text": [
      "[Parallel(n_jobs=4)]: Done 1036 tasks      | elapsed: 834.5min\n"
     ]
    },
    {
     "name": "stdout",
     "output_type": "stream",
     "text": [
      "[CV]  n_estimators=120, criterion=entropy, max_depth=20, score=-0.637422 - 3.8min\n",
      "[CV] n_estimators=130, criterion=entropy, max_depth=20 ...............\n"
     ]
    },
    {
     "name": "stderr",
     "output_type": "stream",
     "text": [
      "[Parallel(n_jobs=4)]: Done 1037 tasks      | elapsed: 835.2min\n"
     ]
    },
    {
     "name": "stdout",
     "output_type": "stream",
     "text": [
      "[CV]  n_estimators=120, criterion=entropy, max_depth=20, score=-0.632597 - 3.8min\n",
      "[CV] n_estimators=130, criterion=entropy, max_depth=20 ...............\n"
     ]
    },
    {
     "name": "stderr",
     "output_type": "stream",
     "text": [
      "[Parallel(n_jobs=4)]: Done 1038 tasks      | elapsed: 836.4min\n"
     ]
    },
    {
     "name": "stdout",
     "output_type": "stream",
     "text": [
      "[CV]  n_estimators=120, criterion=entropy, max_depth=20, score=-0.643608 - 3.9min\n",
      "[CV] n_estimators=130, criterion=entropy, max_depth=20 ...............\n"
     ]
    },
    {
     "name": "stderr",
     "output_type": "stream",
     "text": [
      "[Parallel(n_jobs=4)]: Done 1039 tasks      | elapsed: 837.4min\n"
     ]
    },
    {
     "name": "stdout",
     "output_type": "stream",
     "text": [
      "[CV]  n_estimators=120, criterion=entropy, max_depth=20, score=-0.651994 - 3.8min\n",
      "[CV] n_estimators=130, criterion=entropy, max_depth=20 ...............\n"
     ]
    },
    {
     "name": "stderr",
     "output_type": "stream",
     "text": [
      "[Parallel(n_jobs=4)]: Done 1040 tasks      | elapsed: 838.3min\n"
     ]
    },
    {
     "name": "stdout",
     "output_type": "stream",
     "text": [
      "[CV]  n_estimators=130, criterion=entropy, max_depth=20, score=-0.645771 - 4.1min\n",
      "[CV] n_estimators=130, criterion=entropy, max_depth=20 ...............\n"
     ]
    },
    {
     "name": "stderr",
     "output_type": "stream",
     "text": [
      "[Parallel(n_jobs=4)]: Done 1041 tasks      | elapsed: 839.3min\n"
     ]
    },
    {
     "name": "stdout",
     "output_type": "stream",
     "text": [
      "[CV]  n_estimators=130, criterion=entropy, max_depth=20, score=-0.635145 - 4.1min\n",
      "[CV] n_estimators=140, criterion=entropy, max_depth=20 ...............\n"
     ]
    },
    {
     "name": "stderr",
     "output_type": "stream",
     "text": [
      "[Parallel(n_jobs=4)]: Done 1042 tasks      | elapsed: 840.5min\n"
     ]
    },
    {
     "name": "stdout",
     "output_type": "stream",
     "text": [
      "[CV]  n_estimators=130, criterion=entropy, max_depth=20, score=-0.640296 - 4.2min\n",
      "[CV] n_estimators=140, criterion=entropy, max_depth=20 ...............\n"
     ]
    },
    {
     "name": "stderr",
     "output_type": "stream",
     "text": [
      "[Parallel(n_jobs=4)]: Done 1043 tasks      | elapsed: 841.6min\n"
     ]
    },
    {
     "name": "stdout",
     "output_type": "stream",
     "text": [
      "[CV]  n_estimators=130, criterion=entropy, max_depth=20, score=-0.640721 - 4.2min\n",
      "[CV] n_estimators=140, criterion=entropy, max_depth=20 ...............\n"
     ]
    },
    {
     "name": "stderr",
     "output_type": "stream",
     "text": [
      "[Parallel(n_jobs=4)]: Done 1044 tasks      | elapsed: 842.4min\n"
     ]
    },
    {
     "name": "stdout",
     "output_type": "stream",
     "text": [
      "[CV]  n_estimators=130, criterion=entropy, max_depth=20, score=-0.653495 - 4.1min\n",
      "[CV] n_estimators=140, criterion=entropy, max_depth=20 ...............\n"
     ]
    },
    {
     "name": "stderr",
     "output_type": "stream",
     "text": [
      "[Parallel(n_jobs=4)]: Done 1045 tasks      | elapsed: 843.5min\n"
     ]
    },
    {
     "name": "stdout",
     "output_type": "stream",
     "text": [
      "[CV]  n_estimators=140, criterion=entropy, max_depth=20, score=-0.647286 - 4.5min\n",
      "[CV] n_estimators=140, criterion=entropy, max_depth=20 ...............\n"
     ]
    },
    {
     "name": "stderr",
     "output_type": "stream",
     "text": [
      "[Parallel(n_jobs=4)]: Done 1046 tasks      | elapsed: 845.0min\n"
     ]
    },
    {
     "name": "stdout",
     "output_type": "stream",
     "text": [
      "[CV]  n_estimators=140, criterion=entropy, max_depth=20, score=-0.635768 - 4.4min\n",
      "[CV] n_estimators=50, criterion=entropy, max_depth=22 ................\n"
     ]
    },
    {
     "name": "stderr",
     "output_type": "stream",
     "text": [
      "[Parallel(n_jobs=4)]: Done 1047 tasks      | elapsed: 846.0min\n"
     ]
    },
    {
     "name": "stdout",
     "output_type": "stream",
     "text": [
      "[CV]  n_estimators=140, criterion=entropy, max_depth=20, score=-0.637387 - 4.5min\n",
      "[CV] n_estimators=50, criterion=entropy, max_depth=22 ................\n"
     ]
    },
    {
     "name": "stderr",
     "output_type": "stream",
     "text": [
      "[Parallel(n_jobs=4)]: Done 1048 tasks      | elapsed: 846.9min\n"
     ]
    },
    {
     "name": "stdout",
     "output_type": "stream",
     "text": [
      "[CV]  n_estimators=50, criterion=entropy, max_depth=22, score=-0.660695 - 1.8min\n",
      "[CV] n_estimators=50, criterion=entropy, max_depth=22 ................\n"
     ]
    },
    {
     "name": "stderr",
     "output_type": "stream",
     "text": [
      "[Parallel(n_jobs=4)]: Done 1049 tasks      | elapsed: 847.8min\n"
     ]
    },
    {
     "name": "stdout",
     "output_type": "stream",
     "text": [
      "[CV]  n_estimators=140, criterion=entropy, max_depth=20, score=-0.638960 - 4.5min\n",
      "[CV] n_estimators=50, criterion=entropy, max_depth=22 ................\n"
     ]
    },
    {
     "name": "stderr",
     "output_type": "stream",
     "text": [
      "[Parallel(n_jobs=4)]: Done 1050 tasks      | elapsed: 847.9min\n"
     ]
    },
    {
     "name": "stdout",
     "output_type": "stream",
     "text": [
      "[CV]  n_estimators=50, criterion=entropy, max_depth=22, score=-0.651175 - 1.7min\n",
      "[CV] n_estimators=50, criterion=entropy, max_depth=22 ................\n"
     ]
    },
    {
     "name": "stderr",
     "output_type": "stream",
     "text": [
      "[Parallel(n_jobs=4)]: Done 1051 tasks      | elapsed: 848.7min\n"
     ]
    },
    {
     "name": "stdout",
     "output_type": "stream",
     "text": [
      "[CV]  n_estimators=140, criterion=entropy, max_depth=20, score=-0.650086 - 4.4min\n",
      "[CV] n_estimators=60, criterion=entropy, max_depth=22 ................\n"
     ]
    },
    {
     "name": "stderr",
     "output_type": "stream",
     "text": [
      "[Parallel(n_jobs=4)]: Done 1052 tasks      | elapsed: 849.4min\n"
     ]
    },
    {
     "name": "stdout",
     "output_type": "stream",
     "text": [
      "[CV]  n_estimators=50, criterion=entropy, max_depth=22, score=-0.650658 - 1.8min\n",
      "[CV] n_estimators=60, criterion=entropy, max_depth=22 ................\n"
     ]
    },
    {
     "name": "stderr",
     "output_type": "stream",
     "text": [
      "[Parallel(n_jobs=4)]: Done 1053 tasks      | elapsed: 849.6min\n"
     ]
    },
    {
     "name": "stdout",
     "output_type": "stream",
     "text": [
      "[CV]  n_estimators=50, criterion=entropy, max_depth=22, score=-0.660201 - 1.8min\n",
      "[CV] n_estimators=60, criterion=entropy, max_depth=22 ................\n"
     ]
    },
    {
     "name": "stderr",
     "output_type": "stream",
     "text": [
      "[Parallel(n_jobs=4)]: Done 1054 tasks      | elapsed: 849.7min\n"
     ]
    },
    {
     "name": "stdout",
     "output_type": "stream",
     "text": [
      "[CV]  n_estimators=50, criterion=entropy, max_depth=22, score=-0.671281 - 1.8min\n",
      "[CV] n_estimators=60, criterion=entropy, max_depth=22 ................\n"
     ]
    },
    {
     "name": "stderr",
     "output_type": "stream",
     "text": [
      "[Parallel(n_jobs=4)]: Done 1055 tasks      | elapsed: 850.4min\n"
     ]
    },
    {
     "name": "stdout",
     "output_type": "stream",
     "text": [
      "[CV]  n_estimators=60, criterion=entropy, max_depth=22, score=-0.659170 - 2.1min\n",
      "[CV] n_estimators=60, criterion=entropy, max_depth=22 ................\n"
     ]
    },
    {
     "name": "stderr",
     "output_type": "stream",
     "text": [
      "[Parallel(n_jobs=4)]: Done 1056 tasks      | elapsed: 851.6min\n"
     ]
    },
    {
     "name": "stdout",
     "output_type": "stream",
     "text": [
      "[CV]  n_estimators=60, criterion=entropy, max_depth=22, score=-0.648486 - 2.1min\n",
      "[CV] n_estimators=70, criterion=entropy, max_depth=22 ................\n"
     ]
    },
    {
     "name": "stderr",
     "output_type": "stream",
     "text": [
      "[Parallel(n_jobs=4)]: Done 1057 tasks      | elapsed: 851.6min\n"
     ]
    },
    {
     "name": "stdout",
     "output_type": "stream",
     "text": [
      "[CV]  n_estimators=60, criterion=entropy, max_depth=22, score=-0.648618 - 2.1min\n",
      "[CV] n_estimators=70, criterion=entropy, max_depth=22 ................\n"
     ]
    },
    {
     "name": "stderr",
     "output_type": "stream",
     "text": [
      "[Parallel(n_jobs=4)]: Done 1058 tasks      | elapsed: 851.8min\n"
     ]
    },
    {
     "name": "stdout",
     "output_type": "stream",
     "text": [
      "[CV]  n_estimators=60, criterion=entropy, max_depth=22, score=-0.647883 - 2.1min\n",
      "[CV] n_estimators=70, criterion=entropy, max_depth=22 ................\n"
     ]
    },
    {
     "name": "stderr",
     "output_type": "stream",
     "text": [
      "[Parallel(n_jobs=4)]: Done 1059 tasks      | elapsed: 852.5min\n"
     ]
    },
    {
     "name": "stdout",
     "output_type": "stream",
     "text": [
      "[CV]  n_estimators=60, criterion=entropy, max_depth=22, score=-0.662507 - 2.1min\n",
      "[CV] n_estimators=70, criterion=entropy, max_depth=22 ................\n"
     ]
    },
    {
     "name": "stderr",
     "output_type": "stream",
     "text": [
      "[Parallel(n_jobs=4)]: Done 1060 tasks      | elapsed: 853.7min\n"
     ]
    },
    {
     "name": "stdout",
     "output_type": "stream",
     "text": [
      "[CV]  n_estimators=70, criterion=entropy, max_depth=22, score=-0.658132 - 2.5min\n",
      "[CV] n_estimators=70, criterion=entropy, max_depth=22 ................\n"
     ]
    },
    {
     "name": "stderr",
     "output_type": "stream",
     "text": [
      "[Parallel(n_jobs=4)]: Done 1061 tasks      | elapsed: 854.1min\n"
     ]
    },
    {
     "name": "stdout",
     "output_type": "stream",
     "text": [
      "[CV]  n_estimators=70, criterion=entropy, max_depth=22, score=-0.647306 - 2.5min\n",
      "[CV] n_estimators=80, criterion=entropy, max_depth=22 ................\n"
     ]
    },
    {
     "name": "stderr",
     "output_type": "stream",
     "text": [
      "[Parallel(n_jobs=4)]: Done 1062 tasks      | elapsed: 854.3min\n"
     ]
    },
    {
     "name": "stdout",
     "output_type": "stream",
     "text": [
      "[CV]  n_estimators=70, criterion=entropy, max_depth=22, score=-0.645121 - 2.5min\n",
      "[CV] n_estimators=80, criterion=entropy, max_depth=22 ................\n"
     ]
    },
    {
     "name": "stderr",
     "output_type": "stream",
     "text": [
      "[Parallel(n_jobs=4)]: Done 1063 tasks      | elapsed: 855.0min\n"
     ]
    },
    {
     "name": "stdout",
     "output_type": "stream",
     "text": [
      "[CV]  n_estimators=70, criterion=entropy, max_depth=22, score=-0.647685 - 2.5min\n",
      "[CV] n_estimators=80, criterion=entropy, max_depth=22 ................\n"
     ]
    },
    {
     "name": "stderr",
     "output_type": "stream",
     "text": [
      "[Parallel(n_jobs=4)]: Done 1064 tasks      | elapsed: 856.1min\n"
     ]
    },
    {
     "name": "stdout",
     "output_type": "stream",
     "text": [
      "[CV]  n_estimators=70, criterion=entropy, max_depth=22, score=-0.670123 - 2.5min\n",
      "[CV] n_estimators=80, criterion=entropy, max_depth=22 ................\n"
     ]
    },
    {
     "name": "stderr",
     "output_type": "stream",
     "text": [
      "[Parallel(n_jobs=4)]: Done 1065 tasks      | elapsed: 856.6min\n"
     ]
    },
    {
     "name": "stdout",
     "output_type": "stream",
     "text": [
      "[CV]  n_estimators=80, criterion=entropy, max_depth=22, score=-0.653573 - 2.8min\n",
      "[CV] n_estimators=80, criterion=entropy, max_depth=22 ................\n"
     ]
    },
    {
     "name": "stderr",
     "output_type": "stream",
     "text": [
      "[Parallel(n_jobs=4)]: Done 1066 tasks      | elapsed: 857.1min\n"
     ]
    },
    {
     "name": "stdout",
     "output_type": "stream",
     "text": [
      "[CV]  n_estimators=80, criterion=entropy, max_depth=22, score=-0.639366 - 2.8min\n",
      "[CV] n_estimators=90, criterion=entropy, max_depth=22 ................\n"
     ]
    },
    {
     "name": "stderr",
     "output_type": "stream",
     "text": [
      "[Parallel(n_jobs=4)]: Done 1067 tasks      | elapsed: 857.8min\n"
     ]
    },
    {
     "name": "stdout",
     "output_type": "stream",
     "text": [
      "[CV]  n_estimators=80, criterion=entropy, max_depth=22, score=-0.642033 - 2.8min\n",
      "[CV] n_estimators=90, criterion=entropy, max_depth=22 ................\n"
     ]
    },
    {
     "name": "stderr",
     "output_type": "stream",
     "text": [
      "[Parallel(n_jobs=4)]: Done 1068 tasks      | elapsed: 859.0min\n"
     ]
    },
    {
     "name": "stdout",
     "output_type": "stream",
     "text": [
      "[CV]  n_estimators=80, criterion=entropy, max_depth=22, score=-0.647889 - 2.8min\n",
      "[CV] n_estimators=90, criterion=entropy, max_depth=22 ................\n"
     ]
    },
    {
     "name": "stderr",
     "output_type": "stream",
     "text": [
      "[Parallel(n_jobs=4)]: Done 1069 tasks      | elapsed: 859.4min\n"
     ]
    },
    {
     "name": "stdout",
     "output_type": "stream",
     "text": [
      "[CV]  n_estimators=80, criterion=entropy, max_depth=22, score=-0.662105 - 2.8min\n",
      "[CV] n_estimators=90, criterion=entropy, max_depth=22 ................\n"
     ]
    },
    {
     "name": "stderr",
     "output_type": "stream",
     "text": [
      "[Parallel(n_jobs=4)]: Done 1070 tasks      | elapsed: 860.0min\n"
     ]
    },
    {
     "name": "stdout",
     "output_type": "stream",
     "text": [
      "[CV]  n_estimators=90, criterion=entropy, max_depth=22, score=-0.648355 - 3.2min\n",
      "[CV] n_estimators=90, criterion=entropy, max_depth=22 ................\n"
     ]
    },
    {
     "name": "stderr",
     "output_type": "stream",
     "text": [
      "[Parallel(n_jobs=4)]: Done 1071 tasks      | elapsed: 861.0min\n"
     ]
    },
    {
     "name": "stdout",
     "output_type": "stream",
     "text": [
      "[CV]  n_estimators=90, criterion=entropy, max_depth=22, score=-0.638602 - 3.2min\n",
      "[CV] n_estimators=100, criterion=entropy, max_depth=22 ...............\n"
     ]
    },
    {
     "name": "stderr",
     "output_type": "stream",
     "text": [
      "[Parallel(n_jobs=4)]: Done 1072 tasks      | elapsed: 862.1min\n"
     ]
    },
    {
     "name": "stdout",
     "output_type": "stream",
     "text": [
      "[CV]  n_estimators=90, criterion=entropy, max_depth=22, score=-0.639672 - 3.2min\n",
      "[CV] n_estimators=100, criterion=entropy, max_depth=22 ...............\n"
     ]
    },
    {
     "name": "stderr",
     "output_type": "stream",
     "text": [
      "[Parallel(n_jobs=4)]: Done 1073 tasks      | elapsed: 862.6min\n"
     ]
    },
    {
     "name": "stdout",
     "output_type": "stream",
     "text": [
      "[CV]  n_estimators=90, criterion=entropy, max_depth=22, score=-0.647231 - 3.2min\n",
      "[CV] n_estimators=100, criterion=entropy, max_depth=22 ...............\n"
     ]
    },
    {
     "name": "stderr",
     "output_type": "stream",
     "text": [
      "[Parallel(n_jobs=4)]: Done 1074 tasks      | elapsed: 863.1min\n"
     ]
    },
    {
     "name": "stdout",
     "output_type": "stream",
     "text": [
      "[CV]  n_estimators=90, criterion=entropy, max_depth=22, score=-0.656615 - 3.2min\n",
      "[CV] n_estimators=100, criterion=entropy, max_depth=22 ...............\n"
     ]
    },
    {
     "name": "stderr",
     "output_type": "stream",
     "text": [
      "[Parallel(n_jobs=4)]: Done 1075 tasks      | elapsed: 864.1min\n"
     ]
    },
    {
     "name": "stdout",
     "output_type": "stream",
     "text": [
      "[CV]  n_estimators=100, criterion=entropy, max_depth=22, score=-0.650394 - 3.5min\n",
      "[CV] n_estimators=100, criterion=entropy, max_depth=22 ...............\n"
     ]
    },
    {
     "name": "stderr",
     "output_type": "stream",
     "text": [
      "[Parallel(n_jobs=4)]: Done 1076 tasks      | elapsed: 865.7min\n"
     ]
    },
    {
     "name": "stdout",
     "output_type": "stream",
     "text": [
      "[CV]  n_estimators=100, criterion=entropy, max_depth=22, score=-0.639345 - 3.5min\n",
      "[CV] n_estimators=110, criterion=entropy, max_depth=22 ...............\n"
     ]
    },
    {
     "name": "stderr",
     "output_type": "stream",
     "text": [
      "[Parallel(n_jobs=4)]: Done 1077 tasks      | elapsed: 866.1min\n"
     ]
    },
    {
     "name": "stdout",
     "output_type": "stream",
     "text": [
      "[CV]  n_estimators=100, criterion=entropy, max_depth=22, score=-0.637963 - 3.5min\n",
      "[CV] n_estimators=110, criterion=entropy, max_depth=22 ...............\n"
     ]
    },
    {
     "name": "stderr",
     "output_type": "stream",
     "text": [
      "[Parallel(n_jobs=4)]: Done 1078 tasks      | elapsed: 866.7min\n"
     ]
    },
    {
     "name": "stdout",
     "output_type": "stream",
     "text": [
      "[CV]  n_estimators=100, criterion=entropy, max_depth=22, score=-0.649881 - 3.5min\n",
      "[CV] n_estimators=110, criterion=entropy, max_depth=22 ...............\n"
     ]
    },
    {
     "name": "stderr",
     "output_type": "stream",
     "text": [
      "[Parallel(n_jobs=4)]: Done 1079 tasks      | elapsed: 867.7min\n"
     ]
    },
    {
     "name": "stdout",
     "output_type": "stream",
     "text": [
      "[CV]  n_estimators=100, criterion=entropy, max_depth=22, score=-0.657111 - 3.5min\n",
      "[CV] n_estimators=110, criterion=entropy, max_depth=22 ...............\n"
     ]
    },
    {
     "name": "stderr",
     "output_type": "stream",
     "text": [
      "[Parallel(n_jobs=4)]: Done 1080 tasks      | elapsed: 869.2min\n"
     ]
    },
    {
     "name": "stdout",
     "output_type": "stream",
     "text": [
      "[CV]  n_estimators=110, criterion=entropy, max_depth=22, score=-0.643727 - 3.8min\n",
      "[CV] n_estimators=110, criterion=entropy, max_depth=22 ...............\n"
     ]
    },
    {
     "name": "stderr",
     "output_type": "stream",
     "text": [
      "[Parallel(n_jobs=4)]: Done 1081 tasks      | elapsed: 869.9min\n"
     ]
    },
    {
     "name": "stdout",
     "output_type": "stream",
     "text": [
      "[CV]  n_estimators=110, criterion=entropy, max_depth=22, score=-0.637095 - 3.9min\n",
      "[CV] n_estimators=120, criterion=entropy, max_depth=22 ...............\n"
     ]
    },
    {
     "name": "stderr",
     "output_type": "stream",
     "text": [
      "[Parallel(n_jobs=4)]: Done 1082 tasks      | elapsed: 870.5min\n"
     ]
    },
    {
     "name": "stdout",
     "output_type": "stream",
     "text": [
      "[CV]  n_estimators=110, criterion=entropy, max_depth=22, score=-0.638674 - 3.9min\n",
      "[CV] n_estimators=120, criterion=entropy, max_depth=22 ...............\n"
     ]
    },
    {
     "name": "stderr",
     "output_type": "stream",
     "text": [
      "[Parallel(n_jobs=4)]: Done 1083 tasks      | elapsed: 871.5min\n"
     ]
    },
    {
     "name": "stdout",
     "output_type": "stream",
     "text": [
      "[CV]  n_estimators=110, criterion=entropy, max_depth=22, score=-0.644604 - 3.8min\n",
      "[CV] n_estimators=120, criterion=entropy, max_depth=22 ...............\n"
     ]
    },
    {
     "name": "stderr",
     "output_type": "stream",
     "text": [
      "[Parallel(n_jobs=4)]: Done 1084 tasks      | elapsed: 873.0min\n"
     ]
    },
    {
     "name": "stdout",
     "output_type": "stream",
     "text": [
      "[CV]  n_estimators=110, criterion=entropy, max_depth=22, score=-0.655539 - 3.8min\n",
      "[CV] n_estimators=120, criterion=entropy, max_depth=22 ...............\n"
     ]
    },
    {
     "name": "stderr",
     "output_type": "stream",
     "text": [
      "[Parallel(n_jobs=4)]: Done 1085 tasks      | elapsed: 873.8min\n"
     ]
    },
    {
     "name": "stdout",
     "output_type": "stream",
     "text": [
      "[CV]  n_estimators=120, criterion=entropy, max_depth=22, score=-0.648558 - 4.2min\n",
      "[CV] n_estimators=120, criterion=entropy, max_depth=22 ...............\n"
     ]
    },
    {
     "name": "stderr",
     "output_type": "stream",
     "text": [
      "[Parallel(n_jobs=4)]: Done 1086 tasks      | elapsed: 874.7min\n"
     ]
    },
    {
     "name": "stdout",
     "output_type": "stream",
     "text": [
      "[CV]  n_estimators=120, criterion=entropy, max_depth=22, score=-0.636352 - 4.2min\n",
      "[CV] n_estimators=130, criterion=entropy, max_depth=22 ...............\n"
     ]
    },
    {
     "name": "stderr",
     "output_type": "stream",
     "text": [
      "[Parallel(n_jobs=4)]: Done 1087 tasks      | elapsed: 875.7min\n"
     ]
    },
    {
     "name": "stdout",
     "output_type": "stream",
     "text": [
      "[CV]  n_estimators=120, criterion=entropy, max_depth=22, score=-0.641564 - 4.2min\n",
      "[CV] n_estimators=130, criterion=entropy, max_depth=22 ...............\n"
     ]
    },
    {
     "name": "stderr",
     "output_type": "stream",
     "text": [
      "[Parallel(n_jobs=4)]: Done 1088 tasks      | elapsed: 877.2min\n"
     ]
    },
    {
     "name": "stdout",
     "output_type": "stream",
     "text": [
      "[CV]  n_estimators=120, criterion=entropy, max_depth=22, score=-0.643681 - 4.2min\n",
      "[CV] n_estimators=130, criterion=entropy, max_depth=22 ...............\n"
     ]
    },
    {
     "name": "stderr",
     "output_type": "stream",
     "text": [
      "[Parallel(n_jobs=4)]: Done 1089 tasks      | elapsed: 877.9min\n"
     ]
    },
    {
     "name": "stdout",
     "output_type": "stream",
     "text": [
      "[CV]  n_estimators=120, criterion=entropy, max_depth=22, score=-0.654438 - 4.2min\n",
      "[CV] n_estimators=130, criterion=entropy, max_depth=22 ...............\n"
     ]
    },
    {
     "name": "stderr",
     "output_type": "stream",
     "text": [
      "[Parallel(n_jobs=4)]: Done 1090 tasks      | elapsed: 878.9min\n"
     ]
    },
    {
     "name": "stdout",
     "output_type": "stream",
     "text": [
      "[CV]  n_estimators=130, criterion=entropy, max_depth=22, score=-0.645233 - 4.6min\n",
      "[CV] n_estimators=130, criterion=entropy, max_depth=22 ...............\n"
     ]
    },
    {
     "name": "stderr",
     "output_type": "stream",
     "text": [
      "[Parallel(n_jobs=4)]: Done 1091 tasks      | elapsed: 880.3min\n"
     ]
    },
    {
     "name": "stdout",
     "output_type": "stream",
     "text": [
      "[CV]  n_estimators=130, criterion=entropy, max_depth=22, score=-0.639718 - 4.5min\n",
      "[CV] n_estimators=140, criterion=entropy, max_depth=22 ...............\n"
     ]
    },
    {
     "name": "stderr",
     "output_type": "stream",
     "text": [
      "[Parallel(n_jobs=4)]: Done 1092 tasks      | elapsed: 881.8min\n"
     ]
    },
    {
     "name": "stdout",
     "output_type": "stream",
     "text": [
      "[CV]  n_estimators=130, criterion=entropy, max_depth=22, score=-0.640186 - 4.5min\n",
      "[CV] n_estimators=140, criterion=entropy, max_depth=22 ...............\n"
     ]
    },
    {
     "name": "stderr",
     "output_type": "stream",
     "text": [
      "[Parallel(n_jobs=4)]: Done 1093 tasks      | elapsed: 882.5min\n"
     ]
    },
    {
     "name": "stdout",
     "output_type": "stream",
     "text": [
      "[CV]  n_estimators=130, criterion=entropy, max_depth=22, score=-0.643820 - 4.6min\n",
      "[CV] n_estimators=140, criterion=entropy, max_depth=22 ...............\n"
     ]
    },
    {
     "name": "stderr",
     "output_type": "stream",
     "text": [
      "[Parallel(n_jobs=4)]: Done 1094 tasks      | elapsed: 883.5min\n"
     ]
    },
    {
     "name": "stdout",
     "output_type": "stream",
     "text": [
      "[CV]  n_estimators=130, criterion=entropy, max_depth=22, score=-0.653064 - 4.5min\n",
      "[CV] n_estimators=140, criterion=entropy, max_depth=22 ...............\n"
     ]
    },
    {
     "name": "stderr",
     "output_type": "stream",
     "text": [
      "[Parallel(n_jobs=4)]: Done 1095 tasks      | elapsed: 884.8min\n"
     ]
    },
    {
     "name": "stdout",
     "output_type": "stream",
     "text": [
      "[CV]  n_estimators=140, criterion=entropy, max_depth=22, score=-0.645624 - 4.9min\n",
      "[CV] n_estimators=140, criterion=entropy, max_depth=22 ...............\n"
     ]
    },
    {
     "name": "stderr",
     "output_type": "stream",
     "text": [
      "[Parallel(n_jobs=4)]: Done 1096 tasks      | elapsed: 886.7min\n"
     ]
    },
    {
     "name": "stdout",
     "output_type": "stream",
     "text": [
      "[CV]  n_estimators=140, criterion=entropy, max_depth=22, score=-0.639042 - 4.9min\n",
      "[CV] n_estimators=50, criterion=entropy, max_depth=24 ................\n"
     ]
    },
    {
     "name": "stderr",
     "output_type": "stream",
     "text": [
      "[Parallel(n_jobs=4)]: Done 1097 tasks      | elapsed: 887.3min\n"
     ]
    },
    {
     "name": "stdout",
     "output_type": "stream",
     "text": [
      "[CV]  n_estimators=140, criterion=entropy, max_depth=22, score=-0.635706 - 4.9min\n",
      "[CV] n_estimators=50, criterion=entropy, max_depth=24 ................\n"
     ]
    },
    {
     "name": "stderr",
     "output_type": "stream",
     "text": [
      "[Parallel(n_jobs=4)]: Done 1098 tasks      | elapsed: 888.4min\n"
     ]
    },
    {
     "name": "stdout",
     "output_type": "stream",
     "text": [
      "[CV]  n_estimators=50, criterion=entropy, max_depth=24, score=-0.663168 - 1.9min\n",
      "[CV] n_estimators=50, criterion=entropy, max_depth=24 ................\n"
     ]
    },
    {
     "name": "stderr",
     "output_type": "stream",
     "text": [
      "[Parallel(n_jobs=4)]: Done 1099 tasks      | elapsed: 889.2min\n"
     ]
    },
    {
     "name": "stdout",
     "output_type": "stream",
     "text": [
      "[CV]  n_estimators=140, criterion=entropy, max_depth=22, score=-0.643729 - 4.9min\n",
      "[CV] n_estimators=50, criterion=entropy, max_depth=24 ................\n"
     ]
    },
    {
     "name": "stderr",
     "output_type": "stream",
     "text": [
      "[Parallel(n_jobs=4)]: Done 1100 tasks      | elapsed: 889.7min\n"
     ]
    },
    {
     "name": "stdout",
     "output_type": "stream",
     "text": [
      "[CV]  n_estimators=50, criterion=entropy, max_depth=24, score=-0.671625 - 1.9min\n",
      "[CV] n_estimators=50, criterion=entropy, max_depth=24 ................\n"
     ]
    },
    {
     "name": "stderr",
     "output_type": "stream",
     "text": [
      "[Parallel(n_jobs=4)]: Done 1101 tasks      | elapsed: 890.3min\n"
     ]
    },
    {
     "name": "stdout",
     "output_type": "stream",
     "text": [
      "[CV]  n_estimators=50, criterion=entropy, max_depth=24, score=-0.657081 - 1.9min\n",
      "[CV] n_estimators=60, criterion=entropy, max_depth=24 ................\n"
     ]
    },
    {
     "name": "stderr",
     "output_type": "stream",
     "text": [
      "[Parallel(n_jobs=4)]: Done 1102 tasks      | elapsed: 891.1min\n"
     ]
    },
    {
     "name": "stdout",
     "output_type": "stream",
     "text": [
      "[CV]  n_estimators=140, criterion=entropy, max_depth=22, score=-0.656284 - 4.9min\n",
      "[CV] n_estimators=60, criterion=entropy, max_depth=24 ................\n"
     ]
    },
    {
     "name": "stderr",
     "output_type": "stream",
     "text": [
      "[Parallel(n_jobs=4)]: Done 1103 tasks      | elapsed: 891.6min\n"
     ]
    },
    {
     "name": "stdout",
     "output_type": "stream",
     "text": [
      "[CV]  n_estimators=50, criterion=entropy, max_depth=24, score=-0.663807 - 1.9min\n",
      "[CV] n_estimators=60, criterion=entropy, max_depth=24 ................\n"
     ]
    },
    {
     "name": "stderr",
     "output_type": "stream",
     "text": [
      "[Parallel(n_jobs=4)]: Done 1104 tasks      | elapsed: 891.6min\n"
     ]
    },
    {
     "name": "stdout",
     "output_type": "stream",
     "text": [
      "[CV]  n_estimators=50, criterion=entropy, max_depth=24, score=-0.683335 - 1.9min\n",
      "[CV] n_estimators=60, criterion=entropy, max_depth=24 ................\n"
     ]
    },
    {
     "name": "stderr",
     "output_type": "stream",
     "text": [
      "[Parallel(n_jobs=4)]: Done 1105 tasks      | elapsed: 892.2min\n"
     ]
    },
    {
     "name": "stdout",
     "output_type": "stream",
     "text": [
      "[CV]  n_estimators=60, criterion=entropy, max_depth=24, score=-0.660063 - 2.3min\n",
      "[CV] n_estimators=60, criterion=entropy, max_depth=24 ................\n"
     ]
    },
    {
     "name": "stderr",
     "output_type": "stream",
     "text": [
      "[Parallel(n_jobs=4)]: Done 1106 tasks      | elapsed: 893.3min\n"
     ]
    },
    {
     "name": "stdout",
     "output_type": "stream",
     "text": [
      "[CV]  n_estimators=60, criterion=entropy, max_depth=24, score=-0.650922 - 2.2min\n",
      "[CV] n_estimators=70, criterion=entropy, max_depth=24 ................\n"
     ]
    },
    {
     "name": "stderr",
     "output_type": "stream",
     "text": [
      "[Parallel(n_jobs=4)]: Done 1107 tasks      | elapsed: 893.8min\n"
     ]
    },
    {
     "name": "stdout",
     "output_type": "stream",
     "text": [
      "[CV]  n_estimators=60, criterion=entropy, max_depth=24, score=-0.650932 - 2.2min\n",
      "[CV] n_estimators=70, criterion=entropy, max_depth=24 ................\n"
     ]
    },
    {
     "name": "stderr",
     "output_type": "stream",
     "text": [
      "[Parallel(n_jobs=4)]: Done 1108 tasks      | elapsed: 893.9min\n"
     ]
    },
    {
     "name": "stdout",
     "output_type": "stream",
     "text": [
      "[CV]  n_estimators=60, criterion=entropy, max_depth=24, score=-0.653465 - 2.2min\n",
      "[CV] n_estimators=70, criterion=entropy, max_depth=24 ................\n"
     ]
    },
    {
     "name": "stderr",
     "output_type": "stream",
     "text": [
      "[Parallel(n_jobs=4)]: Done 1109 tasks      | elapsed: 894.4min\n"
     ]
    },
    {
     "name": "stdout",
     "output_type": "stream",
     "text": [
      "[CV]  n_estimators=60, criterion=entropy, max_depth=24, score=-0.671049 - 2.3min\n",
      "[CV] n_estimators=70, criterion=entropy, max_depth=24 ................\n"
     ]
    },
    {
     "name": "stderr",
     "output_type": "stream",
     "text": [
      "[Parallel(n_jobs=4)]: Done 1110 tasks      | elapsed: 895.6min\n"
     ]
    },
    {
     "name": "stdout",
     "output_type": "stream",
     "text": [
      "[CV]  n_estimators=70, criterion=entropy, max_depth=24, score=-0.661033 - 2.6min\n",
      "[CV] n_estimators=70, criterion=entropy, max_depth=24 ................\n"
     ]
    },
    {
     "name": "stderr",
     "output_type": "stream",
     "text": [
      "[Parallel(n_jobs=4)]: Done 1111 tasks      | elapsed: 896.5min\n"
     ]
    },
    {
     "name": "stdout",
     "output_type": "stream",
     "text": [
      "[CV]  n_estimators=70, criterion=entropy, max_depth=24, score=-0.647840 - 2.6min\n",
      "[CV] n_estimators=80, criterion=entropy, max_depth=24 ................\n"
     ]
    },
    {
     "name": "stderr",
     "output_type": "stream",
     "text": [
      "[Parallel(n_jobs=4)]: Done 1112 tasks      | elapsed: 896.5min\n"
     ]
    },
    {
     "name": "stdout",
     "output_type": "stream",
     "text": [
      "[CV]  n_estimators=70, criterion=entropy, max_depth=24, score=-0.654961 - 2.6min\n",
      "[CV] n_estimators=80, criterion=entropy, max_depth=24 ................\n"
     ]
    },
    {
     "name": "stderr",
     "output_type": "stream",
     "text": [
      "[Parallel(n_jobs=4)]: Done 1113 tasks      | elapsed: 897.1min\n"
     ]
    },
    {
     "name": "stdout",
     "output_type": "stream",
     "text": [
      "[CV]  n_estimators=70, criterion=entropy, max_depth=24, score=-0.650025 - 2.6min\n",
      "[CV] n_estimators=80, criterion=entropy, max_depth=24 ................\n"
     ]
    },
    {
     "name": "stderr",
     "output_type": "stream",
     "text": [
      "[Parallel(n_jobs=4)]: Done 1114 tasks      | elapsed: 898.2min\n"
     ]
    },
    {
     "name": "stdout",
     "output_type": "stream",
     "text": [
      "[CV]  n_estimators=70, criterion=entropy, max_depth=24, score=-0.669056 - 2.6min\n",
      "[CV] n_estimators=80, criterion=entropy, max_depth=24 ................\n"
     ]
    },
    {
     "name": "stderr",
     "output_type": "stream",
     "text": [
      "[Parallel(n_jobs=4)]: Done 1115 tasks      | elapsed: 899.1min\n"
     ]
    },
    {
     "name": "stdout",
     "output_type": "stream",
     "text": [
      "[CV]  n_estimators=80, criterion=entropy, max_depth=24, score=-0.656840 - 3.0min\n",
      "[CV] n_estimators=80, criterion=entropy, max_depth=24 ................\n"
     ]
    },
    {
     "name": "stderr",
     "output_type": "stream",
     "text": [
      "[Parallel(n_jobs=4)]: Done 1116 tasks      | elapsed: 899.5min\n"
     ]
    },
    {
     "name": "stdout",
     "output_type": "stream",
     "text": [
      "[CV]  n_estimators=80, criterion=entropy, max_depth=24, score=-0.643008 - 3.0min\n",
      "[CV] n_estimators=90, criterion=entropy, max_depth=24 ................\n"
     ]
    },
    {
     "name": "stderr",
     "output_type": "stream",
     "text": [
      "[Parallel(n_jobs=4)]: Done 1117 tasks      | elapsed: 900.1min\n"
     ]
    },
    {
     "name": "stdout",
     "output_type": "stream",
     "text": [
      "[CV]  n_estimators=80, criterion=entropy, max_depth=24, score=-0.648151 - 3.0min\n",
      "[CV] n_estimators=90, criterion=entropy, max_depth=24 ................\n"
     ]
    },
    {
     "name": "stderr",
     "output_type": "stream",
     "text": [
      "[Parallel(n_jobs=4)]: Done 1118 tasks      | elapsed: 901.2min\n"
     ]
    },
    {
     "name": "stdout",
     "output_type": "stream",
     "text": [
      "[CV]  n_estimators=80, criterion=entropy, max_depth=24, score=-0.647856 - 3.0min\n",
      "[CV] n_estimators=90, criterion=entropy, max_depth=24 ................\n"
     ]
    },
    {
     "name": "stderr",
     "output_type": "stream",
     "text": [
      "[Parallel(n_jobs=4)]: Done 1119 tasks      | elapsed: 902.1min\n"
     ]
    },
    {
     "name": "stdout",
     "output_type": "stream",
     "text": [
      "[CV]  n_estimators=80, criterion=entropy, max_depth=24, score=-0.656771 - 3.0min\n",
      "[CV] n_estimators=90, criterion=entropy, max_depth=24 ................\n"
     ]
    },
    {
     "name": "stderr",
     "output_type": "stream",
     "text": [
      "[Parallel(n_jobs=4)]: Done 1120 tasks      | elapsed: 902.5min\n"
     ]
    },
    {
     "name": "stdout",
     "output_type": "stream",
     "text": [
      "[CV]  n_estimators=90, criterion=entropy, max_depth=24, score=-0.652406 - 3.5min\n",
      "[CV] n_estimators=90, criterion=entropy, max_depth=24 ................\n"
     ]
    },
    {
     "name": "stderr",
     "output_type": "stream",
     "text": [
      "[Parallel(n_jobs=4)]: Done 1121 tasks      | elapsed: 903.6min\n"
     ]
    },
    {
     "name": "stdout",
     "output_type": "stream",
     "text": [
      "[CV]  n_estimators=90, criterion=entropy, max_depth=24, score=-0.642445 - 3.7min\n",
      "[CV] n_estimators=100, criterion=entropy, max_depth=24 ...............\n"
     ]
    },
    {
     "name": "stderr",
     "output_type": "stream",
     "text": [
      "[Parallel(n_jobs=4)]: Done 1122 tasks      | elapsed: 904.9min\n"
     ]
    },
    {
     "name": "stdout",
     "output_type": "stream",
     "text": [
      "[CV]  n_estimators=90, criterion=entropy, max_depth=24, score=-0.647150 - 3.9min\n",
      "[CV] n_estimators=100, criterion=entropy, max_depth=24 ...............\n"
     ]
    },
    {
     "name": "stderr",
     "output_type": "stream",
     "text": [
      "[Parallel(n_jobs=4)]: Done 1123 tasks      | elapsed: 906.0min\n"
     ]
    },
    {
     "name": "stdout",
     "output_type": "stream",
     "text": [
      "[CV]  n_estimators=90, criterion=entropy, max_depth=24, score=-0.645689 - 3.9min\n",
      "[CV] n_estimators=100, criterion=entropy, max_depth=24 ...............\n"
     ]
    },
    {
     "name": "stderr",
     "output_type": "stream",
     "text": [
      "[Parallel(n_jobs=4)]: Done 1124 tasks      | elapsed: 906.4min\n"
     ]
    },
    {
     "name": "stdout",
     "output_type": "stream",
     "text": [
      "[CV]  n_estimators=90, criterion=entropy, max_depth=24, score=-0.660230 - 3.7min\n",
      "[CV] n_estimators=100, criterion=entropy, max_depth=24 ...............\n"
     ]
    },
    {
     "name": "stderr",
     "output_type": "stream",
     "text": [
      "[Parallel(n_jobs=4)]: Done 1125 tasks      | elapsed: 907.3min\n"
     ]
    },
    {
     "name": "stdout",
     "output_type": "stream",
     "text": [
      "[CV]  n_estimators=100, criterion=entropy, max_depth=24, score=-0.649623 - 3.9min\n",
      "[CV] n_estimators=100, criterion=entropy, max_depth=24 ...............\n"
     ]
    },
    {
     "name": "stderr",
     "output_type": "stream",
     "text": [
      "[Parallel(n_jobs=4)]: Done 1126 tasks      | elapsed: 908.9min\n"
     ]
    },
    {
     "name": "stdout",
     "output_type": "stream",
     "text": [
      "[CV]  n_estimators=100, criterion=entropy, max_depth=24, score=-0.641731 - 3.7min\n",
      "[CV] n_estimators=110, criterion=entropy, max_depth=24 ...............\n"
     ]
    },
    {
     "name": "stderr",
     "output_type": "stream",
     "text": [
      "[Parallel(n_jobs=4)]: Done 1127 tasks      | elapsed: 909.7min\n"
     ]
    },
    {
     "name": "stdout",
     "output_type": "stream",
     "text": [
      "[CV]  n_estimators=100, criterion=entropy, max_depth=24, score=-0.646555 - 3.8min\n",
      "[CV] n_estimators=110, criterion=entropy, max_depth=24 ...............\n"
     ]
    },
    {
     "name": "stderr",
     "output_type": "stream",
     "text": [
      "[Parallel(n_jobs=4)]: Done 1128 tasks      | elapsed: 910.1min\n"
     ]
    },
    {
     "name": "stdout",
     "output_type": "stream",
     "text": [
      "[CV]  n_estimators=100, criterion=entropy, max_depth=24, score=-0.652583 - 3.8min\n",
      "[CV] n_estimators=110, criterion=entropy, max_depth=24 ...............\n"
     ]
    },
    {
     "name": "stderr",
     "output_type": "stream",
     "text": [
      "[Parallel(n_jobs=4)]: Done 1129 tasks      | elapsed: 911.1min\n"
     ]
    },
    {
     "name": "stdout",
     "output_type": "stream",
     "text": [
      "[CV]  n_estimators=100, criterion=entropy, max_depth=24, score=-0.658680 - 3.7min\n",
      "[CV] n_estimators=110, criterion=entropy, max_depth=24 ...............\n"
     ]
    },
    {
     "name": "stderr",
     "output_type": "stream",
     "text": [
      "[Parallel(n_jobs=4)]: Done 1130 tasks      | elapsed: 912.6min\n"
     ]
    },
    {
     "name": "stdout",
     "output_type": "stream",
     "text": [
      "[CV]  n_estimators=110, criterion=entropy, max_depth=24, score=-0.647879 - 4.1min\n",
      "[CV] n_estimators=110, criterion=entropy, max_depth=24 ...............\n"
     ]
    },
    {
     "name": "stderr",
     "output_type": "stream",
     "text": [
      "[Parallel(n_jobs=4)]: Done 1131 tasks      | elapsed: 913.8min\n"
     ]
    },
    {
     "name": "stdout",
     "output_type": "stream",
     "text": [
      "[CV]  n_estimators=110, criterion=entropy, max_depth=24, score=-0.638443 - 4.1min\n",
      "[CV] n_estimators=120, criterion=entropy, max_depth=24 ...............\n"
     ]
    },
    {
     "name": "stderr",
     "output_type": "stream",
     "text": [
      "[Parallel(n_jobs=4)]: Done 1132 tasks      | elapsed: 914.2min\n"
     ]
    },
    {
     "name": "stdout",
     "output_type": "stream",
     "text": [
      "[CV]  n_estimators=110, criterion=entropy, max_depth=24, score=-0.646100 - 4.1min\n",
      "[CV] n_estimators=120, criterion=entropy, max_depth=24 ...............\n"
     ]
    },
    {
     "name": "stderr",
     "output_type": "stream",
     "text": [
      "[Parallel(n_jobs=4)]: Done 1133 tasks      | elapsed: 915.2min\n"
     ]
    },
    {
     "name": "stdout",
     "output_type": "stream",
     "text": [
      "[CV]  n_estimators=110, criterion=entropy, max_depth=24, score=-0.645962 - 4.1min\n",
      "[CV] n_estimators=120, criterion=entropy, max_depth=24 ...............\n"
     ]
    },
    {
     "name": "stderr",
     "output_type": "stream",
     "text": [
      "[Parallel(n_jobs=4)]: Done 1134 tasks      | elapsed: 916.7min\n"
     ]
    },
    {
     "name": "stdout",
     "output_type": "stream",
     "text": [
      "[CV]  n_estimators=110, criterion=entropy, max_depth=24, score=-0.653127 - 4.1min\n",
      "[CV] n_estimators=120, criterion=entropy, max_depth=24 ...............\n"
     ]
    },
    {
     "name": "stderr",
     "output_type": "stream",
     "text": [
      "[Parallel(n_jobs=4)]: Done 1135 tasks      | elapsed: 918.0min\n"
     ]
    },
    {
     "name": "stdout",
     "output_type": "stream",
     "text": [
      "[CV]  n_estimators=120, criterion=entropy, max_depth=24, score=-0.649696 - 4.5min\n",
      "[CV] n_estimators=120, criterion=entropy, max_depth=24 ...............\n"
     ]
    },
    {
     "name": "stderr",
     "output_type": "stream",
     "text": [
      "[Parallel(n_jobs=4)]: Done 1136 tasks      | elapsed: 918.8min\n"
     ]
    },
    {
     "name": "stdout",
     "output_type": "stream",
     "text": [
      "[CV]  n_estimators=120, criterion=entropy, max_depth=24, score=-0.637861 - 4.5min\n",
      "[CV] n_estimators=130, criterion=entropy, max_depth=24 ...............\n"
     ]
    },
    {
     "name": "stderr",
     "output_type": "stream",
     "text": [
      "[Parallel(n_jobs=4)]: Done 1137 tasks      | elapsed: 919.7min\n"
     ]
    },
    {
     "name": "stdout",
     "output_type": "stream",
     "text": [
      "[CV]  n_estimators=120, criterion=entropy, max_depth=24, score=-0.642023 - 4.6min\n",
      "[CV] n_estimators=130, criterion=entropy, max_depth=24 ...............\n"
     ]
    },
    {
     "name": "stderr",
     "output_type": "stream",
     "text": [
      "[Parallel(n_jobs=4)]: Done 1138 tasks      | elapsed: 921.3min\n"
     ]
    },
    {
     "name": "stdout",
     "output_type": "stream",
     "text": [
      "[CV]  n_estimators=120, criterion=entropy, max_depth=24, score=-0.646240 - 4.6min\n",
      "[CV] n_estimators=130, criterion=entropy, max_depth=24 ...............\n"
     ]
    },
    {
     "name": "stderr",
     "output_type": "stream",
     "text": [
      "[Parallel(n_jobs=4)]: Done 1139 tasks      | elapsed: 922.6min\n"
     ]
    },
    {
     "name": "stdout",
     "output_type": "stream",
     "text": [
      "[CV]  n_estimators=120, criterion=entropy, max_depth=24, score=-0.655500 - 4.7min\n",
      "[CV] n_estimators=130, criterion=entropy, max_depth=24 ...............\n"
     ]
    },
    {
     "name": "stderr",
     "output_type": "stream",
     "text": [
      "[Parallel(n_jobs=4)]: Done 1140 tasks      | elapsed: 923.5min\n"
     ]
    },
    {
     "name": "stdout",
     "output_type": "stream",
     "text": [
      "[CV]  n_estimators=130, criterion=entropy, max_depth=24, score=-0.645628 - 5.2min\n",
      "[CV] n_estimators=130, criterion=entropy, max_depth=24 ...............\n"
     ]
    },
    {
     "name": "stderr",
     "output_type": "stream",
     "text": [
      "[Parallel(n_jobs=4)]: Done 1141 tasks      | elapsed: 924.9min\n"
     ]
    },
    {
     "name": "stdout",
     "output_type": "stream",
     "text": [
      "[CV]  n_estimators=130, criterion=entropy, max_depth=24, score=-0.637089 - 5.4min\n",
      "[CV] n_estimators=140, criterion=entropy, max_depth=24 ...............\n"
     ]
    },
    {
     "name": "stderr",
     "output_type": "stream",
     "text": [
      "[Parallel(n_jobs=4)]: Done 1142 tasks      | elapsed: 926.7min\n"
     ]
    },
    {
     "name": "stdout",
     "output_type": "stream",
     "text": [
      "[CV]  n_estimators=130, criterion=entropy, max_depth=24, score=-0.641778 - 5.5min\n",
      "[CV] n_estimators=140, criterion=entropy, max_depth=24 ...............\n"
     ]
    },
    {
     "name": "stderr",
     "output_type": "stream",
     "text": [
      "[Parallel(n_jobs=4)]: Done 1143 tasks      | elapsed: 928.1min\n"
     ]
    },
    {
     "name": "stdout",
     "output_type": "stream",
     "text": [
      "[CV]  n_estimators=130, criterion=entropy, max_depth=24, score=-0.648448 - 5.4min\n",
      "[CV] n_estimators=140, criterion=entropy, max_depth=24 ...............\n"
     ]
    },
    {
     "name": "stderr",
     "output_type": "stream",
     "text": [
      "[Parallel(n_jobs=4)]: Done 1144 tasks      | elapsed: 928.9min\n"
     ]
    },
    {
     "name": "stdout",
     "output_type": "stream",
     "text": [
      "[CV]  n_estimators=130, criterion=entropy, max_depth=24, score=-0.655332 - 5.6min\n",
      "[CV] n_estimators=140, criterion=entropy, max_depth=24 ...............\n"
     ]
    },
    {
     "name": "stderr",
     "output_type": "stream",
     "text": [
      "[Parallel(n_jobs=4)]: Done 1145 tasks      | elapsed: 930.5min\n"
     ]
    },
    {
     "name": "stdout",
     "output_type": "stream",
     "text": [
      "[CV]  n_estimators=140, criterion=entropy, max_depth=24, score=-0.645026 - 5.9min\n",
      "[CV] n_estimators=140, criterion=entropy, max_depth=24 ...............\n"
     ]
    },
    {
     "name": "stderr",
     "output_type": "stream",
     "text": [
      "[Parallel(n_jobs=4)]: Done 1146 tasks      | elapsed: 932.6min\n"
     ]
    },
    {
     "name": "stdout",
     "output_type": "stream",
     "text": [
      "[CV]  n_estimators=140, criterion=entropy, max_depth=24, score=-0.640708 - 5.9min\n",
      "[CV] n_estimators=50, criterion=entropy, max_depth=26 ................\n"
     ]
    },
    {
     "name": "stderr",
     "output_type": "stream",
     "text": [
      "[Parallel(n_jobs=4)]: Done 1147 tasks      | elapsed: 934.0min\n"
     ]
    },
    {
     "name": "stdout",
     "output_type": "stream",
     "text": [
      "[CV]  n_estimators=140, criterion=entropy, max_depth=24, score=-0.637817 - 6.0min\n",
      "[CV] n_estimators=50, criterion=entropy, max_depth=26 ................\n"
     ]
    },
    {
     "name": "stderr",
     "output_type": "stream",
     "text": [
      "[Parallel(n_jobs=4)]: Done 1148 tasks      | elapsed: 934.9min\n"
     ]
    },
    {
     "name": "stdout",
     "output_type": "stream",
     "text": [
      "[CV]  n_estimators=50, criterion=entropy, max_depth=26, score=-0.676383 - 2.3min\n",
      "[CV] n_estimators=50, criterion=entropy, max_depth=26 ................\n"
     ]
    },
    {
     "name": "stderr",
     "output_type": "stream",
     "text": [
      "[Parallel(n_jobs=4)]: Done 1149 tasks      | elapsed: 936.3min\n"
     ]
    },
    {
     "name": "stdout",
     "output_type": "stream",
     "text": [
      "[CV]  n_estimators=140, criterion=entropy, max_depth=24, score=-0.644234 - 6.0min\n",
      "[CV] n_estimators=50, criterion=entropy, max_depth=26 ................\n"
     ]
    },
    {
     "name": "stderr",
     "output_type": "stream",
     "text": [
      "[Parallel(n_jobs=4)]: Done 1150 tasks      | elapsed: 936.4min\n"
     ]
    },
    {
     "name": "stdout",
     "output_type": "stream",
     "text": [
      "[CV]  n_estimators=50, criterion=entropy, max_depth=26, score=-0.667696 - 2.3min\n",
      "[CV] n_estimators=50, criterion=entropy, max_depth=26 ................\n"
     ]
    },
    {
     "name": "stderr",
     "output_type": "stream",
     "text": [
      "[Parallel(n_jobs=4)]: Done 1151 tasks      | elapsed: 937.2min\n"
     ]
    },
    {
     "name": "stdout",
     "output_type": "stream",
     "text": [
      "[CV]  n_estimators=50, criterion=entropy, max_depth=26, score=-0.669071 - 2.3min\n",
      "[CV] n_estimators=60, criterion=entropy, max_depth=26 ................\n"
     ]
    },
    {
     "name": "stderr",
     "output_type": "stream",
     "text": [
      "[Parallel(n_jobs=4)]: Done 1152 tasks      | elapsed: 938.6min\n"
     ]
    },
    {
     "name": "stdout",
     "output_type": "stream",
     "text": [
      "[CV]  n_estimators=140, criterion=entropy, max_depth=24, score=-0.658015 - 6.0min\n",
      "[CV] n_estimators=60, criterion=entropy, max_depth=26 ................\n"
     ]
    },
    {
     "name": "stderr",
     "output_type": "stream",
     "text": [
      "[Parallel(n_jobs=4)]: Done 1153 tasks      | elapsed: 938.7min\n"
     ]
    },
    {
     "name": "stdout",
     "output_type": "stream",
     "text": [
      "[CV]  n_estimators=50, criterion=entropy, max_depth=26, score=-0.672977 - 2.3min\n",
      "[CV] n_estimators=60, criterion=entropy, max_depth=26 ................\n"
     ]
    },
    {
     "name": "stderr",
     "output_type": "stream",
     "text": [
      "[Parallel(n_jobs=4)]: Done 1154 tasks      | elapsed: 938.7min\n"
     ]
    },
    {
     "name": "stdout",
     "output_type": "stream",
     "text": [
      "[CV]  n_estimators=50, criterion=entropy, max_depth=26, score=-0.679509 - 2.3min\n",
      "[CV] n_estimators=60, criterion=entropy, max_depth=26 ................\n"
     ]
    },
    {
     "name": "stderr",
     "output_type": "stream",
     "text": [
      "[Parallel(n_jobs=4)]: Done 1155 tasks      | elapsed: 939.4min\n"
     ]
    },
    {
     "name": "stdout",
     "output_type": "stream",
     "text": [
      "[CV]  n_estimators=60, criterion=entropy, max_depth=26, score=-0.668974 - 2.7min\n",
      "[CV] n_estimators=60, criterion=entropy, max_depth=26 ................\n"
     ]
    },
    {
     "name": "stderr",
     "output_type": "stream",
     "text": [
      "[Parallel(n_jobs=4)]: Done 1156 tasks      | elapsed: 941.3min\n"
     ]
    },
    {
     "name": "stdout",
     "output_type": "stream",
     "text": [
      "[CV]  n_estimators=60, criterion=entropy, max_depth=26, score=-0.653839 - 2.7min\n",
      "[CV] n_estimators=70, criterion=entropy, max_depth=26 ................\n"
     ]
    },
    {
     "name": "stderr",
     "output_type": "stream",
     "text": [
      "[Parallel(n_jobs=4)]: Done 1157 tasks      | elapsed: 941.4min\n"
     ]
    },
    {
     "name": "stdout",
     "output_type": "stream",
     "text": [
      "[CV]  n_estimators=60, criterion=entropy, max_depth=26, score=-0.662304 - 2.7min\n",
      "[CV] n_estimators=70, criterion=entropy, max_depth=26 ................\n"
     ]
    },
    {
     "name": "stderr",
     "output_type": "stream",
     "text": [
      "[Parallel(n_jobs=4)]: Done 1158 tasks      | elapsed: 941.4min\n"
     ]
    },
    {
     "name": "stdout",
     "output_type": "stream",
     "text": [
      "[CV]  n_estimators=60, criterion=entropy, max_depth=26, score=-0.673920 - 2.7min\n",
      "[CV] n_estimators=70, criterion=entropy, max_depth=26 ................\n"
     ]
    },
    {
     "name": "stderr",
     "output_type": "stream",
     "text": [
      "[Parallel(n_jobs=4)]: Done 1159 tasks      | elapsed: 942.1min\n"
     ]
    },
    {
     "name": "stdout",
     "output_type": "stream",
     "text": [
      "[CV]  n_estimators=60, criterion=entropy, max_depth=26, score=-0.680163 - 2.5min\n",
      "[CV] n_estimators=70, criterion=entropy, max_depth=26 ................\n"
     ]
    },
    {
     "name": "stderr",
     "output_type": "stream",
     "text": [
      "[Parallel(n_jobs=4)]: Done 1160 tasks      | elapsed: 943.8min\n"
     ]
    },
    {
     "name": "stdout",
     "output_type": "stream",
     "text": [
      "[CV]  n_estimators=70, criterion=entropy, max_depth=26, score=-0.664846 - 2.9min\n",
      "[CV] n_estimators=70, criterion=entropy, max_depth=26 ................\n"
     ]
    },
    {
     "name": "stderr",
     "output_type": "stream",
     "text": [
      "[Parallel(n_jobs=4)]: Done 1161 tasks      | elapsed: 944.3min\n"
     ]
    },
    {
     "name": "stdout",
     "output_type": "stream",
     "text": [
      "[CV]  n_estimators=70, criterion=entropy, max_depth=26, score=-0.647470 - 2.9min\n",
      "[CV] n_estimators=80, criterion=entropy, max_depth=26 ................\n"
     ]
    },
    {
     "name": "stderr",
     "output_type": "stream",
     "text": [
      "[Parallel(n_jobs=4)]: Done 1162 tasks      | elapsed: 944.3min\n"
     ]
    },
    {
     "name": "stdout",
     "output_type": "stream",
     "text": [
      "[CV]  n_estimators=70, criterion=entropy, max_depth=26, score=-0.653958 - 3.0min\n",
      "[CV] n_estimators=80, criterion=entropy, max_depth=26 ................\n"
     ]
    },
    {
     "name": "stderr",
     "output_type": "stream",
     "text": [
      "[Parallel(n_jobs=4)]: Done 1163 tasks      | elapsed: 945.1min\n"
     ]
    },
    {
     "name": "stdout",
     "output_type": "stream",
     "text": [
      "[CV]  n_estimators=70, criterion=entropy, max_depth=26, score=-0.652753 - 2.9min\n",
      "[CV] n_estimators=80, criterion=entropy, max_depth=26 ................\n"
     ]
    },
    {
     "name": "stderr",
     "output_type": "stream",
     "text": [
      "[Parallel(n_jobs=4)]: Done 1164 tasks      | elapsed: 946.7min\n"
     ]
    },
    {
     "name": "stdout",
     "output_type": "stream",
     "text": [
      "[CV]  n_estimators=70, criterion=entropy, max_depth=26, score=-0.682130 - 2.9min\n",
      "[CV] n_estimators=80, criterion=entropy, max_depth=26 ................\n"
     ]
    },
    {
     "name": "stderr",
     "output_type": "stream",
     "text": [
      "[Parallel(n_jobs=4)]: Done 1165 tasks      | elapsed: 947.2min\n"
     ]
    },
    {
     "name": "stdout",
     "output_type": "stream",
     "text": [
      "[CV]  n_estimators=80, criterion=entropy, max_depth=26, score=-0.655378 - 3.3min\n",
      "[CV] n_estimators=80, criterion=entropy, max_depth=26 ................\n"
     ]
    },
    {
     "name": "stderr",
     "output_type": "stream",
     "text": [
      "[Parallel(n_jobs=4)]: Done 1166 tasks      | elapsed: 947.6min\n"
     ]
    },
    {
     "name": "stdout",
     "output_type": "stream",
     "text": [
      "[CV]  n_estimators=80, criterion=entropy, max_depth=26, score=-0.646509 - 3.2min\n",
      "[CV] n_estimators=90, criterion=entropy, max_depth=26 ................\n"
     ]
    },
    {
     "name": "stderr",
     "output_type": "stream",
     "text": [
      "[Parallel(n_jobs=4)]: Done 1167 tasks      | elapsed: 948.3min\n"
     ]
    },
    {
     "name": "stdout",
     "output_type": "stream",
     "text": [
      "[CV]  n_estimators=80, criterion=entropy, max_depth=26, score=-0.644925 - 3.2min\n",
      "[CV] n_estimators=90, criterion=entropy, max_depth=26 ................\n"
     ]
    },
    {
     "name": "stderr",
     "output_type": "stream",
     "text": [
      "[Parallel(n_jobs=4)]: Done 1168 tasks      | elapsed: 949.9min\n"
     ]
    },
    {
     "name": "stdout",
     "output_type": "stream",
     "text": [
      "[CV]  n_estimators=80, criterion=entropy, max_depth=26, score=-0.653562 - 3.1min\n",
      "[CV] n_estimators=90, criterion=entropy, max_depth=26 ................\n"
     ]
    },
    {
     "name": "stderr",
     "output_type": "stream",
     "text": [
      "[Parallel(n_jobs=4)]: Done 1169 tasks      | elapsed: 950.3min\n"
     ]
    },
    {
     "name": "stdout",
     "output_type": "stream",
     "text": [
      "[CV]  n_estimators=80, criterion=entropy, max_depth=26, score=-0.677976 - 3.3min\n",
      "[CV] n_estimators=90, criterion=entropy, max_depth=26 ................\n"
     ]
    },
    {
     "name": "stderr",
     "output_type": "stream",
     "text": [
      "[Parallel(n_jobs=4)]: Done 1170 tasks      | elapsed: 950.9min\n"
     ]
    },
    {
     "name": "stdout",
     "output_type": "stream",
     "text": [
      "[CV]  n_estimators=90, criterion=entropy, max_depth=26, score=-0.653689 - 4.0min\n"
     ]
    },
    {
     "name": "stderr",
     "output_type": "stream",
     "text": [
      "[Parallel(n_jobs=4)]: Done 1171 tasks      | elapsed: 952.3min\n"
     ]
    },
    {
     "name": "stdout",
     "output_type": "stream",
     "text": [
      "[CV] n_estimators=90, criterion=entropy, max_depth=26 ................\n",
      "[CV]  n_estimators=90, criterion=entropy, max_depth=26, score=-0.643924 - 4.3min\n",
      "[CV] n_estimators=100, criterion=entropy, max_depth=26 ...............\n"
     ]
    },
    {
     "name": "stderr",
     "output_type": "stream",
     "text": [
      "[Parallel(n_jobs=4)]: Done 1172 tasks      | elapsed: 954.1min\n"
     ]
    },
    {
     "name": "stdout",
     "output_type": "stream",
     "text": [
      "[CV]  n_estimators=90, criterion=entropy, max_depth=26, score=-0.644053 - 4.3min\n",
      "[CV] n_estimators=100, criterion=entropy, max_depth=26 ...............\n"
     ]
    },
    {
     "name": "stderr",
     "output_type": "stream",
     "text": [
      "[Parallel(n_jobs=4)]: Done 1173 tasks      | elapsed: 954.7min\n"
     ]
    },
    {
     "name": "stdout",
     "output_type": "stream",
     "text": [
      "[CV]  n_estimators=90, criterion=entropy, max_depth=26, score=-0.655822 - 4.3min\n",
      "[CV] n_estimators=100, criterion=entropy, max_depth=26 ...............\n"
     ]
    },
    {
     "name": "stderr",
     "output_type": "stream",
     "text": [
      "[Parallel(n_jobs=4)]: Done 1174 tasks      | elapsed: 955.2min\n"
     ]
    },
    {
     "name": "stdout",
     "output_type": "stream",
     "text": [
      "[CV]  n_estimators=90, criterion=entropy, max_depth=26, score=-0.664332 - 4.2min\n",
      "[CV] n_estimators=100, criterion=entropy, max_depth=26 ...............\n"
     ]
    },
    {
     "name": "stderr",
     "output_type": "stream",
     "text": [
      "[Parallel(n_jobs=4)]: Done 1175 tasks      | elapsed: 956.5min\n"
     ]
    },
    {
     "name": "stdout",
     "output_type": "stream",
     "text": [
      "[CV]  n_estimators=100, criterion=entropy, max_depth=26, score=-0.657393 - 5.0min\n",
      "[CV] n_estimators=100, criterion=entropy, max_depth=26 ...............\n"
     ]
    },
    {
     "name": "stderr",
     "output_type": "stream",
     "text": [
      "[Parallel(n_jobs=4)]: Done 1176 tasks      | elapsed: 959.2min\n"
     ]
    },
    {
     "name": "stdout",
     "output_type": "stream",
     "text": [
      "[CV]  n_estimators=100, criterion=entropy, max_depth=26, score=-0.644172 - 5.2min\n",
      "[CV] n_estimators=110, criterion=entropy, max_depth=26 ...............\n"
     ]
    },
    {
     "name": "stderr",
     "output_type": "stream",
     "text": [
      "[Parallel(n_jobs=4)]: Done 1177 tasks      | elapsed: 959.9min\n"
     ]
    },
    {
     "name": "stdout",
     "output_type": "stream",
     "text": [
      "[CV]  n_estimators=100, criterion=entropy, max_depth=26, score=-0.649324 - 5.3min\n",
      "[CV] n_estimators=110, criterion=entropy, max_depth=26 ...............\n"
     ]
    },
    {
     "name": "stderr",
     "output_type": "stream",
     "text": [
      "[Parallel(n_jobs=4)]: Done 1178 tasks      | elapsed: 960.5min\n"
     ]
    },
    {
     "name": "stdout",
     "output_type": "stream",
     "text": [
      "[CV]  n_estimators=100, criterion=entropy, max_depth=26, score=-0.650130 - 5.4min\n",
      "[CV] n_estimators=110, criterion=entropy, max_depth=26 ...............\n"
     ]
    },
    {
     "name": "stderr",
     "output_type": "stream",
     "text": [
      "[Parallel(n_jobs=4)]: Done 1179 tasks      | elapsed: 961.9min\n"
     ]
    },
    {
     "name": "stdout",
     "output_type": "stream",
     "text": [
      "[CV]  n_estimators=100, criterion=entropy, max_depth=26, score=-0.660190 - 5.5min\n",
      "[CV] n_estimators=110, criterion=entropy, max_depth=26 ...............\n"
     ]
    },
    {
     "name": "stderr",
     "output_type": "stream",
     "text": [
      "[Parallel(n_jobs=4)]: Done 1180 tasks      | elapsed: 964.7min\n"
     ]
    },
    {
     "name": "stdout",
     "output_type": "stream",
     "text": [
      "[CV]  n_estimators=110, criterion=entropy, max_depth=26, score=-0.653189 - 5.9min\n",
      "[CV] n_estimators=110, criterion=entropy, max_depth=26 ...............\n"
     ]
    },
    {
     "name": "stderr",
     "output_type": "stream",
     "text": [
      "[Parallel(n_jobs=4)]: Done 1181 tasks      | elapsed: 965.7min\n"
     ]
    },
    {
     "name": "stdout",
     "output_type": "stream",
     "text": [
      "[CV]  n_estimators=110, criterion=entropy, max_depth=26, score=-0.639616 - 5.8min\n",
      "[CV] n_estimators=120, criterion=entropy, max_depth=26 ...............\n"
     ]
    },
    {
     "name": "stderr",
     "output_type": "stream",
     "text": [
      "[Parallel(n_jobs=4)]: Done 1182 tasks      | elapsed: 966.3min\n"
     ]
    },
    {
     "name": "stdout",
     "output_type": "stream",
     "text": [
      "[CV]  n_estimators=110, criterion=entropy, max_depth=26, score=-0.642026 - 5.6min\n",
      "[CV] n_estimators=120, criterion=entropy, max_depth=26 ...............\n"
     ]
    },
    {
     "name": "stderr",
     "output_type": "stream",
     "text": [
      "[Parallel(n_jobs=4)]: Done 1183 tasks      | elapsed: 967.6min\n"
     ]
    },
    {
     "name": "stdout",
     "output_type": "stream",
     "text": [
      "[CV]  n_estimators=110, criterion=entropy, max_depth=26, score=-0.648619 - 5.6min\n",
      "[CV] n_estimators=120, criterion=entropy, max_depth=26 ...............\n"
     ]
    },
    {
     "name": "stderr",
     "output_type": "stream",
     "text": [
      "[Parallel(n_jobs=4)]: Done 1184 tasks      | elapsed: 970.2min\n"
     ]
    },
    {
     "name": "stdout",
     "output_type": "stream",
     "text": [
      "[CV]  n_estimators=110, criterion=entropy, max_depth=26, score=-0.654989 - 5.6min\n",
      "[CV] n_estimators=120, criterion=entropy, max_depth=26 ...............\n"
     ]
    },
    {
     "name": "stderr",
     "output_type": "stream",
     "text": [
      "[Parallel(n_jobs=4)]: Done 1185 tasks      | elapsed: 971.3min\n"
     ]
    },
    {
     "name": "stdout",
     "output_type": "stream",
     "text": [
      "[CV]  n_estimators=120, criterion=entropy, max_depth=26, score=-0.649451 - 5.9min\n",
      "[CV] n_estimators=120, criterion=entropy, max_depth=26 ...............\n"
     ]
    },
    {
     "name": "stderr",
     "output_type": "stream",
     "text": [
      "[Parallel(n_jobs=4)]: Done 1186 tasks      | elapsed: 972.1min\n"
     ]
    },
    {
     "name": "stdout",
     "output_type": "stream",
     "text": [
      "[CV]  n_estimators=120, criterion=entropy, max_depth=26, score=-0.636372 - 5.6min\n",
      "[CV] n_estimators=130, criterion=entropy, max_depth=26 ...............\n"
     ]
    },
    {
     "name": "stderr",
     "output_type": "stream",
     "text": [
      "[Parallel(n_jobs=4)]: Done 1187 tasks      | elapsed: 973.1min\n"
     ]
    },
    {
     "name": "stdout",
     "output_type": "stream",
     "text": [
      "[CV]  n_estimators=120, criterion=entropy, max_depth=26, score=-0.649373 - 5.0min\n",
      "[CV] n_estimators=130, criterion=entropy, max_depth=26 ...............\n"
     ]
    },
    {
     "name": "stderr",
     "output_type": "stream",
     "text": [
      "[Parallel(n_jobs=4)]: Done 1188 tasks      | elapsed: 975.2min\n"
     ]
    },
    {
     "name": "stdout",
     "output_type": "stream",
     "text": [
      "[CV]  n_estimators=120, criterion=entropy, max_depth=26, score=-0.650075 - 4.8min\n",
      "[CV] n_estimators=130, criterion=entropy, max_depth=26 ...............\n"
     ]
    },
    {
     "name": "stderr",
     "output_type": "stream",
     "text": [
      "[Parallel(n_jobs=4)]: Done 1189 tasks      | elapsed: 976.1min\n"
     ]
    },
    {
     "name": "stdout",
     "output_type": "stream",
     "text": [
      "[CV]  n_estimators=120, criterion=entropy, max_depth=26, score=-0.659021 - 4.8min\n",
      "[CV] n_estimators=130, criterion=entropy, max_depth=26 ...............\n"
     ]
    },
    {
     "name": "stderr",
     "output_type": "stream",
     "text": [
      "[Parallel(n_jobs=4)]: Done 1190 tasks      | elapsed: 976.9min\n"
     ]
    },
    {
     "name": "stdout",
     "output_type": "stream",
     "text": [
      "[CV]  n_estimators=130, criterion=entropy, max_depth=26, score=-0.646762 - 5.5min\n",
      "[CV] n_estimators=130, criterion=entropy, max_depth=26 ...............\n"
     ]
    },
    {
     "name": "stderr",
     "output_type": "stream",
     "text": [
      "[Parallel(n_jobs=4)]: Done 1191 tasks      | elapsed: 978.6min\n"
     ]
    },
    {
     "name": "stdout",
     "output_type": "stream",
     "text": [
      "[CV]  n_estimators=130, criterion=entropy, max_depth=26, score=-0.640652 - 6.2min\n",
      "[CV] n_estimators=140, criterion=entropy, max_depth=26 ...............\n"
     ]
    },
    {
     "name": "stderr",
     "output_type": "stream",
     "text": [
      "[Parallel(n_jobs=4)]: Done 1192 tasks      | elapsed: 981.4min\n"
     ]
    },
    {
     "name": "stdout",
     "output_type": "stream",
     "text": [
      "[CV]  n_estimators=130, criterion=entropy, max_depth=26, score=-0.638946 - 6.6min\n",
      "[CV] n_estimators=140, criterion=entropy, max_depth=26 ...............\n"
     ]
    },
    {
     "name": "stderr",
     "output_type": "stream",
     "text": [
      "[Parallel(n_jobs=4)]: Done 1193 tasks      | elapsed: 982.7min\n"
     ]
    },
    {
     "name": "stdout",
     "output_type": "stream",
     "text": [
      "[CV]  n_estimators=130, criterion=entropy, max_depth=26, score=-0.645315 - 6.9min\n",
      "[CV] n_estimators=140, criterion=entropy, max_depth=26 ...............\n"
     ]
    },
    {
     "name": "stderr",
     "output_type": "stream",
     "text": [
      "[Parallel(n_jobs=4)]: Done 1194 tasks      | elapsed: 983.8min\n"
     ]
    },
    {
     "name": "stdout",
     "output_type": "stream",
     "text": [
      "[CV]  n_estimators=130, criterion=entropy, max_depth=26, score=-0.659753 - 7.1min\n",
      "[CV] n_estimators=140, criterion=entropy, max_depth=26 ...............\n"
     ]
    },
    {
     "name": "stderr",
     "output_type": "stream",
     "text": [
      "[Parallel(n_jobs=4)]: Done 1195 tasks      | elapsed: 985.8min\n"
     ]
    },
    {
     "name": "stdout",
     "output_type": "stream",
     "text": [
      "[CV]  n_estimators=140, criterion=entropy, max_depth=26, score=-0.653100 - 7.2min\n",
      "[CV] n_estimators=140, criterion=entropy, max_depth=26 ...............\n"
     ]
    },
    {
     "name": "stderr",
     "output_type": "stream",
     "text": [
      "[Parallel(n_jobs=4)]: Done 1196 tasks      | elapsed: 988.7min\n"
     ]
    },
    {
     "name": "stdout",
     "output_type": "stream",
     "text": [
      "[CV]  n_estimators=140, criterion=entropy, max_depth=26, score=-0.637485 - 6.9min\n",
      "[CV] n_estimators=50, criterion=entropy, max_depth=28 ................\n"
     ]
    },
    {
     "name": "stderr",
     "output_type": "stream",
     "text": [
      "[Parallel(n_jobs=4)]: Done 1197 tasks      | elapsed: 989.6min\n"
     ]
    },
    {
     "name": "stdout",
     "output_type": "stream",
     "text": [
      "[CV]  n_estimators=140, criterion=entropy, max_depth=26, score=-0.645412 - 6.6min\n",
      "[CV] n_estimators=50, criterion=entropy, max_depth=28 ................\n"
     ]
    },
    {
     "name": "stderr",
     "output_type": "stream",
     "text": [
      "[Parallel(n_jobs=4)]: Done 1198 tasks      | elapsed: 990.4min\n"
     ]
    },
    {
     "name": "stdout",
     "output_type": "stream",
     "text": [
      "[CV]  n_estimators=50, criterion=entropy, max_depth=28, score=-0.698574 - 2.0min\n",
      "[CV] n_estimators=50, criterion=entropy, max_depth=28 ................\n"
     ]
    },
    {
     "name": "stderr",
     "output_type": "stream",
     "text": [
      "[Parallel(n_jobs=4)]: Done 1199 tasks      | elapsed: 991.6min\n"
     ]
    },
    {
     "name": "stdout",
     "output_type": "stream",
     "text": [
      "[CV]  n_estimators=140, criterion=entropy, max_depth=26, score=-0.643765 - 6.1min\n",
      "[CV] n_estimators=50, criterion=entropy, max_depth=28 ................\n"
     ]
    },
    {
     "name": "stderr",
     "output_type": "stream",
     "text": [
      "[Parallel(n_jobs=4)]: Done 1200 tasks      | elapsed: 991.8min\n"
     ]
    },
    {
     "name": "stdout",
     "output_type": "stream",
     "text": [
      "[CV]  n_estimators=50, criterion=entropy, max_depth=28, score=-0.675800 - 2.1min\n",
      "[CV] n_estimators=50, criterion=entropy, max_depth=28 ................\n"
     ]
    },
    {
     "name": "stderr",
     "output_type": "stream",
     "text": [
      "[Parallel(n_jobs=4)]: Done 1201 tasks      | elapsed: 992.5min\n"
     ]
    },
    {
     "name": "stdout",
     "output_type": "stream",
     "text": [
      "[CV]  n_estimators=50, criterion=entropy, max_depth=28, score=-0.670253 - 2.0min\n",
      "[CV] n_estimators=60, criterion=entropy, max_depth=28 ................\n"
     ]
    },
    {
     "name": "stderr",
     "output_type": "stream",
     "text": [
      "[Parallel(n_jobs=4)]: Done 1202 tasks      | elapsed: 993.7min\n"
     ]
    },
    {
     "name": "stdout",
     "output_type": "stream",
     "text": [
      "[CV]  n_estimators=50, criterion=entropy, max_depth=28, score=-0.690531 - 2.1min\n",
      "[CV] n_estimators=60, criterion=entropy, max_depth=28 ................\n"
     ]
    },
    {
     "name": "stderr",
     "output_type": "stream",
     "text": [
      "[Parallel(n_jobs=4)]: Done 1203 tasks      | elapsed: 993.9min\n"
     ]
    },
    {
     "name": "stdout",
     "output_type": "stream",
     "text": [
      "[CV]  n_estimators=140, criterion=entropy, max_depth=26, score=-0.661514 - 5.6min\n",
      "[CV] n_estimators=60, criterion=entropy, max_depth=28 ................\n"
     ]
    },
    {
     "name": "stderr",
     "output_type": "stream",
     "text": [
      "[Parallel(n_jobs=4)]: Done 1204 tasks      | elapsed: 994.3min\n"
     ]
    },
    {
     "name": "stdout",
     "output_type": "stream",
     "text": [
      "[CV]  n_estimators=50, criterion=entropy, max_depth=28, score=-0.693170 - 2.1min\n",
      "[CV] n_estimators=60, criterion=entropy, max_depth=28 ................\n"
     ]
    },
    {
     "name": "stderr",
     "output_type": "stream",
     "text": [
      "[Parallel(n_jobs=4)]: Done 1205 tasks      | elapsed: 994.5min\n"
     ]
    },
    {
     "name": "stdout",
     "output_type": "stream",
     "text": [
      "[CV]  n_estimators=60, criterion=entropy, max_depth=28, score=-0.673760 - 2.8min\n",
      "[CV] n_estimators=60, criterion=entropy, max_depth=28 ................\n"
     ]
    },
    {
     "name": "stderr",
     "output_type": "stream",
     "text": [
      "[Parallel(n_jobs=4)]: Done 1206 tasks      | elapsed: 996.5min\n"
     ]
    },
    {
     "name": "stdout",
     "output_type": "stream",
     "text": [
      "[CV]  n_estimators=60, criterion=entropy, max_depth=28, score=-0.658656 - 2.8min\n",
      "[CV] n_estimators=70, criterion=entropy, max_depth=28 ................\n"
     ]
    },
    {
     "name": "stderr",
     "output_type": "stream",
     "text": [
      "[Parallel(n_jobs=4)]: Done 1207 tasks      | elapsed: 996.7min\n"
     ]
    },
    {
     "name": "stdout",
     "output_type": "stream",
     "text": [
      "[CV]  n_estimators=60, criterion=entropy, max_depth=28, score=-0.668926 - 2.8min\n",
      "[CV] n_estimators=70, criterion=entropy, max_depth=28 ................\n"
     ]
    },
    {
     "name": "stderr",
     "output_type": "stream",
     "text": [
      "[Parallel(n_jobs=4)]: Done 1208 tasks      | elapsed: 997.1min\n"
     ]
    },
    {
     "name": "stdout",
     "output_type": "stream",
     "text": [
      "[CV]  n_estimators=60, criterion=entropy, max_depth=28, score=-0.685089 - 2.8min\n",
      "[CV] n_estimators=70, criterion=entropy, max_depth=28 ................\n"
     ]
    },
    {
     "name": "stderr",
     "output_type": "stream",
     "text": [
      "[Parallel(n_jobs=4)]: Done 1209 tasks      | elapsed: 997.3min\n"
     ]
    },
    {
     "name": "stdout",
     "output_type": "stream",
     "text": [
      "[CV]  n_estimators=60, criterion=entropy, max_depth=28, score=-0.677556 - 2.6min\n",
      "[CV] n_estimators=70, criterion=entropy, max_depth=28 ................\n"
     ]
    },
    {
     "name": "stderr",
     "output_type": "stream",
     "text": [
      "[Parallel(n_jobs=4)]: Done 1210 tasks      | elapsed: 999.1min\n"
     ]
    },
    {
     "name": "stdout",
     "output_type": "stream",
     "text": [
      "[CV]  n_estimators=70, criterion=entropy, max_depth=28, score=-0.658634 - 3.2min\n",
      "[CV] n_estimators=70, criterion=entropy, max_depth=28 ................\n"
     ]
    },
    {
     "name": "stderr",
     "output_type": "stream",
     "text": [
      "[Parallel(n_jobs=4)]: Done 1211 tasks      | elapsed: 999.9min\n"
     ]
    },
    {
     "name": "stdout",
     "output_type": "stream",
     "text": [
      "[CV]  n_estimators=70, criterion=entropy, max_depth=28, score=-0.652124 - 3.3min\n",
      "[CV] n_estimators=80, criterion=entropy, max_depth=28 ................\n"
     ]
    },
    {
     "name": "stderr",
     "output_type": "stream",
     "text": [
      "[Parallel(n_jobs=4)]: Done 1212 tasks      | elapsed: 1000.4min\n"
     ]
    },
    {
     "name": "stdout",
     "output_type": "stream",
     "text": [
      "[CV]  n_estimators=70, criterion=entropy, max_depth=28, score=-0.652489 - 3.4min\n",
      "[CV] n_estimators=80, criterion=entropy, max_depth=28 ................\n"
     ]
    },
    {
     "name": "stderr",
     "output_type": "stream",
     "text": [
      "[Parallel(n_jobs=4)]: Done 1213 tasks      | elapsed: 1000.7min\n"
     ]
    },
    {
     "name": "stdout",
     "output_type": "stream",
     "text": [
      "[CV]  n_estimators=70, criterion=entropy, max_depth=28, score=-0.673284 - 3.6min\n",
      "[CV] n_estimators=80, criterion=entropy, max_depth=28 ................\n"
     ]
    },
    {
     "name": "stderr",
     "output_type": "stream",
     "text": [
      "[Parallel(n_jobs=4)]: Done 1214 tasks      | elapsed: 1002.7min\n"
     ]
    },
    {
     "name": "stdout",
     "output_type": "stream",
     "text": [
      "[CV]  n_estimators=70, criterion=entropy, max_depth=28, score=-0.671445 - 3.5min\n",
      "[CV] n_estimators=80, criterion=entropy, max_depth=28 ................\n"
     ]
    },
    {
     "name": "stderr",
     "output_type": "stream",
     "text": [
      "[Parallel(n_jobs=4)]: Done 1215 tasks      | elapsed: 1003.5min\n"
     ]
    },
    {
     "name": "stdout",
     "output_type": "stream",
     "text": [
      "[CV]  n_estimators=80, criterion=entropy, max_depth=28, score=-0.665966 - 4.0min\n",
      "[CV] n_estimators=80, criterion=entropy, max_depth=28 ................\n"
     ]
    },
    {
     "name": "stderr",
     "output_type": "stream",
     "text": [
      "[Parallel(n_jobs=4)]: Done 1216 tasks      | elapsed: 1004.4min\n"
     ]
    },
    {
     "name": "stdout",
     "output_type": "stream",
     "text": [
      "[CV]  n_estimators=80, criterion=entropy, max_depth=28, score=-0.647631 - 4.0min\n",
      "[CV] n_estimators=90, criterion=entropy, max_depth=28 ................\n"
     ]
    },
    {
     "name": "stderr",
     "output_type": "stream",
     "text": [
      "[Parallel(n_jobs=4)]: Done 1217 tasks      | elapsed: 1004.7min\n"
     ]
    },
    {
     "name": "stdout",
     "output_type": "stream",
     "text": [
      "[CV]  n_estimators=80, criterion=entropy, max_depth=28, score=-0.648215 - 4.0min\n",
      "[CV] n_estimators=90, criterion=entropy, max_depth=28 ................\n"
     ]
    },
    {
     "name": "stderr",
     "output_type": "stream",
     "text": [
      "[Parallel(n_jobs=4)]: Done 1218 tasks      | elapsed: 1006.7min\n"
     ]
    },
    {
     "name": "stdout",
     "output_type": "stream",
     "text": [
      "[CV]  n_estimators=80, criterion=entropy, max_depth=28, score=-0.656520 - 4.0min\n",
      "[CV] n_estimators=90, criterion=entropy, max_depth=28 ................\n"
     ]
    },
    {
     "name": "stderr",
     "output_type": "stream",
     "text": [
      "[Parallel(n_jobs=4)]: Done 1219 tasks      | elapsed: 1007.4min\n"
     ]
    },
    {
     "name": "stdout",
     "output_type": "stream",
     "text": [
      "[CV]  n_estimators=80, criterion=entropy, max_depth=28, score=-0.673722 - 4.0min\n",
      "[CV] n_estimators=90, criterion=entropy, max_depth=28 ................\n"
     ]
    },
    {
     "name": "stderr",
     "output_type": "stream",
     "text": [
      "[Parallel(n_jobs=4)]: Done 1220 tasks      | elapsed: 1008.4min\n"
     ]
    },
    {
     "name": "stdout",
     "output_type": "stream",
     "text": [
      "[CV]  n_estimators=90, criterion=entropy, max_depth=28, score=-0.654975 - 4.5min\n",
      "[CV] n_estimators=90, criterion=entropy, max_depth=28 ................\n"
     ]
    },
    {
     "name": "stderr",
     "output_type": "stream",
     "text": [
      "[Parallel(n_jobs=4)]: Done 1221 tasks      | elapsed: 1009.2min\n"
     ]
    },
    {
     "name": "stdout",
     "output_type": "stream",
     "text": [
      "[CV]  n_estimators=90, criterion=entropy, max_depth=28, score=-0.644037 - 4.5min\n",
      "[CV] n_estimators=100, criterion=entropy, max_depth=28 ...............\n"
     ]
    },
    {
     "name": "stderr",
     "output_type": "stream",
     "text": [
      "[Parallel(n_jobs=4)]: Done 1222 tasks      | elapsed: 1011.2min\n"
     ]
    },
    {
     "name": "stdout",
     "output_type": "stream",
     "text": [
      "[CV]  n_estimators=90, criterion=entropy, max_depth=28, score=-0.643877 - 4.5min\n",
      "[CV] n_estimators=100, criterion=entropy, max_depth=28 ...............\n"
     ]
    },
    {
     "name": "stderr",
     "output_type": "stream",
     "text": [
      "[Parallel(n_jobs=4)]: Done 1223 tasks      | elapsed: 1012.0min\n"
     ]
    },
    {
     "name": "stdout",
     "output_type": "stream",
     "text": [
      "[CV]  n_estimators=90, criterion=entropy, max_depth=28, score=-0.657667 - 4.6min\n",
      "[CV] n_estimators=100, criterion=entropy, max_depth=28 ...............\n"
     ]
    },
    {
     "name": "stderr",
     "output_type": "stream",
     "text": [
      "[Parallel(n_jobs=4)]: Done 1224 tasks      | elapsed: 1013.0min\n"
     ]
    },
    {
     "name": "stdout",
     "output_type": "stream",
     "text": [
      "[CV]  n_estimators=90, criterion=entropy, max_depth=28, score=-0.670103 - 4.7min\n",
      "[CV] n_estimators=100, criterion=entropy, max_depth=28 ...............\n"
     ]
    },
    {
     "name": "stderr",
     "output_type": "stream",
     "text": [
      "[Parallel(n_jobs=4)]: Done 1225 tasks      | elapsed: 1013.9min\n"
     ]
    },
    {
     "name": "stdout",
     "output_type": "stream",
     "text": [
      "[CV]  n_estimators=100, criterion=entropy, max_depth=28, score=-0.657485 - 5.2min\n",
      "[CV] n_estimators=100, criterion=entropy, max_depth=28 ...............\n"
     ]
    },
    {
     "name": "stderr",
     "output_type": "stream",
     "text": [
      "[Parallel(n_jobs=4)]: Done 1226 tasks      | elapsed: 1016.4min\n"
     ]
    },
    {
     "name": "stdout",
     "output_type": "stream",
     "text": [
      "[CV]  n_estimators=100, criterion=entropy, max_depth=28, score=-0.643108 - 5.2min\n",
      "[CV] n_estimators=110, criterion=entropy, max_depth=28 ...............\n"
     ]
    },
    {
     "name": "stderr",
     "output_type": "stream",
     "text": [
      "[Parallel(n_jobs=4)]: Done 1227 tasks      | elapsed: 1017.2min\n"
     ]
    },
    {
     "name": "stdout",
     "output_type": "stream",
     "text": [
      "[CV]  n_estimators=100, criterion=entropy, max_depth=28, score=-0.649463 - 5.2min\n",
      "[CV] n_estimators=110, criterion=entropy, max_depth=28 ...............\n"
     ]
    },
    {
     "name": "stderr",
     "output_type": "stream",
     "text": [
      "[Parallel(n_jobs=4)]: Done 1228 tasks      | elapsed: 1018.2min\n"
     ]
    },
    {
     "name": "stdout",
     "output_type": "stream",
     "text": [
      "[CV]  n_estimators=100, criterion=entropy, max_depth=28, score=-0.654406 - 5.2min\n",
      "[CV] n_estimators=110, criterion=entropy, max_depth=28 ...............\n"
     ]
    },
    {
     "name": "stderr",
     "output_type": "stream",
     "text": [
      "[Parallel(n_jobs=4)]: Done 1229 tasks      | elapsed: 1019.1min\n"
     ]
    },
    {
     "name": "stdout",
     "output_type": "stream",
     "text": [
      "[CV]  n_estimators=100, criterion=entropy, max_depth=28, score=-0.664730 - 5.2min\n",
      "[CV] n_estimators=110, criterion=entropy, max_depth=28 ...............\n"
     ]
    },
    {
     "name": "stderr",
     "output_type": "stream",
     "text": [
      "[Parallel(n_jobs=4)]: Done 1230 tasks      | elapsed: 1021.6min\n"
     ]
    },
    {
     "name": "stdout",
     "output_type": "stream",
     "text": [
      "[CV]  n_estimators=110, criterion=entropy, max_depth=28, score=-0.655960 - 5.7min\n",
      "[CV] n_estimators=110, criterion=entropy, max_depth=28 ...............\n"
     ]
    },
    {
     "name": "stderr",
     "output_type": "stream",
     "text": [
      "[Parallel(n_jobs=4)]: Done 1231 tasks      | elapsed: 1022.9min\n"
     ]
    },
    {
     "name": "stdout",
     "output_type": "stream",
     "text": [
      "[CV]  n_estimators=110, criterion=entropy, max_depth=28, score=-0.640608 - 5.7min\n",
      "[CV] n_estimators=120, criterion=entropy, max_depth=28 ...............\n"
     ]
    },
    {
     "name": "stderr",
     "output_type": "stream",
     "text": [
      "[Parallel(n_jobs=4)]: Done 1232 tasks      | elapsed: 1023.9min\n"
     ]
    },
    {
     "name": "stdout",
     "output_type": "stream",
     "text": [
      "[CV]  n_estimators=110, criterion=entropy, max_depth=28, score=-0.651544 - 5.7min\n",
      "[CV] n_estimators=120, criterion=entropy, max_depth=28 ...............\n"
     ]
    },
    {
     "name": "stderr",
     "output_type": "stream",
     "text": [
      "[Parallel(n_jobs=4)]: Done 1233 tasks      | elapsed: 1024.7min\n"
     ]
    },
    {
     "name": "stdout",
     "output_type": "stream",
     "text": [
      "[CV]  n_estimators=110, criterion=entropy, max_depth=28, score=-0.653138 - 5.6min\n",
      "[CV] n_estimators=120, criterion=entropy, max_depth=28 ...............\n"
     ]
    },
    {
     "name": "stderr",
     "output_type": "stream",
     "text": [
      "[Parallel(n_jobs=4)]: Done 1234 tasks      | elapsed: 1027.1min\n"
     ]
    },
    {
     "name": "stdout",
     "output_type": "stream",
     "text": [
      "[CV]  n_estimators=110, criterion=entropy, max_depth=28, score=-0.661475 - 5.4min\n",
      "[CV] n_estimators=120, criterion=entropy, max_depth=28 ...............\n"
     ]
    },
    {
     "name": "stderr",
     "output_type": "stream",
     "text": [
      "[Parallel(n_jobs=4)]: Done 1235 tasks      | elapsed: 1028.3min\n"
     ]
    },
    {
     "name": "stdout",
     "output_type": "stream",
     "text": [
      "[CV]  n_estimators=120, criterion=entropy, max_depth=28, score=-0.647099 - 5.7min\n",
      "[CV] n_estimators=120, criterion=entropy, max_depth=28 ...............\n"
     ]
    },
    {
     "name": "stderr",
     "output_type": "stream",
     "text": [
      "[Parallel(n_jobs=4)]: Done 1236 tasks      | elapsed: 1029.6min\n"
     ]
    },
    {
     "name": "stdout",
     "output_type": "stream",
     "text": [
      "[CV]  n_estimators=120, criterion=entropy, max_depth=28, score=-0.644471 - 5.7min\n",
      "[CV] n_estimators=130, criterion=entropy, max_depth=28 ...............\n"
     ]
    },
    {
     "name": "stderr",
     "output_type": "stream",
     "text": [
      "[Parallel(n_jobs=4)]: Done 1237 tasks      | elapsed: 1030.4min\n"
     ]
    },
    {
     "name": "stdout",
     "output_type": "stream",
     "text": [
      "[CV]  n_estimators=120, criterion=entropy, max_depth=28, score=-0.647139 - 5.5min\n",
      "[CV] n_estimators=130, criterion=entropy, max_depth=28 ...............\n"
     ]
    },
    {
     "name": "stderr",
     "output_type": "stream",
     "text": [
      "[Parallel(n_jobs=4)]: Done 1238 tasks      | elapsed: 1032.6min\n"
     ]
    },
    {
     "name": "stdout",
     "output_type": "stream",
     "text": [
      "[CV]  n_estimators=120, criterion=entropy, max_depth=28, score=-0.648219 - 5.4min\n",
      "[CV] n_estimators=130, criterion=entropy, max_depth=28 ...............\n"
     ]
    },
    {
     "name": "stderr",
     "output_type": "stream",
     "text": [
      "[Parallel(n_jobs=4)]: Done 1239 tasks      | elapsed: 1033.7min\n"
     ]
    },
    {
     "name": "stdout",
     "output_type": "stream",
     "text": [
      "[CV]  n_estimators=120, criterion=entropy, max_depth=28, score=-0.665762 - 5.3min\n",
      "[CV] n_estimators=130, criterion=entropy, max_depth=28 ...............\n"
     ]
    },
    {
     "name": "stderr",
     "output_type": "stream",
     "text": [
      "[Parallel(n_jobs=4)]: Done 1240 tasks      | elapsed: 1035.0min\n"
     ]
    },
    {
     "name": "stdout",
     "output_type": "stream",
     "text": [
      "[CV]  n_estimators=130, criterion=entropy, max_depth=28, score=-0.647622 - 6.0min\n",
      "[CV] n_estimators=130, criterion=entropy, max_depth=28 ...............\n"
     ]
    },
    {
     "name": "stderr",
     "output_type": "stream",
     "text": [
      "[Parallel(n_jobs=4)]: Done 1241 tasks      | elapsed: 1036.4min\n"
     ]
    },
    {
     "name": "stdout",
     "output_type": "stream",
     "text": [
      "[CV]  n_estimators=130, criterion=entropy, max_depth=28, score=-0.639684 - 5.7min\n",
      "[CV] n_estimators=140, criterion=entropy, max_depth=28 ...............\n"
     ]
    },
    {
     "name": "stderr",
     "output_type": "stream",
     "text": [
      "[Parallel(n_jobs=4)]: Done 1242 tasks      | elapsed: 1038.3min\n"
     ]
    },
    {
     "name": "stdout",
     "output_type": "stream",
     "text": [
      "[CV]  n_estimators=130, criterion=entropy, max_depth=28, score=-0.644462 - 5.7min\n",
      "[CV] n_estimators=140, criterion=entropy, max_depth=28 ...............\n"
     ]
    },
    {
     "name": "stderr",
     "output_type": "stream",
     "text": [
      "[Parallel(n_jobs=4)]: Done 1243 tasks      | elapsed: 1039.3min\n"
     ]
    },
    {
     "name": "stdout",
     "output_type": "stream",
     "text": [
      "[CV]  n_estimators=130, criterion=entropy, max_depth=28, score=-0.648935 - 5.6min\n",
      "[CV] n_estimators=140, criterion=entropy, max_depth=28 ...............\n"
     ]
    },
    {
     "name": "stderr",
     "output_type": "stream",
     "text": [
      "[Parallel(n_jobs=4)]: Done 1244 tasks      | elapsed: 1040.5min\n"
     ]
    },
    {
     "name": "stdout",
     "output_type": "stream",
     "text": [
      "[CV]  n_estimators=130, criterion=entropy, max_depth=28, score=-0.655238 - 5.3min\n",
      "[CV] n_estimators=140, criterion=entropy, max_depth=28 ...............\n"
     ]
    },
    {
     "name": "stderr",
     "output_type": "stream",
     "text": [
      "[Parallel(n_jobs=4)]: Done 1245 tasks      | elapsed: 1041.6min\n"
     ]
    },
    {
     "name": "stdout",
     "output_type": "stream",
     "text": [
      "[CV]  n_estimators=140, criterion=entropy, max_depth=28, score=-0.646813 - 5.7min\n",
      "[CV] n_estimators=140, criterion=entropy, max_depth=28 ...............\n"
     ]
    },
    {
     "name": "stderr",
     "output_type": "stream",
     "text": [
      "[Parallel(n_jobs=4)]: Done 1246 tasks      | elapsed: 1044.0min\n"
     ]
    },
    {
     "name": "stdout",
     "output_type": "stream",
     "text": [
      "[CV]  n_estimators=140, criterion=entropy, max_depth=28, score=-0.639341 - 5.7min\n",
      "[CV] n_estimators=50, criterion=entropy, max_depth=30 ................\n"
     ]
    },
    {
     "name": "stderr",
     "output_type": "stream",
     "text": [
      "[Parallel(n_jobs=4)]: Done 1247 tasks      | elapsed: 1045.0min\n"
     ]
    },
    {
     "name": "stdout",
     "output_type": "stream",
     "text": [
      "[CV]  n_estimators=140, criterion=entropy, max_depth=28, score=-0.640491 - 5.7min\n",
      "[CV] n_estimators=50, criterion=entropy, max_depth=30 ................\n"
     ]
    },
    {
     "name": "stderr",
     "output_type": "stream",
     "text": [
      "[Parallel(n_jobs=4)]: Done 1248 tasks      | elapsed: 1046.2min\n"
     ]
    },
    {
     "name": "stdout",
     "output_type": "stream",
     "text": [
      "[CV]  n_estimators=50, criterion=entropy, max_depth=30, score=-0.700857 - 2.0min\n",
      "[CV] n_estimators=50, criterion=entropy, max_depth=30 ................\n"
     ]
    },
    {
     "name": "stderr",
     "output_type": "stream",
     "text": [
      "[Parallel(n_jobs=4)]: Done 1249 tasks      | elapsed: 1047.0min\n"
     ]
    },
    {
     "name": "stdout",
     "output_type": "stream",
     "text": [
      "[CV]  n_estimators=140, criterion=entropy, max_depth=28, score=-0.650141 - 5.6min\n",
      "[CV] n_estimators=50, criterion=entropy, max_depth=30 ................\n"
     ]
    },
    {
     "name": "stderr",
     "output_type": "stream",
     "text": [
      "[Parallel(n_jobs=4)]: Done 1250 tasks      | elapsed: 1047.3min\n"
     ]
    },
    {
     "name": "stdout",
     "output_type": "stream",
     "text": [
      "[CV]  n_estimators=50, criterion=entropy, max_depth=30, score=-0.672029 - 2.1min\n",
      "[CV] n_estimators=50, criterion=entropy, max_depth=30 ................\n"
     ]
    },
    {
     "name": "stderr",
     "output_type": "stream",
     "text": [
      "[Parallel(n_jobs=4)]: Done 1251 tasks      | elapsed: 1048.3min\n"
     ]
    },
    {
     "name": "stdout",
     "output_type": "stream",
     "text": [
      "[CV]  n_estimators=50, criterion=entropy, max_depth=30, score=-0.681854 - 2.2min\n",
      "[CV] n_estimators=60, criterion=entropy, max_depth=30 ................\n"
     ]
    },
    {
     "name": "stderr",
     "output_type": "stream",
     "text": [
      "[Parallel(n_jobs=4)]: Done 1252 tasks      | elapsed: 1049.2min\n"
     ]
    },
    {
     "name": "stdout",
     "output_type": "stream",
     "text": [
      "[CV]  n_estimators=50, criterion=entropy, max_depth=30, score=-0.695082 - 2.1min\n",
      "[CV] n_estimators=60, criterion=entropy, max_depth=30 ................\n"
     ]
    },
    {
     "name": "stderr",
     "output_type": "stream",
     "text": [
      "[Parallel(n_jobs=4)]: Done 1253 tasks      | elapsed: 1049.4min\n"
     ]
    },
    {
     "name": "stdout",
     "output_type": "stream",
     "text": [
      "[CV]  n_estimators=140, criterion=entropy, max_depth=28, score=-0.661820 - 5.7min\n",
      "[CV] n_estimators=60, criterion=entropy, max_depth=30 ................\n"
     ]
    },
    {
     "name": "stderr",
     "output_type": "stream",
     "text": [
      "[Parallel(n_jobs=4)]: Done 1254 tasks      | elapsed: 1049.7min\n"
     ]
    },
    {
     "name": "stdout",
     "output_type": "stream",
     "text": [
      "[CV]  n_estimators=50, criterion=entropy, max_depth=30, score=-0.707326 - 2.2min\n",
      "[CV] n_estimators=60, criterion=entropy, max_depth=30 ................\n"
     ]
    },
    {
     "name": "stderr",
     "output_type": "stream",
     "text": [
      "[Parallel(n_jobs=4)]: Done 1255 tasks      | elapsed: 1050.5min\n"
     ]
    },
    {
     "name": "stdout",
     "output_type": "stream",
     "text": [
      "[CV]  n_estimators=60, criterion=entropy, max_depth=30, score=-0.697201 - 2.6min\n",
      "[CV] n_estimators=60, criterion=entropy, max_depth=30 ................\n"
     ]
    },
    {
     "name": "stderr",
     "output_type": "stream",
     "text": [
      "[Parallel(n_jobs=4)]: Done 1256 tasks      | elapsed: 1051.8min\n"
     ]
    },
    {
     "name": "stdout",
     "output_type": "stream",
     "text": [
      "[CV]  n_estimators=60, criterion=entropy, max_depth=30, score=-0.671491 - 2.6min\n",
      "[CV] n_estimators=70, criterion=entropy, max_depth=30 ................\n"
     ]
    },
    {
     "name": "stderr",
     "output_type": "stream",
     "text": [
      "[Parallel(n_jobs=4)]: Done 1257 tasks      | elapsed: 1052.0min\n"
     ]
    },
    {
     "name": "stdout",
     "output_type": "stream",
     "text": [
      "[CV]  n_estimators=60, criterion=entropy, max_depth=30, score=-0.667433 - 2.6min\n",
      "[CV] n_estimators=70, criterion=entropy, max_depth=30 ................\n"
     ]
    },
    {
     "name": "stderr",
     "output_type": "stream",
     "text": [
      "[Parallel(n_jobs=4)]: Done 1258 tasks      | elapsed: 1052.4min\n"
     ]
    },
    {
     "name": "stdout",
     "output_type": "stream",
     "text": [
      "[CV]  n_estimators=60, criterion=entropy, max_depth=30, score=-0.669115 - 2.6min\n",
      "[CV] n_estimators=70, criterion=entropy, max_depth=30 ................\n"
     ]
    },
    {
     "name": "stderr",
     "output_type": "stream",
     "text": [
      "[Parallel(n_jobs=4)]: Done 1259 tasks      | elapsed: 1053.0min\n"
     ]
    },
    {
     "name": "stdout",
     "output_type": "stream",
     "text": [
      "[CV]  n_estimators=60, criterion=entropy, max_depth=30, score=-0.715726 - 2.6min\n",
      "[CV] n_estimators=70, criterion=entropy, max_depth=30 ................\n"
     ]
    },
    {
     "name": "stderr",
     "output_type": "stream",
     "text": [
      "[Parallel(n_jobs=4)]: Done 1260 tasks      | elapsed: 1054.4min\n"
     ]
    },
    {
     "name": "stdout",
     "output_type": "stream",
     "text": [
      "[CV]  n_estimators=70, criterion=entropy, max_depth=30, score=-0.680167 - 3.0min\n",
      "[CV] n_estimators=70, criterion=entropy, max_depth=30 ................\n"
     ]
    },
    {
     "name": "stderr",
     "output_type": "stream",
     "text": [
      "[Parallel(n_jobs=4)]: Done 1261 tasks      | elapsed: 1055.0min\n"
     ]
    },
    {
     "name": "stdout",
     "output_type": "stream",
     "text": [
      "[CV]  n_estimators=70, criterion=entropy, max_depth=30, score=-0.668324 - 2.9min\n",
      "[CV] n_estimators=80, criterion=entropy, max_depth=30 ................\n"
     ]
    },
    {
     "name": "stderr",
     "output_type": "stream",
     "text": [
      "[Parallel(n_jobs=4)]: Done 1262 tasks      | elapsed: 1055.3min\n"
     ]
    },
    {
     "name": "stdout",
     "output_type": "stream",
     "text": [
      "[CV]  n_estimators=70, criterion=entropy, max_depth=30, score=-0.667866 - 2.9min\n",
      "[CV] n_estimators=80, criterion=entropy, max_depth=30 ................\n"
     ]
    },
    {
     "name": "stderr",
     "output_type": "stream",
     "text": [
      "[Parallel(n_jobs=4)]: Done 1263 tasks      | elapsed: 1056.0min\n"
     ]
    },
    {
     "name": "stdout",
     "output_type": "stream",
     "text": [
      "[CV]  n_estimators=70, criterion=entropy, max_depth=30, score=-0.662186 - 2.9min\n",
      "[CV] n_estimators=80, criterion=entropy, max_depth=30 ................\n"
     ]
    },
    {
     "name": "stderr",
     "output_type": "stream",
     "text": [
      "[Parallel(n_jobs=4)]: Done 1264 tasks      | elapsed: 1057.2min\n"
     ]
    },
    {
     "name": "stdout",
     "output_type": "stream",
     "text": [
      "[CV]  n_estimators=70, criterion=entropy, max_depth=30, score=-0.696147 - 2.9min\n",
      "[CV] n_estimators=80, criterion=entropy, max_depth=30 ................\n"
     ]
    },
    {
     "name": "stderr",
     "output_type": "stream",
     "text": [
      "[Parallel(n_jobs=4)]: Done 1265 tasks      | elapsed: 1057.9min\n"
     ]
    },
    {
     "name": "stdout",
     "output_type": "stream",
     "text": [
      "[CV]  n_estimators=80, criterion=entropy, max_depth=30, score=-0.676390 - 3.3min\n",
      "[CV] n_estimators=80, criterion=entropy, max_depth=30 ................\n"
     ]
    },
    {
     "name": "stderr",
     "output_type": "stream",
     "text": [
      "[Parallel(n_jobs=4)]: Done 1266 tasks      | elapsed: 1058.6min\n"
     ]
    },
    {
     "name": "stdout",
     "output_type": "stream",
     "text": [
      "[CV]  n_estimators=80, criterion=entropy, max_depth=30, score=-0.659452 - 3.3min\n",
      "[CV] n_estimators=90, criterion=entropy, max_depth=30 ................\n"
     ]
    },
    {
     "name": "stderr",
     "output_type": "stream",
     "text": [
      "[Parallel(n_jobs=4)]: Done 1267 tasks      | elapsed: 1059.3min\n"
     ]
    },
    {
     "name": "stdout",
     "output_type": "stream",
     "text": [
      "[CV]  n_estimators=80, criterion=entropy, max_depth=30, score=-0.661796 - 3.3min\n",
      "[CV] n_estimators=90, criterion=entropy, max_depth=30 ................\n"
     ]
    },
    {
     "name": "stderr",
     "output_type": "stream",
     "text": [
      "[Parallel(n_jobs=4)]: Done 1268 tasks      | elapsed: 1060.6min\n"
     ]
    },
    {
     "name": "stdout",
     "output_type": "stream",
     "text": [
      "[CV]  n_estimators=80, criterion=entropy, max_depth=30, score=-0.666061 - 3.4min\n",
      "[CV] n_estimators=90, criterion=entropy, max_depth=30 ................\n"
     ]
    },
    {
     "name": "stderr",
     "output_type": "stream",
     "text": [
      "[Parallel(n_jobs=4)]: Done 1269 tasks      | elapsed: 1061.2min\n"
     ]
    },
    {
     "name": "stdout",
     "output_type": "stream",
     "text": [
      "[CV]  n_estimators=80, criterion=entropy, max_depth=30, score=-0.683131 - 3.4min\n",
      "[CV] n_estimators=90, criterion=entropy, max_depth=30 ................\n"
     ]
    },
    {
     "name": "stderr",
     "output_type": "stream",
     "text": [
      "[Parallel(n_jobs=4)]: Done 1270 tasks      | elapsed: 1062.0min\n"
     ]
    },
    {
     "name": "stdout",
     "output_type": "stream",
     "text": [
      "[CV]  n_estimators=90, criterion=entropy, max_depth=30, score=-0.667649 - 3.8min\n",
      "[CV] n_estimators=90, criterion=entropy, max_depth=30 ................\n"
     ]
    },
    {
     "name": "stderr",
     "output_type": "stream",
     "text": [
      "[Parallel(n_jobs=4)]: Done 1271 tasks      | elapsed: 1063.1min\n"
     ]
    },
    {
     "name": "stdout",
     "output_type": "stream",
     "text": [
      "[CV]  n_estimators=90, criterion=entropy, max_depth=30, score=-0.655933 - 3.8min\n",
      "[CV] n_estimators=100, criterion=entropy, max_depth=30 ...............\n"
     ]
    },
    {
     "name": "stderr",
     "output_type": "stream",
     "text": [
      "[Parallel(n_jobs=4)]: Done 1272 tasks      | elapsed: 1064.4min\n"
     ]
    },
    {
     "name": "stdout",
     "output_type": "stream",
     "text": [
      "[CV]  n_estimators=90, criterion=entropy, max_depth=30, score=-0.660842 - 3.8min\n",
      "[CV] n_estimators=100, criterion=entropy, max_depth=30 ...............\n"
     ]
    },
    {
     "name": "stderr",
     "output_type": "stream",
     "text": [
      "[Parallel(n_jobs=4)]: Done 1273 tasks      | elapsed: 1065.0min\n"
     ]
    },
    {
     "name": "stdout",
     "output_type": "stream",
     "text": [
      "[CV]  n_estimators=90, criterion=entropy, max_depth=30, score=-0.658798 - 3.8min\n",
      "[CV] n_estimators=100, criterion=entropy, max_depth=30 ...............\n"
     ]
    },
    {
     "name": "stderr",
     "output_type": "stream",
     "text": [
      "[Parallel(n_jobs=4)]: Done 1274 tasks      | elapsed: 1065.8min\n"
     ]
    },
    {
     "name": "stdout",
     "output_type": "stream",
     "text": [
      "[CV]  n_estimators=90, criterion=entropy, max_depth=30, score=-0.676844 - 3.8min\n",
      "[CV] n_estimators=100, criterion=entropy, max_depth=30 ...............\n"
     ]
    },
    {
     "name": "stderr",
     "output_type": "stream",
     "text": [
      "[Parallel(n_jobs=4)]: Done 1275 tasks      | elapsed: 1066.9min\n"
     ]
    },
    {
     "name": "stdout",
     "output_type": "stream",
     "text": [
      "[CV]  n_estimators=100, criterion=entropy, max_depth=30, score=-0.669531 - 4.1min\n",
      "[CV] n_estimators=100, criterion=entropy, max_depth=30 ...............\n"
     ]
    },
    {
     "name": "stderr",
     "output_type": "stream",
     "text": [
      "[Parallel(n_jobs=4)]: Done 1276 tasks      | elapsed: 1068.5min\n"
     ]
    },
    {
     "name": "stdout",
     "output_type": "stream",
     "text": [
      "[CV]  n_estimators=100, criterion=entropy, max_depth=30, score=-0.656069 - 4.2min\n",
      "[CV] n_estimators=110, criterion=entropy, max_depth=30 ...............\n"
     ]
    },
    {
     "name": "stderr",
     "output_type": "stream",
     "text": [
      "[Parallel(n_jobs=4)]: Done 1277 tasks      | elapsed: 1069.1min\n"
     ]
    },
    {
     "name": "stdout",
     "output_type": "stream",
     "text": [
      "[CV]  n_estimators=100, criterion=entropy, max_depth=30, score=-0.660820 - 4.1min\n",
      "[CV] n_estimators=110, criterion=entropy, max_depth=30 ...............\n"
     ]
    },
    {
     "name": "stderr",
     "output_type": "stream",
     "text": [
      "[Parallel(n_jobs=4)]: Done 1278 tasks      | elapsed: 1069.9min\n"
     ]
    },
    {
     "name": "stdout",
     "output_type": "stream",
     "text": [
      "[CV]  n_estimators=100, criterion=entropy, max_depth=30, score=-0.660784 - 4.1min\n",
      "[CV] n_estimators=110, criterion=entropy, max_depth=30 ...............\n"
     ]
    },
    {
     "name": "stderr",
     "output_type": "stream",
     "text": [
      "[Parallel(n_jobs=4)]: Done 1279 tasks      | elapsed: 1070.9min\n"
     ]
    },
    {
     "name": "stdout",
     "output_type": "stream",
     "text": [
      "[CV]  n_estimators=100, criterion=entropy, max_depth=30, score=-0.680399 - 4.1min\n",
      "[CV] n_estimators=110, criterion=entropy, max_depth=30 ...............\n"
     ]
    },
    {
     "name": "stderr",
     "output_type": "stream",
     "text": [
      "[Parallel(n_jobs=4)]: Done 1280 tasks      | elapsed: 1072.6min\n"
     ]
    },
    {
     "name": "stdout",
     "output_type": "stream",
     "text": [
      "[CV]  n_estimators=110, criterion=entropy, max_depth=30, score=-0.666049 - 4.5min\n",
      "[CV] n_estimators=110, criterion=entropy, max_depth=30 ...............\n"
     ]
    },
    {
     "name": "stderr",
     "output_type": "stream",
     "text": [
      "[Parallel(n_jobs=4)]: Done 1281 tasks      | elapsed: 1073.6min\n"
     ]
    },
    {
     "name": "stdout",
     "output_type": "stream",
     "text": [
      "[CV]  n_estimators=110, criterion=entropy, max_depth=30, score=-0.652907 - 4.5min\n",
      "[CV] n_estimators=120, criterion=entropy, max_depth=30 ...............\n"
     ]
    },
    {
     "name": "stderr",
     "output_type": "stream",
     "text": [
      "[Parallel(n_jobs=4)]: Done 1282 tasks      | elapsed: 1074.4min\n"
     ]
    },
    {
     "name": "stdout",
     "output_type": "stream",
     "text": [
      "[CV]  n_estimators=110, criterion=entropy, max_depth=30, score=-0.639887 - 4.5min\n",
      "[CV] n_estimators=120, criterion=entropy, max_depth=30 ...............\n"
     ]
    },
    {
     "name": "stderr",
     "output_type": "stream",
     "text": [
      "[Parallel(n_jobs=4)]: Done 1283 tasks      | elapsed: 1075.5min\n"
     ]
    },
    {
     "name": "stdout",
     "output_type": "stream",
     "text": [
      "[CV]  n_estimators=110, criterion=entropy, max_depth=30, score=-0.658488 - 4.5min\n",
      "[CV] n_estimators=120, criterion=entropy, max_depth=30 ...............\n"
     ]
    },
    {
     "name": "stderr",
     "output_type": "stream",
     "text": [
      "[Parallel(n_jobs=4)]: Done 1284 tasks      | elapsed: 1077.1min\n"
     ]
    },
    {
     "name": "stdout",
     "output_type": "stream",
     "text": [
      "[CV]  n_estimators=110, criterion=entropy, max_depth=30, score=-0.674448 - 4.5min\n",
      "[CV] n_estimators=120, criterion=entropy, max_depth=30 ...............\n"
     ]
    },
    {
     "name": "stderr",
     "output_type": "stream",
     "text": [
      "[Parallel(n_jobs=4)]: Done 1285 tasks      | elapsed: 1078.1min\n"
     ]
    },
    {
     "name": "stdout",
     "output_type": "stream",
     "text": [
      "[CV]  n_estimators=120, criterion=entropy, max_depth=30, score=-0.659293 - 4.9min\n",
      "[CV] n_estimators=120, criterion=entropy, max_depth=30 ...............\n"
     ]
    },
    {
     "name": "stderr",
     "output_type": "stream",
     "text": [
      "[Parallel(n_jobs=4)]: Done 1286 tasks      | elapsed: 1079.3min\n"
     ]
    },
    {
     "name": "stdout",
     "output_type": "stream",
     "text": [
      "[CV]  n_estimators=120, criterion=entropy, max_depth=30, score=-0.644843 - 4.9min\n",
      "[CV] n_estimators=130, criterion=entropy, max_depth=30 ...............\n"
     ]
    },
    {
     "name": "stderr",
     "output_type": "stream",
     "text": [
      "[Parallel(n_jobs=4)]: Done 1287 tasks      | elapsed: 1080.4min\n"
     ]
    },
    {
     "name": "stdout",
     "output_type": "stream",
     "text": [
      "[CV]  n_estimators=120, criterion=entropy, max_depth=30, score=-0.646586 - 5.0min\n",
      "[CV] n_estimators=130, criterion=entropy, max_depth=30 ...............\n"
     ]
    },
    {
     "name": "stderr",
     "output_type": "stream",
     "text": [
      "[Parallel(n_jobs=4)]: Done 1288 tasks      | elapsed: 1082.1min\n"
     ]
    },
    {
     "name": "stdout",
     "output_type": "stream",
     "text": [
      "[CV]  n_estimators=120, criterion=entropy, max_depth=30, score=-0.651542 -33.2min\n",
      "[CV] n_estimators=130, criterion=entropy, max_depth=30 ...............\n"
     ]
    },
    {
     "name": "stderr",
     "output_type": "stream",
     "text": [
      "[Parallel(n_jobs=4)]: Done 1289 tasks      | elapsed: 1111.3min\n"
     ]
    },
    {
     "name": "stdout",
     "output_type": "stream",
     "text": [
      "[CV]  n_estimators=120, criterion=entropy, max_depth=30, score=-0.670303 -36.9min\n",
      "[CV] n_estimators=130, criterion=entropy, max_depth=30 ...............\n"
     ]
    },
    {
     "name": "stderr",
     "output_type": "stream",
     "text": [
      "[Parallel(n_jobs=4)]: Done 1290 tasks      | elapsed: 1116.2min\n"
     ]
    },
    {
     "name": "stdout",
     "output_type": "stream",
     "text": [
      "[CV]  n_estimators=130, criterion=entropy, max_depth=30, score=-0.664891 -40.6min\n"
     ]
    },
    {
     "name": "stderr",
     "output_type": "stream",
     "text": [
      "[Parallel(n_jobs=4)]: Done 1291 tasks      | elapsed: 1121.0min\n"
     ]
    },
    {
     "name": "stdout",
     "output_type": "stream",
     "text": [
      "[CV] n_estimators=130, criterion=entropy, max_depth=30 ...............\n",
      "[CV]  n_estimators=130, criterion=entropy, max_depth=30, score=-0.645641 -48.8min\n",
      "[CV] n_estimators=140, criterion=entropy, max_depth=30 ...............\n"
     ]
    },
    {
     "name": "stderr",
     "output_type": "stream",
     "text": [
      "[Parallel(n_jobs=4)]: Done 1292 tasks      | elapsed: 1130.9min\n"
     ]
    },
    {
     "name": "stdout",
     "output_type": "stream",
     "text": [
      "[CV]  n_estimators=130, criterion=entropy, max_depth=30, score=-0.643110 -66.7min\n",
      "[CV] n_estimators=140, criterion=entropy, max_depth=30 ...............\n"
     ]
    },
    {
     "name": "stderr",
     "output_type": "stream",
     "text": [
      "[Parallel(n_jobs=4)]: Done 1293 tasks      | elapsed: 1178.1min\n"
     ]
    },
    {
     "name": "stdout",
     "output_type": "stream",
     "text": [
      "[CV]  n_estimators=130, criterion=entropy, max_depth=30, score=-0.644781 -63.1min\n",
      "[CV] n_estimators=140, criterion=entropy, max_depth=30 ...............\n"
     ]
    },
    {
     "name": "stderr",
     "output_type": "stream",
     "text": [
      "[Parallel(n_jobs=4)]: Done 1294 tasks      | elapsed: 1179.3min\n"
     ]
    },
    {
     "name": "stdout",
     "output_type": "stream",
     "text": [
      "[CV]  n_estimators=130, criterion=entropy, max_depth=30, score=-0.662854 -59.8min\n",
      "[CV] n_estimators=140, criterion=entropy, max_depth=30 ...............\n"
     ]
    },
    {
     "name": "stderr",
     "output_type": "stream",
     "text": [
      "[Parallel(n_jobs=4)]: Done 1295 tasks      | elapsed: 1180.8min\n"
     ]
    },
    {
     "name": "stdout",
     "output_type": "stream",
     "text": [
      "[CV]  n_estimators=140, criterion=entropy, max_depth=30, score=-0.657076 -52.0min\n",
      "[CV] n_estimators=140, criterion=entropy, max_depth=30 ...............\n"
     ]
    },
    {
     "name": "stderr",
     "output_type": "stream",
     "text": [
      "[Parallel(n_jobs=4)]: Done 1296 tasks      | elapsed: 1182.9min\n"
     ]
    },
    {
     "name": "stdout",
     "output_type": "stream",
     "text": [
      "[CV]  n_estimators=140, criterion=entropy, max_depth=30, score=-0.642112 - 5.9min\n",
      "[CV] n_estimators=50, criterion=entropy, max_depth=32 ................\n"
     ]
    },
    {
     "name": "stderr",
     "output_type": "stream",
     "text": [
      "[Parallel(n_jobs=4)]: Done 1297 tasks      | elapsed: 1184.0min\n"
     ]
    },
    {
     "name": "stdout",
     "output_type": "stream",
     "text": [
      "[CV]  n_estimators=140, criterion=entropy, max_depth=30, score=-0.641317 - 5.8min\n",
      "[CV] n_estimators=50, criterion=entropy, max_depth=32 ................\n"
     ]
    },
    {
     "name": "stderr",
     "output_type": "stream",
     "text": [
      "[Parallel(n_jobs=4)]: Done 1298 tasks      | elapsed: 1185.1min\n"
     ]
    },
    {
     "name": "stdout",
     "output_type": "stream",
     "text": [
      "[CV]  n_estimators=50, criterion=entropy, max_depth=32, score=-0.724365 - 2.1min\n",
      "[CV] n_estimators=50, criterion=entropy, max_depth=32 ................\n"
     ]
    },
    {
     "name": "stderr",
     "output_type": "stream",
     "text": [
      "[Parallel(n_jobs=4)]: Done 1299 tasks      | elapsed: 1186.1min\n"
     ]
    },
    {
     "name": "stdout",
     "output_type": "stream",
     "text": [
      "[CV]  n_estimators=140, criterion=entropy, max_depth=30, score=-0.648466 - 5.8min\n",
      "[CV] n_estimators=50, criterion=entropy, max_depth=32 ................\n"
     ]
    },
    {
     "name": "stderr",
     "output_type": "stream",
     "text": [
      "[Parallel(n_jobs=4)]: Done 1300 tasks      | elapsed: 1186.7min\n"
     ]
    },
    {
     "name": "stdout",
     "output_type": "stream",
     "text": [
      "[CV]  n_estimators=50, criterion=entropy, max_depth=32, score=-0.687280 - 2.1min\n",
      "[CV] n_estimators=50, criterion=entropy, max_depth=32 ................\n"
     ]
    },
    {
     "name": "stderr",
     "output_type": "stream",
     "text": [
      "[Parallel(n_jobs=4)]: Done 1301 tasks      | elapsed: 1187.3min\n"
     ]
    },
    {
     "name": "stdout",
     "output_type": "stream",
     "text": [
      "[CV]  n_estimators=50, criterion=entropy, max_depth=32, score=-0.709778 - 2.1min\n",
      "[CV] n_estimators=60, criterion=entropy, max_depth=32 ................\n"
     ]
    },
    {
     "name": "stderr",
     "output_type": "stream",
     "text": [
      "[Parallel(n_jobs=4)]: Done 1302 tasks      | elapsed: 1188.2min\n"
     ]
    },
    {
     "name": "stdout",
     "output_type": "stream",
     "text": [
      "[CV]  n_estimators=140, criterion=entropy, max_depth=30, score=-0.661307 - 5.8min\n",
      "[CV] n_estimators=60, criterion=entropy, max_depth=32 ................\n"
     ]
    },
    {
     "name": "stderr",
     "output_type": "stream",
     "text": [
      "[Parallel(n_jobs=4)]: Done 1303 tasks      | elapsed: 1188.7min\n"
     ]
    },
    {
     "name": "stdout",
     "output_type": "stream",
     "text": [
      "[CV]  n_estimators=50, criterion=entropy, max_depth=32, score=-0.731433 - 2.1min\n",
      "[CV] n_estimators=60, criterion=entropy, max_depth=32 ................\n"
     ]
    },
    {
     "name": "stderr",
     "output_type": "stream",
     "text": [
      "[Parallel(n_jobs=4)]: Done 1304 tasks      | elapsed: 1188.8min\n"
     ]
    },
    {
     "name": "stdout",
     "output_type": "stream",
     "text": [
      "[CV]  n_estimators=50, criterion=entropy, max_depth=32, score=-0.733756 - 2.1min\n",
      "[CV] n_estimators=60, criterion=entropy, max_depth=32 ................\n"
     ]
    },
    {
     "name": "stderr",
     "output_type": "stream",
     "text": [
      "[Parallel(n_jobs=4)]: Done 1305 tasks      | elapsed: 1189.4min\n"
     ]
    },
    {
     "name": "stdout",
     "output_type": "stream",
     "text": [
      "[CV]  n_estimators=60, criterion=entropy, max_depth=32, score=-0.696126 - 2.5min\n",
      "[CV] n_estimators=60, criterion=entropy, max_depth=32 ................\n"
     ]
    },
    {
     "name": "stderr",
     "output_type": "stream",
     "text": [
      "[Parallel(n_jobs=4)]: Done 1306 tasks      | elapsed: 1190.7min\n"
     ]
    },
    {
     "name": "stdout",
     "output_type": "stream",
     "text": [
      "[CV]  n_estimators=60, criterion=entropy, max_depth=32, score=-0.677047 - 2.5min\n",
      "[CV] n_estimators=70, criterion=entropy, max_depth=32 ................\n"
     ]
    },
    {
     "name": "stderr",
     "output_type": "stream",
     "text": [
      "[Parallel(n_jobs=4)]: Done 1307 tasks      | elapsed: 1191.3min\n"
     ]
    },
    {
     "name": "stdout",
     "output_type": "stream",
     "text": [
      "[CV]  n_estimators=60, criterion=entropy, max_depth=32, score=-0.687170 - 2.5min\n",
      "[CV] n_estimators=70, criterion=entropy, max_depth=32 ................\n"
     ]
    },
    {
     "name": "stderr",
     "output_type": "stream",
     "text": [
      "[Parallel(n_jobs=4)]: Done 1308 tasks      | elapsed: 1191.3min\n"
     ]
    },
    {
     "name": "stdout",
     "output_type": "stream",
     "text": [
      "[CV]  n_estimators=60, criterion=entropy, max_depth=32, score=-0.692778 - 2.5min\n",
      "[CV] n_estimators=70, criterion=entropy, max_depth=32 ................\n"
     ]
    },
    {
     "name": "stderr",
     "output_type": "stream",
     "text": [
      "[Parallel(n_jobs=4)]: Done 1309 tasks      | elapsed: 1191.9min\n"
     ]
    },
    {
     "name": "stdout",
     "output_type": "stream",
     "text": [
      "[CV]  n_estimators=60, criterion=entropy, max_depth=32, score=-0.698565 - 2.8min\n",
      "[CV] n_estimators=70, criterion=entropy, max_depth=32 ................\n"
     ]
    },
    {
     "name": "stderr",
     "output_type": "stream",
     "text": [
      "[Parallel(n_jobs=4)]: Done 1310 tasks      | elapsed: 1193.5min\n"
     ]
    },
    {
     "name": "stdout",
     "output_type": "stream",
     "text": [
      "[CV]  n_estimators=70, criterion=entropy, max_depth=32, score=-0.676995 - 3.4min\n",
      "[CV] n_estimators=70, criterion=entropy, max_depth=32 ................\n"
     ]
    },
    {
     "name": "stderr",
     "output_type": "stream",
     "text": [
      "[Parallel(n_jobs=4)]: Done 1311 tasks      | elapsed: 1194.6min\n"
     ]
    },
    {
     "name": "stdout",
     "output_type": "stream",
     "text": [
      "[CV]  n_estimators=70, criterion=entropy, max_depth=32, score=-0.660825 - 3.4min\n",
      "[CV] n_estimators=80, criterion=entropy, max_depth=32 ................\n"
     ]
    },
    {
     "name": "stderr",
     "output_type": "stream",
     "text": [
      "[Parallel(n_jobs=4)]: Done 1312 tasks      | elapsed: 1194.7min\n"
     ]
    },
    {
     "name": "stdout",
     "output_type": "stream",
     "text": [
      "[CV]  n_estimators=70, criterion=entropy, max_depth=32, score=-0.669237 - 3.4min\n",
      "[CV] n_estimators=80, criterion=entropy, max_depth=32 ................\n"
     ]
    },
    {
     "name": "stderr",
     "output_type": "stream",
     "text": [
      "[Parallel(n_jobs=4)]: Done 1313 tasks      | elapsed: 1195.3min\n"
     ]
    },
    {
     "name": "stdout",
     "output_type": "stream",
     "text": [
      "[CV]  n_estimators=70, criterion=entropy, max_depth=32, score=-0.683974 - 3.2min\n",
      "[CV] n_estimators=80, criterion=entropy, max_depth=32 ................\n"
     ]
    },
    {
     "name": "stderr",
     "output_type": "stream",
     "text": [
      "[Parallel(n_jobs=4)]: Done 1314 tasks      | elapsed: 1196.7min\n"
     ]
    },
    {
     "name": "stdout",
     "output_type": "stream",
     "text": [
      "[CV]  n_estimators=70, criterion=entropy, max_depth=32, score=-0.694183 - 3.0min\n",
      "[CV] n_estimators=80, criterion=entropy, max_depth=32 ................\n"
     ]
    },
    {
     "name": "stderr",
     "output_type": "stream",
     "text": [
      "[Parallel(n_jobs=4)]: Done 1315 tasks      | elapsed: 1197.7min\n"
     ]
    },
    {
     "name": "stdout",
     "output_type": "stream",
     "text": [
      "[CV]  n_estimators=80, criterion=entropy, max_depth=32, score=-0.674087 - 3.4min\n",
      "[CV] n_estimators=80, criterion=entropy, max_depth=32 ................\n"
     ]
    },
    {
     "name": "stderr",
     "output_type": "stream",
     "text": [
      "[Parallel(n_jobs=4)]: Done 1316 tasks      | elapsed: 1198.1min\n"
     ]
    },
    {
     "name": "stdout",
     "output_type": "stream",
     "text": [
      "[CV]  n_estimators=80, criterion=entropy, max_depth=32, score=-0.658237 - 3.4min\n",
      "[CV] n_estimators=90, criterion=entropy, max_depth=32 ................\n"
     ]
    },
    {
     "name": "stderr",
     "output_type": "stream",
     "text": [
      "[Parallel(n_jobs=4)]: Done 1317 tasks      | elapsed: 1198.7min\n"
     ]
    },
    {
     "name": "stdout",
     "output_type": "stream",
     "text": [
      "[CV]  n_estimators=80, criterion=entropy, max_depth=32, score=-0.664127 - 3.4min\n",
      "[CV] n_estimators=90, criterion=entropy, max_depth=32 ................\n"
     ]
    },
    {
     "name": "stderr",
     "output_type": "stream",
     "text": [
      "[Parallel(n_jobs=4)]: Done 1318 tasks      | elapsed: 1200.1min\n"
     ]
    },
    {
     "name": "stdout",
     "output_type": "stream",
     "text": [
      "[CV]  n_estimators=80, criterion=entropy, max_depth=32, score=-0.674726 - 3.4min\n",
      "[CV] n_estimators=90, criterion=entropy, max_depth=32 ................\n"
     ]
    },
    {
     "name": "stderr",
     "output_type": "stream",
     "text": [
      "[Parallel(n_jobs=4)]: Done 1319 tasks      | elapsed: 1201.0min\n"
     ]
    },
    {
     "name": "stdout",
     "output_type": "stream",
     "text": [
      "[CV]  n_estimators=80, criterion=entropy, max_depth=32, score=-0.699481 - 3.4min\n",
      "[CV] n_estimators=90, criterion=entropy, max_depth=32 ................\n"
     ]
    },
    {
     "name": "stderr",
     "output_type": "stream",
     "text": [
      "[Parallel(n_jobs=4)]: Done 1320 tasks      | elapsed: 1201.5min\n"
     ]
    },
    {
     "name": "stdout",
     "output_type": "stream",
     "text": [
      "[CV]  n_estimators=90, criterion=entropy, max_depth=32, score=-0.663291 - 3.8min\n",
      "[CV] n_estimators=90, criterion=entropy, max_depth=32 ................\n"
     ]
    },
    {
     "name": "stderr",
     "output_type": "stream",
     "text": [
      "[Parallel(n_jobs=4)]: Done 1321 tasks      | elapsed: 1202.5min\n"
     ]
    },
    {
     "name": "stdout",
     "output_type": "stream",
     "text": [
      "[CV]  n_estimators=90, criterion=entropy, max_depth=32, score=-0.644023 - 3.7min\n",
      "[CV] n_estimators=100, criterion=entropy, max_depth=32 ...............\n"
     ]
    },
    {
     "name": "stderr",
     "output_type": "stream",
     "text": [
      "[Parallel(n_jobs=4)]: Done 1322 tasks      | elapsed: 1203.8min\n"
     ]
    },
    {
     "name": "stdout",
     "output_type": "stream",
     "text": [
      "[CV]  n_estimators=90, criterion=entropy, max_depth=32, score=-0.659082 - 3.7min\n",
      "[CV] n_estimators=100, criterion=entropy, max_depth=32 ...............\n"
     ]
    },
    {
     "name": "stderr",
     "output_type": "stream",
     "text": [
      "[Parallel(n_jobs=4)]: Done 1323 tasks      | elapsed: 1204.8min\n"
     ]
    },
    {
     "name": "stdout",
     "output_type": "stream",
     "text": [
      "[CV]  n_estimators=90, criterion=entropy, max_depth=32, score=-0.661117 - 3.7min\n",
      "[CV] n_estimators=100, criterion=entropy, max_depth=32 ...............\n"
     ]
    },
    {
     "name": "stderr",
     "output_type": "stream",
     "text": [
      "[Parallel(n_jobs=4)]: Done 1324 tasks      | elapsed: 1205.2min\n"
     ]
    },
    {
     "name": "stdout",
     "output_type": "stream",
     "text": [
      "[CV]  n_estimators=90, criterion=entropy, max_depth=32, score=-0.681137 - 3.7min\n",
      "[CV] n_estimators=100, criterion=entropy, max_depth=32 ...............\n"
     ]
    },
    {
     "name": "stderr",
     "output_type": "stream",
     "text": [
      "[Parallel(n_jobs=4)]: Done 1325 tasks      | elapsed: 1206.2min\n"
     ]
    },
    {
     "name": "stdout",
     "output_type": "stream",
     "text": [
      "[CV]  n_estimators=100, criterion=entropy, max_depth=32, score=-0.661213 - 4.2min\n",
      "[CV] n_estimators=100, criterion=entropy, max_depth=32 ...............\n"
     ]
    },
    {
     "name": "stderr",
     "output_type": "stream",
     "text": [
      "[Parallel(n_jobs=4)]: Done 1326 tasks      | elapsed: 1208.0min\n"
     ]
    },
    {
     "name": "stdout",
     "output_type": "stream",
     "text": [
      "[CV]  n_estimators=100, criterion=entropy, max_depth=32, score=-0.655973 - 4.3min\n",
      "[CV] n_estimators=110, criterion=entropy, max_depth=32 ...............\n"
     ]
    },
    {
     "name": "stderr",
     "output_type": "stream",
     "text": [
      "[Parallel(n_jobs=4)]: Done 1327 tasks      | elapsed: 1209.0min\n"
     ]
    },
    {
     "name": "stdout",
     "output_type": "stream",
     "text": [
      "[CV]  n_estimators=100, criterion=entropy, max_depth=32, score=-0.658038 - 4.3min\n",
      "[CV] n_estimators=110, criterion=entropy, max_depth=32 ...............\n"
     ]
    },
    {
     "name": "stderr",
     "output_type": "stream",
     "text": [
      "[Parallel(n_jobs=4)]: Done 1328 tasks      | elapsed: 1209.5min\n"
     ]
    },
    {
     "name": "stdout",
     "output_type": "stream",
     "text": [
      "[CV]  n_estimators=100, criterion=entropy, max_depth=32, score=-0.662544 - 4.3min\n",
      "[CV] n_estimators=110, criterion=entropy, max_depth=32 ...............\n"
     ]
    },
    {
     "name": "stderr",
     "output_type": "stream",
     "text": [
      "[Parallel(n_jobs=4)]: Done 1329 tasks      | elapsed: 1210.5min\n"
     ]
    },
    {
     "name": "stdout",
     "output_type": "stream",
     "text": [
      "[CV]  n_estimators=100, criterion=entropy, max_depth=32, score=-0.680093 - 4.3min\n",
      "[CV] n_estimators=110, criterion=entropy, max_depth=32 ...............\n"
     ]
    },
    {
     "name": "stderr",
     "output_type": "stream",
     "text": [
      "[Parallel(n_jobs=4)]: Done 1330 tasks      | elapsed: 1212.3min\n"
     ]
    },
    {
     "name": "stdout",
     "output_type": "stream",
     "text": [
      "[CV]  n_estimators=110, criterion=entropy, max_depth=32, score=-0.655456 - 4.6min\n",
      "[CV] n_estimators=110, criterion=entropy, max_depth=32 ...............\n"
     ]
    },
    {
     "name": "stderr",
     "output_type": "stream",
     "text": [
      "[Parallel(n_jobs=4)]: Done 1331 tasks      | elapsed: 1213.6min\n"
     ]
    },
    {
     "name": "stdout",
     "output_type": "stream",
     "text": [
      "[CV]  n_estimators=110, criterion=entropy, max_depth=32, score=-0.643442 - 4.6min\n",
      "[CV] n_estimators=120, criterion=entropy, max_depth=32 ...............\n"
     ]
    },
    {
     "name": "stderr",
     "output_type": "stream",
     "text": [
      "[Parallel(n_jobs=4)]: Done 1332 tasks      | elapsed: 1214.1min\n"
     ]
    },
    {
     "name": "stdout",
     "output_type": "stream",
     "text": [
      "[CV]  n_estimators=110, criterion=entropy, max_depth=32, score=-0.651889 - 4.6min\n",
      "[CV] n_estimators=120, criterion=entropy, max_depth=32 ...............\n"
     ]
    },
    {
     "name": "stderr",
     "output_type": "stream",
     "text": [
      "[Parallel(n_jobs=4)]: Done 1333 tasks      | elapsed: 1215.1min\n"
     ]
    },
    {
     "name": "stdout",
     "output_type": "stream",
     "text": [
      "[CV]  n_estimators=110, criterion=entropy, max_depth=32, score=-0.658653 - 4.7min\n",
      "[CV] n_estimators=120, criterion=entropy, max_depth=32 ...............\n"
     ]
    },
    {
     "name": "stderr",
     "output_type": "stream",
     "text": [
      "[Parallel(n_jobs=4)]: Done 1334 tasks      | elapsed: 1217.0min\n"
     ]
    },
    {
     "name": "stdout",
     "output_type": "stream",
     "text": [
      "[CV]  n_estimators=110, criterion=entropy, max_depth=32, score=-0.680158 - 4.8min\n",
      "[CV] n_estimators=120, criterion=entropy, max_depth=32 ...............\n"
     ]
    },
    {
     "name": "stderr",
     "output_type": "stream",
     "text": [
      "[Parallel(n_jobs=4)]: Done 1335 tasks      | elapsed: 1218.4min\n"
     ]
    },
    {
     "name": "stdout",
     "output_type": "stream",
     "text": [
      "[CV]  n_estimators=120, criterion=entropy, max_depth=32, score=-0.667021 - 5.2min\n",
      "[CV] n_estimators=120, criterion=entropy, max_depth=32 ...............\n"
     ]
    },
    {
     "name": "stderr",
     "output_type": "stream",
     "text": [
      "[Parallel(n_jobs=4)]: Done 1336 tasks      | elapsed: 1219.3min\n"
     ]
    },
    {
     "name": "stdout",
     "output_type": "stream",
     "text": [
      "[CV]  n_estimators=120, criterion=entropy, max_depth=32, score=-0.649289 - 5.2min\n",
      "[CV] n_estimators=130, criterion=entropy, max_depth=32 ...............\n"
     ]
    },
    {
     "name": "stderr",
     "output_type": "stream",
     "text": [
      "[Parallel(n_jobs=4)]: Done 1337 tasks      | elapsed: 1220.4min\n"
     ]
    },
    {
     "name": "stdout",
     "output_type": "stream",
     "text": [
      "[CV]  n_estimators=120, criterion=entropy, max_depth=32, score=-0.649726 - 5.2min\n",
      "[CV] n_estimators=130, criterion=entropy, max_depth=32 ...............\n"
     ]
    },
    {
     "name": "stderr",
     "output_type": "stream",
     "text": [
      "[Parallel(n_jobs=4)]: Done 1338 tasks      | elapsed: 1222.2min\n"
     ]
    },
    {
     "name": "stdout",
     "output_type": "stream",
     "text": [
      "[CV]  n_estimators=120, criterion=entropy, max_depth=32, score=-0.659212 - 5.2min\n",
      "[CV] n_estimators=130, criterion=entropy, max_depth=32 ...............\n"
     ]
    },
    {
     "name": "stderr",
     "output_type": "stream",
     "text": [
      "[Parallel(n_jobs=4)]: Done 1339 tasks      | elapsed: 1223.6min\n"
     ]
    },
    {
     "name": "stdout",
     "output_type": "stream",
     "text": [
      "[CV]  n_estimators=120, criterion=entropy, max_depth=32, score=-0.667890 - 5.2min\n",
      "[CV] n_estimators=130, criterion=entropy, max_depth=32 ...............\n"
     ]
    },
    {
     "name": "stderr",
     "output_type": "stream",
     "text": [
      "[Parallel(n_jobs=4)]: Done 1340 tasks      | elapsed: 1224.5min\n"
     ]
    },
    {
     "name": "stdout",
     "output_type": "stream",
     "text": [
      "[CV]  n_estimators=130, criterion=entropy, max_depth=32, score=-0.652414 - 5.5min\n",
      "[CV] n_estimators=130, criterion=entropy, max_depth=32 ...............\n"
     ]
    },
    {
     "name": "stderr",
     "output_type": "stream",
     "text": [
      "[Parallel(n_jobs=4)]: Done 1341 tasks      | elapsed: 1225.9min\n"
     ]
    },
    {
     "name": "stdout",
     "output_type": "stream",
     "text": [
      "[CV]  n_estimators=130, criterion=entropy, max_depth=32, score=-0.643794 - 5.4min\n",
      "[CV] n_estimators=140, criterion=entropy, max_depth=32 ...............\n"
     ]
    },
    {
     "name": "stderr",
     "output_type": "stream",
     "text": [
      "[Parallel(n_jobs=4)]: Done 1342 tasks      | elapsed: 1227.7min\n"
     ]
    },
    {
     "name": "stdout",
     "output_type": "stream",
     "text": [
      "[CV]  n_estimators=130, criterion=entropy, max_depth=32, score=-0.649467 - 5.4min\n",
      "[CV] n_estimators=140, criterion=entropy, max_depth=32 ...............\n"
     ]
    },
    {
     "name": "stderr",
     "output_type": "stream",
     "text": [
      "[Parallel(n_jobs=4)]: Done 1343 tasks      | elapsed: 1229.0min\n"
     ]
    },
    {
     "name": "stdout",
     "output_type": "stream",
     "text": [
      "[CV]  n_estimators=130, criterion=entropy, max_depth=32, score=-0.660259 - 5.4min\n",
      "[CV] n_estimators=140, criterion=entropy, max_depth=32 ...............\n"
     ]
    },
    {
     "name": "stderr",
     "output_type": "stream",
     "text": [
      "[Parallel(n_jobs=4)]: Done 1344 tasks      | elapsed: 1229.9min\n"
     ]
    },
    {
     "name": "stdout",
     "output_type": "stream",
     "text": [
      "[CV]  n_estimators=130, criterion=entropy, max_depth=32, score=-0.658872 - 5.4min\n",
      "[CV] n_estimators=140, criterion=entropy, max_depth=32 ...............\n"
     ]
    },
    {
     "name": "stderr",
     "output_type": "stream",
     "text": [
      "[Parallel(n_jobs=4)]: Done 1345 tasks      | elapsed: 1231.3min\n"
     ]
    },
    {
     "name": "stdout",
     "output_type": "stream",
     "text": [
      "[CV]  n_estimators=140, criterion=entropy, max_depth=32, score=-0.660092 - 6.0min\n",
      "[CV] n_estimators=140, criterion=entropy, max_depth=32 ...............\n"
     ]
    },
    {
     "name": "stderr",
     "output_type": "stream",
     "text": [
      "[Parallel(n_jobs=4)]: Done 1346 tasks      | elapsed: 1233.6min\n"
     ]
    },
    {
     "name": "stdout",
     "output_type": "stream",
     "text": [
      "[CV]  n_estimators=140, criterion=entropy, max_depth=32, score=-0.642626 - 6.0min\n",
      "[CV] n_estimators=50, criterion=entropy, max_depth=34 ................\n"
     ]
    },
    {
     "name": "stderr",
     "output_type": "stream",
     "text": [
      "[Parallel(n_jobs=4)]: Done 1347 tasks      | elapsed: 1235.0min\n"
     ]
    },
    {
     "name": "stdout",
     "output_type": "stream",
     "text": [
      "[CV]  n_estimators=140, criterion=entropy, max_depth=32, score=-0.648953 - 6.0min\n",
      "[CV] n_estimators=50, criterion=entropy, max_depth=34 ................\n"
     ]
    },
    {
     "name": "stderr",
     "output_type": "stream",
     "text": [
      "[Parallel(n_jobs=4)]: Done 1348 tasks      | elapsed: 1235.9min\n"
     ]
    },
    {
     "name": "stdout",
     "output_type": "stream",
     "text": [
      "[CV]  n_estimators=50, criterion=entropy, max_depth=34, score=-0.722688 - 2.1min\n",
      "[CV] n_estimators=50, criterion=entropy, max_depth=34 ................\n"
     ]
    },
    {
     "name": "stderr",
     "output_type": "stream",
     "text": [
      "[Parallel(n_jobs=4)]: Done 1349 tasks      | elapsed: 1237.0min\n"
     ]
    },
    {
     "name": "stdout",
     "output_type": "stream",
     "text": [
      "[CV]  n_estimators=140, criterion=entropy, max_depth=32, score=-0.652548 - 5.9min\n",
      "[CV] n_estimators=50, criterion=entropy, max_depth=34 ................\n"
     ]
    },
    {
     "name": "stderr",
     "output_type": "stream",
     "text": [
      "[Parallel(n_jobs=4)]: Done 1350 tasks      | elapsed: 1237.2min\n"
     ]
    },
    {
     "name": "stdout",
     "output_type": "stream",
     "text": [
      "[CV]  n_estimators=50, criterion=entropy, max_depth=34, score=-0.696524 - 2.1min\n",
      "[CV] n_estimators=50, criterion=entropy, max_depth=34 ................\n"
     ]
    },
    {
     "name": "stderr",
     "output_type": "stream",
     "text": [
      "[Parallel(n_jobs=4)]: Done 1351 tasks      | elapsed: 1237.9min\n"
     ]
    },
    {
     "name": "stdout",
     "output_type": "stream",
     "text": [
      "[CV]  n_estimators=50, criterion=entropy, max_depth=34, score=-0.719136 - 2.1min\n",
      "[CV] n_estimators=60, criterion=entropy, max_depth=34 ................\n"
     ]
    },
    {
     "name": "stderr",
     "output_type": "stream",
     "text": [
      "[Parallel(n_jobs=4)]: Done 1352 tasks      | elapsed: 1239.2min\n"
     ]
    },
    {
     "name": "stdout",
     "output_type": "stream",
     "text": [
      "[CV]  n_estimators=50, criterion=entropy, max_depth=34, score=-0.705866 - 2.1min\n",
      "[CV] n_estimators=60, criterion=entropy, max_depth=34 ................\n"
     ]
    },
    {
     "name": "stderr",
     "output_type": "stream",
     "text": [
      "[Parallel(n_jobs=4)]: Done 1353 tasks      | elapsed: 1239.3min\n"
     ]
    },
    {
     "name": "stdout",
     "output_type": "stream",
     "text": [
      "[CV]  n_estimators=140, criterion=entropy, max_depth=32, score=-0.657189 - 5.8min\n",
      "[CV] n_estimators=60, criterion=entropy, max_depth=34 ................\n"
     ]
    },
    {
     "name": "stderr",
     "output_type": "stream",
     "text": [
      "[Parallel(n_jobs=4)]: Done 1354 tasks      | elapsed: 1239.5min\n"
     ]
    },
    {
     "name": "stdout",
     "output_type": "stream",
     "text": [
      "[CV]  n_estimators=50, criterion=entropy, max_depth=34, score=-0.728466 - 2.1min\n",
      "[CV] n_estimators=60, criterion=entropy, max_depth=34 ................\n"
     ]
    },
    {
     "name": "stderr",
     "output_type": "stream",
     "text": [
      "[Parallel(n_jobs=4)]: Done 1355 tasks      | elapsed: 1240.1min\n"
     ]
    },
    {
     "name": "stdout",
     "output_type": "stream",
     "text": [
      "[CV]  n_estimators=60, criterion=entropy, max_depth=34, score=-0.692566 - 2.6min\n",
      "[CV] n_estimators=60, criterion=entropy, max_depth=34 ................\n"
     ]
    },
    {
     "name": "stderr",
     "output_type": "stream",
     "text": [
      "[Parallel(n_jobs=4)]: Done 1356 tasks      | elapsed: 1241.7min\n"
     ]
    },
    {
     "name": "stdout",
     "output_type": "stream",
     "text": [
      "[CV]  n_estimators=60, criterion=entropy, max_depth=34, score=-0.693130 - 2.6min\n",
      "[CV] n_estimators=70, criterion=entropy, max_depth=34 ................\n"
     ]
    },
    {
     "name": "stderr",
     "output_type": "stream",
     "text": [
      "[Parallel(n_jobs=4)]: Done 1357 tasks      | elapsed: 1241.9min\n"
     ]
    },
    {
     "name": "stdout",
     "output_type": "stream",
     "text": [
      "[CV]  n_estimators=60, criterion=entropy, max_depth=34, score=-0.717294 - 2.6min\n",
      "[CV] n_estimators=70, criterion=entropy, max_depth=34 ................\n"
     ]
    },
    {
     "name": "stderr",
     "output_type": "stream",
     "text": [
      "[Parallel(n_jobs=4)]: Done 1358 tasks      | elapsed: 1242.0min\n"
     ]
    },
    {
     "name": "stdout",
     "output_type": "stream",
     "text": [
      "[CV]  n_estimators=60, criterion=entropy, max_depth=34, score=-0.673588 - 2.8min\n",
      "[CV] n_estimators=70, criterion=entropy, max_depth=34 ................\n"
     ]
    },
    {
     "name": "stderr",
     "output_type": "stream",
     "text": [
      "[Parallel(n_jobs=4)]: Done 1359 tasks      | elapsed: 1242.9min\n"
     ]
    },
    {
     "name": "stdout",
     "output_type": "stream",
     "text": [
      "[CV]  n_estimators=60, criterion=entropy, max_depth=34, score=-0.719372 - 2.9min\n",
      "[CV] n_estimators=70, criterion=entropy, max_depth=34 ................\n"
     ]
    },
    {
     "name": "stderr",
     "output_type": "stream",
     "text": [
      "[Parallel(n_jobs=4)]: Done 1360 tasks      | elapsed: 1244.6min\n"
     ]
    },
    {
     "name": "stdout",
     "output_type": "stream",
     "text": [
      "[CV]  n_estimators=70, criterion=entropy, max_depth=34, score=-0.691372 - 3.3min\n",
      "[CV] n_estimators=70, criterion=entropy, max_depth=34 ................\n"
     ]
    },
    {
     "name": "stderr",
     "output_type": "stream",
     "text": [
      "[Parallel(n_jobs=4)]: Done 1361 tasks      | elapsed: 1245.2min\n"
     ]
    },
    {
     "name": "stdout",
     "output_type": "stream",
     "text": [
      "[CV]  n_estimators=70, criterion=entropy, max_depth=34, score=-0.676655 - 3.3min\n",
      "[CV] n_estimators=80, criterion=entropy, max_depth=34 ................\n"
     ]
    },
    {
     "name": "stderr",
     "output_type": "stream",
     "text": [
      "[Parallel(n_jobs=4)]: Done 1362 tasks      | elapsed: 1245.4min\n"
     ]
    },
    {
     "name": "stdout",
     "output_type": "stream",
     "text": [
      "[CV]  n_estimators=70, criterion=entropy, max_depth=34, score=-0.693430 - 3.0min\n",
      "[CV] n_estimators=80, criterion=entropy, max_depth=34 ................\n"
     ]
    },
    {
     "name": "stderr",
     "output_type": "stream",
     "text": [
      "[Parallel(n_jobs=4)]: Done 1363 tasks      | elapsed: 1245.9min\n"
     ]
    },
    {
     "name": "stdout",
     "output_type": "stream",
     "text": [
      "[CV]  n_estimators=70, criterion=entropy, max_depth=34, score=-0.676576 - 3.1min\n",
      "[CV] n_estimators=80, criterion=entropy, max_depth=34 ................\n"
     ]
    },
    {
     "name": "stderr",
     "output_type": "stream",
     "text": [
      "[Parallel(n_jobs=4)]: Done 1364 tasks      | elapsed: 1247.8min\n"
     ]
    },
    {
     "name": "stdout",
     "output_type": "stream",
     "text": [
      "[CV]  n_estimators=70, criterion=entropy, max_depth=34, score=-0.703458 - 3.1min\n",
      "[CV] n_estimators=80, criterion=entropy, max_depth=34 ................\n"
     ]
    },
    {
     "name": "stderr",
     "output_type": "stream",
     "text": [
      "[Parallel(n_jobs=4)]: Done 1365 tasks      | elapsed: 1248.4min\n"
     ]
    },
    {
     "name": "stdout",
     "output_type": "stream",
     "text": [
      "[CV]  n_estimators=80, criterion=entropy, max_depth=34, score=-0.673262 - 3.6min\n",
      "[CV] n_estimators=80, criterion=entropy, max_depth=34 ................\n"
     ]
    },
    {
     "name": "stderr",
     "output_type": "stream",
     "text": [
      "[Parallel(n_jobs=4)]: Done 1366 tasks      | elapsed: 1248.9min\n"
     ]
    },
    {
     "name": "stdout",
     "output_type": "stream",
     "text": [
      "[CV]  n_estimators=80, criterion=entropy, max_depth=34, score=-0.661178 - 3.6min\n",
      "[CV] n_estimators=90, criterion=entropy, max_depth=34 ................\n"
     ]
    },
    {
     "name": "stderr",
     "output_type": "stream",
     "text": [
      "[Parallel(n_jobs=4)]: Done 1367 tasks      | elapsed: 1249.5min\n"
     ]
    },
    {
     "name": "stdout",
     "output_type": "stream",
     "text": [
      "[CV]  n_estimators=80, criterion=entropy, max_depth=34, score=-0.679605 - 3.4min\n",
      "[CV] n_estimators=90, criterion=entropy, max_depth=34 ................\n"
     ]
    },
    {
     "name": "stderr",
     "output_type": "stream",
     "text": [
      "[Parallel(n_jobs=4)]: Done 1368 tasks      | elapsed: 1251.2min\n"
     ]
    },
    {
     "name": "stdout",
     "output_type": "stream",
     "text": [
      "[CV]  n_estimators=80, criterion=entropy, max_depth=34, score=-0.694676 - 3.4min\n",
      "[CV] n_estimators=90, criterion=entropy, max_depth=34 ................\n"
     ]
    },
    {
     "name": "stderr",
     "output_type": "stream",
     "text": [
      "[Parallel(n_jobs=4)]: Done 1369 tasks      | elapsed: 1251.8min\n"
     ]
    },
    {
     "name": "stdout",
     "output_type": "stream",
     "text": [
      "[CV]  n_estimators=80, criterion=entropy, max_depth=34, score=-0.681145 - 3.5min\n",
      "[CV] n_estimators=90, criterion=entropy, max_depth=34 ................\n"
     ]
    },
    {
     "name": "stderr",
     "output_type": "stream",
     "text": [
      "[Parallel(n_jobs=4)]: Done 1370 tasks      | elapsed: 1252.4min\n"
     ]
    },
    {
     "name": "stdout",
     "output_type": "stream",
     "text": [
      "[CV]  n_estimators=90, criterion=entropy, max_depth=34, score=-0.676919 - 4.0min\n",
      "[CV] n_estimators=90, criterion=entropy, max_depth=34 ................\n"
     ]
    },
    {
     "name": "stderr",
     "output_type": "stream",
     "text": [
      "[Parallel(n_jobs=4)]: Done 1371 tasks      | elapsed: 1253.5min\n"
     ]
    },
    {
     "name": "stdout",
     "output_type": "stream",
     "text": [
      "[CV]  n_estimators=90, criterion=entropy, max_depth=34, score=-0.673238 - 4.2min\n",
      "[CV] n_estimators=100, criterion=entropy, max_depth=34 ...............\n"
     ]
    },
    {
     "name": "stderr",
     "output_type": "stream",
     "text": [
      "[Parallel(n_jobs=4)]: Done 1372 tasks      | elapsed: 1255.3min\n"
     ]
    },
    {
     "name": "stdout",
     "output_type": "stream",
     "text": [
      "[CV]  n_estimators=90, criterion=entropy, max_depth=34, score=-0.655520 - 4.1min\n",
      "[CV] n_estimators=100, criterion=entropy, max_depth=34 ...............\n"
     ]
    },
    {
     "name": "stderr",
     "output_type": "stream",
     "text": [
      "[Parallel(n_jobs=4)]: Done 1373 tasks      | elapsed: 1255.9min\n"
     ]
    },
    {
     "name": "stdout",
     "output_type": "stream",
     "text": [
      "[CV]  n_estimators=90, criterion=entropy, max_depth=34, score=-0.663512 - 4.0min\n",
      "[CV] n_estimators=100, criterion=entropy, max_depth=34 ...............\n"
     ]
    },
    {
     "name": "stderr",
     "output_type": "stream",
     "text": [
      "[Parallel(n_jobs=4)]: Done 1374 tasks      | elapsed: 1256.4min\n"
     ]
    },
    {
     "name": "stdout",
     "output_type": "stream",
     "text": [
      "[CV]  n_estimators=90, criterion=entropy, max_depth=34, score=-0.683904 - 4.0min\n",
      "[CV] n_estimators=100, criterion=entropy, max_depth=34 ...............\n"
     ]
    },
    {
     "name": "stderr",
     "output_type": "stream",
     "text": [
      "[Parallel(n_jobs=4)]: Done 1375 tasks      | elapsed: 1257.5min\n"
     ]
    },
    {
     "name": "stdout",
     "output_type": "stream",
     "text": [
      "[CV]  n_estimators=100, criterion=entropy, max_depth=34, score=-0.661461 - 4.5min\n",
      "[CV] n_estimators=100, criterion=entropy, max_depth=34 ...............\n"
     ]
    },
    {
     "name": "stderr",
     "output_type": "stream",
     "text": [
      "[Parallel(n_jobs=4)]: Done 1376 tasks      | elapsed: 1259.8min\n"
     ]
    },
    {
     "name": "stdout",
     "output_type": "stream",
     "text": [
      "[CV]  n_estimators=100, criterion=entropy, max_depth=34, score=-0.650788 - 4.6min\n",
      "[CV] n_estimators=110, criterion=entropy, max_depth=34 ...............\n"
     ]
    },
    {
     "name": "stderr",
     "output_type": "stream",
     "text": [
      "[Parallel(n_jobs=4)]: Done 1377 tasks      | elapsed: 1260.5min\n"
     ]
    },
    {
     "name": "stdout",
     "output_type": "stream",
     "text": [
      "[CV]  n_estimators=100, criterion=entropy, max_depth=34, score=-0.658476 - 4.7min\n",
      "[CV] n_estimators=110, criterion=entropy, max_depth=34 ...............\n"
     ]
    },
    {
     "name": "stderr",
     "output_type": "stream",
     "text": [
      "[Parallel(n_jobs=4)]: Done 1378 tasks      | elapsed: 1261.2min\n"
     ]
    },
    {
     "name": "stdout",
     "output_type": "stream",
     "text": [
      "[CV]  n_estimators=100, criterion=entropy, max_depth=34, score=-0.654724 - 4.8min\n",
      "[CV] n_estimators=110, criterion=entropy, max_depth=34 ...............\n"
     ]
    },
    {
     "name": "stderr",
     "output_type": "stream",
     "text": [
      "[Parallel(n_jobs=4)]: Done 1379 tasks      | elapsed: 1262.3min\n"
     ]
    },
    {
     "name": "stdout",
     "output_type": "stream",
     "text": [
      "[CV]  n_estimators=100, criterion=entropy, max_depth=34, score=-0.673258 - 4.8min\n",
      "[CV] n_estimators=110, criterion=entropy, max_depth=34 ...............\n"
     ]
    },
    {
     "name": "stderr",
     "output_type": "stream",
     "text": [
      "[Parallel(n_jobs=4)]: Done 1380 tasks      | elapsed: 1264.6min\n"
     ]
    },
    {
     "name": "stdout",
     "output_type": "stream",
     "text": [
      "[CV]  n_estimators=110, criterion=entropy, max_depth=34, score=-0.654463 - 5.2min\n",
      "[CV] n_estimators=110, criterion=entropy, max_depth=34 ...............\n"
     ]
    },
    {
     "name": "stderr",
     "output_type": "stream",
     "text": [
      "[Parallel(n_jobs=4)]: Done 1381 tasks      | elapsed: 1265.7min\n"
     ]
    },
    {
     "name": "stdout",
     "output_type": "stream",
     "text": [
      "[CV]  n_estimators=110, criterion=entropy, max_depth=34, score=-0.647694 - 5.2min\n",
      "[CV] n_estimators=120, criterion=entropy, max_depth=34 ...............\n"
     ]
    },
    {
     "name": "stderr",
     "output_type": "stream",
     "text": [
      "[Parallel(n_jobs=4)]: Done 1382 tasks      | elapsed: 1266.3min\n"
     ]
    },
    {
     "name": "stdout",
     "output_type": "stream",
     "text": [
      "[CV]  n_estimators=110, criterion=entropy, max_depth=34, score=-0.655186 - 5.2min\n",
      "[CV] n_estimators=120, criterion=entropy, max_depth=34 ...............\n"
     ]
    },
    {
     "name": "stderr",
     "output_type": "stream",
     "text": [
      "[Parallel(n_jobs=4)]: Done 1383 tasks      | elapsed: 1267.5min\n"
     ]
    },
    {
     "name": "stdout",
     "output_type": "stream",
     "text": [
      "[CV]  n_estimators=110, criterion=entropy, max_depth=34, score=-0.653972 - 5.1min\n",
      "[CV] n_estimators=120, criterion=entropy, max_depth=34 ...............\n"
     ]
    },
    {
     "name": "stderr",
     "output_type": "stream",
     "text": [
      "[Parallel(n_jobs=4)]: Done 1384 tasks      | elapsed: 1269.7min\n"
     ]
    },
    {
     "name": "stdout",
     "output_type": "stream",
     "text": [
      "[CV]  n_estimators=110, criterion=entropy, max_depth=34, score=-0.672039 - 5.1min\n",
      "[CV] n_estimators=120, criterion=entropy, max_depth=34 ...............\n"
     ]
    },
    {
     "name": "stderr",
     "output_type": "stream",
     "text": [
      "[Parallel(n_jobs=4)]: Done 1385 tasks      | elapsed: 1270.8min\n"
     ]
    },
    {
     "name": "stdout",
     "output_type": "stream",
     "text": [
      "[CV]  n_estimators=120, criterion=entropy, max_depth=34, score=-0.652855 - 5.5min\n",
      "[CV] n_estimators=120, criterion=entropy, max_depth=34 ...............\n"
     ]
    },
    {
     "name": "stderr",
     "output_type": "stream",
     "text": [
      "[Parallel(n_jobs=4)]: Done 1386 tasks      | elapsed: 1271.9min\n"
     ]
    },
    {
     "name": "stdout",
     "output_type": "stream",
     "text": [
      "[CV]  n_estimators=120, criterion=entropy, max_depth=34, score=-0.646867 - 5.6min\n",
      "[CV] n_estimators=130, criterion=entropy, max_depth=34 ...............\n"
     ]
    },
    {
     "name": "stderr",
     "output_type": "stream",
     "text": [
      "[Parallel(n_jobs=4)]: Done 1387 tasks      | elapsed: 1273.1min\n"
     ]
    },
    {
     "name": "stdout",
     "output_type": "stream",
     "text": [
      "[CV]  n_estimators=120, criterion=entropy, max_depth=34, score=-0.652932 - 5.9min\n",
      "[CV] n_estimators=130, criterion=entropy, max_depth=34 ...............\n"
     ]
    },
    {
     "name": "stderr",
     "output_type": "stream",
     "text": [
      "[Parallel(n_jobs=4)]: Done 1388 tasks      | elapsed: 1275.6min\n"
     ]
    },
    {
     "name": "stdout",
     "output_type": "stream",
     "text": [
      "[CV]  n_estimators=120, criterion=entropy, max_depth=34, score=-0.656614 - 5.9min\n",
      "[CV] n_estimators=130, criterion=entropy, max_depth=34 ...............\n"
     ]
    },
    {
     "name": "stderr",
     "output_type": "stream",
     "text": [
      "[Parallel(n_jobs=4)]: Done 1389 tasks      | elapsed: 1276.7min\n"
     ]
    },
    {
     "name": "stdout",
     "output_type": "stream",
     "text": [
      "[CV]  n_estimators=120, criterion=entropy, max_depth=34, score=-0.670047 - 5.9min\n",
      "[CV] n_estimators=130, criterion=entropy, max_depth=34 ...............\n"
     ]
    },
    {
     "name": "stderr",
     "output_type": "stream",
     "text": [
      "[Parallel(n_jobs=4)]: Done 1390 tasks      | elapsed: 1277.8min\n"
     ]
    },
    {
     "name": "stdout",
     "output_type": "stream",
     "text": [
      "[CV]  n_estimators=130, criterion=entropy, max_depth=34, score=-0.657340 - 6.4min\n",
      "[CV] n_estimators=130, criterion=entropy, max_depth=34 ...............\n"
     ]
    },
    {
     "name": "stderr",
     "output_type": "stream",
     "text": [
      "[Parallel(n_jobs=4)]: Done 1391 tasks      | elapsed: 1279.4min\n"
     ]
    },
    {
     "name": "stdout",
     "output_type": "stream",
     "text": [
      "[CV]  n_estimators=130, criterion=entropy, max_depth=34, score=-0.640728 - 6.3min\n",
      "[CV] n_estimators=140, criterion=entropy, max_depth=34 ...............\n"
     ]
    },
    {
     "name": "stderr",
     "output_type": "stream",
     "text": [
      "[Parallel(n_jobs=4)]: Done 1392 tasks      | elapsed: 1281.9min\n"
     ]
    },
    {
     "name": "stdout",
     "output_type": "stream",
     "text": [
      "[CV]  n_estimators=130, criterion=entropy, max_depth=34, score=-0.649524 - 6.4min\n",
      "[CV] n_estimators=140, criterion=entropy, max_depth=34 ...............\n"
     ]
    },
    {
     "name": "stderr",
     "output_type": "stream",
     "text": [
      "[Parallel(n_jobs=4)]: Done 1393 tasks      | elapsed: 1283.1min\n"
     ]
    },
    {
     "name": "stdout",
     "output_type": "stream",
     "text": [
      "[CV]  n_estimators=130, criterion=entropy, max_depth=34, score=-0.652275 - 6.4min\n",
      "[CV] n_estimators=140, criterion=entropy, max_depth=34 ...............\n"
     ]
    },
    {
     "name": "stderr",
     "output_type": "stream",
     "text": [
      "[Parallel(n_jobs=4)]: Done 1394 tasks      | elapsed: 1284.2min\n"
     ]
    },
    {
     "name": "stdout",
     "output_type": "stream",
     "text": [
      "[CV]  n_estimators=130, criterion=entropy, max_depth=34, score=-0.657939 - 6.4min\n",
      "[CV] n_estimators=140, criterion=entropy, max_depth=34 ...............\n"
     ]
    },
    {
     "name": "stderr",
     "output_type": "stream",
     "text": [
      "[Parallel(n_jobs=4)]: Done 1395 tasks      | elapsed: 1285.9min\n"
     ]
    },
    {
     "name": "stdout",
     "output_type": "stream",
     "text": [
      "[CV]  n_estimators=140, criterion=entropy, max_depth=34, score=-0.660610 - 6.6min\n",
      "[CV] n_estimators=140, criterion=entropy, max_depth=34 ...............\n"
     ]
    },
    {
     "name": "stderr",
     "output_type": "stream",
     "text": [
      "[Parallel(n_jobs=4)]: Done 1396 tasks      | elapsed: 1288.5min\n"
     ]
    },
    {
     "name": "stdout",
     "output_type": "stream",
     "text": [
      "[CV]  n_estimators=140, criterion=entropy, max_depth=34, score=-0.643572 - 6.6min\n",
      "[CV] n_estimators=50, criterion=entropy, max_depth=36 ................\n"
     ]
    },
    {
     "name": "stderr",
     "output_type": "stream",
     "text": [
      "[Parallel(n_jobs=4)]: Done 1397 tasks      | elapsed: 1289.8min\n"
     ]
    },
    {
     "name": "stdout",
     "output_type": "stream",
     "text": [
      "[CV]  n_estimators=140, criterion=entropy, max_depth=34, score=-0.645756 - 6.8min\n"
     ]
    },
    {
     "name": "stderr",
     "output_type": "stream",
     "text": [
      "[Parallel(n_jobs=4)]: Done 1398 tasks      | elapsed: 1291.0min\n"
     ]
    },
    {
     "name": "stdout",
     "output_type": "stream",
     "text": [
      "[CV] n_estimators=50, criterion=entropy, max_depth=36 ................\n",
      "[CV]  n_estimators=50, criterion=entropy, max_depth=36, score=-0.720754 - 2.3min\n",
      "[CV] n_estimators=50, criterion=entropy, max_depth=36 ................\n"
     ]
    },
    {
     "name": "stderr",
     "output_type": "stream",
     "text": [
      "[Parallel(n_jobs=4)]: Done 1399 tasks      | elapsed: 1292.1min\n"
     ]
    },
    {
     "name": "stdout",
     "output_type": "stream",
     "text": [
      "[CV]  n_estimators=140, criterion=entropy, max_depth=34, score=-0.648636 - 6.5min\n"
     ]
    },
    {
     "name": "stderr",
     "output_type": "stream",
     "text": [
      "[Parallel(n_jobs=4)]: Done 1400 tasks      | elapsed: 1292.4min\n"
     ]
    },
    {
     "name": "stdout",
     "output_type": "stream",
     "text": [
      "[CV] n_estimators=50, criterion=entropy, max_depth=36 ................\n",
      "[CV]  n_estimators=50, criterion=entropy, max_depth=36, score=-0.704954 - 2.2min\n",
      "[CV] n_estimators=50, criterion=entropy, max_depth=36 ................\n"
     ]
    },
    {
     "name": "stderr",
     "output_type": "stream",
     "text": [
      "[Parallel(n_jobs=4)]: Done 1401 tasks      | elapsed: 1293.2min\n"
     ]
    },
    {
     "name": "stdout",
     "output_type": "stream",
     "text": [
      "[CV]  n_estimators=50, criterion=entropy, max_depth=36, score=-0.727137 - 2.3min\n",
      "[CV] n_estimators=60, criterion=entropy, max_depth=36 ................\n"
     ]
    },
    {
     "name": "stderr",
     "output_type": "stream",
     "text": [
      "[Parallel(n_jobs=4)]: Done 1402 tasks      | elapsed: 1294.4min\n"
     ]
    },
    {
     "name": "stdout",
     "output_type": "stream",
     "text": [
      "[CV]  n_estimators=50, criterion=entropy, max_depth=36, score=-0.698854 - 2.3min\n",
      "[CV] n_estimators=60, criterion=entropy, max_depth=36 ................\n"
     ]
    },
    {
     "name": "stderr",
     "output_type": "stream",
     "text": [
      "[Parallel(n_jobs=4)]: Done 1403 tasks      | elapsed: 1294.7min\n"
     ]
    },
    {
     "name": "stdout",
     "output_type": "stream",
     "text": [
      "[CV]  n_estimators=140, criterion=entropy, max_depth=34, score=-0.662267 - 6.6min\n",
      "[CV] n_estimators=60, criterion=entropy, max_depth=36 ................\n"
     ]
    },
    {
     "name": "stderr",
     "output_type": "stream",
     "text": [
      "[Parallel(n_jobs=4)]: Done 1404 tasks      | elapsed: 1295.1min\n"
     ]
    },
    {
     "name": "stdout",
     "output_type": "stream",
     "text": [
      "[CV]  n_estimators=50, criterion=entropy, max_depth=36, score=-0.757654 - 2.3min\n",
      "[CV] n_estimators=60, criterion=entropy, max_depth=36 ................\n"
     ]
    },
    {
     "name": "stderr",
     "output_type": "stream",
     "text": [
      "[Parallel(n_jobs=4)]: Done 1405 tasks      | elapsed: 1295.5min\n"
     ]
    },
    {
     "name": "stdout",
     "output_type": "stream",
     "text": [
      "[CV]  n_estimators=60, criterion=entropy, max_depth=36, score=-0.695475 - 2.7min\n",
      "[CV] n_estimators=60, criterion=entropy, max_depth=36 ................\n"
     ]
    },
    {
     "name": "stderr",
     "output_type": "stream",
     "text": [
      "[Parallel(n_jobs=4)]: Done 1406 tasks      | elapsed: 1297.1min\n"
     ]
    },
    {
     "name": "stdout",
     "output_type": "stream",
     "text": [
      "[CV]  n_estimators=60, criterion=entropy, max_depth=36, score=-0.687443 - 2.7min\n",
      "[CV] n_estimators=70, criterion=entropy, max_depth=36 ................\n"
     ]
    },
    {
     "name": "stderr",
     "output_type": "stream",
     "text": [
      "[Parallel(n_jobs=4)]: Done 1407 tasks      | elapsed: 1297.4min\n"
     ]
    },
    {
     "name": "stdout",
     "output_type": "stream",
     "text": [
      "[CV]  n_estimators=60, criterion=entropy, max_depth=36, score=-0.709429 - 2.7min\n",
      "[CV] n_estimators=70, criterion=entropy, max_depth=36 ................\n"
     ]
    },
    {
     "name": "stderr",
     "output_type": "stream",
     "text": [
      "[Parallel(n_jobs=4)]: Done 1408 tasks      | elapsed: 1297.8min\n"
     ]
    },
    {
     "name": "stdout",
     "output_type": "stream",
     "text": [
      "[CV]  n_estimators=60, criterion=entropy, max_depth=36, score=-0.691830 - 2.8min\n",
      "[CV] n_estimators=70, criterion=entropy, max_depth=36 ................\n"
     ]
    },
    {
     "name": "stderr",
     "output_type": "stream",
     "text": [
      "[Parallel(n_jobs=4)]: Done 1409 tasks      | elapsed: 1298.2min\n"
     ]
    },
    {
     "name": "stdout",
     "output_type": "stream",
     "text": [
      "[CV]  n_estimators=60, criterion=entropy, max_depth=36, score=-0.724637 - 2.7min\n",
      "[CV] n_estimators=70, criterion=entropy, max_depth=36 ................\n"
     ]
    },
    {
     "name": "stderr",
     "output_type": "stream",
     "text": [
      "[Parallel(n_jobs=4)]: Done 1410 tasks      | elapsed: 1299.8min\n"
     ]
    },
    {
     "name": "stdout",
     "output_type": "stream",
     "text": [
      "[CV]  n_estimators=70, criterion=entropy, max_depth=36, score=-0.694680 - 3.0min\n",
      "[CV] n_estimators=70, criterion=entropy, max_depth=36 ................\n"
     ]
    },
    {
     "name": "stderr",
     "output_type": "stream",
     "text": [
      "[Parallel(n_jobs=4)]: Done 1411 tasks      | elapsed: 1300.5min\n"
     ]
    },
    {
     "name": "stdout",
     "output_type": "stream",
     "text": [
      "[CV]  n_estimators=70, criterion=entropy, max_depth=36, score=-0.679025 - 3.0min\n",
      "[CV] n_estimators=80, criterion=entropy, max_depth=36 ................\n"
     ]
    },
    {
     "name": "stderr",
     "output_type": "stream",
     "text": [
      "[Parallel(n_jobs=4)]: Done 1412 tasks      | elapsed: 1300.8min\n"
     ]
    },
    {
     "name": "stdout",
     "output_type": "stream",
     "text": [
      "[CV]  n_estimators=70, criterion=entropy, max_depth=36, score=-0.683224 - 3.0min\n",
      "[CV] n_estimators=80, criterion=entropy, max_depth=36 ................\n"
     ]
    },
    {
     "name": "stderr",
     "output_type": "stream",
     "text": [
      "[Parallel(n_jobs=4)]: Done 1413 tasks      | elapsed: 1301.2min\n"
     ]
    },
    {
     "name": "stdout",
     "output_type": "stream",
     "text": [
      "[CV]  n_estimators=70, criterion=entropy, max_depth=36, score=-0.674137 - 3.0min\n",
      "[CV] n_estimators=80, criterion=entropy, max_depth=36 ................\n"
     ]
    },
    {
     "name": "stderr",
     "output_type": "stream",
     "text": [
      "[Parallel(n_jobs=4)]: Done 1414 tasks      | elapsed: 1302.8min\n"
     ]
    },
    {
     "name": "stdout",
     "output_type": "stream",
     "text": [
      "[CV]  n_estimators=70, criterion=entropy, max_depth=36, score=-0.684502 - 3.0min\n",
      "[CV] n_estimators=80, criterion=entropy, max_depth=36 ................\n"
     ]
    },
    {
     "name": "stderr",
     "output_type": "stream",
     "text": [
      "[Parallel(n_jobs=4)]: Done 1415 tasks      | elapsed: 1303.5min\n"
     ]
    },
    {
     "name": "stdout",
     "output_type": "stream",
     "text": [
      "[CV]  n_estimators=80, criterion=entropy, max_depth=36, score=-0.676371 - 3.5min\n",
      "[CV] n_estimators=80, criterion=entropy, max_depth=36 ................\n"
     ]
    },
    {
     "name": "stderr",
     "output_type": "stream",
     "text": [
      "[Parallel(n_jobs=4)]: Done 1416 tasks      | elapsed: 1304.3min\n"
     ]
    },
    {
     "name": "stdout",
     "output_type": "stream",
     "text": [
      "[CV]  n_estimators=80, criterion=entropy, max_depth=36, score=-0.664518 - 3.5min\n",
      "[CV] n_estimators=90, criterion=entropy, max_depth=36 ................\n"
     ]
    },
    {
     "name": "stderr",
     "output_type": "stream",
     "text": [
      "[Parallel(n_jobs=4)]: Done 1417 tasks      | elapsed: 1304.7min\n"
     ]
    },
    {
     "name": "stdout",
     "output_type": "stream",
     "text": [
      "[CV]  n_estimators=80, criterion=entropy, max_depth=36, score=-0.668914 - 3.6min\n",
      "[CV] n_estimators=90, criterion=entropy, max_depth=36 ................\n"
     ]
    },
    {
     "name": "stderr",
     "output_type": "stream",
     "text": [
      "[Parallel(n_jobs=4)]: Done 1418 tasks      | elapsed: 1306.4min\n"
     ]
    },
    {
     "name": "stdout",
     "output_type": "stream",
     "text": [
      "[CV]  n_estimators=80, criterion=entropy, max_depth=36, score=-0.670786 - 3.6min\n",
      "[CV] n_estimators=90, criterion=entropy, max_depth=36 ................\n"
     ]
    },
    {
     "name": "stderr",
     "output_type": "stream",
     "text": [
      "[Parallel(n_jobs=4)]: Done 1419 tasks      | elapsed: 1307.1min\n"
     ]
    },
    {
     "name": "stdout",
     "output_type": "stream",
     "text": [
      "[CV]  n_estimators=80, criterion=entropy, max_depth=36, score=-0.679140 - 3.6min\n",
      "[CV] n_estimators=90, criterion=entropy, max_depth=36 ................\n"
     ]
    },
    {
     "name": "stderr",
     "output_type": "stream",
     "text": [
      "[Parallel(n_jobs=4)]: Done 1420 tasks      | elapsed: 1307.9min\n"
     ]
    },
    {
     "name": "stdout",
     "output_type": "stream",
     "text": [
      "[CV]  n_estimators=90, criterion=entropy, max_depth=36, score=-0.667757 - 4.1min\n",
      "[CV] n_estimators=90, criterion=entropy, max_depth=36 ................\n"
     ]
    },
    {
     "name": "stderr",
     "output_type": "stream",
     "text": [
      "[Parallel(n_jobs=4)]: Done 1421 tasks      | elapsed: 1308.9min\n"
     ]
    },
    {
     "name": "stdout",
     "output_type": "stream",
     "text": [
      "[CV]  n_estimators=90, criterion=entropy, max_depth=36, score=-0.657120 - 4.2min\n",
      "[CV] n_estimators=100, criterion=entropy, max_depth=36 ...............\n"
     ]
    },
    {
     "name": "stderr",
     "output_type": "stream",
     "text": [
      "[Parallel(n_jobs=4)]: Done 1422 tasks      | elapsed: 1310.6min\n"
     ]
    },
    {
     "name": "stdout",
     "output_type": "stream",
     "text": [
      "[CV]  n_estimators=90, criterion=entropy, max_depth=36, score=-0.665753 - 4.2min\n",
      "[CV] n_estimators=100, criterion=entropy, max_depth=36 ...............\n"
     ]
    },
    {
     "name": "stderr",
     "output_type": "stream",
     "text": [
      "[Parallel(n_jobs=4)]: Done 1423 tasks      | elapsed: 1311.3min\n"
     ]
    },
    {
     "name": "stdout",
     "output_type": "stream",
     "text": [
      "[CV]  n_estimators=90, criterion=entropy, max_depth=36, score=-0.660173 - 4.2min\n",
      "[CV] n_estimators=100, criterion=entropy, max_depth=36 ...............\n"
     ]
    },
    {
     "name": "stderr",
     "output_type": "stream",
     "text": [
      "[Parallel(n_jobs=4)]: Done 1424 tasks      | elapsed: 1312.1min\n"
     ]
    },
    {
     "name": "stdout",
     "output_type": "stream",
     "text": [
      "[CV]  n_estimators=90, criterion=entropy, max_depth=36, score=-0.682038 - 4.2min\n",
      "[CV] n_estimators=100, criterion=entropy, max_depth=36 ...............\n"
     ]
    },
    {
     "name": "stderr",
     "output_type": "stream",
     "text": [
      "[Parallel(n_jobs=4)]: Done 1425 tasks      | elapsed: 1313.0min\n"
     ]
    },
    {
     "name": "stdout",
     "output_type": "stream",
     "text": [
      "[CV]  n_estimators=100, criterion=entropy, max_depth=36, score=-0.663953 - 4.5min\n",
      "[CV] n_estimators=100, criterion=entropy, max_depth=36 ...............\n"
     ]
    },
    {
     "name": "stderr",
     "output_type": "stream",
     "text": [
      "[Parallel(n_jobs=4)]: Done 1426 tasks      | elapsed: 1315.1min\n"
     ]
    },
    {
     "name": "stdout",
     "output_type": "stream",
     "text": [
      "[CV]  n_estimators=100, criterion=entropy, max_depth=36, score=-0.649478 - 4.6min\n",
      "[CV] n_estimators=110, criterion=entropy, max_depth=36 ...............\n"
     ]
    },
    {
     "name": "stderr",
     "output_type": "stream",
     "text": [
      "[Parallel(n_jobs=4)]: Done 1427 tasks      | elapsed: 1315.8min\n"
     ]
    },
    {
     "name": "stdout",
     "output_type": "stream",
     "text": [
      "[CV]  n_estimators=100, criterion=entropy, max_depth=36, score=-0.657014 - 4.5min\n",
      "[CV] n_estimators=110, criterion=entropy, max_depth=36 ...............\n"
     ]
    },
    {
     "name": "stderr",
     "output_type": "stream",
     "text": [
      "[Parallel(n_jobs=4)]: Done 1428 tasks      | elapsed: 1316.6min\n"
     ]
    },
    {
     "name": "stdout",
     "output_type": "stream",
     "text": [
      "[CV]  n_estimators=100, criterion=entropy, max_depth=36, score=-0.657170 - 4.5min\n",
      "[CV] n_estimators=110, criterion=entropy, max_depth=36 ...............\n"
     ]
    },
    {
     "name": "stderr",
     "output_type": "stream",
     "text": [
      "[Parallel(n_jobs=4)]: Done 1429 tasks      | elapsed: 1317.5min\n"
     ]
    },
    {
     "name": "stdout",
     "output_type": "stream",
     "text": [
      "[CV]  n_estimators=100, criterion=entropy, max_depth=36, score=-0.662737 - 4.9min\n",
      "[CV] n_estimators=110, criterion=entropy, max_depth=36 ...............\n"
     ]
    },
    {
     "name": "stderr",
     "output_type": "stream",
     "text": [
      "[Parallel(n_jobs=4)]: Done 1430 tasks      | elapsed: 1320.0min\n"
     ]
    },
    {
     "name": "stdout",
     "output_type": "stream",
     "text": [
      "[CV]  n_estimators=110, criterion=entropy, max_depth=36, score=-0.662180 - 5.5min\n",
      "[CV] n_estimators=110, criterion=entropy, max_depth=36 ...............\n"
     ]
    },
    {
     "name": "stderr",
     "output_type": "stream",
     "text": [
      "[Parallel(n_jobs=4)]: Done 1431 tasks      | elapsed: 1321.3min\n"
     ]
    },
    {
     "name": "stdout",
     "output_type": "stream",
     "text": [
      "[CV]  n_estimators=110, criterion=entropy, max_depth=36, score=-0.653119 - 5.5min\n",
      "[CV] n_estimators=120, criterion=entropy, max_depth=36 ...............\n"
     ]
    },
    {
     "name": "stderr",
     "output_type": "stream",
     "text": [
      "[Parallel(n_jobs=4)]: Done 1432 tasks      | elapsed: 1322.1min\n"
     ]
    },
    {
     "name": "stdout",
     "output_type": "stream",
     "text": [
      "[CV]  n_estimators=110, criterion=entropy, max_depth=36, score=-0.651556 - 5.5min\n",
      "[CV] n_estimators=120, criterion=entropy, max_depth=36 ...............\n"
     ]
    },
    {
     "name": "stderr",
     "output_type": "stream",
     "text": [
      "[Parallel(n_jobs=4)]: Done 1433 tasks      | elapsed: 1323.0min\n"
     ]
    },
    {
     "name": "stdout",
     "output_type": "stream",
     "text": [
      "[CV]  n_estimators=110, criterion=entropy, max_depth=36, score=-0.659503 - 5.2min\n",
      "[CV] n_estimators=120, criterion=entropy, max_depth=36 ...............\n"
     ]
    },
    {
     "name": "stderr",
     "output_type": "stream",
     "text": [
      "[Parallel(n_jobs=4)]: Done 1434 tasks      | elapsed: 1325.1min\n"
     ]
    },
    {
     "name": "stdout",
     "output_type": "stream",
     "text": [
      "[CV]  n_estimators=110, criterion=entropy, max_depth=36, score=-0.668656 - 5.0min\n",
      "[CV] n_estimators=120, criterion=entropy, max_depth=36 ...............\n"
     ]
    },
    {
     "name": "stderr",
     "output_type": "stream",
     "text": [
      "[Parallel(n_jobs=4)]: Done 1435 tasks      | elapsed: 1326.3min\n"
     ]
    },
    {
     "name": "stdout",
     "output_type": "stream",
     "text": [
      "[CV]  n_estimators=120, criterion=entropy, max_depth=36, score=-0.672278 - 5.3min\n",
      "[CV] n_estimators=120, criterion=entropy, max_depth=36 ...............\n"
     ]
    },
    {
     "name": "stderr",
     "output_type": "stream",
     "text": [
      "[Parallel(n_jobs=4)]: Done 1436 tasks      | elapsed: 1327.5min\n"
     ]
    },
    {
     "name": "stdout",
     "output_type": "stream",
     "text": [
      "[CV]  n_estimators=120, criterion=entropy, max_depth=36, score=-0.647776 - 5.3min\n",
      "[CV] n_estimators=130, criterion=entropy, max_depth=36 ...............\n"
     ]
    },
    {
     "name": "stderr",
     "output_type": "stream",
     "text": [
      "[Parallel(n_jobs=4)]: Done 1437 tasks      | elapsed: 1328.3min\n"
     ]
    },
    {
     "name": "stdout",
     "output_type": "stream",
     "text": [
      "[CV]  n_estimators=120, criterion=entropy, max_depth=36, score=-0.654698 - 5.3min\n",
      "[CV] n_estimators=130, criterion=entropy, max_depth=36 ...............\n"
     ]
    },
    {
     "name": "stderr",
     "output_type": "stream",
     "text": [
      "[Parallel(n_jobs=4)]: Done 1438 tasks      | elapsed: 1330.4min\n"
     ]
    },
    {
     "name": "stdout",
     "output_type": "stream",
     "text": [
      "[CV]  n_estimators=120, criterion=entropy, max_depth=36, score=-0.653043 - 5.4min\n",
      "[CV] n_estimators=130, criterion=entropy, max_depth=36 ...............\n"
     ]
    },
    {
     "name": "stderr",
     "output_type": "stream",
     "text": [
      "[Parallel(n_jobs=4)]: Done 1439 tasks      | elapsed: 1331.7min\n"
     ]
    },
    {
     "name": "stdout",
     "output_type": "stream",
     "text": [
      "[CV]  n_estimators=120, criterion=entropy, max_depth=36, score=-0.656512 - 5.5min\n",
      "[CV] n_estimators=130, criterion=entropy, max_depth=36 ...............\n"
     ]
    },
    {
     "name": "stderr",
     "output_type": "stream",
     "text": [
      "[Parallel(n_jobs=4)]: Done 1440 tasks      | elapsed: 1333.0min\n"
     ]
    },
    {
     "name": "stdout",
     "output_type": "stream",
     "text": [
      "[CV]  n_estimators=130, criterion=entropy, max_depth=36, score=-0.662962 - 6.1min\n",
      "[CV] n_estimators=130, criterion=entropy, max_depth=36 ...............\n"
     ]
    },
    {
     "name": "stderr",
     "output_type": "stream",
     "text": [
      "[Parallel(n_jobs=4)]: Done 1441 tasks      | elapsed: 1334.4min\n"
     ]
    },
    {
     "name": "stdout",
     "output_type": "stream",
     "text": [
      "[CV]  n_estimators=130, criterion=entropy, max_depth=36, score=-0.640832 - 6.3min\n",
      "[CV] n_estimators=140, criterion=entropy, max_depth=36 ...............\n"
     ]
    },
    {
     "name": "stderr",
     "output_type": "stream",
     "text": [
      "[Parallel(n_jobs=4)]: Done 1442 tasks      | elapsed: 1336.7min\n"
     ]
    },
    {
     "name": "stdout",
     "output_type": "stream",
     "text": [
      "[CV]  n_estimators=130, criterion=entropy, max_depth=36, score=-0.646775 - 6.4min\n",
      "[CV] n_estimators=140, criterion=entropy, max_depth=36 ...............\n"
     ]
    },
    {
     "name": "stderr",
     "output_type": "stream",
     "text": [
      "[Parallel(n_jobs=4)]: Done 1443 tasks      | elapsed: 1338.2min\n"
     ]
    },
    {
     "name": "stdout",
     "output_type": "stream",
     "text": [
      "[CV]  n_estimators=130, criterion=entropy, max_depth=36, score=-0.658049 - 6.4min\n",
      "[CV] n_estimators=140, criterion=entropy, max_depth=36 ...............\n"
     ]
    },
    {
     "name": "stderr",
     "output_type": "stream",
     "text": [
      "[Parallel(n_jobs=4)]: Done 1444 tasks      | elapsed: 1339.4min\n"
     ]
    },
    {
     "name": "stdout",
     "output_type": "stream",
     "text": [
      "[CV]  n_estimators=130, criterion=entropy, max_depth=36, score=-0.665803 - 6.4min\n",
      "[CV] n_estimators=140, criterion=entropy, max_depth=36 ...............\n"
     ]
    },
    {
     "name": "stderr",
     "output_type": "stream",
     "text": [
      "[Parallel(n_jobs=4)]: Done 1445 tasks      | elapsed: 1340.8min\n"
     ]
    },
    {
     "name": "stdout",
     "output_type": "stream",
     "text": [
      "[CV]  n_estimators=140, criterion=entropy, max_depth=36, score=-0.660322 - 6.6min\n",
      "[CV] n_estimators=140, criterion=entropy, max_depth=36 ...............\n"
     ]
    },
    {
     "name": "stderr",
     "output_type": "stream",
     "text": [
      "[Parallel(n_jobs=4)]: Done 1446 tasks      | elapsed: 1343.4min\n"
     ]
    },
    {
     "name": "stdout",
     "output_type": "stream",
     "text": [
      "[CV]  n_estimators=140, criterion=entropy, max_depth=36, score=-0.646002 - 6.4min\n",
      "[CV] n_estimators=50, criterion=entropy, max_depth=38 ................\n"
     ]
    },
    {
     "name": "stderr",
     "output_type": "stream",
     "text": [
      "[Parallel(n_jobs=4)]: Done 1447 tasks      | elapsed: 1344.6min\n"
     ]
    },
    {
     "name": "stdout",
     "output_type": "stream",
     "text": [
      "[CV]  n_estimators=140, criterion=entropy, max_depth=36, score=-0.653364 - 6.5min\n",
      "[CV] n_estimators=50, criterion=entropy, max_depth=38 ................\n"
     ]
    },
    {
     "name": "stderr",
     "output_type": "stream",
     "text": [
      "[Parallel(n_jobs=4)]: Done 1448 tasks      | elapsed: 1345.9min\n"
     ]
    },
    {
     "name": "stdout",
     "output_type": "stream",
     "text": [
      "[CV]  n_estimators=50, criterion=entropy, max_depth=38, score=-0.721426 - 2.6min\n",
      "[CV] n_estimators=50, criterion=entropy, max_depth=38 ................\n"
     ]
    },
    {
     "name": "stderr",
     "output_type": "stream",
     "text": [
      "[Parallel(n_jobs=4)]: Done 1449 tasks      | elapsed: 1347.1min\n"
     ]
    },
    {
     "name": "stdout",
     "output_type": "stream",
     "text": [
      "[CV]  n_estimators=140, criterion=entropy, max_depth=36, score=-0.656252 - 6.6min\n",
      "[CV] n_estimators=50, criterion=entropy, max_depth=38 ................\n"
     ]
    },
    {
     "name": "stderr",
     "output_type": "stream",
     "text": [
      "[Parallel(n_jobs=4)]: Done 1450 tasks      | elapsed: 1347.4min\n"
     ]
    },
    {
     "name": "stdout",
     "output_type": "stream",
     "text": [
      "[CV]  n_estimators=50, criterion=entropy, max_depth=38, score=-0.712109 - 2.4min\n",
      "[CV] n_estimators=50, criterion=entropy, max_depth=38 ................\n"
     ]
    },
    {
     "name": "stderr",
     "output_type": "stream",
     "text": [
      "[Parallel(n_jobs=4)]: Done 1451 tasks      | elapsed: 1348.3min\n"
     ]
    },
    {
     "name": "stdout",
     "output_type": "stream",
     "text": [
      "[CV]  n_estimators=50, criterion=entropy, max_depth=38, score=-0.743844 - 2.2min\n",
      "[CV] n_estimators=60, criterion=entropy, max_depth=38 ................\n"
     ]
    },
    {
     "name": "stderr",
     "output_type": "stream",
     "text": [
      "[Parallel(n_jobs=4)]: Done 1452 tasks      | elapsed: 1349.4min\n"
     ]
    },
    {
     "name": "stdout",
     "output_type": "stream",
     "text": [
      "[CV]  n_estimators=50, criterion=entropy, max_depth=38, score=-0.746868 - 2.2min\n",
      "[CV] n_estimators=60, criterion=entropy, max_depth=38 ................\n"
     ]
    },
    {
     "name": "stderr",
     "output_type": "stream",
     "text": [
      "[Parallel(n_jobs=4)]: Done 1453 tasks      | elapsed: 1349.6min\n"
     ]
    },
    {
     "name": "stdout",
     "output_type": "stream",
     "text": [
      "[CV]  n_estimators=140, criterion=entropy, max_depth=36, score=-0.673675 - 6.5min\n",
      "[CV] n_estimators=60, criterion=entropy, max_depth=38 ................\n"
     ]
    },
    {
     "name": "stderr",
     "output_type": "stream",
     "text": [
      "[Parallel(n_jobs=4)]: Done 1454 tasks      | elapsed: 1349.9min\n"
     ]
    },
    {
     "name": "stdout",
     "output_type": "stream",
     "text": [
      "[CV]  n_estimators=50, criterion=entropy, max_depth=38, score=-0.747863 - 2.1min\n",
      "[CV] n_estimators=60, criterion=entropy, max_depth=38 ................\n"
     ]
    },
    {
     "name": "stderr",
     "output_type": "stream",
     "text": [
      "[Parallel(n_jobs=4)]: Done 1455 tasks      | elapsed: 1350.4min\n"
     ]
    },
    {
     "name": "stdout",
     "output_type": "stream",
     "text": [
      "[CV]  n_estimators=60, criterion=entropy, max_depth=38, score=-0.708736 - 2.5min\n",
      "[CV] n_estimators=60, criterion=entropy, max_depth=38 ................\n"
     ]
    },
    {
     "name": "stderr",
     "output_type": "stream",
     "text": [
      "[Parallel(n_jobs=4)]: Done 1456 tasks      | elapsed: 1351.9min\n"
     ]
    },
    {
     "name": "stdout",
     "output_type": "stream",
     "text": [
      "[CV]  n_estimators=60, criterion=entropy, max_depth=38, score=-0.683294 - 2.5min\n",
      "[CV] n_estimators=70, criterion=entropy, max_depth=38 ................\n"
     ]
    },
    {
     "name": "stderr",
     "output_type": "stream",
     "text": [
      "[Parallel(n_jobs=4)]: Done 1457 tasks      | elapsed: 1352.1min\n"
     ]
    },
    {
     "name": "stdout",
     "output_type": "stream",
     "text": [
      "[CV]  n_estimators=60, criterion=entropy, max_depth=38, score=-0.686571 - 2.5min\n",
      "[CV] n_estimators=70, criterion=entropy, max_depth=38 ................\n"
     ]
    },
    {
     "name": "stderr",
     "output_type": "stream",
     "text": [
      "[Parallel(n_jobs=4)]: Done 1458 tasks      | elapsed: 1352.4min\n"
     ]
    },
    {
     "name": "stdout",
     "output_type": "stream",
     "text": [
      "[CV]  n_estimators=60, criterion=entropy, max_depth=38, score=-0.707624 - 2.5min\n",
      "[CV] n_estimators=70, criterion=entropy, max_depth=38 ................\n"
     ]
    },
    {
     "name": "stderr",
     "output_type": "stream",
     "text": [
      "[Parallel(n_jobs=4)]: Done 1459 tasks      | elapsed: 1352.9min\n"
     ]
    },
    {
     "name": "stdout",
     "output_type": "stream",
     "text": [
      "[CV]  n_estimators=60, criterion=entropy, max_depth=38, score=-0.708596 - 2.6min\n",
      "[CV] n_estimators=70, criterion=entropy, max_depth=38 ................\n"
     ]
    },
    {
     "name": "stderr",
     "output_type": "stream",
     "text": [
      "[Parallel(n_jobs=4)]: Done 1460 tasks      | elapsed: 1354.4min\n"
     ]
    },
    {
     "name": "stdout",
     "output_type": "stream",
     "text": [
      "[CV]  n_estimators=70, criterion=entropy, max_depth=38, score=-0.698791 - 3.0min\n",
      "[CV] n_estimators=70, criterion=entropy, max_depth=38 ................\n"
     ]
    },
    {
     "name": "stderr",
     "output_type": "stream",
     "text": [
      "[Parallel(n_jobs=4)]: Done 1461 tasks      | elapsed: 1355.1min\n"
     ]
    },
    {
     "name": "stdout",
     "output_type": "stream",
     "text": [
      "[CV]  n_estimators=70, criterion=entropy, max_depth=38, score=-0.679474 - 3.0min\n",
      "[CV] n_estimators=80, criterion=entropy, max_depth=38 ................\n"
     ]
    },
    {
     "name": "stderr",
     "output_type": "stream",
     "text": [
      "[Parallel(n_jobs=4)]: Done 1462 tasks      | elapsed: 1355.3min\n"
     ]
    },
    {
     "name": "stdout",
     "output_type": "stream",
     "text": [
      "[CV]  n_estimators=70, criterion=entropy, max_depth=38, score=-0.675479 - 3.0min\n",
      "[CV] n_estimators=80, criterion=entropy, max_depth=38 ................\n"
     ]
    },
    {
     "name": "stderr",
     "output_type": "stream",
     "text": [
      "[Parallel(n_jobs=4)]: Done 1463 tasks      | elapsed: 1355.9min\n"
     ]
    },
    {
     "name": "stdout",
     "output_type": "stream",
     "text": [
      "[CV]  n_estimators=70, criterion=entropy, max_depth=38, score=-0.678029 - 2.9min\n",
      "[CV] n_estimators=80, criterion=entropy, max_depth=38 ................\n"
     ]
    },
    {
     "name": "stderr",
     "output_type": "stream",
     "text": [
      "[Parallel(n_jobs=4)]: Done 1464 tasks      | elapsed: 1357.4min\n"
     ]
    },
    {
     "name": "stdout",
     "output_type": "stream",
     "text": [
      "[CV]  n_estimators=70, criterion=entropy, max_depth=38, score=-0.685388 - 3.0min\n",
      "[CV] n_estimators=80, criterion=entropy, max_depth=38 ................\n"
     ]
    },
    {
     "name": "stderr",
     "output_type": "stream",
     "text": [
      "[Parallel(n_jobs=4)]: Done 1465 tasks      | elapsed: 1358.1min\n"
     ]
    },
    {
     "name": "stdout",
     "output_type": "stream",
     "text": [
      "[CV]  n_estimators=80, criterion=entropy, max_depth=38, score=-0.683844 - 3.5min\n",
      "[CV] n_estimators=80, criterion=entropy, max_depth=38 ................\n"
     ]
    },
    {
     "name": "stderr",
     "output_type": "stream",
     "text": [
      "[Parallel(n_jobs=4)]: Done 1466 tasks      | elapsed: 1358.9min\n"
     ]
    },
    {
     "name": "stdout",
     "output_type": "stream",
     "text": [
      "[CV]  n_estimators=80, criterion=entropy, max_depth=38, score=-0.654057 - 3.6min\n",
      "[CV] n_estimators=90, criterion=entropy, max_depth=38 ................\n"
     ]
    },
    {
     "name": "stderr",
     "output_type": "stream",
     "text": [
      "[Parallel(n_jobs=4)]: Done 1467 tasks      | elapsed: 1359.5min\n"
     ]
    },
    {
     "name": "stdout",
     "output_type": "stream",
     "text": [
      "[CV]  n_estimators=80, criterion=entropy, max_depth=38, score=-0.655162 - 3.8min\n",
      "[CV] n_estimators=90, criterion=entropy, max_depth=38 ................\n"
     ]
    },
    {
     "name": "stderr",
     "output_type": "stream",
     "text": [
      "[Parallel(n_jobs=4)]: Done 1468 tasks      | elapsed: 1361.2min\n"
     ]
    },
    {
     "name": "stdout",
     "output_type": "stream",
     "text": [
      "[CV]  n_estimators=80, criterion=entropy, max_depth=38, score=-0.670053 - 3.8min\n",
      "[CV] n_estimators=90, criterion=entropy, max_depth=38 ................\n"
     ]
    },
    {
     "name": "stderr",
     "output_type": "stream",
     "text": [
      "[Parallel(n_jobs=4)]: Done 1469 tasks      | elapsed: 1361.9min\n"
     ]
    },
    {
     "name": "stdout",
     "output_type": "stream",
     "text": [
      "[CV]  n_estimators=80, criterion=entropy, max_depth=38, score=-0.690048 - 3.9min\n",
      "[CV] n_estimators=90, criterion=entropy, max_depth=38 ................\n"
     ]
    },
    {
     "name": "stderr",
     "output_type": "stream",
     "text": [
      "[Parallel(n_jobs=4)]: Done 1470 tasks      | elapsed: 1362.7min\n"
     ]
    },
    {
     "name": "stdout",
     "output_type": "stream",
     "text": [
      "[CV]  n_estimators=90, criterion=entropy, max_depth=38, score=-0.674430 - 4.3min\n",
      "[CV] n_estimators=90, criterion=entropy, max_depth=38 ................\n"
     ]
    },
    {
     "name": "stderr",
     "output_type": "stream",
     "text": [
      "[Parallel(n_jobs=4)]: Done 1471 tasks      | elapsed: 1363.8min\n"
     ]
    },
    {
     "name": "stdout",
     "output_type": "stream",
     "text": [
      "[CV]  n_estimators=90, criterion=entropy, max_depth=38, score=-0.659839 - 4.3min\n",
      "[CV] n_estimators=100, criterion=entropy, max_depth=38 ...............\n"
     ]
    },
    {
     "name": "stderr",
     "output_type": "stream",
     "text": [
      "[Parallel(n_jobs=4)]: Done 1472 tasks      | elapsed: 1365.4min\n"
     ]
    },
    {
     "name": "stdout",
     "output_type": "stream",
     "text": [
      "[CV]  n_estimators=90, criterion=entropy, max_depth=38, score=-0.678425 - 4.2min\n",
      "[CV] n_estimators=100, criterion=entropy, max_depth=38 ...............\n"
     ]
    },
    {
     "name": "stderr",
     "output_type": "stream",
     "text": [
      "[Parallel(n_jobs=4)]: Done 1473 tasks      | elapsed: 1366.2min\n"
     ]
    },
    {
     "name": "stdout",
     "output_type": "stream",
     "text": [
      "[CV]  n_estimators=90, criterion=entropy, max_depth=38, score=-0.670151 - 4.2min\n",
      "[CV] n_estimators=100, criterion=entropy, max_depth=38 ...............\n"
     ]
    },
    {
     "name": "stderr",
     "output_type": "stream",
     "text": [
      "[Parallel(n_jobs=4)]: Done 1474 tasks      | elapsed: 1366.9min\n"
     ]
    },
    {
     "name": "stdout",
     "output_type": "stream",
     "text": [
      "[CV]  n_estimators=90, criterion=entropy, max_depth=38, score=-0.678003 - 4.1min\n",
      "[CV] n_estimators=100, criterion=entropy, max_depth=38 ...............\n"
     ]
    },
    {
     "name": "stderr",
     "output_type": "stream",
     "text": [
      "[Parallel(n_jobs=4)]: Done 1475 tasks      | elapsed: 1367.9min\n"
     ]
    },
    {
     "name": "stdout",
     "output_type": "stream",
     "text": [
      "[CV]  n_estimators=100, criterion=entropy, max_depth=38, score=-0.662296 - 4.5min\n",
      "[CV] n_estimators=100, criterion=entropy, max_depth=38 ...............\n"
     ]
    },
    {
     "name": "stderr",
     "output_type": "stream",
     "text": [
      "[Parallel(n_jobs=4)]: Done 1476 tasks      | elapsed: 1369.9min\n"
     ]
    },
    {
     "name": "stdout",
     "output_type": "stream",
     "text": [
      "[CV]  n_estimators=100, criterion=entropy, max_depth=38, score=-0.643798 - 4.6min\n",
      "[CV] n_estimators=110, criterion=entropy, max_depth=38 ...............\n"
     ]
    },
    {
     "name": "stderr",
     "output_type": "stream",
     "text": [
      "[Parallel(n_jobs=4)]: Done 1477 tasks      | elapsed: 1370.7min\n"
     ]
    },
    {
     "name": "stdout",
     "output_type": "stream",
     "text": [
      "[CV]  n_estimators=100, criterion=entropy, max_depth=38, score=-0.667866 - 4.5min\n",
      "[CV] n_estimators=110, criterion=entropy, max_depth=38 ...............\n"
     ]
    },
    {
     "name": "stderr",
     "output_type": "stream",
     "text": [
      "[Parallel(n_jobs=4)]: Done 1478 tasks      | elapsed: 1371.4min\n"
     ]
    },
    {
     "name": "stdout",
     "output_type": "stream",
     "text": [
      "[CV]  n_estimators=100, criterion=entropy, max_depth=38, score=-0.665275 - 4.5min\n",
      "[CV] n_estimators=110, criterion=entropy, max_depth=38 ...............\n"
     ]
    },
    {
     "name": "stderr",
     "output_type": "stream",
     "text": [
      "[Parallel(n_jobs=4)]: Done 1479 tasks      | elapsed: 1372.5min\n"
     ]
    },
    {
     "name": "stdout",
     "output_type": "stream",
     "text": [
      "[CV]  n_estimators=100, criterion=entropy, max_depth=38, score=-0.690624 - 4.5min\n",
      "[CV] n_estimators=110, criterion=entropy, max_depth=38 ...............\n"
     ]
    },
    {
     "name": "stderr",
     "output_type": "stream",
     "text": [
      "[Parallel(n_jobs=4)]: Done 1480 tasks      | elapsed: 1374.4min\n"
     ]
    },
    {
     "name": "stdout",
     "output_type": "stream",
     "text": [
      "[CV]  n_estimators=110, criterion=entropy, max_depth=38, score=-0.660703 - 4.9min\n",
      "[CV] n_estimators=110, criterion=entropy, max_depth=38 ...............\n"
     ]
    },
    {
     "name": "stderr",
     "output_type": "stream",
     "text": [
      "[Parallel(n_jobs=4)]: Done 1481 tasks      | elapsed: 1375.6min\n"
     ]
    },
    {
     "name": "stdout",
     "output_type": "stream",
     "text": [
      "[CV]  n_estimators=110, criterion=entropy, max_depth=38, score=-0.643448 - 4.9min\n",
      "[CV] n_estimators=120, criterion=entropy, max_depth=38 ...............\n"
     ]
    },
    {
     "name": "stderr",
     "output_type": "stream",
     "text": [
      "[Parallel(n_jobs=4)]: Done 1482 tasks      | elapsed: 1376.4min\n"
     ]
    },
    {
     "name": "stdout",
     "output_type": "stream",
     "text": [
      "[CV]  n_estimators=110, criterion=entropy, max_depth=38, score=-0.656055 - 5.0min\n",
      "[CV] n_estimators=120, criterion=entropy, max_depth=38 ...............\n"
     ]
    },
    {
     "name": "stderr",
     "output_type": "stream",
     "text": [
      "[Parallel(n_jobs=4)]: Done 1483 tasks      | elapsed: 1377.5min\n"
     ]
    },
    {
     "name": "stdout",
     "output_type": "stream",
     "text": [
      "[CV]  n_estimators=110, criterion=entropy, max_depth=38, score=-0.662050 - 5.0min\n",
      "[CV] n_estimators=120, criterion=entropy, max_depth=38 ...............\n"
     ]
    },
    {
     "name": "stderr",
     "output_type": "stream",
     "text": [
      "[Parallel(n_jobs=4)]: Done 1484 tasks      | elapsed: 1379.4min\n"
     ]
    },
    {
     "name": "stdout",
     "output_type": "stream",
     "text": [
      "[CV]  n_estimators=110, criterion=entropy, max_depth=38, score=-0.664195 - 4.9min\n",
      "[CV] n_estimators=120, criterion=entropy, max_depth=38 ...............\n"
     ]
    },
    {
     "name": "stderr",
     "output_type": "stream",
     "text": [
      "[Parallel(n_jobs=4)]: Done 1485 tasks      | elapsed: 1380.5min\n"
     ]
    },
    {
     "name": "stdout",
     "output_type": "stream",
     "text": [
      "[CV]  n_estimators=120, criterion=entropy, max_depth=38, score=-0.656722 - 5.4min\n",
      "[CV] n_estimators=120, criterion=entropy, max_depth=38 ...............\n"
     ]
    },
    {
     "name": "stderr",
     "output_type": "stream",
     "text": [
      "[Parallel(n_jobs=4)]: Done 1486 tasks      | elapsed: 1381.7min\n"
     ]
    },
    {
     "name": "stdout",
     "output_type": "stream",
     "text": [
      "[CV]  n_estimators=120, criterion=entropy, max_depth=38, score=-0.648999 - 5.3min\n",
      "[CV] n_estimators=130, criterion=entropy, max_depth=38 ...............\n"
     ]
    },
    {
     "name": "stderr",
     "output_type": "stream",
     "text": [
      "[Parallel(n_jobs=4)]: Done 1487 tasks      | elapsed: 1382.8min\n"
     ]
    },
    {
     "name": "stdout",
     "output_type": "stream",
     "text": [
      "[CV]  n_estimators=120, criterion=entropy, max_depth=38, score=-0.653432 - 5.5min\n",
      "[CV] n_estimators=130, criterion=entropy, max_depth=38 ...............\n"
     ]
    },
    {
     "name": "stderr",
     "output_type": "stream",
     "text": [
      "[Parallel(n_jobs=4)]: Done 1488 tasks      | elapsed: 1384.8min\n"
     ]
    },
    {
     "name": "stdout",
     "output_type": "stream",
     "text": [
      "[CV]  n_estimators=120, criterion=entropy, max_depth=38, score=-0.653472 - 5.4min\n",
      "[CV] n_estimators=130, criterion=entropy, max_depth=38 ...............\n"
     ]
    },
    {
     "name": "stderr",
     "output_type": "stream",
     "text": [
      "[Parallel(n_jobs=4)]: Done 1489 tasks      | elapsed: 1385.9min\n"
     ]
    },
    {
     "name": "stdout",
     "output_type": "stream",
     "text": [
      "[CV]  n_estimators=120, criterion=entropy, max_depth=38, score=-0.656848 - 5.5min\n",
      "[CV] n_estimators=130, criterion=entropy, max_depth=38 ...............\n"
     ]
    },
    {
     "name": "stderr",
     "output_type": "stream",
     "text": [
      "[Parallel(n_jobs=4)]: Done 1490 tasks      | elapsed: 1387.2min\n"
     ]
    },
    {
     "name": "stdout",
     "output_type": "stream",
     "text": [
      "[CV]  n_estimators=130, criterion=entropy, max_depth=38, score=-0.656064 - 6.1min\n",
      "[CV] n_estimators=130, criterion=entropy, max_depth=38 ...............\n"
     ]
    },
    {
     "name": "stderr",
     "output_type": "stream",
     "text": [
      "[Parallel(n_jobs=4)]: Done 1491 tasks      | elapsed: 1388.9min\n"
     ]
    },
    {
     "name": "stdout",
     "output_type": "stream",
     "text": [
      "[CV]  n_estimators=130, criterion=entropy, max_depth=38, score=-0.649130 - 6.5min\n",
      "[CV] n_estimators=140, criterion=entropy, max_depth=38 ...............\n"
     ]
    },
    {
     "name": "stderr",
     "output_type": "stream",
     "text": [
      "[Parallel(n_jobs=4)]: Done 1492 tasks      | elapsed: 1391.3min\n"
     ]
    },
    {
     "name": "stdout",
     "output_type": "stream",
     "text": [
      "[CV]  n_estimators=130, criterion=entropy, max_depth=38, score=-0.646254 - 6.9min\n",
      "[CV] n_estimators=140, criterion=entropy, max_depth=38 ...............\n"
     ]
    },
    {
     "name": "stderr",
     "output_type": "stream",
     "text": [
      "[Parallel(n_jobs=4)]: Done 1493 tasks      | elapsed: 1392.8min\n"
     ]
    },
    {
     "name": "stdout",
     "output_type": "stream",
     "text": [
      "[CV]  n_estimators=130, criterion=entropy, max_depth=38, score=-0.655799 - 6.9min\n",
      "[CV] n_estimators=140, criterion=entropy, max_depth=38 ...............\n",
      "[CV]  n_estimators=130, criterion=entropy, max_depth=38, score=-0.670500 - 6.9min\n",
      "[CV] n_estimators=140, criterion=entropy, max_depth=38 ...............\n",
      "[CV]  n_estimators=140, criterion=entropy, max_depth=38, score=-0.659197 - 7.2min\n",
      "[CV] n_estimators=140, criterion=entropy, max_depth=38 ...............\n",
      "[CV]  n_estimators=140, criterion=entropy, max_depth=38, score=-0.644980 - 7.0min\n",
      "[CV]  n_estimators=140, criterion=entropy, max_depth=38, score=-0.648383 - 6.7min\n",
      "[CV]  n_estimators=140, criterion=entropy, max_depth=38, score=-0.647942 - 6.2min\n",
      "[CV]  n_estimators=140, criterion=entropy, max_depth=38, score=-0.658220 - 5.4min\n"
     ]
    },
    {
     "name": "stderr",
     "output_type": "stream",
     "text": [
      "[Parallel(n_jobs=4)]: Done 1500 out of 1500 | elapsed: 1403.9min finished\n"
     ]
    }
   ],
   "source": [
    "grid_search_forest = gs.GridSearchCV(randomForest, grid_para_forest, scoring = \\\n",
    "                                     'neg_log_loss', cv=5, verbose = 25, n_jobs = 4).fit(x_train, y_train)"
   ]
  },
  {
   "cell_type": "code",
   "execution_count": 7,
   "metadata": {
    "collapsed": false
   },
   "outputs": [
    {
     "data": {
      "text/plain": [
       "(-0.6418237444807251,\n",
       " {'criterion': 'entropy', 'max_depth': 18, 'n_estimators': 140})"
      ]
     },
     "execution_count": 7,
     "metadata": {},
     "output_type": "execute_result"
    }
   ],
   "source": [
    "grid_search_forest.best_score_, grid_search_forest.best_params_"
   ]
  },
  {
   "cell_type": "code",
   "execution_count": 8,
   "metadata": {
    "collapsed": true
   },
   "outputs": [],
   "source": [
    "forest_best = grid_search_forest.best_estimator_\n",
    "preds = forest_best.predict_proba(x_test)"
   ]
  },
  {
   "cell_type": "code",
   "execution_count": 9,
   "metadata": {
    "collapsed": false
   },
   "outputs": [
    {
     "data": {
      "text/html": [
       "<div>\n",
       "<table border=\"1\" class=\"dataframe\">\n",
       "  <thead>\n",
       "    <tr style=\"text-align: right;\">\n",
       "      <th></th>\n",
       "      <th>0</th>\n",
       "      <th>1</th>\n",
       "      <th>2</th>\n",
       "    </tr>\n",
       "  </thead>\n",
       "  <tbody>\n",
       "    <tr>\n",
       "      <th>0</th>\n",
       "      <td>0.112845</td>\n",
       "      <td>0.234903</td>\n",
       "      <td>0.652251</td>\n",
       "    </tr>\n",
       "    <tr>\n",
       "      <th>1</th>\n",
       "      <td>0.111146</td>\n",
       "      <td>0.189342</td>\n",
       "      <td>0.699512</td>\n",
       "    </tr>\n",
       "    <tr>\n",
       "      <th>2</th>\n",
       "      <td>0.072749</td>\n",
       "      <td>0.212998</td>\n",
       "      <td>0.714254</td>\n",
       "    </tr>\n",
       "    <tr>\n",
       "      <th>3</th>\n",
       "      <td>0.170225</td>\n",
       "      <td>0.272677</td>\n",
       "      <td>0.557098</td>\n",
       "    </tr>\n",
       "    <tr>\n",
       "      <th>4</th>\n",
       "      <td>0.041236</td>\n",
       "      <td>0.155312</td>\n",
       "      <td>0.803452</td>\n",
       "    </tr>\n",
       "    <tr>\n",
       "      <th>5</th>\n",
       "      <td>0.140983</td>\n",
       "      <td>0.287664</td>\n",
       "      <td>0.571353</td>\n",
       "    </tr>\n",
       "    <tr>\n",
       "      <th>6</th>\n",
       "      <td>0.194637</td>\n",
       "      <td>0.221376</td>\n",
       "      <td>0.583988</td>\n",
       "    </tr>\n",
       "    <tr>\n",
       "      <th>7</th>\n",
       "      <td>0.062168</td>\n",
       "      <td>0.250382</td>\n",
       "      <td>0.687449</td>\n",
       "    </tr>\n",
       "    <tr>\n",
       "      <th>8</th>\n",
       "      <td>0.203183</td>\n",
       "      <td>0.255919</td>\n",
       "      <td>0.540898</td>\n",
       "    </tr>\n",
       "    <tr>\n",
       "      <th>9</th>\n",
       "      <td>0.132277</td>\n",
       "      <td>0.247178</td>\n",
       "      <td>0.620545</td>\n",
       "    </tr>\n",
       "    <tr>\n",
       "      <th>10</th>\n",
       "      <td>0.104630</td>\n",
       "      <td>0.220786</td>\n",
       "      <td>0.674584</td>\n",
       "    </tr>\n",
       "    <tr>\n",
       "      <th>11</th>\n",
       "      <td>0.088255</td>\n",
       "      <td>0.221394</td>\n",
       "      <td>0.690351</td>\n",
       "    </tr>\n",
       "    <tr>\n",
       "      <th>12</th>\n",
       "      <td>0.127496</td>\n",
       "      <td>0.220495</td>\n",
       "      <td>0.652010</td>\n",
       "    </tr>\n",
       "    <tr>\n",
       "      <th>13</th>\n",
       "      <td>0.043506</td>\n",
       "      <td>0.065808</td>\n",
       "      <td>0.890685</td>\n",
       "    </tr>\n",
       "    <tr>\n",
       "      <th>14</th>\n",
       "      <td>0.090148</td>\n",
       "      <td>0.180531</td>\n",
       "      <td>0.729321</td>\n",
       "    </tr>\n",
       "    <tr>\n",
       "      <th>15</th>\n",
       "      <td>0.039582</td>\n",
       "      <td>0.140063</td>\n",
       "      <td>0.820355</td>\n",
       "    </tr>\n",
       "    <tr>\n",
       "      <th>16</th>\n",
       "      <td>0.075980</td>\n",
       "      <td>0.168044</td>\n",
       "      <td>0.755976</td>\n",
       "    </tr>\n",
       "    <tr>\n",
       "      <th>17</th>\n",
       "      <td>0.222620</td>\n",
       "      <td>0.363616</td>\n",
       "      <td>0.413764</td>\n",
       "    </tr>\n",
       "    <tr>\n",
       "      <th>18</th>\n",
       "      <td>0.060836</td>\n",
       "      <td>0.200018</td>\n",
       "      <td>0.739146</td>\n",
       "    </tr>\n",
       "    <tr>\n",
       "      <th>19</th>\n",
       "      <td>0.114601</td>\n",
       "      <td>0.188618</td>\n",
       "      <td>0.696781</td>\n",
       "    </tr>\n",
       "    <tr>\n",
       "      <th>20</th>\n",
       "      <td>0.072482</td>\n",
       "      <td>0.261190</td>\n",
       "      <td>0.666327</td>\n",
       "    </tr>\n",
       "    <tr>\n",
       "      <th>21</th>\n",
       "      <td>0.218386</td>\n",
       "      <td>0.293481</td>\n",
       "      <td>0.488133</td>\n",
       "    </tr>\n",
       "    <tr>\n",
       "      <th>22</th>\n",
       "      <td>0.073792</td>\n",
       "      <td>0.244772</td>\n",
       "      <td>0.681436</td>\n",
       "    </tr>\n",
       "    <tr>\n",
       "      <th>23</th>\n",
       "      <td>0.061617</td>\n",
       "      <td>0.249208</td>\n",
       "      <td>0.689175</td>\n",
       "    </tr>\n",
       "    <tr>\n",
       "      <th>24</th>\n",
       "      <td>0.101313</td>\n",
       "      <td>0.230789</td>\n",
       "      <td>0.667898</td>\n",
       "    </tr>\n",
       "    <tr>\n",
       "      <th>25</th>\n",
       "      <td>0.113927</td>\n",
       "      <td>0.211680</td>\n",
       "      <td>0.674393</td>\n",
       "    </tr>\n",
       "    <tr>\n",
       "      <th>26</th>\n",
       "      <td>0.137366</td>\n",
       "      <td>0.375081</td>\n",
       "      <td>0.487553</td>\n",
       "    </tr>\n",
       "    <tr>\n",
       "      <th>27</th>\n",
       "      <td>0.089029</td>\n",
       "      <td>0.187300</td>\n",
       "      <td>0.723672</td>\n",
       "    </tr>\n",
       "    <tr>\n",
       "      <th>28</th>\n",
       "      <td>0.088417</td>\n",
       "      <td>0.233550</td>\n",
       "      <td>0.678032</td>\n",
       "    </tr>\n",
       "    <tr>\n",
       "      <th>29</th>\n",
       "      <td>0.048401</td>\n",
       "      <td>0.128089</td>\n",
       "      <td>0.823510</td>\n",
       "    </tr>\n",
       "    <tr>\n",
       "      <th>...</th>\n",
       "      <td>...</td>\n",
       "      <td>...</td>\n",
       "      <td>...</td>\n",
       "    </tr>\n",
       "    <tr>\n",
       "      <th>74629</th>\n",
       "      <td>0.028740</td>\n",
       "      <td>0.054801</td>\n",
       "      <td>0.916459</td>\n",
       "    </tr>\n",
       "    <tr>\n",
       "      <th>74630</th>\n",
       "      <td>0.097265</td>\n",
       "      <td>0.214424</td>\n",
       "      <td>0.688311</td>\n",
       "    </tr>\n",
       "    <tr>\n",
       "      <th>74631</th>\n",
       "      <td>0.064330</td>\n",
       "      <td>0.086842</td>\n",
       "      <td>0.848828</td>\n",
       "    </tr>\n",
       "    <tr>\n",
       "      <th>74632</th>\n",
       "      <td>0.086891</td>\n",
       "      <td>0.279215</td>\n",
       "      <td>0.633894</td>\n",
       "    </tr>\n",
       "    <tr>\n",
       "      <th>74633</th>\n",
       "      <td>0.118424</td>\n",
       "      <td>0.218957</td>\n",
       "      <td>0.662618</td>\n",
       "    </tr>\n",
       "    <tr>\n",
       "      <th>74634</th>\n",
       "      <td>0.072581</td>\n",
       "      <td>0.164061</td>\n",
       "      <td>0.763358</td>\n",
       "    </tr>\n",
       "    <tr>\n",
       "      <th>74635</th>\n",
       "      <td>0.090862</td>\n",
       "      <td>0.300892</td>\n",
       "      <td>0.608246</td>\n",
       "    </tr>\n",
       "    <tr>\n",
       "      <th>74636</th>\n",
       "      <td>0.072590</td>\n",
       "      <td>0.207325</td>\n",
       "      <td>0.720085</td>\n",
       "    </tr>\n",
       "    <tr>\n",
       "      <th>74637</th>\n",
       "      <td>0.032595</td>\n",
       "      <td>0.189309</td>\n",
       "      <td>0.778096</td>\n",
       "    </tr>\n",
       "    <tr>\n",
       "      <th>74638</th>\n",
       "      <td>0.056016</td>\n",
       "      <td>0.264563</td>\n",
       "      <td>0.679421</td>\n",
       "    </tr>\n",
       "    <tr>\n",
       "      <th>74639</th>\n",
       "      <td>0.086510</td>\n",
       "      <td>0.260689</td>\n",
       "      <td>0.652801</td>\n",
       "    </tr>\n",
       "    <tr>\n",
       "      <th>74640</th>\n",
       "      <td>0.127008</td>\n",
       "      <td>0.411601</td>\n",
       "      <td>0.461391</td>\n",
       "    </tr>\n",
       "    <tr>\n",
       "      <th>74641</th>\n",
       "      <td>0.092821</td>\n",
       "      <td>0.261269</td>\n",
       "      <td>0.645910</td>\n",
       "    </tr>\n",
       "    <tr>\n",
       "      <th>74642</th>\n",
       "      <td>0.110413</td>\n",
       "      <td>0.228187</td>\n",
       "      <td>0.661400</td>\n",
       "    </tr>\n",
       "    <tr>\n",
       "      <th>74643</th>\n",
       "      <td>0.150079</td>\n",
       "      <td>0.193763</td>\n",
       "      <td>0.656158</td>\n",
       "    </tr>\n",
       "    <tr>\n",
       "      <th>74644</th>\n",
       "      <td>0.125388</td>\n",
       "      <td>0.303099</td>\n",
       "      <td>0.571512</td>\n",
       "    </tr>\n",
       "    <tr>\n",
       "      <th>74645</th>\n",
       "      <td>0.102629</td>\n",
       "      <td>0.219464</td>\n",
       "      <td>0.677906</td>\n",
       "    </tr>\n",
       "    <tr>\n",
       "      <th>74646</th>\n",
       "      <td>0.172485</td>\n",
       "      <td>0.309040</td>\n",
       "      <td>0.518474</td>\n",
       "    </tr>\n",
       "    <tr>\n",
       "      <th>74647</th>\n",
       "      <td>0.086457</td>\n",
       "      <td>0.254109</td>\n",
       "      <td>0.659433</td>\n",
       "    </tr>\n",
       "    <tr>\n",
       "      <th>74648</th>\n",
       "      <td>0.086792</td>\n",
       "      <td>0.235644</td>\n",
       "      <td>0.677564</td>\n",
       "    </tr>\n",
       "    <tr>\n",
       "      <th>74649</th>\n",
       "      <td>0.104382</td>\n",
       "      <td>0.249256</td>\n",
       "      <td>0.646362</td>\n",
       "    </tr>\n",
       "    <tr>\n",
       "      <th>74650</th>\n",
       "      <td>0.123850</td>\n",
       "      <td>0.280376</td>\n",
       "      <td>0.595774</td>\n",
       "    </tr>\n",
       "    <tr>\n",
       "      <th>74651</th>\n",
       "      <td>0.110695</td>\n",
       "      <td>0.138786</td>\n",
       "      <td>0.750519</td>\n",
       "    </tr>\n",
       "    <tr>\n",
       "      <th>74652</th>\n",
       "      <td>0.185181</td>\n",
       "      <td>0.278642</td>\n",
       "      <td>0.536178</td>\n",
       "    </tr>\n",
       "    <tr>\n",
       "      <th>74653</th>\n",
       "      <td>0.115230</td>\n",
       "      <td>0.170739</td>\n",
       "      <td>0.714031</td>\n",
       "    </tr>\n",
       "    <tr>\n",
       "      <th>74654</th>\n",
       "      <td>0.119594</td>\n",
       "      <td>0.265478</td>\n",
       "      <td>0.614928</td>\n",
       "    </tr>\n",
       "    <tr>\n",
       "      <th>74655</th>\n",
       "      <td>0.202672</td>\n",
       "      <td>0.345931</td>\n",
       "      <td>0.451397</td>\n",
       "    </tr>\n",
       "    <tr>\n",
       "      <th>74656</th>\n",
       "      <td>0.171453</td>\n",
       "      <td>0.260142</td>\n",
       "      <td>0.568405</td>\n",
       "    </tr>\n",
       "    <tr>\n",
       "      <th>74657</th>\n",
       "      <td>0.125787</td>\n",
       "      <td>0.170741</td>\n",
       "      <td>0.703473</td>\n",
       "    </tr>\n",
       "    <tr>\n",
       "      <th>74658</th>\n",
       "      <td>0.083981</td>\n",
       "      <td>0.241325</td>\n",
       "      <td>0.674694</td>\n",
       "    </tr>\n",
       "  </tbody>\n",
       "</table>\n",
       "<p>74659 rows × 3 columns</p>\n",
       "</div>"
      ],
      "text/plain": [
       "              0         1         2\n",
       "0      0.112845  0.234903  0.652251\n",
       "1      0.111146  0.189342  0.699512\n",
       "2      0.072749  0.212998  0.714254\n",
       "3      0.170225  0.272677  0.557098\n",
       "4      0.041236  0.155312  0.803452\n",
       "5      0.140983  0.287664  0.571353\n",
       "6      0.194637  0.221376  0.583988\n",
       "7      0.062168  0.250382  0.687449\n",
       "8      0.203183  0.255919  0.540898\n",
       "9      0.132277  0.247178  0.620545\n",
       "10     0.104630  0.220786  0.674584\n",
       "11     0.088255  0.221394  0.690351\n",
       "12     0.127496  0.220495  0.652010\n",
       "13     0.043506  0.065808  0.890685\n",
       "14     0.090148  0.180531  0.729321\n",
       "15     0.039582  0.140063  0.820355\n",
       "16     0.075980  0.168044  0.755976\n",
       "17     0.222620  0.363616  0.413764\n",
       "18     0.060836  0.200018  0.739146\n",
       "19     0.114601  0.188618  0.696781\n",
       "20     0.072482  0.261190  0.666327\n",
       "21     0.218386  0.293481  0.488133\n",
       "22     0.073792  0.244772  0.681436\n",
       "23     0.061617  0.249208  0.689175\n",
       "24     0.101313  0.230789  0.667898\n",
       "25     0.113927  0.211680  0.674393\n",
       "26     0.137366  0.375081  0.487553\n",
       "27     0.089029  0.187300  0.723672\n",
       "28     0.088417  0.233550  0.678032\n",
       "29     0.048401  0.128089  0.823510\n",
       "...         ...       ...       ...\n",
       "74629  0.028740  0.054801  0.916459\n",
       "74630  0.097265  0.214424  0.688311\n",
       "74631  0.064330  0.086842  0.848828\n",
       "74632  0.086891  0.279215  0.633894\n",
       "74633  0.118424  0.218957  0.662618\n",
       "74634  0.072581  0.164061  0.763358\n",
       "74635  0.090862  0.300892  0.608246\n",
       "74636  0.072590  0.207325  0.720085\n",
       "74637  0.032595  0.189309  0.778096\n",
       "74638  0.056016  0.264563  0.679421\n",
       "74639  0.086510  0.260689  0.652801\n",
       "74640  0.127008  0.411601  0.461391\n",
       "74641  0.092821  0.261269  0.645910\n",
       "74642  0.110413  0.228187  0.661400\n",
       "74643  0.150079  0.193763  0.656158\n",
       "74644  0.125388  0.303099  0.571512\n",
       "74645  0.102629  0.219464  0.677906\n",
       "74646  0.172485  0.309040  0.518474\n",
       "74647  0.086457  0.254109  0.659433\n",
       "74648  0.086792  0.235644  0.677564\n",
       "74649  0.104382  0.249256  0.646362\n",
       "74650  0.123850  0.280376  0.595774\n",
       "74651  0.110695  0.138786  0.750519\n",
       "74652  0.185181  0.278642  0.536178\n",
       "74653  0.115230  0.170739  0.714031\n",
       "74654  0.119594  0.265478  0.614928\n",
       "74655  0.202672  0.345931  0.451397\n",
       "74656  0.171453  0.260142  0.568405\n",
       "74657  0.125787  0.170741  0.703473\n",
       "74658  0.083981  0.241325  0.674694\n",
       "\n",
       "[74659 rows x 3 columns]"
      ]
     },
     "execution_count": 9,
     "metadata": {},
     "output_type": "execute_result"
    }
   ],
   "source": [
    "preds = pd.DataFrame(preds)\n",
    "preds"
   ]
  },
  {
   "cell_type": "code",
   "execution_count": 10,
   "metadata": {
    "collapsed": false,
    "scrolled": true
   },
   "outputs": [],
   "source": [
    "cols = ['high', 'medium', 'low']\n",
    "preds.columns = cols\n",
    "preds['listing_id'] = test.listing_id.values\n"
   ]
  },
  {
   "cell_type": "code",
   "execution_count": 11,
   "metadata": {
    "collapsed": true
   },
   "outputs": [],
   "source": [
    "preds.to_csv('randomforestnowordtovec.csv', index=None)"
   ]
  },
  {
   "cell_type": "code",
   "execution_count": 18,
   "metadata": {
    "collapsed": false
   },
   "outputs": [
    {
     "name": "stderr",
     "output_type": "stream",
     "text": [
      "/Users/royh21k/anaconda/lib/python2.7/site-packages/ipykernel/__main__.py:1: FutureWarning: sort(columns=....) is deprecated, use sort_values(by=.....)\n",
      "  if __name__ == '__main__':\n"
     ]
    }
   ],
   "source": [
    "a = pd.DataFrame(zip(list(x_train),forest_best.feature_importances_)).sort(columns = 1, ascending = False)"
   ]
  },
  {
   "cell_type": "code",
   "execution_count": 19,
   "metadata": {
    "collapsed": true
   },
   "outputs": [
    {
     "data": {
      "text/html": [
       "<div>\n",
       "<table border=\"1\" class=\"dataframe\">\n",
       "  <thead>\n",
       "    <tr style=\"text-align: right;\">\n",
       "      <th></th>\n",
       "      <th>0</th>\n",
       "      <th>1</th>\n",
       "    </tr>\n",
       "  </thead>\n",
       "  <tbody>\n",
       "    <tr>\n",
       "      <th>387</th>\n",
       "      <td>price</td>\n",
       "      <td>0.061324</td>\n",
       "    </tr>\n",
       "    <tr>\n",
       "      <th>21</th>\n",
       "      <td>bedprice_ratio</td>\n",
       "      <td>0.053453</td>\n",
       "    </tr>\n",
       "    <tr>\n",
       "      <th>12</th>\n",
       "      <td>bathprice_ratio</td>\n",
       "      <td>0.052998</td>\n",
       "    </tr>\n",
       "    <tr>\n",
       "      <th>122</th>\n",
       "      <td>created_hour</td>\n",
       "      <td>0.032210</td>\n",
       "    </tr>\n",
       "    <tr>\n",
       "      <th>144</th>\n",
       "      <td>listing_id</td>\n",
       "      <td>0.030476</td>\n",
       "    </tr>\n",
       "    <tr>\n",
       "      <th>120</th>\n",
       "      <td>created</td>\n",
       "      <td>0.029836</td>\n",
       "    </tr>\n",
       "    <tr>\n",
       "      <th>374</th>\n",
       "      <td>photo_bri_mean</td>\n",
       "      <td>0.029100</td>\n",
       "    </tr>\n",
       "    <tr>\n",
       "      <th>373</th>\n",
       "      <td>photo_bri_max</td>\n",
       "      <td>0.028413</td>\n",
       "    </tr>\n",
       "    <tr>\n",
       "      <th>366</th>\n",
       "      <td>num_words_desc</td>\n",
       "      <td>0.027713</td>\n",
       "    </tr>\n",
       "    <tr>\n",
       "      <th>375</th>\n",
       "      <td>photo_bri_min</td>\n",
       "      <td>0.027286</td>\n",
       "    </tr>\n",
       "    <tr>\n",
       "      <th>121</th>\n",
       "      <td>created_day</td>\n",
       "      <td>0.024661</td>\n",
       "    </tr>\n",
       "    <tr>\n",
       "      <th>380</th>\n",
       "      <td>photo_rat_mean</td>\n",
       "      <td>0.023400</td>\n",
       "    </tr>\n",
       "    <tr>\n",
       "      <th>383</th>\n",
       "      <td>photo_wid_mean</td>\n",
       "      <td>0.021927</td>\n",
       "    </tr>\n",
       "    <tr>\n",
       "      <th>2</th>\n",
       "      <td>photo_pix_mean</td>\n",
       "      <td>0.021439</td>\n",
       "    </tr>\n",
       "    <tr>\n",
       "      <th>24</th>\n",
       "      <td>build_dummy_0</td>\n",
       "      <td>0.020628</td>\n",
       "    </tr>\n",
       "    <tr>\n",
       "      <th>3</th>\n",
       "      <td>photo_pix_min</td>\n",
       "      <td>0.020359</td>\n",
       "    </tr>\n",
       "    <tr>\n",
       "      <th>377</th>\n",
       "      <td>photo_len_mean</td>\n",
       "      <td>0.020137</td>\n",
       "    </tr>\n",
       "    <tr>\n",
       "      <th>364</th>\n",
       "      <td>num_features</td>\n",
       "      <td>0.020041</td>\n",
       "    </tr>\n",
       "    <tr>\n",
       "      <th>381</th>\n",
       "      <td>photo_rat_min</td>\n",
       "      <td>0.019713</td>\n",
       "    </tr>\n",
       "    <tr>\n",
       "      <th>384</th>\n",
       "      <td>photo_wid_min</td>\n",
       "      <td>0.019547</td>\n",
       "    </tr>\n",
       "    <tr>\n",
       "      <th>379</th>\n",
       "      <td>photo_rat_max</td>\n",
       "      <td>0.019398</td>\n",
       "    </tr>\n",
       "    <tr>\n",
       "      <th>365</th>\n",
       "      <td>num_photos</td>\n",
       "      <td>0.019322</td>\n",
       "    </tr>\n",
       "    <tr>\n",
       "      <th>1</th>\n",
       "      <td>photo_pix_max</td>\n",
       "      <td>0.018733</td>\n",
       "    </tr>\n",
       "    <tr>\n",
       "      <th>378</th>\n",
       "      <td>photo_len_min</td>\n",
       "      <td>0.017205</td>\n",
       "    </tr>\n",
       "    <tr>\n",
       "      <th>382</th>\n",
       "      <td>photo_wid_max</td>\n",
       "      <td>0.015042</td>\n",
       "    </tr>\n",
       "    <tr>\n",
       "      <th>362</th>\n",
       "      <td>no fee</td>\n",
       "      <td>0.012379</td>\n",
       "    </tr>\n",
       "    <tr>\n",
       "      <th>118</th>\n",
       "      <td>build_dummy_notpopularbuildingidintraining</td>\n",
       "      <td>0.011660</td>\n",
       "    </tr>\n",
       "    <tr>\n",
       "      <th>20</th>\n",
       "      <td>bedbath_ratio</td>\n",
       "      <td>0.011419</td>\n",
       "    </tr>\n",
       "    <tr>\n",
       "      <th>376</th>\n",
       "      <td>photo_len_max</td>\n",
       "      <td>0.009922</td>\n",
       "    </tr>\n",
       "    <tr>\n",
       "      <th>22</th>\n",
       "      <td>bedrooms</td>\n",
       "      <td>0.009677</td>\n",
       "    </tr>\n",
       "    <tr>\n",
       "      <th>...</th>\n",
       "      <td>...</td>\n",
       "      <td>...</td>\n",
       "    </tr>\n",
       "    <tr>\n",
       "      <th>44</th>\n",
       "      <td>build_dummy_38d6074584d4a6d34fe97a8af38f341e</td>\n",
       "      <td>0.000042</td>\n",
       "    </tr>\n",
       "    <tr>\n",
       "      <th>280</th>\n",
       "      <td>man_dummy_b7de4cb395920136663132057fa89d84</td>\n",
       "      <td>0.000041</td>\n",
       "    </tr>\n",
       "    <tr>\n",
       "      <th>342</th>\n",
       "      <td>neigh_dummy_40.7644870735-73.7615154966</td>\n",
       "      <td>0.000041</td>\n",
       "    </tr>\n",
       "    <tr>\n",
       "      <th>61</th>\n",
       "      <td>build_dummy_7795f384b5768b121136a7cec3f22c07</td>\n",
       "      <td>0.000040</td>\n",
       "    </tr>\n",
       "    <tr>\n",
       "      <th>400</th>\n",
       "      <td>view</td>\n",
       "      <td>0.000040</td>\n",
       "    </tr>\n",
       "    <tr>\n",
       "      <th>247</th>\n",
       "      <td>man_dummy_835a254786118d88c822b4ab68c92e31</td>\n",
       "      <td>0.000039</td>\n",
       "    </tr>\n",
       "    <tr>\n",
       "      <th>109</th>\n",
       "      <td>build_dummy_eb4a89fa59ccddd7ff88fa63d2848291</td>\n",
       "      <td>0.000039</td>\n",
       "    </tr>\n",
       "    <tr>\n",
       "      <th>239</th>\n",
       "      <td>man_dummy_7682b0f331eb4087774541e707d11d57</td>\n",
       "      <td>0.000038</td>\n",
       "    </tr>\n",
       "    <tr>\n",
       "      <th>37</th>\n",
       "      <td>build_dummy_240c90a25f43280bd489939f99e98723</td>\n",
       "      <td>0.000038</td>\n",
       "    </tr>\n",
       "    <tr>\n",
       "      <th>51</th>\n",
       "      <td>build_dummy_6044ee8444a0a169fce1eba7867f5791</td>\n",
       "      <td>0.000038</td>\n",
       "    </tr>\n",
       "    <tr>\n",
       "      <th>160</th>\n",
       "      <td>man_dummy_0f57223e3bbd5222d9881a442aba0d03</td>\n",
       "      <td>0.000036</td>\n",
       "    </tr>\n",
       "    <tr>\n",
       "      <th>114</th>\n",
       "      <td>build_dummy_f45ba6d22add6d2c30bb2256dd715901</td>\n",
       "      <td>0.000029</td>\n",
       "    </tr>\n",
       "    <tr>\n",
       "      <th>235</th>\n",
       "      <td>man_dummy_72cd64f85617625498465594c074a63a</td>\n",
       "      <td>0.000027</td>\n",
       "    </tr>\n",
       "    <tr>\n",
       "      <th>238</th>\n",
       "      <td>man_dummy_75f38d077366d7964c2f3bb80c3e7b1d</td>\n",
       "      <td>0.000026</td>\n",
       "    </tr>\n",
       "    <tr>\n",
       "      <th>299</th>\n",
       "      <td>man_dummy_d24abc331d8b47f73a369795690c010a</td>\n",
       "      <td>0.000025</td>\n",
       "    </tr>\n",
       "    <tr>\n",
       "      <th>211</th>\n",
       "      <td>man_dummy_5314d4635a5d2d0ce5af039d5982b200</td>\n",
       "      <td>0.000025</td>\n",
       "    </tr>\n",
       "    <tr>\n",
       "      <th>151</th>\n",
       "      <td>man_dummy_045f9f5708f6896535892b85a81d8151</td>\n",
       "      <td>0.000023</td>\n",
       "    </tr>\n",
       "    <tr>\n",
       "      <th>98</th>\n",
       "      <td>build_dummy_d0abe4831a16dccf81693660ad670463</td>\n",
       "      <td>0.000022</td>\n",
       "    </tr>\n",
       "    <tr>\n",
       "      <th>182</th>\n",
       "      <td>man_dummy_2ce4ad2a77bc8190427196ea1e8cfe4e</td>\n",
       "      <td>0.000022</td>\n",
       "    </tr>\n",
       "    <tr>\n",
       "      <th>236</th>\n",
       "      <td>man_dummy_7422eabb4c6c3448c000f7be84e5c1b8</td>\n",
       "      <td>0.000020</td>\n",
       "    </tr>\n",
       "    <tr>\n",
       "      <th>298</th>\n",
       "      <td>man_dummy_d1762ef0af965cfb5946ba0e209cc1c5</td>\n",
       "      <td>0.000018</td>\n",
       "    </tr>\n",
       "    <tr>\n",
       "      <th>355</th>\n",
       "      <td>neigh_dummy_40.8644870735-73.9615154966</td>\n",
       "      <td>0.000016</td>\n",
       "    </tr>\n",
       "    <tr>\n",
       "      <th>237</th>\n",
       "      <td>man_dummy_7533621a882f71e25173b27e3139d83d</td>\n",
       "      <td>0.000014</td>\n",
       "    </tr>\n",
       "    <tr>\n",
       "      <th>100</th>\n",
       "      <td>build_dummy_d19f4e0bc32610797a7ff5f1737be546</td>\n",
       "      <td>0.000014</td>\n",
       "    </tr>\n",
       "    <tr>\n",
       "      <th>261</th>\n",
       "      <td>man_dummy_964dc31a872efa33fee9af11f62e843c</td>\n",
       "      <td>0.000012</td>\n",
       "    </tr>\n",
       "    <tr>\n",
       "      <th>257</th>\n",
       "      <td>man_dummy_9153d5678d7731f9ae283aba33932c1e</td>\n",
       "      <td>0.000012</td>\n",
       "    </tr>\n",
       "    <tr>\n",
       "      <th>330</th>\n",
       "      <td>neigh_dummy_40.6644870735-73.6615154966</td>\n",
       "      <td>0.000011</td>\n",
       "    </tr>\n",
       "    <tr>\n",
       "      <th>242</th>\n",
       "      <td>man_dummy_7f6d00384a19d9bdd15ff36ddbad699a</td>\n",
       "      <td>0.000010</td>\n",
       "    </tr>\n",
       "    <tr>\n",
       "      <th>159</th>\n",
       "      <td>man_dummy_0d16d096ef1256ba3fdd6df87f8e98fe</td>\n",
       "      <td>0.000006</td>\n",
       "    </tr>\n",
       "    <tr>\n",
       "      <th>11</th>\n",
       "      <td>bath_dummy_5</td>\n",
       "      <td>0.000004</td>\n",
       "    </tr>\n",
       "  </tbody>\n",
       "</table>\n",
       "<p>408 rows × 2 columns</p>\n",
       "</div>"
      ],
      "text/plain": [
       "                                                0         1\n",
       "387                                         price  0.061324\n",
       "21                                 bedprice_ratio  0.053453\n",
       "12                                bathprice_ratio  0.052998\n",
       "122                                  created_hour  0.032210\n",
       "144                                    listing_id  0.030476\n",
       "120                                       created  0.029836\n",
       "374                                photo_bri_mean  0.029100\n",
       "373                                 photo_bri_max  0.028413\n",
       "366                                num_words_desc  0.027713\n",
       "375                                 photo_bri_min  0.027286\n",
       "121                                   created_day  0.024661\n",
       "380                                photo_rat_mean  0.023400\n",
       "383                                photo_wid_mean  0.021927\n",
       "2                                  photo_pix_mean  0.021439\n",
       "24                                  build_dummy_0  0.020628\n",
       "3                                   photo_pix_min  0.020359\n",
       "377                                photo_len_mean  0.020137\n",
       "364                                  num_features  0.020041\n",
       "381                                 photo_rat_min  0.019713\n",
       "384                                 photo_wid_min  0.019547\n",
       "379                                 photo_rat_max  0.019398\n",
       "365                                    num_photos  0.019322\n",
       "1                                   photo_pix_max  0.018733\n",
       "378                                 photo_len_min  0.017205\n",
       "382                                 photo_wid_max  0.015042\n",
       "362                                        no fee  0.012379\n",
       "118    build_dummy_notpopularbuildingidintraining  0.011660\n",
       "20                                  bedbath_ratio  0.011419\n",
       "376                                 photo_len_max  0.009922\n",
       "22                                       bedrooms  0.009677\n",
       "..                                            ...       ...\n",
       "44   build_dummy_38d6074584d4a6d34fe97a8af38f341e  0.000042\n",
       "280    man_dummy_b7de4cb395920136663132057fa89d84  0.000041\n",
       "342       neigh_dummy_40.7644870735-73.7615154966  0.000041\n",
       "61   build_dummy_7795f384b5768b121136a7cec3f22c07  0.000040\n",
       "400                                          view  0.000040\n",
       "247    man_dummy_835a254786118d88c822b4ab68c92e31  0.000039\n",
       "109  build_dummy_eb4a89fa59ccddd7ff88fa63d2848291  0.000039\n",
       "239    man_dummy_7682b0f331eb4087774541e707d11d57  0.000038\n",
       "37   build_dummy_240c90a25f43280bd489939f99e98723  0.000038\n",
       "51   build_dummy_6044ee8444a0a169fce1eba7867f5791  0.000038\n",
       "160    man_dummy_0f57223e3bbd5222d9881a442aba0d03  0.000036\n",
       "114  build_dummy_f45ba6d22add6d2c30bb2256dd715901  0.000029\n",
       "235    man_dummy_72cd64f85617625498465594c074a63a  0.000027\n",
       "238    man_dummy_75f38d077366d7964c2f3bb80c3e7b1d  0.000026\n",
       "299    man_dummy_d24abc331d8b47f73a369795690c010a  0.000025\n",
       "211    man_dummy_5314d4635a5d2d0ce5af039d5982b200  0.000025\n",
       "151    man_dummy_045f9f5708f6896535892b85a81d8151  0.000023\n",
       "98   build_dummy_d0abe4831a16dccf81693660ad670463  0.000022\n",
       "182    man_dummy_2ce4ad2a77bc8190427196ea1e8cfe4e  0.000022\n",
       "236    man_dummy_7422eabb4c6c3448c000f7be84e5c1b8  0.000020\n",
       "298    man_dummy_d1762ef0af965cfb5946ba0e209cc1c5  0.000018\n",
       "355       neigh_dummy_40.8644870735-73.9615154966  0.000016\n",
       "237    man_dummy_7533621a882f71e25173b27e3139d83d  0.000014\n",
       "100  build_dummy_d19f4e0bc32610797a7ff5f1737be546  0.000014\n",
       "261    man_dummy_964dc31a872efa33fee9af11f62e843c  0.000012\n",
       "257    man_dummy_9153d5678d7731f9ae283aba33932c1e  0.000012\n",
       "330       neigh_dummy_40.6644870735-73.6615154966  0.000011\n",
       "242    man_dummy_7f6d00384a19d9bdd15ff36ddbad699a  0.000010\n",
       "159    man_dummy_0d16d096ef1256ba3fdd6df87f8e98fe  0.000006\n",
       "11                                   bath_dummy_5  0.000004\n",
       "\n",
       "[408 rows x 2 columns]"
      ]
     },
     "execution_count": 19,
     "metadata": {},
     "output_type": "execute_result"
    }
   ],
   "source": [
    "a"
   ]
  },
  {
   "cell_type": "code",
   "execution_count": null,
   "metadata": {
    "collapsed": true
   },
   "outputs": [],
   "source": []
  }
 ],
 "metadata": {
  "anaconda-cloud": {},
  "kernelspec": {
   "display_name": "Python [default]",
   "language": "python",
   "name": "python2"
  },
  "language_info": {
   "codemirror_mode": {
    "name": "ipython",
    "version": 2
   },
   "file_extension": ".py",
   "mimetype": "text/x-python",
   "name": "python",
   "nbconvert_exporter": "python",
   "pygments_lexer": "ipython2",
   "version": "2.7.12"
  }
 },
 "nbformat": 4,
 "nbformat_minor": 1
}
